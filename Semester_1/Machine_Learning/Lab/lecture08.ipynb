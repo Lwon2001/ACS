{
 "cells": [
  {
   "cell_type": "markdown",
   "metadata": {},
   "source": [
    "# The Curse of Dimensionality"
   ]
  },
  {
   "cell_type": "markdown",
   "metadata": {},
   "source": [
    "## Random Projections\n",
    "First, let's investigate the orthogonality of random vectors"
   ]
  },
  {
   "cell_type": "code",
   "execution_count": 15,
   "metadata": {},
   "outputs": [
    {
     "data": {
      "image/png": "[encoded data removed]",
      "text/plain": [
       "<Figure size 144x144 with 1 Axes>"
      ]
     },
     "metadata": {},
     "output_type": "display_data"
    },
    {
     "data": {
      "image/png": "[encoded data removed]",
      "text/plain": [
       "<Figure size 144x144 with 1 Axes>"
      ]
     },
     "metadata": {},
     "output_type": "display_data"
    },
    {
     "data": {
      "image/png": "[encoded data removed]",
      "text/plain": [
       "<Figure size 144x144 with 1 Axes>"
      ]
     },
     "metadata": {},
     "output_type": "display_data"
    },
    {
     "data": {
      "image/png": "[encoded data removed]",
      "text/plain": [
       "<Figure size 144x144 with 1 Axes>"
      ]
     },
     "metadata": {},
     "output_type": "display_data"
    },
    {
     "data": {
      "image/png": "[encoded data removed]",
      "text/plain": [
       "<Figure size 144x144 with 1 Axes>"
      ]
     },
     "metadata": {},
     "output_type": "display_data"
    },
    {
     "data": {
      "image/png": "[encoded data removed]",
      "text/plain": [
       "<Figure size 144x144 with 1 Axes>"
      ]
     },
     "metadata": {},
     "output_type": "display_data"
    },
    {
     "data": {
      "image/png": "[encoded data removed]",
      "text/plain": [
       "<Figure size 144x144 with 1 Axes>"
      ]
     },
     "metadata": {},
     "output_type": "display_data"
    },
    {
     "data": {
      "image/png": "[encoded data removed]",
      "text/plain": [
       "<Figure size 144x144 with 1 Axes>"
      ]
     },
     "metadata": {},
     "output_type": "display_data"
    }
   ],
   "source": [
    "import numpy as np\n",
    "import mnist\n",
    "from matplotlib import pyplot as plt\n",
    "import matplotlib as mpl\n",
    "from mpl_toolkits.mplot3d import Axes3D\n",
    "from itertools import product, combinations\n",
    "from sklearn.preprocessing import normalize\n",
    "\n",
    "mpl.rcParams['figure.figsize'] = [2, 2] # inches\n",
    "mpl.rcParams['font.size'] = 8\n",
    "\n",
    "d = [5,10,20,50,100,200,500,1000]\n",
    "for n in d:\n",
    "    # each row of R is normalised\n",
    "    R = normalize(np.random.randn(100000,n), axis=1)\n",
    "    plt.figure()\n",
    "    ax = plt.axes()\n",
    "    plt.hist(R[np.tril_indices_from(R)], bins=100, density=True)\n",
    "    plt.xlabel(r'$\\mathbf{r}_1\\cdot \\mathbf{r}_2$')\n",
    "    plt.ylabel(r'$P(\\mathbf{r}_1\\cdot \\mathbf{r}_2)$')\n",
    "    plt.title(r'd='+str(n))\n",
    "    ax.set_xlim(-1,1)\n",
    "    plt.tight_layout()\n",
    "    plt.savefig('../figures/classification/random-histogram-d'+str(n)+'.pdf')"
   ]
  },
  {
   "cell_type": "markdown",
   "metadata": {},
   "source": [
    "## Implications for MNIST\n",
    "First, let's compute the pairwise distance for MNIST and plot them "
   ]
  },
  {
   "cell_type": "code",
   "execution_count": 16,
   "metadata": {},
   "outputs": [],
   "source": [
    "import mnist\n",
    "train_set = mnist.train_images()\n",
    "train_labels = mnist.train_labels()\n",
    "test_set = mnist.test_images()\n",
    "test_labels = mnist.test_labels()\n",
    "# Vectorise\n",
    "test_set = np.squeeze(np.array([np.reshape(i,(1,-1)) for i in test_set]))\n",
    "train_set = np.squeeze(np.array([np.reshape(i,(1,-1)) for i in train_set]))\n",
    "# Compute distances from each element of test set to each element of training set\n",
    "distances = []\n",
    "for i in test_set[0:1000]:\n",
    "    distances.append([np.linalg.norm(i-j) for j in train_set[0:1000]])\n",
    "distances = np.squeeze(np.array(distances).reshape((1,-1)))"
   ]
  },
  {
   "cell_type": "code",
   "execution_count": 17,
   "metadata": {},
   "outputs": [
    {
     "data": {
      "image/png": "[encoded data removed]",
      "text/plain": [
       "<Figure size 144x144 with 1 Axes>"
      ]
     },
     "metadata": {},
     "output_type": "display_data"
    }
   ],
   "source": [
    "plt.figure()\n",
    "ax = plt.axes()\n",
    "plt.hist(distances, bins=100, density=True)\n",
    "plt.xlabel(r'$||\\mathbf{r}_1 - \\mathbf{r}_2||$')\n",
    "plt.ylabel(r'$P(||\\mathbf{r}_1 - \\mathbf{r}_2||)$')\n",
    "plt.tight_layout()\n",
    "plt.savefig('../figures/classification/mnist-distances.pdf')"
   ]
  },
  {
   "cell_type": "code",
   "execution_count": 18,
   "metadata": {},
   "outputs": [
    {
     "name": "stdout",
     "output_type": "stream",
     "text": [
      "2317.615555729267\n",
      "2310.4212819310656\n",
      "312.9277896507789\n"
     ]
    }
   ],
   "source": [
    "print(np.mean(distances))\n",
    "print(np.median(distances))\n",
    "print(np.std(distances))"
   ]
  },
  {
   "cell_type": "markdown",
   "metadata": {},
   "source": [
    "## Dimensionality reduction\n",
    "First, we demonstrate that there are redundant dimensions in the image data. We compute the map of the variance over the dataset"
   ]
  },
  {
   "cell_type": "code",
   "execution_count": 19,
   "metadata": {},
   "outputs": [
    {
     "data": {
      "text/plain": [
       "25637533"
      ]
     },
     "execution_count": 19,
     "metadata": {},
     "output_type": "execute_result"
    }
   ],
   "source": [
    "np.sum(train_set[0:1000])"
   ]
  },
  {
   "cell_type": "code",
   "execution_count": 20,
   "metadata": {},
   "outputs": [],
   "source": [
    "image_cube = mnist.train_images()[0:1000]\n",
    "std_image = np.std(image_cube, axis=0)\n",
    "mean_image = np.mean(image_cube, axis=0)"
   ]
  },
  {
   "cell_type": "code",
   "execution_count": 21,
   "metadata": {},
   "outputs": [
    {
     "name": "stdout",
     "output_type": "stream",
     "text": [
      "175\n",
      "0.22321428571428573\n"
     ]
    },
    {
     "data": {
      "image/png": "[encoded data removed]",
      "text/plain": [
       "<Figure size 144x144 with 1 Axes>"
      ]
     },
     "metadata": {},
     "output_type": "display_data"
    },
    {
     "data": {
      "image/png": "[encoded data removed]",
      "text/plain": [
       "<Figure size 144x144 with 1 Axes>"
      ]
     },
     "metadata": {},
     "output_type": "display_data"
    },
    {
     "data": {
      "image/png": "[encoded data removed]",
      "text/plain": [
       "<Figure size 144x144 with 1 Axes>"
      ]
     },
     "metadata": {},
     "output_type": "display_data"
    }
   ],
   "source": [
    "# Display mean and stdev images\n",
    "plt.figure()\n",
    "plt.imshow(std_image, cmap='gray')\n",
    "plt.axis('off')\n",
    "plt.tight_layout()\n",
    "plt.title('Standard Deviation')\n",
    "plt.savefig('../figures/classification/mnist-std.pdf')\n",
    "plt.figure()\n",
    "plt.imshow(mean_image, cmap='gray')\n",
    "plt.axis('off')\n",
    "plt.tight_layout()\n",
    "plt.title('Mean')\n",
    "plt.savefig('../figures/classification/mnist-mean.pdf')\n",
    "# Image of zero variance pixels\n",
    "plt.figure()\n",
    "plt.imshow(std_image!=0, cmap='gray')\n",
    "plt.axis('off')\n",
    "plt.tight_layout()\n",
    "plt.title('Non-varying pixels')\n",
    "plt.savefig('../figures/classification/mnist-non-varying.pdf')\n",
    "# Proportion of non-varying pixels\n",
    "print(np.sum(std_image==0))\n",
    "print(np.sum(std_image==0)/784)"
   ]
  },
  {
   "cell_type": "code",
   "execution_count": 22,
   "metadata": {},
   "outputs": [],
   "source": [
    "# Reverse sort the variance\n",
    "image_std = np.sort(np.squeeze(std_image.reshape((1,-1))))[::-1]\n",
    "cum_std = np.cumsum(image_std)"
   ]
  },
  {
   "cell_type": "code",
   "execution_count": 23,
   "metadata": {},
   "outputs": [
    {
     "data": {
      "image/png": "[encoded data removed]",
      "text/plain": [
       "<Figure size 144x144 with 1 Axes>"
      ]
     },
     "metadata": {},
     "output_type": "display_data"
    }
   ],
   "source": [
    "plt.figure()\n",
    "plt.plot(cum_std/max(cum_std),'b-')\n",
    "plt.xlabel('Dimension')\n",
    "plt.ylabel('Cumulative Variance')\n",
    "plt.tight_layout()\n",
    "plt.savefig('../figures/classification/mnist-cumstd.pdf')"
   ]
  },
  {
   "cell_type": "markdown",
   "metadata": {},
   "source": [
    "Repeat the histogram calculations after random projection"
   ]
  },
  {
   "cell_type": "code",
   "execution_count": 24,
   "metadata": {},
   "outputs": [],
   "source": [
    "R = normalize(np.random.randn(40,784), axis=1)\n",
    "rtest = np.matmul(R,test_set[0:1000].T).T\n",
    "rtrain = np.matmul(R, train_set[0:1000].T).T\n",
    "distances = []\n",
    "for i in rtest[0:1000]:\n",
    "    distances.append([np.linalg.norm(i-j) for j in rtrain[0:1000]])\n",
    "distances = np.squeeze(np.array(distances).reshape((1,-1)))"
   ]
  },
  {
   "cell_type": "code",
   "execution_count": 25,
   "metadata": {},
   "outputs": [
    {
     "data": {
      "image/png": "[encoded data removed]",
      "text/plain": [
       "<Figure size 144x144 with 1 Axes>"
      ]
     },
     "metadata": {},
     "output_type": "display_data"
    }
   ],
   "source": [
    "plt.figure()\n",
    "ax = plt.axes()\n",
    "plt.hist(distances, bins=100, density=True)\n",
    "plt.xlabel(r'$||\\mathbf{r}_1 - \\mathbf{r}_2||$')\n",
    "plt.ylabel(r'$P(||\\mathbf{r}_1 - \\mathbf{r}_2||)$')\n",
    "plt.tight_layout()\n",
    "plt.savefig('../figures/classification/rp-mnist-distances.pdf')"
   ]
  },
  {
   "cell_type": "code",
   "execution_count": 26,
   "metadata": {},
   "outputs": [
    {
     "name": "stdout",
     "output_type": "stream",
     "text": [
      "561.5651325673916\n",
      "559.5024958905888\n",
      "95.74473935920858\n"
     ]
    }
   ],
   "source": [
    "print(np.mean(distances))\n",
    "print(np.median(distances))\n",
    "print(np.std(distances))"
   ]
  },
  {
   "cell_type": "code",
   "execution_count": null,
   "metadata": {},
   "outputs": [],
   "source": []
  }
 ],
 "metadata": {
  "kernelspec": {
   "display_name": "Python 3",
   "language": "python",
   "name": "python3"
  },
  "language_info": {
   "codemirror_mode": {
    "name": "ipython",
    "version": 3
   },
   "file_extension": ".py",
   "mimetype": "text/x-python",
   "name": "python",
   "nbconvert_exporter": "python",
   "pygments_lexer": "ipython3",
   "version": "3.6.5"
  }
 },
 "nbformat": 4,
 "nbformat_minor": 2
}
