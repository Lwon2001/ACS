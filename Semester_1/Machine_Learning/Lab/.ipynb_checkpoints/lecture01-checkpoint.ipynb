{
 "cells": [
  {
   "cell_type": "markdown",
   "metadata": {},
   "source": [
    "# Lecture 1: Regression\n",
    "\n",
    "## Warning: make sure you run the cells in the correct order"
   ]
  },
  {
   "cell_type": "code",
   "execution_count": 10,
   "metadata": {},
   "outputs": [],
   "source": [
    "%matplotlib inline\n",
    "import numpy as np\n",
    "import matplotlib.pyplot as plt\n",
    "import matplotlib.style\n",
    "import matplotlib as mpl\n",
    "\n",
    "mpl.rcParams['figure.figsize'] = [2, 2] # inches\n",
    "mpl.rcParams['font.size'] = 8\n",
    "\n",
    "# Define a function to do the most common plotting task\n",
    "def xyplot(x1=None, y1=None, x2=None, y2=None, x3=None, y3=None, title=None, fname=None):\n",
    "    plt.figure()\n",
    "    if x1 is not None and y1 is not None:\n",
    "        plt.plot(x1,y1,'b.')\n",
    "    if x2 is not None and y2 is not None:\n",
    "        plt.plot(x2,y2,'k-')\n",
    "    if x3 is not None and y3 is not None:\n",
    "        plt.plot(x3,y3,'r-')\n",
    "    plt.xlabel('x')\n",
    "    plt.ylabel('y')\n",
    "    plt.title(title)\n",
    "    plt.tight_layout()\n",
    "    if fname:\n",
    "        plt.savefig(fname)"
   ]
  },
  {
   "cell_type": "markdown",
   "metadata": {},
   "source": [
    "First, we create a simple linear model with some noise added. We plot the underlying trend (black line) and also the data points (blue). The random seed is set explicitly so that the graph can be reproduced."
   ]
  },
  {
   "cell_type": "code",
   "execution_count": 11,
   "metadata": {},
   "outputs": [
    {
     "data": {
      "image/png": "[encoded data removed]",
      "text/plain": [
       "<Figure size 144x144 with 1 Axes>"
      ]
     },
     "metadata": {},
     "output_type": "display_data"
    }
   ],
   "source": [
    "# model is y = 3x+2\n",
    "np.random.seed(123123)\n",
    "x = np.array([0, 1, 2, 3, 4, 5])\n",
    "y = 3*x+2\n",
    "# Add the noise\n",
    "t = y + 5*(np.random.rand(6)-0.5)\n",
    "xyplot(x,t,x2=x,y2=y,title=r'$y=3x+2$',fname='simple-linear.pdf')"
   ]
  },
  {
   "cell_type": "markdown",
   "metadata": {},
   "source": [
    "It's also instructive to visualise the residual errors:"
   ]
  },
  {
   "cell_type": "code",
   "execution_count": 19,
   "metadata": {},
   "outputs": [
    {
     "data": {
      "image/png": "[encoded data removed]",
      "text/plain": [
       "<Figure size 144x144 with 1 Axes>"
      ]
     },
     "metadata": {},
     "output_type": "display_data"
    }
   ],
   "source": [
    "plt.plot(x,y,'k-')\n",
    "plt.plot(x,t,'b.')\n",
    "for i,j in enumerate(x):\n",
    "    plt.plot([j,j],[y[i],t[i]],'r-')\n",
    "plt.xlabel('x')\n",
    "plt.ylabel('y')\n",
    "plt.tight_layout()\n",
    "plt.title(r'$y=3x+2+\\epsilon$')\n",
    "plt.savefig('simple-linear-residuals.pdf',)"
   ]
  },
  {
   "cell_type": "markdown",
   "metadata": {},
   "source": [
    "Now we do a naive fit of different degree of polynomial to the data, using the normal equations\n",
    "$$\\mathbf{\\Phi}^\\mathrm{T}\\mathbf{\\Phi}\\mathbf{w} = \\mathbf{\\Phi}^\\mathrm{T}\\mathbf{y}$$\n",
    "where $\\mathbf{\\Phi}_{ij} = \\phi_j(x_i)$, basis function $\\phi_j$ evaluated at data point $x_i$.\n",
    "\n",
    "For a linear fit, we are using the model $f(x) = w_0 + w_1 x$ and the basis set is $\\{1, x\\}$"
   ]
  },
  {
   "cell_type": "code",
   "execution_count": 12,
   "metadata": {},
   "outputs": [
    {
     "name": "stdout",
     "output_type": "stream",
     "text": [
      "[[1. 0.]\n",
      " [1. 1.]\n",
      " [1. 2.]\n",
      " [1. 3.]\n",
      " [1. 4.]\n",
      " [1. 5.]]\n"
     ]
    }
   ],
   "source": [
    "Phi = np.array([np.ones(x.shape), x]).T\n",
    "print(Phi)"
   ]
  },
  {
   "cell_type": "markdown",
   "metadata": {},
   "source": [
    "Solve the normal equations using `np.solve`, first using the data generated by $f(x)=3x+2$"
   ]
  },
  {
   "cell_type": "code",
   "execution_count": 13,
   "metadata": {},
   "outputs": [
    {
     "name": "stdout",
     "output_type": "stream",
     "text": [
      "Model weights:\n",
      "[2. 3.]\n",
      "Least-squares error: 0.0\n"
     ]
    }
   ],
   "source": [
    "# Weights\n",
    "w = np.linalg.solve(np.matmul(Phi.transpose(),Phi), np.matmul(Phi.transpose(),y))\n",
    "print('Model weights:')\n",
    "print(w)\n",
    "# The least-squares error\n",
    "residual = y - np.matmul(Phi, w)\n",
    "lse = np.matmul(residual.transpose(), residual)\n",
    "print('Least-squares error: ' + str(lse))"
   ]
  },
  {
   "cell_type": "markdown",
   "metadata": {},
   "source": [
    "Exactly as we expect.\n",
    "Let's now repeat for the data with added noise. Here, we will calculate the residual least-squares error of the fit against both the noisy data, and also against the underlying trend."
   ]
  },
  {
   "cell_type": "code",
   "execution_count": 14,
   "metadata": {},
   "outputs": [
    {
     "name": "stdout",
     "output_type": "stream",
     "text": [
      "Model weights:\n",
      "[2.30895575 3.07615097]\n",
      "Least-squares error vs data: 10.604727007539587\n",
      "Least-squares error vs trend: 1.597483748841662\n"
     ]
    },
    {
     "data": {
      "image/png": "[encoded data removed]",
      "text/plain": [
       "<Figure size 144x144 with 1 Axes>"
      ]
     },
     "metadata": {},
     "output_type": "display_data"
    }
   ],
   "source": [
    "w = np.linalg.solve(np.matmul(Phi.transpose(),Phi), np.matmul(Phi.transpose(),t))\n",
    "print('Model weights:')\n",
    "print(w)\n",
    "# The least-squares error vs the data\n",
    "residual = t - np.matmul(Phi, w)\n",
    "lse = np.matmul(residual.transpose(), residual)\n",
    "print('Least-squares error vs data: ' + str(lse))\n",
    "# The least-squares error vs the true trend\n",
    "residual = y - np.matmul(Phi, w)\n",
    "lse = np.matmul(residual.transpose(), residual)\n",
    "print('Least-squares error vs trend: ' + str(lse))\n",
    "xyplot(x,t,x2=x,y2=y,x3=x,y3=np.matmul(Phi,w),title=r'$y=3x+2$',fname='simple-linear-noisy-fitted.pdf')"
   ]
  },
  {
   "cell_type": "markdown",
   "metadata": {},
   "source": [
    "The fitted curve (red line) is not quite the same as the underlying trend (black line), but it is not far away. The least squares error indicates that the fitted line is closer to the true trend than it is to the noisy data. We can therefore conclude that we have successfully found a good approximation to the underlying data-generating process."
   ]
  },
  {
   "cell_type": "markdown",
   "metadata": {},
   "source": [
    "Let us now imagine that we don't know what the underlying function is. One obvious things to try is to simply use a very powerful and flexible model. For instance, we could use\n",
    "$$f(x) = \\sum_{i=1}^{i=7} w_i x^i$$\n",
    "which contains within it the terms necessary to fit this dataset."
   ]
  },
  {
   "cell_type": "code",
   "execution_count": 15,
   "metadata": {},
   "outputs": [
    {
     "name": "stdout",
     "output_type": "stream",
     "text": [
      "[[    1     0     0     0     0     0     0     0]\n",
      " [    1     1     1     1     1     1     1     1]\n",
      " [    1     2     4     8    16    32    64   128]\n",
      " [    1     3     9    27    81   243   729  2187]\n",
      " [    1     4    16    64   256  1024  4096 16384]\n",
      " [    1     5    25   125   625  3125 15625 78125]]\n"
     ]
    }
   ],
   "source": [
    "Phi = np.array([pow(x, i) for i in range(8)]).T\n",
    "print(Phi)"
   ]
  },
  {
   "cell_type": "code",
   "execution_count": 16,
   "metadata": {},
   "outputs": [
    {
     "name": "stdout",
     "output_type": "stream",
     "text": [
      "Model weights:\n",
      "[ 2.00000000e+00  2.98818816e+00  2.69703784e-02 -2.21472085e-02\n",
      "  8.36672322e-03 -1.47648057e-03  9.84320379e-05 -6.75363754e-22]\n",
      "Least-squares error vs data: 1.7051721504417933e-27\n",
      "Least-squares error vs trend: 1.7051721504417933e-27\n",
      "Least-squares error: 1.7051721504417933e-27\n"
     ]
    }
   ],
   "source": [
    "w = np.linalg.solve(np.matmul(Phi.transpose(),Phi), np.matmul(Phi.transpose(),y))\n",
    "print('Model weights:')\n",
    "print(w)\n",
    "# The least-squares error vs the data\n",
    "residual = y - np.matmul(Phi, w)\n",
    "lse = np.matmul(residual.transpose(), residual)\n",
    "print('Least-squares error vs data: ' + str(lse))\n",
    "# The least-squares error vs the true trend\n",
    "residual = y - np.matmul(Phi, w)\n",
    "lse = np.matmul(residual.transpose(), residual)\n",
    "print('Least-squares error vs trend: ' + str(lse))\n",
    "print('Least-squares error: ' + str(lse))"
   ]
  },
  {
   "cell_type": "markdown",
   "metadata": {},
   "source": [
    "The numbers are not quite right here - the coefficient $w_1$ is nearly but not quite equal to 3, and some of the higher order terms have non-zero coefficients. Let's plot the results. Note that we use a \"high resolution\" set of x-values for the fitted curve so that we can see how the result behaves away from the data given to the algorithm."
   ]
  },
  {
   "cell_type": "code",
   "execution_count": 17,
   "metadata": {},
   "outputs": [
    {
     "data": {
      "image/png": "[encoded data removed]",
      "text/plain": [
       "<Figure size 144x144 with 1 Axes>"
      ]
     },
     "metadata": {},
     "output_type": "display_data"
    }
   ],
   "source": [
    "xHigh = np.linspace(0,5,51)\n",
    "PhiHigh = np.array([pow(xHigh, i) for i in range(8)]).T\n",
    "xyplot(x,y,x2=x,y2=y,x3=xHigh,y3=np.matmul(PhiHigh,w),title=r'$y=3x+2$',fname='simple-linear-overfitted.pdf')"
   ]
  },
  {
   "cell_type": "markdown",
   "metadata": {},
   "source": [
    "This is as we would hope. Let us now try this for the noisy data"
   ]
  },
  {
   "cell_type": "code",
   "execution_count": 18,
   "metadata": {},
   "outputs": [
    {
     "name": "stdout",
     "output_type": "stream",
     "text": [
      "Model weights:\n",
      "[ 1.00097364e+00  2.26167751e+01 -2.49862491e+01  9.80582295e+00\n",
      " -7.44455315e-01 -2.56241093e-01  3.63324719e-02  3.44862850e-19]\n",
      "Least-squares error vs data: 2.952204881969227e-22\n",
      "Least-squares error vs trend: 12.202210756481637\n"
     ]
    },
    {
     "data": {
      "image/png": "[encoded data removed]",
      "text/plain": [
       "<Figure size 144x144 with 1 Axes>"
      ]
     },
     "metadata": {},
     "output_type": "display_data"
    }
   ],
   "source": [
    "w = np.linalg.solve(np.matmul(Phi.transpose(),Phi), np.matmul(Phi.transpose(),t))\n",
    "print('Model weights:')\n",
    "print(w)\n",
    "# The least-squares error vs the data\n",
    "residual = t - np.matmul(Phi, w)\n",
    "lse = np.matmul(residual.transpose(), residual)\n",
    "print('Least-squares error vs data: ' + str(lse))\n",
    "# The least-squares error vs the true trend\n",
    "residual = y - np.matmul(Phi, w)\n",
    "lse = np.matmul(residual.transpose(), residual)\n",
    "print('Least-squares error vs trend: ' + str(lse))\n",
    "xyplot(x,t,x2=xHigh,y2=np.matmul(PhiHigh,w),x3=x,y3=y,title=r'$y=3x+2$',fname='simple-linear-noisy-overfitted.pdf')\n"
   ]
  },
  {
   "cell_type": "markdown",
   "metadata": {},
   "source": [
    "This is not what we want at all. As we can see from both the plot and the least-squares errors, we have fitted the noisy data exactly rather than finding the underlying trend. The high-order polynomial model has sufficient capacity to model the noise in the data. This is known as \\textit{overfitting} and how to oversome this is a major topic of research in machine learning. We will next study some of these methods"
   ]
  },
  {
   "cell_type": "code",
   "execution_count": null,
   "metadata": {},
   "outputs": [],
   "source": []
  }
 ],
 "metadata": {
  "kernelspec": {
   "display_name": "Python 3",
   "language": "python",
   "name": "python3"
  },
  "language_info": {
   "codemirror_mode": {
    "name": "ipython",
    "version": 3
   },
   "file_extension": ".py",
   "mimetype": "text/x-python",
   "name": "python",
   "nbconvert_exporter": "python",
   "pygments_lexer": "ipython3",
   "version": "3.6.5"
  }
 },
 "nbformat": 4,
 "nbformat_minor": 2
}
