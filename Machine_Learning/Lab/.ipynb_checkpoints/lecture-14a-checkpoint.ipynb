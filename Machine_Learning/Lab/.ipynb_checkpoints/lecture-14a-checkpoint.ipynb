{
 "cells": [
  {
   "cell_type": "markdown",
   "metadata": {
    "colab_type": "text",
    "id": "zp1a7Ms2ncI1"
   },
   "source": [
    "# $k$-Means and MNIST"
   ]
  },
  {
   "cell_type": "markdown",
   "metadata": {
    "colab_type": "text",
    "id": "Lb5yJSfYncI8"
   },
   "source": [
    "In this notebook we will investigate whether the $k$-means algorithm can be used to identify clusters in the MNIST dataset that correspond to the digit classes. If you are using your own installation of Jupyter you will need the mnist package which can be installed through anaconda using\n",
    "\n",
    "conda install -c conda-forge mnist\n",
    "\n",
    "I must point out that no efforts have been made to optimise this code for either efficiency or elegance, and some of you will no doubt be able to find ways in which it could be improved.\n",
    "\n",
    "**CAUTION** these notebooks are great, but you must be careful when running the cells out of order, especially if you are using mutable variables"
   ]
  },
  {
   "cell_type": "code",
   "execution_count": 0,
   "metadata": {
    "colab": {},
    "colab_type": "code",
    "id": "WFeL8bZmncJB"
   },
   "outputs": [],
   "source": [
    "!pip install -q mnist # this line instructs colab to install mnist\n",
    "import matplotlib.pyplot as plt\n",
    "import mnist\n",
    "import numpy as np\n",
    "from numpy.linalg import inv, det\n"
   ]
  },
  {
   "cell_type": "markdown",
   "metadata": {
    "colab_type": "text",
    "id": "ZicM3g7juYRA"
   },
   "source": [
    "First, some manipulations. We need to linearise the training data so that we can treat each image as a vector."
   ]
  },
  {
   "cell_type": "code",
   "execution_count": 2,
   "metadata": {
    "colab": {
     "base_uri": "https://localhost:8080/",
     "height": 92
    },
    "colab_type": "code",
    "executionInfo": {
     "elapsed": 12266,
     "status": "ok",
     "timestamp": 1574933707379,
     "user": {
      "displayName": "Iain Styles",
      "photoUrl": "",
      "userId": "03897944434599438748"
     },
     "user_tz": 0
    },
    "id": "hBmV7t_suXaz",
    "outputId": "d5b793c0-a64a-4add-8ea1-cb82758d5a75"
   },
   "outputs": [
    {
     "name": "stdout",
     "output_type": "stream",
     "text": [
      "(10000, 28, 28)\n",
      "(60000, 28, 28)\n",
      "(10000, 784)\n",
      "(60000, 784)\n"
     ]
    }
   ],
   "source": [
    "# Get the training and test data\n",
    "train_set = mnist.train_images()\n",
    "train_labels = mnist.train_labels()\n",
    "test_set = mnist.test_images()\n",
    "test_labels = mnist.test_labels()\n",
    "print(test_set.shape)\n",
    "print(train_set.shape)\n",
    "\n",
    "# Reshape the arrays\n",
    "test_set = np.squeeze(np.array([np.reshape(i,(1,-1)) for i in test_set]))\n",
    "train_set = np.squeeze(np.array([np.reshape(i,(1,-1)) for i in train_set]))\n",
    "print(test_set.shape)\n",
    "print(train_set.shape)"
   ]
  },
  {
   "cell_type": "markdown",
   "metadata": {
    "colab_type": "text",
    "id": "H_uVRThq8ffK"
   },
   "source": [
    "## Preprocessing of the data\n",
    "\n",
    "One problem with the MNIST data is that there are, as we have previously seen, many non-varying pixels around the edge of the images. In LR we do not need to compute the covariance matrix but they risk confounding the classifier so we will remove them.\n"
   ]
  },
  {
   "cell_type": "code",
   "execution_count": 0,
   "metadata": {
    "colab": {},
    "colab_type": "code",
    "id": "3J4ndk0y8sxW"
   },
   "outputs": [],
   "source": [
    "# Get the sum of each variable into a single vector\n",
    "S = np.sum(train_set,axis=0).squeeze()\n",
    "\n",
    "# Define an index of the non-varying and varying pixels\n",
    "nonvary = S==0\n",
    "vary = np.array(S!=0).squeeze()\n",
    "\n",
    "# Choose only the varying pixels in the data\n",
    "train_set = train_set[:,vary]\n",
    "test_set = test_set[:,vary]"
   ]
  },
  {
   "cell_type": "markdown",
   "metadata": {
    "colab_type": "text",
    "id": "jHq7thzTxnQj"
   },
   "source": [
    "## Do the clustering with k-means\n",
    "sklearn's implementation is much more efficient than mine."
   ]
  },
  {
   "cell_type": "code",
   "execution_count": 0,
   "metadata": {
    "colab": {},
    "colab_type": "code",
    "id": "q4W7QnlCugMr"
   },
   "outputs": [],
   "source": [
    "from sklearn.cluster import KMeans\n",
    "km = KMeans(n_clusters=10).fit(test_set)"
   ]
  },
  {
   "cell_type": "markdown",
   "metadata": {
    "colab_type": "text",
    "id": "774iI3Pdx5JP"
   },
   "source": [
    "k-means cannot know how to associate a label with a digit. We can still plot a confusion matrix, but have to interpret it differently."
   ]
  },
  {
   "cell_type": "code",
   "execution_count": 5,
   "metadata": {
    "colab": {
     "base_uri": "https://localhost:8080/",
     "height": 36
    },
    "colab_type": "code",
    "executionInfo": {
     "elapsed": 33404,
     "status": "ok",
     "timestamp": 1574933728533,
     "user": {
      "displayName": "Iain Styles",
      "photoUrl": "",
      "userId": "03897944434599438748"
     },
     "user_tz": 0
    },
    "id": "_dudRJk1lAZc",
    "outputId": "39c51923-5942-41bd-b4a3-c8379bf0c16f"
   },
   "outputs": [
    {
     "data": {
      "text/plain": [
       "array([9, 0, 7, ..., 9, 9, 6], dtype=int32)"
      ]
     },
     "execution_count": 5,
     "metadata": {
      "tags": []
     },
     "output_type": "execute_result"
    }
   ],
   "source": [
    "km.labels_"
   ]
  },
  {
   "cell_type": "markdown",
   "metadata": {
    "colab_type": "text",
    "id": "rCKXFzq4pIrE"
   },
   "source": [
    "## Evaluating\n",
    "\n",
    "We compute some evaluation metrics on the outcome (ie the confusion matrix)"
   ]
  },
  {
   "cell_type": "code",
   "execution_count": 0,
   "metadata": {
    "colab": {},
    "colab_type": "code",
    "id": "UnjTI7EtNrPj"
   },
   "outputs": [],
   "source": [
    "def evaluate(predicted_labels, true_labels):\n",
    "    # Create an empty confusion matrix\n",
    "    confusion_matrix = np.zeros([10,10])\n",
    "    \n",
    "    # For each item in the test set, add it's prediction into the confusion matrix\n",
    "    for i, l in enumerate(true_labels):\n",
    "        confusion_matrix[l, predicted_labels[i]] += 1\n",
    "    \n",
    "    # Normalise each row\n",
    "    for i, row in enumerate(confusion_matrix):\n",
    "        confusion_matrix[i] /= sum(confusion_matrix[i])\n",
    "        \n",
    "    # Print the matrix (formatted for copying into a latex document)\n",
    "    for i,c in enumerate(confusion_matrix):\n",
    "        print(str(i) + ' & ' + ' & '.join(['{:3.2f}'.format(i) for i in c]) + '\\\\\\\\ \\hline')"
   ]
  },
  {
   "cell_type": "code",
   "execution_count": 7,
   "metadata": {
    "colab": {
     "base_uri": "https://localhost:8080/",
     "height": 204
    },
    "colab_type": "code",
    "executionInfo": {
     "elapsed": 33397,
     "status": "ok",
     "timestamp": 1574933728536,
     "user": {
      "displayName": "Iain Styles",
      "photoUrl": "",
      "userId": "03897944434599438748"
     },
     "user_tz": 0
    },
    "id": "DUL5NGkSfm_6",
    "outputId": "b89c82fb-e82a-4d50-e837-8bfeb7625575"
   },
   "outputs": [
    {
     "name": "stdout",
     "output_type": "stream",
     "text": [
      "0 & 0.06 & 0.00 & 0.01 & 0.06 & 0.00 & 0.00 & 0.02 & 0.00 & 0.83 & 0.01\\\\ \\hline\n",
      "1 & 0.00 & 0.00 & 0.00 & 0.00 & 0.00 & 0.57 & 0.00 & 0.42 & 0.00 & 0.00\\\\ \\hline\n",
      "2 & 0.06 & 0.01 & 0.67 & 0.02 & 0.02 & 0.05 & 0.02 & 0.11 & 0.02 & 0.02\\\\ \\hline\n",
      "3 & 0.70 & 0.01 & 0.05 & 0.15 & 0.01 & 0.06 & 0.01 & 0.00 & 0.00 & 0.01\\\\ \\hline\n",
      "4 & 0.00 & 0.26 & 0.00 & 0.00 & 0.40 & 0.02 & 0.02 & 0.01 & 0.00 & 0.28\\\\ \\hline\n",
      "5 & 0.32 & 0.03 & 0.01 & 0.37 & 0.03 & 0.04 & 0.01 & 0.03 & 0.01 & 0.15\\\\ \\hline\n",
      "6 & 0.00 & 0.00 & 0.02 & 0.05 & 0.02 & 0.05 & 0.82 & 0.01 & 0.02 & 0.00\\\\ \\hline\n",
      "7 & 0.00 & 0.44 & 0.01 & 0.00 & 0.10 & 0.03 & 0.00 & 0.04 & 0.00 & 0.37\\\\ \\hline\n",
      "8 & 0.21 & 0.03 & 0.01 & 0.59 & 0.02 & 0.03 & 0.01 & 0.04 & 0.01 & 0.06\\\\ \\hline\n",
      "9 & 0.01 & 0.45 & 0.00 & 0.01 & 0.28 & 0.02 & 0.00 & 0.01 & 0.01 & 0.21\\\\ \\hline\n"
     ]
    }
   ],
   "source": [
    "evaluate(km.labels_, test_labels)"
   ]
  },
  {
   "cell_type": "markdown",
   "metadata": {
    "colab_type": "text",
    "id": "dTh26pJY0NC7"
   },
   "source": [
    "Note that the class label '1' is the maximum label for both classes 7 and 9. This means that we cannot easily relate the class labels to the cluster indices. What we can say is that:\n",
    "\n",
    "\n",
    "* 83% of 0s are in the same group\n",
    "* 57% of 1's\n",
    "* 67% of 2's\n",
    "* 67% of 3's\n",
    "* 40% of 4's\n",
    "* 36% of 5's\n",
    "* 82% of 6's\n",
    "* 45% of 7's (with 36% in the group of 1's)\n",
    "* 58% of 8's\n",
    "* 45% of 9's (with 29% in the group of 4s)\n",
    "\n"
   ]
  },
  {
   "cell_type": "code",
   "execution_count": 8,
   "metadata": {
    "colab": {
     "base_uri": "https://localhost:8080/",
     "height": 1000
    },
    "colab_type": "code",
    "executionInfo": {
     "elapsed": 34470,
     "status": "ok",
     "timestamp": 1574933729615,
     "user": {
      "displayName": "Iain Styles",
      "photoUrl": "",
      "userId": "03897944434599438748"
     },
     "user_tz": 0
    },
    "id": "QH9Y6-xHV56I",
    "outputId": "92949dd3-d2df-464b-cdd8-a4b5fd0f5610"
   },
   "outputs": [
    {
     "data": {
      "image/png": "[encoded data removed]",
      "text/plain": [
       "<Figure size 432x288 with 1 Axes>"
      ]
     },
     "metadata": {
      "tags": []
     },
     "output_type": "display_data"
    },
    {
     "data": {
      "image/png": "[encoded data removed]",
      "text/plain": [
       "<Figure size 432x288 with 1 Axes>"
      ]
     },
     "metadata": {
      "tags": []
     },
     "output_type": "display_data"
    },
    {
     "data": {
      "image/png": "[encoded data removed]",
      "text/plain": [
       "<Figure size 432x288 with 1 Axes>"
      ]
     },
     "metadata": {
      "tags": []
     },
     "output_type": "display_data"
    },
    {
     "data": {
      "image/png": "[encoded data removed]",
      "text/plain": [
       "<Figure size 432x288 with 1 Axes>"
      ]
     },
     "metadata": {
      "tags": []
     },
     "output_type": "display_data"
    },
    {
     "data": {
      "image/png": "[encoded data removed]",
      "text/plain": [
       "<Figure size 432x288 with 1 Axes>"
      ]
     },
     "metadata": {
      "tags": []
     },
     "output_type": "display_data"
    },
    {
     "data": {
      "image/png": "[encoded data removed]",
      "text/plain": [
       "<Figure size 432x288 with 1 Axes>"
      ]
     },
     "metadata": {
      "tags": []
     },
     "output_type": "display_data"
    },
    {
     "data": {
      "image/png": "[encoded data removed]",
      "text/plain": [
       "<Figure size 432x288 with 1 Axes>"
      ]
     },
     "metadata": {
      "tags": []
     },
     "output_type": "display_data"
    },
    {
     "data": {
      "image/png": "[encoded data removed]",
      "text/plain": [
       "<Figure size 432x288 with 1 Axes>"
      ]
     },
     "metadata": {
      "tags": []
     },
     "output_type": "display_data"
    },
    {
     "data": {
      "image/png": "[encoded data removed]",
      "text/plain": [
       "<Figure size 432x288 with 1 Axes>"
      ]
     },
     "metadata": {
      "tags": []
     },
     "output_type": "display_data"
    },
    {
     "data": {
      "image/png": "[encoded data removed]",
      "text/plain": [
       "<Figure size 432x288 with 1 Axes>"
      ]
     },
     "metadata": {
      "tags": []
     },
     "output_type": "display_data"
    }
   ],
   "source": [
    "for i in km.cluster_centers_:\n",
    "  x = np.zeros(784)\n",
    "  x[vary] = np.squeeze(i)\n",
    "  plt.figure()\n",
    "  plt.imshow(np.reshape(x,(28,28)), cmap='gray')\n",
    "  plt.axis('off')"
   ]
  }
 ],
 "metadata": {
  "colab": {
   "collapsed_sections": [],
   "name": "lecture-14a.ipynb",
   "provenance": [
    {
     "file_id": "1PYoWIo3CkdXarkZNK380v52l0ZDzyMH9",
     "timestamp": 1542963463353
    }
   ]
  },
  "kernelspec": {
   "display_name": "Python 3",
   "language": "python",
   "name": "python3"
  },
  "language_info": {
   "codemirror_mode": {
    "name": "ipython",
    "version": 3
   },
   "file_extension": ".py",
   "mimetype": "text/x-python",
   "name": "python",
   "nbconvert_exporter": "python",
   "pygments_lexer": "ipython3",
   "version": "3.7.5"
  }
 },
 "nbformat": 4,
 "nbformat_minor": 1
}
