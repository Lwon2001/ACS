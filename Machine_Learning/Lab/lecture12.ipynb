{
 "cells": [
  {
   "cell_type": "markdown",
   "metadata": {
    "colab_type": "text",
    "id": "zp1a7Ms2ncI1"
   },
   "source": [
    "# Decision Trees"
   ]
  },
  {
   "cell_type": "markdown",
   "metadata": {
    "colab_type": "text",
    "id": "Lb5yJSfYncI8"
   },
   "source": [
    "In this notebook we will do use decision trees to classify MNIST. If you are using your own installation of Jupyter you will need the mnist package which can \n",
    "be installed through anaconda using\n",
    "\n",
    "conda install -c conda-forge mnist\n",
    "\n",
    "I must point out that no efforts have been made to optimise this code for either efficiency or elegance, and some of you will no doubt be able to find ways in which it could be improved.\n",
    "\n",
    "**CAUTION** these notebooks are great, but you must be careful when running the cells out of order, especially if you are using mutable variables"
   ]
  },
  {
   "cell_type": "code",
   "execution_count": 4,
   "metadata": {},
   "outputs": [],
   "source": [
    "import matplotlib.pyplot as plt\n",
    "import mnist\n",
    "import numpy as np\n",
    "from numpy.linalg import inv, det\n"
   ]
  },
  {
   "cell_type": "code",
   "execution_count": 5,
   "metadata": {},
   "outputs": [],
   "source": [
    "def evaluate(predicted_labels, true_labels):\n",
    "    # Create an empty confusion matrix\n",
    "    confusion_matrix = np.zeros([10,10])\n",
    "    \n",
    "    # For each item in the test set, add it's prediction into the confusion matrix\n",
    "    for i, l in enumerate(true_labels):\n",
    "        confusion_matrix[l, predicted_labels[i]] += 1\n",
    "    \n",
    "    # Normalise each row\n",
    "    for i, row in enumerate(confusion_matrix):\n",
    "        confusion_matrix[i] /= sum(confusion_matrix[i])\n",
    "        \n",
    "    # Print the matrix (formatted for copying into a latex document)\n",
    "    for i,c in enumerate(confusion_matrix):\n",
    "        print(str(i) + ' & ' + ' & '.join(['{:3.2f}'.format(i) for i in c]) + '\\\\\\\\ \\hline')\n",
    "    \n",
    "    # Plot the matrix\n",
    "    plt.imshow(confusion_matrix,cmap='gray')\n",
    "    plt.tight_layout()\n",
    "    plt.grid('off')\n",
    "    plt.xlabel('Prediction')\n",
    "    plt.ylabel('Target')\n",
    "    \n",
    "    # Compute and print the overall accuracy\n",
    "    print(sum(confusion_matrix.diagonal())/sum(sum(confusion_matrix)))"
   ]
  },
  {
   "cell_type": "markdown",
   "metadata": {
    "colab_type": "text",
    "id": "ZicM3g7juYRA"
   },
   "source": [
    "First, some manipulations. We need to linearise the training data so that we can treat each image as a vector."
   ]
  },
  {
   "cell_type": "code",
   "execution_count": 4,
   "metadata": {
    "colab": {
     "base_uri": "https://localhost:8080/",
     "height": 90
    },
    "colab_type": "code",
    "id": "hBmV7t_suXaz",
    "outputId": "541385e9-a92f-4f27-8498-8a572fb39d9a"
   },
   "outputs": [
    {
     "name": "stdout",
     "output_type": "stream",
     "text": [
      "(10000, 28, 28)\n",
      "(60000, 28, 28)\n",
      "(10000, 784)\n",
      "(60000, 784)\n"
     ]
    }
   ],
   "source": [
    "# Get the training and test data\n",
    "train_set = mnist.train_images()\n",
    "train_labels = mnist.train_labels()\n",
    "test_set = mnist.test_images()\n",
    "test_labels = mnist.test_labels()\n",
    "print(test_set.shape)\n",
    "print(train_set.shape)\n",
    "\n",
    "# Reshape the arrays\n",
    "test_set = np.squeeze(np.array([np.reshape(i,(1,-1)) for i in test_set]))\n",
    "train_set = np.squeeze(np.array([np.reshape(i,(1,-1)) for i in train_set]))\n",
    "print(test_set.shape)\n",
    "print(train_set.shape)"
   ]
  },
  {
   "cell_type": "markdown",
   "metadata": {
    "colab_type": "text",
    "id": "H_uVRThq8ffK"
   },
   "source": [
    "## Preprocessing of the data\n",
    "\n",
    "One problem with the MNIST data is that there are, as we have previously seen, many non-varying pixels around the edge of the images. In LR we do not need to compute the covariance matrix but they risk confounding the classifier so we will remove them.\n"
   ]
  },
  {
   "cell_type": "code",
   "execution_count": 5,
   "metadata": {
    "colab": {},
    "colab_type": "code",
    "id": "3J4ndk0y8sxW"
   },
   "outputs": [],
   "source": [
    "# Get the sum of each variable into a single vector\n",
    "S = np.sum(train_set,axis=0).squeeze()\n",
    "\n",
    "# Define an index of the non-varying and varying pixels\n",
    "nonvary = S==0\n",
    "vary = np.array(S!=0).squeeze()\n",
    "\n",
    "# Choose only the varying pixels in the data\n",
    "train_set = 1.*train_set[0:1000,vary]\n",
    "train_labels = train_labels[0:1000]\n",
    "test_set = 1.*test_set[:,vary]"
   ]
  },
  {
   "cell_type": "markdown",
   "metadata": {
    "colab_type": "text",
    "id": "6bkY8J1On18l"
   },
   "source": [
    "## Training the model\n",
    "\n",
    "Training in scikit-learn is easy. The `lbgfs` solver is chosen for efficiency - it is faster than IRLS. Here is the model interface:\n",
    "\n",
    "`class sklearn.linear_model.LogisticRegression(penalty=’l2’, dual=False, tol=0.0001, C=1.0, fit_intercept=True, intercept_scaling=1, class_weight=None, random_state=None, solver=’warn’, max_iter=100, multi_class=’warn’, verbose=0, warm_start=False, n_jobs=None, l1_ratio=None)`\n",
    "\n",
    "Note that the default is to have the model regularised with an $L_2$ penalty and inverse regularisation parameter $C=1.0$."
   ]
  },
  {
   "cell_type": "code",
   "execution_count": 8,
   "metadata": {
    "colab": {},
    "colab_type": "code",
    "id": "_dudRJk1lAZc"
   },
   "outputs": [
    {
     "ename": "ModuleNotFoundError",
     "evalue": "No module named 'sklearn'",
     "output_type": "error",
     "traceback": [
      "\u001b[0;31m---------------------------------------------------------------------------\u001b[0m",
      "\u001b[0;31mModuleNotFoundError\u001b[0m                       Traceback (most recent call last)",
      "\u001b[0;32m<ipython-input-8-d43f5341c5f7>\u001b[0m in \u001b[0;36m<module>\u001b[0;34m\u001b[0m\n\u001b[0;32m----> 1\u001b[0;31m \u001b[0;32mfrom\u001b[0m \u001b[0msklearn\u001b[0m \u001b[0;32mimport\u001b[0m \u001b[0mtree\u001b[0m\u001b[0;34m\u001b[0m\u001b[0m\n\u001b[0m\u001b[1;32m      2\u001b[0m \u001b[0mDT\u001b[0m \u001b[0;34m=\u001b[0m \u001b[0mtree\u001b[0m\u001b[0;34m.\u001b[0m\u001b[0mDecisionTreeClassifier\u001b[0m\u001b[0;34m(\u001b[0m\u001b[0mcriterion\u001b[0m\u001b[0;34m=\u001b[0m\u001b[0;34m'entropy'\u001b[0m\u001b[0;34m)\u001b[0m\u001b[0;34m\u001b[0m\u001b[0m\n\u001b[1;32m      3\u001b[0m \u001b[0mmodel\u001b[0m \u001b[0;34m=\u001b[0m \u001b[0mDT\u001b[0m\u001b[0;34m.\u001b[0m\u001b[0mfit\u001b[0m\u001b[0;34m(\u001b[0m\u001b[0mtrain_set\u001b[0m\u001b[0;34m,\u001b[0m \u001b[0mtrain_labels\u001b[0m\u001b[0;34m)\u001b[0m\u001b[0;34m\u001b[0m\u001b[0m\n",
      "\u001b[0;31mModuleNotFoundError\u001b[0m: No module named 'sklearn'"
     ]
    }
   ],
   "source": [
    "from sklearn import tree\n",
    "DT = tree.DecisionTreeClassifier(criterion='entropy')\n",
    "model = DT.fit(train_set, train_labels)"
   ]
  },
  {
   "cell_type": "markdown",
   "metadata": {
    "colab_type": "text",
    "id": "LEJiGNFlo31E"
   },
   "source": [
    "## Testing\n",
    "\n",
    "Now run the predictions on both training and test data."
   ]
  },
  {
   "cell_type": "code",
   "execution_count": 7,
   "metadata": {
    "colab": {},
    "colab_type": "code",
    "id": "akb7RJfRxcZp"
   },
   "outputs": [
    {
     "ename": "NameError",
     "evalue": "name 'model' is not defined",
     "output_type": "error",
     "traceback": [
      "\u001b[0;31m---------------------------------------------------------------------------\u001b[0m",
      "\u001b[0;31mNameError\u001b[0m                                 Traceback (most recent call last)",
      "\u001b[0;32m<ipython-input-7-4602771963db>\u001b[0m in \u001b[0;36m<module>\u001b[0;34m\u001b[0m\n\u001b[0;32m----> 1\u001b[0;31m \u001b[0mpredict_train\u001b[0m \u001b[0;34m=\u001b[0m \u001b[0mmodel\u001b[0m\u001b[0;34m.\u001b[0m\u001b[0mpredict\u001b[0m\u001b[0;34m(\u001b[0m\u001b[0mtrain_set\u001b[0m\u001b[0;34m)\u001b[0m\u001b[0;34m\u001b[0m\u001b[0m\n\u001b[0m\u001b[1;32m      2\u001b[0m \u001b[0mpredict_test\u001b[0m \u001b[0;34m=\u001b[0m \u001b[0mmodel\u001b[0m\u001b[0;34m.\u001b[0m\u001b[0mpredict\u001b[0m\u001b[0;34m(\u001b[0m\u001b[0mtest_set\u001b[0m\u001b[0;34m)\u001b[0m\u001b[0;34m\u001b[0m\u001b[0m\n",
      "\u001b[0;31mNameError\u001b[0m: name 'model' is not defined"
     ]
    }
   ],
   "source": [
    "predict_train = model.predict(train_set)\n",
    "predict_test = model.predict(test_set)"
   ]
  },
  {
   "cell_type": "markdown",
   "metadata": {
    "colab_type": "text",
    "id": "rCKXFzq4pIrE"
   },
   "source": [
    "## Evaluating\n",
    "\n",
    "We compute some evaluation metrics on the outcome (ie the confusion matrix)"
   ]
  },
  {
   "cell_type": "code",
   "execution_count": 22,
   "metadata": {
    "colab": {
     "base_uri": "https://localhost:8080/",
     "height": 513
    },
    "colab_type": "code",
    "id": "IrzExTaZOOAf",
    "outputId": "c447bc68-9138-4715-f5cf-8520605ed229"
   },
   "outputs": [
    {
     "name": "stdout",
     "output_type": "stream",
     "text": [
      "0 & 1.00 & 0.00 & 0.00 & 0.00 & 0.00 & 0.00 & 0.00 & 0.00 & 0.00 & 0.00\\\\ \\hline\n",
      "1 & 0.00 & 1.00 & 0.00 & 0.00 & 0.00 & 0.00 & 0.00 & 0.00 & 0.00 & 0.00\\\\ \\hline\n",
      "2 & 0.00 & 0.00 & 1.00 & 0.00 & 0.00 & 0.00 & 0.00 & 0.00 & 0.00 & 0.00\\\\ \\hline\n",
      "3 & 0.00 & 0.00 & 0.00 & 1.00 & 0.00 & 0.00 & 0.00 & 0.00 & 0.00 & 0.00\\\\ \\hline\n",
      "4 & 0.00 & 0.00 & 0.00 & 0.00 & 1.00 & 0.00 & 0.00 & 0.00 & 0.00 & 0.00\\\\ \\hline\n",
      "5 & 0.00 & 0.00 & 0.00 & 0.00 & 0.00 & 1.00 & 0.00 & 0.00 & 0.00 & 0.00\\\\ \\hline\n",
      "6 & 0.00 & 0.00 & 0.00 & 0.00 & 0.00 & 0.00 & 1.00 & 0.00 & 0.00 & 0.00\\\\ \\hline\n",
      "7 & 0.00 & 0.00 & 0.00 & 0.00 & 0.00 & 0.00 & 0.00 & 1.00 & 0.00 & 0.00\\\\ \\hline\n",
      "8 & 0.00 & 0.00 & 0.00 & 0.00 & 0.00 & 0.00 & 0.00 & 0.00 & 1.00 & 0.00\\\\ \\hline\n",
      "9 & 0.00 & 0.00 & 0.00 & 0.00 & 0.00 & 0.00 & 0.00 & 0.00 & 0.00 & 1.00\\\\ \\hline\n",
      "1.0\n"
     ]
    },
    {
     "data": {
      "image/png": "[encoded data removed]",
      "text/plain": [
       "<Figure size 432x288 with 1 Axes>"
      ]
     },
     "metadata": {
      "tags": []
     },
     "output_type": "display_data"
    }
   ],
   "source": [
    "evaluate(predict_train, train_labels)"
   ]
  },
  {
   "cell_type": "code",
   "execution_count": 23,
   "metadata": {
    "colab": {
     "base_uri": "https://localhost:8080/",
     "height": 513
    },
    "colab_type": "code",
    "id": "DUL5NGkSfm_6",
    "outputId": "e1c6fd91-afd6-48dd-eb47-ef5d6ed662de"
   },
   "outputs": [
    {
     "name": "stdout",
     "output_type": "stream",
     "text": [
      "0 & 0.82 & 0.01 & 0.03 & 0.01 & 0.01 & 0.02 & 0.02 & 0.03 & 0.02 & 0.03\\\\ \\hline\n",
      "1 & 0.00 & 0.85 & 0.03 & 0.03 & 0.00 & 0.03 & 0.01 & 0.02 & 0.02 & 0.00\\\\ \\hline\n",
      "2 & 0.04 & 0.02 & 0.61 & 0.01 & 0.04 & 0.05 & 0.05 & 0.06 & 0.05 & 0.07\\\\ \\hline\n",
      "3 & 0.02 & 0.03 & 0.04 & 0.55 & 0.03 & 0.17 & 0.01 & 0.03 & 0.07 & 0.05\\\\ \\hline\n",
      "4 & 0.00 & 0.01 & 0.05 & 0.02 & 0.61 & 0.05 & 0.06 & 0.03 & 0.06 & 0.10\\\\ \\hline\n",
      "5 & 0.02 & 0.02 & 0.04 & 0.09 & 0.08 & 0.55 & 0.05 & 0.02 & 0.04 & 0.09\\\\ \\hline\n",
      "6 & 0.01 & 0.01 & 0.11 & 0.01 & 0.08 & 0.07 & 0.65 & 0.02 & 0.02 & 0.03\\\\ \\hline\n",
      "7 & 0.00 & 0.01 & 0.03 & 0.01 & 0.04 & 0.02 & 0.01 & 0.83 & 0.01 & 0.04\\\\ \\hline\n",
      "8 & 0.02 & 0.03 & 0.14 & 0.04 & 0.02 & 0.09 & 0.03 & 0.03 & 0.51 & 0.09\\\\ \\hline\n",
      "9 & 0.00 & 0.01 & 0.04 & 0.04 & 0.10 & 0.06 & 0.04 & 0.06 & 0.07 & 0.56\\\\ \\hline\n",
      "0.6537892130090354\n"
     ]
    },
    {
     "data": {
      "image/png": "[encoded data removed]",
      "text/plain": [
       "<Figure size 432x288 with 1 Axes>"
      ]
     },
     "metadata": {
      "tags": []
     },
     "output_type": "display_data"
    }
   ],
   "source": [
    "evaluate(predict_test, test_labels)"
   ]
  },
  {
   "cell_type": "code",
   "execution_count": 24,
   "metadata": {
    "colab": {
     "base_uri": "https://localhost:8080/",
     "height": 54
    },
    "colab_type": "code",
    "id": "TaqELuqkxcen",
    "outputId": "aea8d7ed-cab7-46af-c259-8b2fff261f45"
   },
   "outputs": [
    {
     "data": {
      "text/plain": [
       "array([0.64423077, 0.64423077, 0.7184466 , 0.75490196, 0.67326733,\n",
       "       0.6       , 0.66666667, 0.77083333, 0.625     , 0.58947368])"
      ]
     },
     "execution_count": 24,
     "metadata": {
      "tags": []
     },
     "output_type": "execute_result"
    }
   ],
   "source": [
    "from sklearn.model_selection import cross_val_score\n",
    "cross_val_score(model, train_set, train_labels, cv=10)"
   ]
  }
 ],
 "metadata": {
  "colab": {
   "collapsed_sections": [],
   "name": "lecture12.ipynb",
   "provenance": []
  },
  "kernelspec": {
   "display_name": "Python 3",
   "language": "python",
   "name": "python3"
  },
  "language_info": {
   "codemirror_mode": {
    "name": "ipython",
    "version": 3
   },
   "file_extension": ".py",
   "mimetype": "text/x-python",
   "name": "python",
   "nbconvert_exporter": "python",
   "pygments_lexer": "ipython3",
   "version": "3.7.5"
  }
 },
 "nbformat": 4,
 "nbformat_minor": 1
}