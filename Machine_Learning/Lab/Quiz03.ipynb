{
  "nbformat": 4,
  "nbformat_minor": 0,
  "metadata": {
    "colab": {
      "name": "Assignment3-Q3.ipynb",
      "provenance": []
    },
    "kernelspec": {
      "name": "python3",
      "display_name": "Python 3"
    }
  },
  "cells": [
    {
      "cell_type": "markdown",
      "metadata": {
        "id": "wlmat04tdBIy",
        "colab_type": "text"
      },
      "source": [
        "## Question 3\n",
        "The data shown in the figure below shows data generated from two processes. The data generating processes are multivariate normal distributions with parameters\n",
        "* Class A (red): mean $\\bar{\\mathbf{x}}_\\mathrm{A}= \\begin{pmatrix}5.0\\\\3.0\\end{pmatrix}$; covariance $\\mathbf{\\Sigma}_\\mathrm{A}=\\begin{pmatrix}1.26 & -1.51\\\\ -1.51 & 3.26\\end{pmatrix}$\n",
        "* Class B (green): mean $\\bar{\\mathbf{x}}_\\mathrm{A}= \\begin{pmatrix}-4.0\\\\-4.0\\end{pmatrix}$; covariance $\\mathbf{\\Sigma}_\\mathrm{A}=\\begin{pmatrix}6.22 & 0.09\\\\ 0.09 & 2.91\\end{pmatrix}$\n",
        "\n",
        "The decision rule for quadratic discrimination analyis is given by\n",
        "\\[\\mbox{if}\\,Q(\\bx)>0\\,\\mbox{assign $\\bx$ to class A}\\]\n",
        "where \n",
        "* $Q(\\mathbf{x}) = \\mathbf{x}^\\mathrm{T}\\mathbf{A}\\mathbf{x} + \\mathbf{b}^\\mathrm{T}\\mathbf{x} + c$\n",
        "* $\\mathbf{A} = -\\frac{1}{2}\\left(\\mathbf{\\Sigma}_\\mathrm{A}^{-1}-\\mathbf{\\Sigma}_\\mathrm{B}^{-1}\\right)$\n",
        "* $\\mathbf{b} = \\mathbf{\\Sigma}^{-1}_\\mathrm{A}\\bar{\\mathbf{x}}_\\mathrm{A} - \\mathbf{\\Sigma}^{-1}_\\mathrm{B}\\bar{\\mathbf{x}}_\\mathrm{B}$\n",
        "* $c = -\\frac{1}{2}\\left(\\log_e\\frac{ \\left\\lvert \\mathbf{\\Sigma}_\\mathrm{A} \\right\\rvert }{ \\left\\lvert \\mathbf{\\Sigma}_\\mathrm{B} \\right\\rvert }+\\bar{\\mathbf{x}}_\\mathrm{A}^\\mathrm{T}\\mathbf{\\Sigma}_\\mathrm{A}^{-1}\\bar{\\mathbf{x}}_\\mathrm{A}-\\bar{\\mathbf{x}}_\\mathrm{B}^\\mathrm{T}\\mathbf{\\Sigma}_\\mathrm{B}^{-1}\\bar{\\mathbf{x}}_\\mathrm{B}\\right)-\\log_e\\frac{\\pi_\\mathrm{A}}{\\pi_\\mathrm{B}}$\n",
        "\n",
        "\n",
        "The relevant quantities are defined or computed in the following cell:"
      ]
    },
    {
      "cell_type": "code",
      "metadata": {
        "id": "S3VxzmdhdSDG",
        "colab_type": "code",
        "colab": {}
      },
      "source": [
        "import numpy as np\n",
        "\n",
        "# Define the means\n",
        "meanA = np.array([5.0, 3.0])\n",
        "meanB = np.array([-4.0, -4.0])\n",
        "\n",
        "# Covariances\n",
        "covA = np.array([[1.26, -1.51], [-1.51, 3.26]])\n",
        "covB = np.array([[6.22, 0.09], [0.09, 2.91]])\n",
        "\n",
        "# Priors\n",
        "pA = 0.5\n",
        "pB = 1 - pA\n",
        "\n",
        "# Define the decision rule\n",
        "icovA = np.linalg.inv(covA)\n",
        "icovB = np.linalg.inv(covB)\n",
        "A = -0.5 * (icovA - icovB)\n",
        "b = np.matmul(icovA, meanA.T) - np.matmul(icovB, meanB.T)\n",
        "\n",
        "# IMPORTANT: THE THIRD LINE OF THIS EXPRESSION HAS THE WRONG SIGN. + SHOULD BE -.\n",
        "c = -0.5 * (np.log(np.linalg.det(covA)/np.linalg.det(covB))\n",
        "            + np.matmul(meanA,np.matmul(icovA, meanA.T))\n",
        "            + np.matmul(meanB,np.matmul(icovB, meanB.T))\n",
        "            ) - np.log(pA/pB)\n",
        "           \n",
        "\n",
        "# Given point x, compute the decision function\n",
        "Q = lambda x: np.matmul(x, np.matmul(A, x.T)) + np.matmul(b.T, x) + c"
      ],
      "execution_count": 0,
      "outputs": []
    },
    {
      "cell_type": "markdown",
      "metadata": {
        "id": "upJ37xendV-F",
        "colab_type": "text"
      },
      "source": [
        "Example of how to use the decision function $Q(x)$:\n",
        "\n",
        "Define five random points in the range $x_0:(-15,15)$, $x_1: (10,10)$"
      ]
    },
    {
      "cell_type": "code",
      "metadata": {
        "id": "4WbxfzY5dO5-",
        "colab_type": "code",
        "outputId": "c98ef02f-19e7-4454-8202-cbafbca92b58",
        "colab": {
          "base_uri": "https://localhost:8080/",
          "height": 111
        }
      },
      "source": [
        "X = np.random.rand(5,2)\n",
        "X[:,0] = X[:,0]*30 - 15\n",
        "X[:,1] = X[:,1]*20 - 10\n",
        "print(X)"
      ],
      "execution_count": 0,
      "outputs": [
        {
          "output_type": "stream",
          "text": [
            "[[-11.22593784  -9.22956171]\n",
            " [-14.84372668   4.13060507]\n",
            " [ -7.0833793    6.87192451]\n",
            " [  5.72619734   1.93702484]\n",
            " [  3.94253257   1.51454646]]\n"
          ],
          "name": "stdout"
        }
      ]
    },
    {
      "cell_type": "markdown",
      "metadata": {
        "id": "uxki3H4KfIo3",
        "colab_type": "text"
      },
      "source": [
        "Apply the decision function to all the points"
      ]
    },
    {
      "cell_type": "code",
      "metadata": {
        "id": "mgePRFpPfOgB",
        "colab_type": "code",
        "colab": {}
      },
      "source": [
        "Qx = np.array([ Q(x) for x in X ])"
      ],
      "execution_count": 0,
      "outputs": []
    },
    {
      "cell_type": "markdown",
      "metadata": {
        "id": "orSy455yfX_K",
        "colab_type": "text"
      },
      "source": [
        "Classify the points. We assume that none are exactly on the boundary."
      ]
    },
    {
      "cell_type": "code",
      "metadata": {
        "id": "cfeL0NqsfgvO",
        "colab_type": "code",
        "outputId": "071b132a-c53d-4645-9d48-c83554aa17c4",
        "colab": {
          "base_uri": "https://localhost:8080/",
          "height": 148
        }
      },
      "source": [
        "cA = X[Qx>0,:]\n",
        "cB = X[Qx<0,:]\n",
        "print('Points in class A')\n",
        "print(cA)\n",
        "print('Points in class B')\n",
        "print(cB)"
      ],
      "execution_count": 0,
      "outputs": [
        {
          "output_type": "stream",
          "text": [
            "Points in class A\n",
            "[[5.72619734 1.93702484]\n",
            " [3.94253257 1.51454646]]\n",
            "Points in class B\n",
            "[[-11.22593784  -9.22956171]\n",
            " [-14.84372668   4.13060507]\n",
            " [ -7.0833793    6.87192451]]\n"
          ],
          "name": "stdout"
        }
      ]
    }
  ]
}