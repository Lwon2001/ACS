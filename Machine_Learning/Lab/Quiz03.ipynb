{
  "nbformat": 4,
  "nbformat_minor": 0,
  "metadata": {
    "colab": {
      "name": "Assignment3-Q3.ipynb",
      "provenance": []
    },
    "kernelspec": {
      "name": "python3",
      "display_name": "Python 3"
    }
  },
  "cells": [
    {
      "cell_type": "markdown",
      "metadata": {
        "colab_type": "text",
        "id": "wlmat04tdBIy"
      },
      "source": [
        "## Question 3\n",
        "The data shown in the figure below shows data generated from two processes. The data generating processes are multivariate normal distributions with parameters\n",
        "* Class A (red): mean $\\bar{\\mathbf{x}}_\\mathrm{A}= \\begin{pmatrix}5.0\\\\3.0\\end{pmatrix}$; covariance $\\mathbf{\\Sigma}_\\mathrm{A}=\\begin{pmatrix}1.26 & -1.51\\\\ -1.51 & 3.26\\end{pmatrix}$\n",
        "* Class B (green): mean $\\bar{\\mathbf{x}}_\\mathrm{A}= \\begin{pmatrix}-4.0\\\\-4.0\\end{pmatrix}$; covariance $\\mathbf{\\Sigma}_\\mathrm{A}=\\begin{pmatrix}6.22 & 0.09\\\\ 0.09 & 2.91\\end{pmatrix}$\n",
        "\n",
        "The decision rule for quadratic discrimination analyis is given by\n",
        "\\[\\mbox{if}\\,Q(\\bx)>0\\,\\mbox{assign $\\bx$ to class A}\\]\n",
        "where \n",
        "* $Q(\\mathbf{x}) = \\mathbf{x}^\\mathrm{T}\\mathbf{A}\\mathbf{x} + \\mathbf{b}^\\mathrm{T}\\mathbf{x} + c$\n",
        "* $\\mathbf{A} = -\\frac{1}{2}\\left(\\mathbf{\\Sigma}_\\mathrm{A}^{-1}-\\mathbf{\\Sigma}_\\mathrm{B}^{-1}\\right)$\n",
        "* $\\mathbf{b} = \\mathbf{\\Sigma}^{-1}_\\mathrm{A}\\bar{\\mathbf{x}}_\\mathrm{A} - \\mathbf{\\Sigma}^{-1}_\\mathrm{B}\\bar{\\mathbf{x}}_\\mathrm{B}$\n",
        "* $c = -\\frac{1}{2}\\left(\\log_e\\frac{ \\left\\lvert \\mathbf{\\Sigma}_\\mathrm{A} \\right\\rvert }{ \\left\\lvert \\mathbf{\\Sigma}_\\mathrm{B} \\right\\rvert }+\\bar{\\mathbf{x}}_\\mathrm{A}^\\mathrm{T}\\mathbf{\\Sigma}_\\mathrm{A}^{-1}\\bar{\\mathbf{x}}_\\mathrm{A}-\\bar{\\mathbf{x}}_\\mathrm{B}^\\mathrm{T}\\mathbf{\\Sigma}_\\mathrm{B}^{-1}\\bar{\\mathbf{x}}_\\mathrm{B}\\right)-\\log_e\\frac{\\pi_\\mathrm{A}}{\\pi_\\mathrm{B}}$\n",
        "\n",
        "\n",
        "The relevant quantities are defined or computed in the following cell:"
      ]
    },
    {
      "cell_type": "code",
      "execution_count": 1,
      "metadata": {},
      "outputs": [],
      "source": [
        "import numpy as np\n",
        "\n",
        "# Define the means\n",
        "meanA = np.array([5.0, 3.0])\n",
        "meanB = np.array([-4.0, -4.0])\n",
        "\n",
        "# Covariances\n",
        "covA = np.array([[1.26, -1.51], [-1.51, 3.26]])\n",
        "covB = np.array([[6.22, 0.09], [0.09, 2.91]])\n",
        "\n",
        "# Priors\n",
        "pA = 0.5\n",
        "pB = 1 - pA\n",
        "\n",
        "# Define the decision rule\n",
        "icovA = np.linalg.inv(covA)\n",
        "icovB = np.linalg.inv(covB)\n",
        "A = -0.5 * (icovA - icovB)\n",
        "b = np.matmul(icovA, meanA.T) - np.matmul(icovB, meanB.T)\n",
        "\n",
        "# IMPORTANT: THE THIRD LINE OF THIS EXPRESSION HAS THE WRONG SIGN. + SHOULD BE -.\n",
        "c = -0.5 * (np.log(np.linalg.det(covA)/np.linalg.det(covB))\n",
        "            + np.matmul(meanA,np.matmul(icovA, meanA.T))\n",
        "            + np.matmul(meanB,np.matmul(icovB, meanB.T))\n",
        "            ) - np.log(pA/pB)\n",
        "           \n",
        "\n",
        "# Given point x, compute the decision function\n",
        "Q = lambda x: np.matmul(x, np.matmul(A, x.T)) + np.matmul(b.T, x) + c"
      ]
    },
    {
      "cell_type": "markdown",
      "metadata": {
        "colab_type": "text",
        "id": "upJ37xendV-F"
      },
      "source": [
        "Example of how to use the decision function $Q(x)$:\n",
        "\n",
        "Define five random points in the range $x_0:(-15,15)$, $x_1: (10,10)$"
      ]
    },
    {
      "cell_type": "code",
      "execution_count": 2,
      "metadata": {},
      "outputs": [
        {
          "name": "stdout",
          "output_type": "stream",
          "text": "[[-10.74731844   8.94898223]\n [-11.00445487  -8.38876056]\n [-14.34034101  -5.84025932]\n [ -7.66316086   3.7030207 ]\n [  7.11801655   4.52801977]]\n"
        }
      ],
      "source": [
        "X = np.random.rand(5,2)\n",
        "X[:,0] = X[:,0]*30 - 15\n",
        "X[:,1] = X[:,1]*20 - 10\n",
        "print(X)"
      ]
    },
    {
      "cell_type": "markdown",
      "metadata": {
        "colab_type": "text",
        "id": "uxki3H4KfIo3"
      },
      "source": [
        "Apply the decision function to all the points"
      ]
    },
    {
      "cell_type": "code",
      "execution_count": 3,
      "metadata": {},
      "outputs": [],
      "source": [
        "Qx = np.array([ Q(x) for x in X ])"
      ]
    },
    {
      "cell_type": "markdown",
      "metadata": {
        "colab_type": "text",
        "id": "orSy455yfX_K"
      },
      "source": [
        "Classify the points. We assume that none are exactly on the boundary."
      ]
    },
    {
      "cell_type": "code",
      "execution_count": 4,
      "metadata": {},
      "outputs": [
        {
          "name": "stdout",
          "output_type": "stream",
          "text": "Points in class A\n[[7.11801655 4.52801977]]\nPoints in class B\n[[-10.74731844   8.94898223]\n [-11.00445487  -8.38876056]\n [-14.34034101  -5.84025932]\n [ -7.66316086   3.7030207 ]]\n"
        }
      ],
      "source": [
        "cA = X[Qx>0,:]\n",
        "cB = X[Qx<0,:]\n",
        "print('Points in class A')\n",
        "print(cA)\n",
        "print('Points in class B')\n",
        "print(cB)"
      ]
    }
  ]
}