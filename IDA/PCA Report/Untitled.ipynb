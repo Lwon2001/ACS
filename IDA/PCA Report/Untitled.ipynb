{
 "cells": [
  {
   "cell_type": "code",
   "execution_count": 1,
   "metadata": {},
   "outputs": [
    {
     "name": "stdout",
     "output_type": "stream",
     "text": [
      "Data/fifa19/data.csv\n"
     ]
    }
   ],
   "source": [
    "# Basic import\n",
    "import numpy as np\n",
    "import pandas as pd\n",
    "\n",
    "# Plotting figures\n",
    "from matplotlib import pyplot as plt\n",
    "import seaborn as sns\n",
    "plt.style.use('ggplot')\n",
    "\n",
    "# Display file path\n",
    "import os\n",
    "for dirname, _, filenames in os.walk('Data/fifa19'):\n",
    "    for filename in filenames:\n",
    "        print(os.path.join(dirname, filename))"
   ]
  },
  {
   "cell_type": "code",
   "execution_count": 3,
   "metadata": {},
   "outputs": [
    {
     "name": "stdout",
     "output_type": "stream",
     "text": [
      "CPU times: user 158 ms, sys: 12.3 ms, total: 170 ms\n",
      "Wall time: 169 ms\n"
     ]
    },
    {
     "data": {
      "text/plain": [
       "(18207, 89)"
      ]
     },
     "execution_count": 3,
     "metadata": {},
     "output_type": "execute_result"
    }
   ],
   "source": [
    "# Read the data\n",
    "%time data = pd.read_csv('Data/fifa19/data.csv')\n",
    "data.shape"
   ]
  },
  {
   "cell_type": "markdown",
   "metadata": {},
   "source": [
    "### Pre-processing\n"
   ]
  },
  {
   "cell_type": "code",
   "execution_count": 4,
   "metadata": {},
   "outputs": [],
   "source": [
    "# Trim down useless columns\n",
    "data = data.drop(columns=['Unnamed: 0', 'Photo', 'Club Logo','Flag',\n",
    "                          'Real Face','Loaned From','Special', \n",
    "                          'Release Clause', 'LS', 'ST', 'RS','LW', \n",
    "                          'LF', 'CF', 'RF', 'RW', 'LAM', 'CAM', \n",
    "                          'RAM', 'LM', 'LCM', 'CM', 'RCM', 'RM',\n",
    "                          'LWB', 'LDM', 'CDM', 'RDM', 'RWB',\n",
    "                          'LB', 'LCB', 'CB', 'RCB', 'RB'])"
   ]
  },
  {
   "cell_type": "code",
   "execution_count": 5,
   "metadata": {
    "scrolled": true
   },
   "outputs": [
    {
     "data": {
      "text/plain": [
       "ID                             0\n",
       "Name                           0\n",
       "Age                            0\n",
       "Nationality                    0\n",
       "Overall                        0\n",
       "Potential                      0\n",
       "Club                         241\n",
       "Value                          0\n",
       "Wage                           0\n",
       "Preferred Foot                48\n",
       "International Reputation      48\n",
       "Weak Foot                     48\n",
       "Skill Moves                   48\n",
       "Work Rate                     48\n",
       "Body Type                     48\n",
       "Position                      60\n",
       "Jersey Number                 60\n",
       "Joined                      1553\n",
       "Contract Valid Until         289\n",
       "Height                        48\n",
       "Weight                        48\n",
       "Crossing                      48\n",
       "Finishing                     48\n",
       "HeadingAccuracy               48\n",
       "ShortPassing                  48\n",
       "Volleys                       48\n",
       "Dribbling                     48\n",
       "Curve                         48\n",
       "FKAccuracy                    48\n",
       "LongPassing                   48\n",
       "BallControl                   48\n",
       "Acceleration                  48\n",
       "SprintSpeed                   48\n",
       "Agility                       48\n",
       "Reactions                     48\n",
       "Balance                       48\n",
       "ShotPower                     48\n",
       "Jumping                       48\n",
       "Stamina                       48\n",
       "Strength                      48\n",
       "LongShots                     48\n",
       "Aggression                    48\n",
       "Interceptions                 48\n",
       "Positioning                   48\n",
       "Vision                        48\n",
       "Penalties                     48\n",
       "Composure                     48\n",
       "Marking                       48\n",
       "StandingTackle                48\n",
       "SlidingTackle                 48\n",
       "GKDiving                      48\n",
       "GKHandling                    48\n",
       "GKKicking                     48\n",
       "GKPositioning                 48\n",
       "GKReflexes                    48\n",
       "dtype: int64"
      ]
     },
     "execution_count": 5,
     "metadata": {},
     "output_type": "execute_result"
    }
   ],
   "source": [
    "# Check for NULL value\n",
    "data.isnull().sum()"
   ]
  },
  {
   "cell_type": "code",
   "execution_count": 6,
   "metadata": {},
   "outputs": [],
   "source": [
    "# Remove not filled rows\n",
    "data = data[~data['Height'].isnull()]\n",
    "data = data[~data['Position'].isnull()]"
   ]
  },
  {
   "cell_type": "code",
   "execution_count": 7,
   "metadata": {},
   "outputs": [
    {
     "data": {
      "text/html": [
       "<div>\n",
       "<style scoped>\n",
       "    .dataframe tbody tr th:only-of-type {\n",
       "        vertical-align: middle;\n",
       "    }\n",
       "\n",
       "    .dataframe tbody tr th {\n",
       "        vertical-align: top;\n",
       "    }\n",
       "\n",
       "    .dataframe thead th {\n",
       "        text-align: right;\n",
       "    }\n",
       "</style>\n",
       "<table border=\"1\" class=\"dataframe\">\n",
       "  <thead>\n",
       "    <tr style=\"text-align: right;\">\n",
       "      <th></th>\n",
       "      <th>ID</th>\n",
       "      <th>Name</th>\n",
       "      <th>Nationality</th>\n",
       "      <th>Position</th>\n",
       "      <th>Age</th>\n",
       "      <th>Club</th>\n",
       "      <th>Jersey Number</th>\n",
       "      <th>Joined</th>\n",
       "      <th>Contract Valid Until</th>\n",
       "      <th>Value</th>\n",
       "      <th>Wage</th>\n",
       "      <th>International Reputation</th>\n",
       "    </tr>\n",
       "  </thead>\n",
       "  <tbody>\n",
       "    <tr>\n",
       "      <th>11721</th>\n",
       "      <td>244912</td>\n",
       "      <td>T. Sugeno</td>\n",
       "      <td>Japan</td>\n",
       "      <td>GK</td>\n",
       "      <td>34</td>\n",
       "      <td>Hokkaido Consadole Sapporo</td>\n",
       "      <td>1.0</td>\n",
       "      <td>Jul 26, 2018</td>\n",
       "      <td>2019</td>\n",
       "      <td>€180K</td>\n",
       "      <td>€1K</td>\n",
       "      <td>1.0</td>\n",
       "    </tr>\n",
       "    <tr>\n",
       "      <th>966</th>\n",
       "      <td>183871</td>\n",
       "      <td>N. Müller</td>\n",
       "      <td>Germany</td>\n",
       "      <td>RM</td>\n",
       "      <td>30</td>\n",
       "      <td>Eintracht Frankfurt</td>\n",
       "      <td>27.0</td>\n",
       "      <td>Jul 1, 2018</td>\n",
       "      <td>2020</td>\n",
       "      <td>€8.5M</td>\n",
       "      <td>€34K</td>\n",
       "      <td>2.0</td>\n",
       "    </tr>\n",
       "    <tr>\n",
       "      <th>17492</th>\n",
       "      <td>240348</td>\n",
       "      <td>D. Łuczak</td>\n",
       "      <td>Poland</td>\n",
       "      <td>LM</td>\n",
       "      <td>21</td>\n",
       "      <td>Śląsk Wrocław</td>\n",
       "      <td>26.0</td>\n",
       "      <td>May 31, 2017</td>\n",
       "      <td>2021</td>\n",
       "      <td>€100K</td>\n",
       "      <td>€1K</td>\n",
       "      <td>1.0</td>\n",
       "    </tr>\n",
       "    <tr>\n",
       "      <th>3102</th>\n",
       "      <td>181456</td>\n",
       "      <td>R. Genevois</td>\n",
       "      <td>Haiti</td>\n",
       "      <td>CB</td>\n",
       "      <td>30</td>\n",
       "      <td>Stade Malherbe Caen</td>\n",
       "      <td>29.0</td>\n",
       "      <td>Jul 8, 2016</td>\n",
       "      <td>2019</td>\n",
       "      <td>€3M</td>\n",
       "      <td>€17K</td>\n",
       "      <td>1.0</td>\n",
       "    </tr>\n",
       "    <tr>\n",
       "      <th>7486</th>\n",
       "      <td>223195</td>\n",
       "      <td>O. Ovacıklı</td>\n",
       "      <td>Turkey</td>\n",
       "      <td>RB</td>\n",
       "      <td>29</td>\n",
       "      <td>Çaykur Rizespor</td>\n",
       "      <td>77.0</td>\n",
       "      <td>Jun 30, 2012</td>\n",
       "      <td>2023</td>\n",
       "      <td>€675K</td>\n",
       "      <td>€6K</td>\n",
       "      <td>1.0</td>\n",
       "    </tr>\n",
       "  </tbody>\n",
       "</table>\n",
       "</div>"
      ],
      "text/plain": [
       "           ID         Name Nationality Position  Age  \\\n",
       "11721  244912    T. Sugeno       Japan       GK   34   \n",
       "966    183871    N. Müller     Germany       RM   30   \n",
       "17492  240348    D. Łuczak      Poland       LM   21   \n",
       "3102   181456  R. Genevois       Haiti       CB   30   \n",
       "7486   223195  O. Ovacıklı      Turkey       RB   29   \n",
       "\n",
       "                             Club  Jersey Number        Joined  \\\n",
       "11721  Hokkaido Consadole Sapporo            1.0  Jul 26, 2018   \n",
       "966           Eintracht Frankfurt           27.0   Jul 1, 2018   \n",
       "17492               Śląsk Wrocław           26.0  May 31, 2017   \n",
       "3102          Stade Malherbe Caen           29.0   Jul 8, 2016   \n",
       "7486              Çaykur Rizespor           77.0  Jun 30, 2012   \n",
       "\n",
       "      Contract Valid Until  Value  Wage  International Reputation  \n",
       "11721                 2019  €180K   €1K                       1.0  \n",
       "966                   2020  €8.5M  €34K                       2.0  \n",
       "17492                 2021  €100K   €1K                       1.0  \n",
       "3102                  2019    €3M  €17K                       1.0  \n",
       "7486                  2023  €675K   €6K                       1.0  "
      ]
     },
     "execution_count": 7,
     "metadata": {},
     "output_type": "execute_result"
    }
   ],
   "source": [
    "# Dataframe for players' basic information\n",
    "info = data[['ID', 'Name', 'Nationality', 'Position', 'Age', \n",
    "                    'Club', 'Jersey Number', 'Joined', \n",
    "                    'Contract Valid Until', 'Value', 'Wage',\n",
    "                    'International Reputation']]\n",
    "info.sample(n=5)"
   ]
  },
  {
   "cell_type": "code",
   "execution_count": 8,
   "metadata": {},
   "outputs": [
    {
     "data": {
      "text/plain": [
       "ID                             0\n",
       "Name                           0\n",
       "Nationality                    0\n",
       "Position                       0\n",
       "Age                            0\n",
       "Club                         229\n",
       "Jersey Number                  0\n",
       "Joined                      1493\n",
       "Contract Valid Until         229\n",
       "Value                          0\n",
       "Wage                           0\n",
       "International Reputation       0\n",
       "dtype: int64"
      ]
     },
     "execution_count": 8,
     "metadata": {},
     "output_type": "execute_result"
    }
   ],
   "source": [
    "info.isnull().sum()"
   ]
  },
  {
   "cell_type": "code",
   "execution_count": 144,
   "metadata": {},
   "outputs": [
    {
     "data": {
      "text/plain": [
       "0       2004-07-01\n",
       "1       2018-07-10\n",
       "2       2017-08-03\n",
       "3       2011-07-01\n",
       "4       2015-08-30\n",
       "           ...    \n",
       "18202   2017-05-03\n",
       "18203   2018-03-19\n",
       "18204   2017-07-01\n",
       "18205   2018-04-24\n",
       "18206   2018-10-30\n",
       "Name: Joined, Length: 18147, dtype: datetime64[ns]"
      ]
     },
     "execution_count": 144,
     "metadata": {},
     "output_type": "execute_result"
    }
   ],
   "source": [
    "# Fill in the missing values\n",
    "info['Club'].fillna('No Club', inplace=True)\n",
    "info['Contract Valid Until'].fillna('2019', inplace=True)\n",
    "info['Joined'].fillna('2019', inplace=True)\n",
    "pd.to_datetime(info.Joined, format = '%Y')"
   ]
  },
  {
   "cell_type": "code",
   "execution_count": 145,
   "metadata": {},
   "outputs": [
    {
     "data": {
      "text/html": [
       "<div>\n",
       "<style scoped>\n",
       "    .dataframe tbody tr th:only-of-type {\n",
       "        vertical-align: middle;\n",
       "    }\n",
       "\n",
       "    .dataframe tbody tr th {\n",
       "        vertical-align: top;\n",
       "    }\n",
       "\n",
       "    .dataframe thead th {\n",
       "        text-align: right;\n",
       "    }\n",
       "</style>\n",
       "<table border=\"1\" class=\"dataframe\">\n",
       "  <thead>\n",
       "    <tr style=\"text-align: right;\">\n",
       "      <th></th>\n",
       "      <th>ID</th>\n",
       "      <th>Name</th>\n",
       "      <th>Nationality</th>\n",
       "      <th>Position</th>\n",
       "      <th>Age</th>\n",
       "      <th>Club</th>\n",
       "      <th>Jersey Number</th>\n",
       "      <th>Joined</th>\n",
       "      <th>Contract Valid Until</th>\n",
       "      <th>Value</th>\n",
       "      <th>Wage</th>\n",
       "      <th>International Reputation</th>\n",
       "    </tr>\n",
       "  </thead>\n",
       "  <tbody>\n",
       "    <tr>\n",
       "      <th>0</th>\n",
       "      <td>158023</td>\n",
       "      <td>L. Messi</td>\n",
       "      <td>Argentina</td>\n",
       "      <td>RF</td>\n",
       "      <td>31</td>\n",
       "      <td>FC Barcelona</td>\n",
       "      <td>10.0</td>\n",
       "      <td>2004-07-01</td>\n",
       "      <td>2021</td>\n",
       "      <td>€110.5M</td>\n",
       "      <td>€565K</td>\n",
       "      <td>5.0</td>\n",
       "    </tr>\n",
       "    <tr>\n",
       "      <th>1</th>\n",
       "      <td>20801</td>\n",
       "      <td>Cristiano Ronaldo</td>\n",
       "      <td>Portugal</td>\n",
       "      <td>ST</td>\n",
       "      <td>33</td>\n",
       "      <td>Juventus</td>\n",
       "      <td>7.0</td>\n",
       "      <td>2018-07-10</td>\n",
       "      <td>2022</td>\n",
       "      <td>€77M</td>\n",
       "      <td>€405K</td>\n",
       "      <td>5.0</td>\n",
       "    </tr>\n",
       "    <tr>\n",
       "      <th>2</th>\n",
       "      <td>190871</td>\n",
       "      <td>Neymar Jr</td>\n",
       "      <td>Brazil</td>\n",
       "      <td>LW</td>\n",
       "      <td>26</td>\n",
       "      <td>Paris Saint-Germain</td>\n",
       "      <td>10.0</td>\n",
       "      <td>2017-08-03</td>\n",
       "      <td>2022</td>\n",
       "      <td>€118.5M</td>\n",
       "      <td>€290K</td>\n",
       "      <td>5.0</td>\n",
       "    </tr>\n",
       "    <tr>\n",
       "      <th>3</th>\n",
       "      <td>193080</td>\n",
       "      <td>De Gea</td>\n",
       "      <td>Spain</td>\n",
       "      <td>GK</td>\n",
       "      <td>27</td>\n",
       "      <td>Manchester United</td>\n",
       "      <td>1.0</td>\n",
       "      <td>2011-07-01</td>\n",
       "      <td>2020</td>\n",
       "      <td>€72M</td>\n",
       "      <td>€260K</td>\n",
       "      <td>4.0</td>\n",
       "    </tr>\n",
       "    <tr>\n",
       "      <th>4</th>\n",
       "      <td>192985</td>\n",
       "      <td>K. De Bruyne</td>\n",
       "      <td>Belgium</td>\n",
       "      <td>RCM</td>\n",
       "      <td>27</td>\n",
       "      <td>Manchester City</td>\n",
       "      <td>7.0</td>\n",
       "      <td>2015-08-30</td>\n",
       "      <td>2023</td>\n",
       "      <td>€102M</td>\n",
       "      <td>€355K</td>\n",
       "      <td>4.0</td>\n",
       "    </tr>\n",
       "  </tbody>\n",
       "</table>\n",
       "</div>"
      ],
      "text/plain": [
       "       ID               Name Nationality Position  Age                 Club  \\\n",
       "0  158023           L. Messi   Argentina       RF   31         FC Barcelona   \n",
       "1   20801  Cristiano Ronaldo    Portugal       ST   33             Juventus   \n",
       "2  190871          Neymar Jr      Brazil       LW   26  Paris Saint-Germain   \n",
       "3  193080             De Gea       Spain       GK   27    Manchester United   \n",
       "4  192985       K. De Bruyne     Belgium      RCM   27      Manchester City   \n",
       "\n",
       "   Jersey Number     Joined Contract Valid Until    Value   Wage  \\\n",
       "0           10.0 2004-07-01                 2021  €110.5M  €565K   \n",
       "1            7.0 2018-07-10                 2022     €77M  €405K   \n",
       "2           10.0 2017-08-03                 2022  €118.5M  €290K   \n",
       "3            1.0 2011-07-01                 2020     €72M  €260K   \n",
       "4            7.0 2015-08-30                 2023    €102M  €355K   \n",
       "\n",
       "   International Reputation  \n",
       "0                       5.0  \n",
       "1                       5.0  \n",
       "2                       5.0  \n",
       "3                       4.0  \n",
       "4                       4.0  "
      ]
     },
     "execution_count": 145,
     "metadata": {},
     "output_type": "execute_result"
    }
   ],
   "source": [
    "info.head()"
   ]
  },
  {
   "cell_type": "code",
   "execution_count": 104,
   "metadata": {},
   "outputs": [],
   "source": [
    "# Dataframe for players' attributes\n",
    "player_attrib = data[['Name', 'Position', 'Overall', 'Potential', \n",
    "                      'Weak Foot', 'Skill Moves', 'Work Rate',\n",
    "                      'Body Type', 'Height', 'Weight', 'Crossing', \n",
    "                      'Finishing','HeadingAccuracy', 'ShortPassing',\n",
    "                      'Volleys', 'Dribbling', 'Curve', 'FKAccuracy',\n",
    "                      'LongPassing', 'BallControl', 'Acceleration',\n",
    "                      'SprintSpeed', 'Agility', 'Reactions', \n",
    "                      'Balance', 'ShotPower','Jumping', 'Stamina', \n",
    "                      'Strength', 'LongShots', 'Aggression',\n",
    "                      'Interceptions', 'Positioning', 'Vision', \n",
    "                      'Penalties', 'Composure','Marking', \n",
    "                      'StandingTackle', 'SlidingTackle', 'GKDiving',\n",
    "                      'GKHandling','GKKicking', 'GKPositioning', \n",
    "                      'GKReflexes']]\n",
    "#player_attrib.sample(n=5)"
   ]
  },
  {
   "cell_type": "code",
   "execution_count": 85,
   "metadata": {},
   "outputs": [
    {
     "data": {
      "text/plain": [
       "array(['Messi', 'C. Ronaldo', 'Neymar', 'Lean', 'Normal', 'Courtois',\n",
       "       'Stocky', 'PLAYER_BODY_TYPE_25', 'Shaqiri', 'Akinfenwa', nan],\n",
       "      dtype=object)"
      ]
     },
     "execution_count": 85,
     "metadata": {},
     "output_type": "execute_result"
    }
   ],
   "source": [
    "player_attrib['Body Type'].unique()"
   ]
  }
 ],
 "metadata": {
  "kernelspec": {
   "display_name": "Python 3",
   "language": "python",
   "name": "python3"
  },
  "language_info": {
   "codemirror_mode": {
    "name": "ipython",
    "version": 3
   },
   "file_extension": ".py",
   "mimetype": "text/x-python",
   "name": "python",
   "nbconvert_exporter": "python",
   "pygments_lexer": "ipython3",
   "version": "3.7.5"
  },
  "latex_envs": {
   "LaTeX_envs_menu_present": true,
   "autoclose": false,
   "autocomplete": true,
   "bibliofile": "biblio.bib",
   "cite_by": "apalike",
   "current_citInitial": 1,
   "eqLabelWithNumbers": true,
   "eqNumInitial": 1,
   "hotkeys": {
    "equation": "Ctrl-E",
    "itemize": "Ctrl-I"
   },
   "labels_anchors": false,
   "latex_user_defs": false,
   "report_style_numbering": false,
   "user_envs_cfg": false
  },
  "varInspector": {
   "cols": {
    "lenName": 16,
    "lenType": 16,
    "lenVar": 40
   },
   "kernels_config": {
    "python": {
     "delete_cmd_postfix": "",
     "delete_cmd_prefix": "del ",
     "library": "var_list.py",
     "varRefreshCmd": "print(var_dic_list())"
    },
    "r": {
     "delete_cmd_postfix": ") ",
     "delete_cmd_prefix": "rm(",
     "library": "var_list.r",
     "varRefreshCmd": "cat(var_dic_list()) "
    }
   },
   "types_to_exclude": [
    "module",
    "function",
    "builtin_function_or_method",
    "instance",
    "_Feature"
   ],
   "window_display": false
  }
 },
 "nbformat": 4,
 "nbformat_minor": 4
}
