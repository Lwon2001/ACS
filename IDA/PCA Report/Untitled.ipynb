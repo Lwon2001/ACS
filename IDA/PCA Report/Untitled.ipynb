{
 "cells": [
  {
   "cell_type": "code",
   "execution_count": 56,
   "metadata": {},
   "outputs": [
    {
     "name": "stdout",
     "output_type": "stream",
     "text": [
      "Data/fifa19/data.csv\n"
     ]
    }
   ],
   "source": [
    "# Basic import\n",
    "import numpy as np\n",
    "import pandas as pd\n",
    "\n",
    "# Plotting figures\n",
    "from matplotlib import pyplot as plt\n",
    "import seaborn as sns\n",
    "plt.style.use('ggplot')\n",
    "\n",
    "# Display file path\n",
    "import os\n",
    "for dirname, _, filenames in os.walk('Data/fifa19'):\n",
    "    for filename in filenames:\n",
    "        print(os.path.join(dirname, filename))"
   ]
  },
  {
   "cell_type": "code",
   "execution_count": 79,
   "metadata": {},
   "outputs": [
    {
     "name": "stdout",
     "output_type": "stream",
     "text": [
      "CPU times: user 218 ms, sys: 36.1 ms, total: 254 ms\n",
      "Wall time: 251 ms\n"
     ]
    },
    {
     "data": {
      "text/plain": [
       "(18207, 89)"
      ]
     },
     "execution_count": 79,
     "metadata": {},
     "output_type": "execute_result"
    }
   ],
   "source": [
    "# Read the data\n",
    "%time data = pd.read_csv('Data/fifa19/data.csv')\n",
    "data.shape"
   ]
  },
  {
   "cell_type": "markdown",
   "metadata": {},
   "source": [
    "### Pre-processing\n"
   ]
  },
  {
   "cell_type": "code",
   "execution_count": 92,
   "metadata": {},
   "outputs": [],
   "source": [
    "# Trim down useless columns\n",
    "data = data.drop(columns=['Unnamed: 0', 'Photo', 'Club Logo','Flag',\n",
    "                          'Real Face','Loaned From','Special', \n",
    "                          'Release Clause', 'LS', 'ST', 'RS','LW', \n",
    "                          'LF', 'CF', 'RF', 'RW', 'LAM', 'CAM', \n",
    "                          'RAM', 'LM', 'LCM', 'CM', 'RCM', 'RM',\n",
    "                          'LWB', 'LDM', 'CDM', 'RDM', 'RWB',\n",
    "                          'LB', 'LCB', 'CB', 'RCB', 'RB'])"
   ]
  },
  {
   "cell_type": "code",
   "execution_count": 96,
   "metadata": {
    "scrolled": true
   },
   "outputs": [
    {
     "data": {
      "text/plain": [
       "ID                             0\n",
       "Name                           0\n",
       "Age                            0\n",
       "Nationality                    0\n",
       "Overall                        0\n",
       "Potential                      0\n",
       "Club                         229\n",
       "Value                          0\n",
       "Wage                           0\n",
       "Preferred Foot                 0\n",
       "International Reputation       0\n",
       "Weak Foot                      0\n",
       "Skill Moves                    0\n",
       "Work Rate                      0\n",
       "Body Type                      0\n",
       "Position                       0\n",
       "Jersey Number                  0\n",
       "Joined                      1493\n",
       "Contract Valid Until         229\n",
       "Height                         0\n",
       "Weight                         0\n",
       "Crossing                       0\n",
       "Finishing                      0\n",
       "HeadingAccuracy                0\n",
       "ShortPassing                   0\n",
       "Volleys                        0\n",
       "Dribbling                      0\n",
       "Curve                          0\n",
       "FKAccuracy                     0\n",
       "LongPassing                    0\n",
       "BallControl                    0\n",
       "Acceleration                   0\n",
       "SprintSpeed                    0\n",
       "Agility                        0\n",
       "Reactions                      0\n",
       "Balance                        0\n",
       "ShotPower                      0\n",
       "Jumping                        0\n",
       "Stamina                        0\n",
       "Strength                       0\n",
       "LongShots                      0\n",
       "Aggression                     0\n",
       "Interceptions                  0\n",
       "Positioning                    0\n",
       "Vision                         0\n",
       "Penalties                      0\n",
       "Composure                      0\n",
       "Marking                        0\n",
       "StandingTackle                 0\n",
       "SlidingTackle                  0\n",
       "GKDiving                       0\n",
       "GKHandling                     0\n",
       "GKKicking                      0\n",
       "GKPositioning                  0\n",
       "GKReflexes                     0\n",
       "dtype: int64"
      ]
     },
     "execution_count": 96,
     "metadata": {},
     "output_type": "execute_result"
    }
   ],
   "source": [
    "# Check for NULL value\n",
    "data.isnull().sum()"
   ]
  },
  {
   "cell_type": "code",
   "execution_count": 95,
   "metadata": {},
   "outputs": [],
   "source": [
    "# Remove not filled rows\n",
    "data = data[~data['Height'].isnull()]\n",
    "data = data[~data['Position'].isnull()]"
   ]
  },
  {
   "cell_type": "code",
   "execution_count": 113,
   "metadata": {},
   "outputs": [
    {
     "data": {
      "text/html": [
       "<div>\n",
       "<style scoped>\n",
       "    .dataframe tbody tr th:only-of-type {\n",
       "        vertical-align: middle;\n",
       "    }\n",
       "\n",
       "    .dataframe tbody tr th {\n",
       "        vertical-align: top;\n",
       "    }\n",
       "\n",
       "    .dataframe thead th {\n",
       "        text-align: right;\n",
       "    }\n",
       "</style>\n",
       "<table border=\"1\" class=\"dataframe\">\n",
       "  <thead>\n",
       "    <tr style=\"text-align: right;\">\n",
       "      <th></th>\n",
       "      <th>ID</th>\n",
       "      <th>Name</th>\n",
       "      <th>Nationality</th>\n",
       "      <th>Position</th>\n",
       "      <th>Age</th>\n",
       "      <th>Club</th>\n",
       "      <th>Jersey Number</th>\n",
       "      <th>Joined</th>\n",
       "      <th>Contract Valid Until</th>\n",
       "      <th>Value</th>\n",
       "      <th>Wage</th>\n",
       "      <th>International Reputation</th>\n",
       "    </tr>\n",
       "  </thead>\n",
       "  <tbody>\n",
       "    <tr>\n",
       "      <th>13064</th>\n",
       "      <td>243967</td>\n",
       "      <td>A. Mendes Moreira</td>\n",
       "      <td>Netherlands</td>\n",
       "      <td>LM</td>\n",
       "      <td>23</td>\n",
       "      <td>FC Groningen</td>\n",
       "      <td>18.0</td>\n",
       "      <td>Jun 1, 2018</td>\n",
       "      <td>2019</td>\n",
       "      <td>€500K</td>\n",
       "      <td>€2K</td>\n",
       "      <td>1.0</td>\n",
       "    </tr>\n",
       "    <tr>\n",
       "      <th>16987</th>\n",
       "      <td>244970</td>\n",
       "      <td>Y. Magnin</td>\n",
       "      <td>France</td>\n",
       "      <td>CM</td>\n",
       "      <td>21</td>\n",
       "      <td>Clermont Foot 63</td>\n",
       "      <td>33.0</td>\n",
       "      <td>Jul 1, 2018</td>\n",
       "      <td>2021</td>\n",
       "      <td>€130K</td>\n",
       "      <td>€1K</td>\n",
       "      <td>1.0</td>\n",
       "    </tr>\n",
       "    <tr>\n",
       "      <th>17526</th>\n",
       "      <td>245753</td>\n",
       "      <td>Y. Omoto</td>\n",
       "      <td>Japan</td>\n",
       "      <td>RM</td>\n",
       "      <td>23</td>\n",
       "      <td>V-Varen Nagasaki</td>\n",
       "      <td>41.0</td>\n",
       "      <td>Aug 15, 2018</td>\n",
       "      <td>2021</td>\n",
       "      <td>€90K</td>\n",
       "      <td>€1K</td>\n",
       "      <td>1.0</td>\n",
       "    </tr>\n",
       "    <tr>\n",
       "      <th>18004</th>\n",
       "      <td>242667</td>\n",
       "      <td>J. O'Keeffe</td>\n",
       "      <td>Republic of Ireland</td>\n",
       "      <td>ST</td>\n",
       "      <td>18</td>\n",
       "      <td>Dundalk</td>\n",
       "      <td>25.0</td>\n",
       "      <td>Oct 7, 2017</td>\n",
       "      <td>2018</td>\n",
       "      <td>€80K</td>\n",
       "      <td>€1K</td>\n",
       "      <td>1.0</td>\n",
       "    </tr>\n",
       "    <tr>\n",
       "      <th>13877</th>\n",
       "      <td>180717</td>\n",
       "      <td>L. Reddy</td>\n",
       "      <td>Australia</td>\n",
       "      <td>GK</td>\n",
       "      <td>36</td>\n",
       "      <td>Perth Glory</td>\n",
       "      <td>33.0</td>\n",
       "      <td>Jun 24, 2016</td>\n",
       "      <td>2019</td>\n",
       "      <td>€40K</td>\n",
       "      <td>€1K</td>\n",
       "      <td>1.0</td>\n",
       "    </tr>\n",
       "  </tbody>\n",
       "</table>\n",
       "</div>"
      ],
      "text/plain": [
       "           ID               Name          Nationality Position  Age  \\\n",
       "13064  243967  A. Mendes Moreira          Netherlands       LM   23   \n",
       "16987  244970          Y. Magnin               France       CM   21   \n",
       "17526  245753           Y. Omoto                Japan       RM   23   \n",
       "18004  242667        J. O'Keeffe  Republic of Ireland       ST   18   \n",
       "13877  180717           L. Reddy            Australia       GK   36   \n",
       "\n",
       "                   Club  Jersey Number        Joined Contract Valid Until  \\\n",
       "13064      FC Groningen           18.0   Jun 1, 2018                 2019   \n",
       "16987  Clermont Foot 63           33.0   Jul 1, 2018                 2021   \n",
       "17526  V-Varen Nagasaki           41.0  Aug 15, 2018                 2021   \n",
       "18004           Dundalk           25.0   Oct 7, 2017                 2018   \n",
       "13877       Perth Glory           33.0  Jun 24, 2016                 2019   \n",
       "\n",
       "       Value Wage  International Reputation  \n",
       "13064  €500K  €2K                       1.0  \n",
       "16987  €130K  €1K                       1.0  \n",
       "17526   €90K  €1K                       1.0  \n",
       "18004   €80K  €1K                       1.0  \n",
       "13877   €40K  €1K                       1.0  "
      ]
     },
     "execution_count": 113,
     "metadata": {},
     "output_type": "execute_result"
    }
   ],
   "source": [
    "# Dataframe for players' basic information\n",
    "info = data[['ID', 'Name', 'Nationality', 'Position', 'Age', \n",
    "                    'Club', 'Jersey Number', 'Joined', \n",
    "                    'Contract Valid Until', 'Value', 'Wage',\n",
    "                    'International Reputation']]\n",
    "info.sample(n=5)"
   ]
  },
  {
   "cell_type": "code",
   "execution_count": 121,
   "metadata": {},
   "outputs": [
    {
     "data": {
      "text/plain": [
       "ID                             0\n",
       "Name                           0\n",
       "Nationality                    0\n",
       "Position                       0\n",
       "Age                            0\n",
       "Club                           0\n",
       "Jersey Number                  0\n",
       "Joined                      1493\n",
       "Contract Valid Until           0\n",
       "Value                          0\n",
       "Wage                           0\n",
       "International Reputation       0\n",
       "dtype: int64"
      ]
     },
     "execution_count": 121,
     "metadata": {},
     "output_type": "execute_result"
    }
   ],
   "source": [
    "info.isnull().sum()"
   ]
  },
  {
   "cell_type": "code",
   "execution_count": 144,
   "metadata": {},
   "outputs": [
    {
     "data": {
      "text/plain": [
       "0       2004-07-01\n",
       "1       2018-07-10\n",
       "2       2017-08-03\n",
       "3       2011-07-01\n",
       "4       2015-08-30\n",
       "           ...    \n",
       "18202   2017-05-03\n",
       "18203   2018-03-19\n",
       "18204   2017-07-01\n",
       "18205   2018-04-24\n",
       "18206   2018-10-30\n",
       "Name: Joined, Length: 18147, dtype: datetime64[ns]"
      ]
     },
     "execution_count": 144,
     "metadata": {},
     "output_type": "execute_result"
    }
   ],
   "source": [
    "# Fill in the missing values\n",
    "info['Club'].fillna('No Club', inplace=True)\n",
    "info['Contract Valid Until'].fillna('2019', inplace=True)\n",
    "info['Joined'].fillna('2019', inplace=True)\n",
    "pd.to_datetime(info.Joined, format = '%Y')"
   ]
  },
  {
   "cell_type": "code",
   "execution_count": 145,
   "metadata": {},
   "outputs": [
    {
     "data": {
      "text/html": [
       "<div>\n",
       "<style scoped>\n",
       "    .dataframe tbody tr th:only-of-type {\n",
       "        vertical-align: middle;\n",
       "    }\n",
       "\n",
       "    .dataframe tbody tr th {\n",
       "        vertical-align: top;\n",
       "    }\n",
       "\n",
       "    .dataframe thead th {\n",
       "        text-align: right;\n",
       "    }\n",
       "</style>\n",
       "<table border=\"1\" class=\"dataframe\">\n",
       "  <thead>\n",
       "    <tr style=\"text-align: right;\">\n",
       "      <th></th>\n",
       "      <th>ID</th>\n",
       "      <th>Name</th>\n",
       "      <th>Nationality</th>\n",
       "      <th>Position</th>\n",
       "      <th>Age</th>\n",
       "      <th>Club</th>\n",
       "      <th>Jersey Number</th>\n",
       "      <th>Joined</th>\n",
       "      <th>Contract Valid Until</th>\n",
       "      <th>Value</th>\n",
       "      <th>Wage</th>\n",
       "      <th>International Reputation</th>\n",
       "    </tr>\n",
       "  </thead>\n",
       "  <tbody>\n",
       "    <tr>\n",
       "      <th>0</th>\n",
       "      <td>158023</td>\n",
       "      <td>L. Messi</td>\n",
       "      <td>Argentina</td>\n",
       "      <td>RF</td>\n",
       "      <td>31</td>\n",
       "      <td>FC Barcelona</td>\n",
       "      <td>10.0</td>\n",
       "      <td>2004-07-01</td>\n",
       "      <td>2021</td>\n",
       "      <td>€110.5M</td>\n",
       "      <td>€565K</td>\n",
       "      <td>5.0</td>\n",
       "    </tr>\n",
       "    <tr>\n",
       "      <th>1</th>\n",
       "      <td>20801</td>\n",
       "      <td>Cristiano Ronaldo</td>\n",
       "      <td>Portugal</td>\n",
       "      <td>ST</td>\n",
       "      <td>33</td>\n",
       "      <td>Juventus</td>\n",
       "      <td>7.0</td>\n",
       "      <td>2018-07-10</td>\n",
       "      <td>2022</td>\n",
       "      <td>€77M</td>\n",
       "      <td>€405K</td>\n",
       "      <td>5.0</td>\n",
       "    </tr>\n",
       "    <tr>\n",
       "      <th>2</th>\n",
       "      <td>190871</td>\n",
       "      <td>Neymar Jr</td>\n",
       "      <td>Brazil</td>\n",
       "      <td>LW</td>\n",
       "      <td>26</td>\n",
       "      <td>Paris Saint-Germain</td>\n",
       "      <td>10.0</td>\n",
       "      <td>2017-08-03</td>\n",
       "      <td>2022</td>\n",
       "      <td>€118.5M</td>\n",
       "      <td>€290K</td>\n",
       "      <td>5.0</td>\n",
       "    </tr>\n",
       "    <tr>\n",
       "      <th>3</th>\n",
       "      <td>193080</td>\n",
       "      <td>De Gea</td>\n",
       "      <td>Spain</td>\n",
       "      <td>GK</td>\n",
       "      <td>27</td>\n",
       "      <td>Manchester United</td>\n",
       "      <td>1.0</td>\n",
       "      <td>2011-07-01</td>\n",
       "      <td>2020</td>\n",
       "      <td>€72M</td>\n",
       "      <td>€260K</td>\n",
       "      <td>4.0</td>\n",
       "    </tr>\n",
       "    <tr>\n",
       "      <th>4</th>\n",
       "      <td>192985</td>\n",
       "      <td>K. De Bruyne</td>\n",
       "      <td>Belgium</td>\n",
       "      <td>RCM</td>\n",
       "      <td>27</td>\n",
       "      <td>Manchester City</td>\n",
       "      <td>7.0</td>\n",
       "      <td>2015-08-30</td>\n",
       "      <td>2023</td>\n",
       "      <td>€102M</td>\n",
       "      <td>€355K</td>\n",
       "      <td>4.0</td>\n",
       "    </tr>\n",
       "  </tbody>\n",
       "</table>\n",
       "</div>"
      ],
      "text/plain": [
       "       ID               Name Nationality Position  Age                 Club  \\\n",
       "0  158023           L. Messi   Argentina       RF   31         FC Barcelona   \n",
       "1   20801  Cristiano Ronaldo    Portugal       ST   33             Juventus   \n",
       "2  190871          Neymar Jr      Brazil       LW   26  Paris Saint-Germain   \n",
       "3  193080             De Gea       Spain       GK   27    Manchester United   \n",
       "4  192985       K. De Bruyne     Belgium      RCM   27      Manchester City   \n",
       "\n",
       "   Jersey Number     Joined Contract Valid Until    Value   Wage  \\\n",
       "0           10.0 2004-07-01                 2021  €110.5M  €565K   \n",
       "1            7.0 2018-07-10                 2022     €77M  €405K   \n",
       "2           10.0 2017-08-03                 2022  €118.5M  €290K   \n",
       "3            1.0 2011-07-01                 2020     €72M  €260K   \n",
       "4            7.0 2015-08-30                 2023    €102M  €355K   \n",
       "\n",
       "   International Reputation  \n",
       "0                       5.0  \n",
       "1                       5.0  \n",
       "2                       5.0  \n",
       "3                       4.0  \n",
       "4                       4.0  "
      ]
     },
     "execution_count": 145,
     "metadata": {},
     "output_type": "execute_result"
    }
   ],
   "source": [
    "info.head()"
   ]
  },
  {
   "cell_type": "code",
   "execution_count": 104,
   "metadata": {},
   "outputs": [],
   "source": [
    "# Dataframe for players' attributes\n",
    "player_attrib = data[['Name', 'Position', 'Overall', 'Potential', \n",
    "                      'Weak Foot', 'Skill Moves', 'Work Rate',\n",
    "                      'Body Type', 'Height', 'Weight', 'Crossing', \n",
    "                      'Finishing','HeadingAccuracy', 'ShortPassing',\n",
    "                      'Volleys', 'Dribbling', 'Curve', 'FKAccuracy',\n",
    "                      'LongPassing', 'BallControl', 'Acceleration',\n",
    "                      'SprintSpeed', 'Agility', 'Reactions', \n",
    "                      'Balance', 'ShotPower','Jumping', 'Stamina', \n",
    "                      'Strength', 'LongShots', 'Aggression',\n",
    "                      'Interceptions', 'Positioning', 'Vision', \n",
    "                      'Penalties', 'Composure','Marking', \n",
    "                      'StandingTackle', 'SlidingTackle', 'GKDiving',\n",
    "                      'GKHandling','GKKicking', 'GKPositioning', \n",
    "                      'GKReflexes']]\n",
    "#player_attrib.sample(n=5)"
   ]
  },
  {
   "cell_type": "code",
   "execution_count": 85,
   "metadata": {},
   "outputs": [
    {
     "data": {
      "text/plain": [
       "array(['Messi', 'C. Ronaldo', 'Neymar', 'Lean', 'Normal', 'Courtois',\n",
       "       'Stocky', 'PLAYER_BODY_TYPE_25', 'Shaqiri', 'Akinfenwa', nan],\n",
       "      dtype=object)"
      ]
     },
     "execution_count": 85,
     "metadata": {},
     "output_type": "execute_result"
    }
   ],
   "source": [
    "player_attrib['Body Type'].unique()"
   ]
  }
 ],
 "metadata": {
  "kernelspec": {
   "display_name": "Python 3",
   "language": "python",
   "name": "python3"
  },
  "language_info": {
   "codemirror_mode": {
    "name": "ipython",
    "version": 3
   },
   "file_extension": ".py",
   "mimetype": "text/x-python",
   "name": "python",
   "nbconvert_exporter": "python",
   "pygments_lexer": "ipython3",
   "version": "3.7.5"
  }
 },
 "nbformat": 4,
 "nbformat_minor": 4
}
