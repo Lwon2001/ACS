{
 "cells": [
  {
   "cell_type": "code",
   "execution_count": 1,
   "metadata": {},
   "outputs": [
    {
     "ename": "NameError",
     "evalue": "name 'mfcc_features' is not defined",
     "output_type": "error",
     "traceback": [
      "\u001b[0;31m---------------------------------------------------------------------------\u001b[0m",
      "\u001b[0;31mNameError\u001b[0m                                 Traceback (most recent call last)",
      "\u001b[0;32m<ipython-input-1-a88db6ea1038>\u001b[0m in \u001b[0;36m<module>\u001b[0;34m\u001b[0m\n\u001b[1;32m     19\u001b[0m \u001b[0;32mfor\u001b[0m \u001b[0mperplexity\u001b[0m \u001b[0;32min\u001b[0m \u001b[0mperplexities\u001b[0m\u001b[0;34m:\u001b[0m\u001b[0;34m\u001b[0m\u001b[0;34m\u001b[0m\u001b[0m\n\u001b[1;32m     20\u001b[0m     \u001b[0;32mfor\u001b[0m \u001b[0miteration\u001b[0m \u001b[0;32min\u001b[0m \u001b[0miterations\u001b[0m\u001b[0;34m:\u001b[0m\u001b[0;34m\u001b[0m\u001b[0;34m\u001b[0m\u001b[0m\n\u001b[0;32m---> 21\u001b[0;31m         tsne_mfccs = get_scaled_tsne_embeddings(mfcc_features,\n\u001b[0m\u001b[1;32m     22\u001b[0m                                                 \u001b[0mperplexity\u001b[0m\u001b[0;34m,\u001b[0m\u001b[0;34m\u001b[0m\u001b[0;34m\u001b[0m\u001b[0m\n\u001b[1;32m     23\u001b[0m                                                 iteration)\n",
      "\u001b[0;31mNameError\u001b[0m: name 'mfcc_features' is not defined"
     ]
    }
   ],
   "source": [
    "from sklearn.manifold import TSNE\n",
    "from sklearn.preprocessing import MinMaxScaler\n",
    "\n",
    "\n",
    "def get_scaled_tsne_embeddings(features, perplexity, iteration):\n",
    "    embedding = TSNE(n_components=2,\n",
    "                     perplexity=perplexity,\n",
    "                     n_iter=iteration).fit_transform(features)\n",
    "    scaler = MinMaxScaler()\n",
    "    scaler.fit(embedding)\n",
    "    return scaler.transform(embedding)\n",
    "\n",
    "\n",
    "tnse_embeddings_mfccs = []\n",
    "tnse_embeddings_wavenet = []\n",
    "perplexities = [2, 5, 30, 50, 100]\n",
    "iterations = [200, 500, 1000, 2000, 5000]\n",
    "\n",
    "for perplexity in perplexities:\n",
    "    for iteration in iterations:\n",
    "        tsne_mfccs = get_scaled_tsne_embeddings(mfcc_features,\n",
    "                                                perplexity,\n",
    "                                                iteration)\n",
    "        tnse_wavenet = get_scaled_tsne_embeddings(wavenet_features,\n",
    "                                                  perplexity,\n",
    "                                                  iteration)"
   ]
  },
  {
   "cell_type": "code",
   "execution_count": null,
   "metadata": {},
   "outputs": [],
   "source": [
    "if __name__ == \"__main__\":\n",
    "    print(\"Running example on 2,500 MNIST digits...\")\n",
    "    X = np.loadtxt(\"mnist2500_X.txt\")\n",
    "    labels = np.loadtxt(\"mnist2500_labels.txt\")\n",
    "    Y = tsne(X, 2, 50, 20.0)\n",
    "    pylab.scatter(Y[:, 0], Y[:, 1], 20, labels)\n",
    "    pylab.show()"
   ]
  }
 ],
 "metadata": {
  "kernelspec": {
   "display_name": "Python 3",
   "language": "python",
   "name": "python3"
  },
  "language_info": {
   "codemirror_mode": {
    "name": "ipython",
    "version": 3
   },
   "file_extension": ".py",
   "mimetype": "text/x-python",
   "name": "python",
   "nbconvert_exporter": "python",
   "pygments_lexer": "ipython3",
   "version": "3.7.5"
  }
 },
 "nbformat": 4,
 "nbformat_minor": 4
}
