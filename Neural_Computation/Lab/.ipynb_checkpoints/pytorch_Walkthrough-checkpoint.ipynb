{
 "cells": [
  {
   "cell_type": "code",
   "execution_count": 1,
   "metadata": {},
   "outputs": [
    {
     "name": "stdout",
     "output_type": "stream",
     "text": [
      "tensor([[[0.3239, 0.4223, 0.0284],\n",
      "         [0.3930, 0.2936, 0.1581],\n",
      "         [0.6028, 0.1612, 0.9575]],\n",
      "\n",
      "        [[0.5764, 0.6998, 0.2373],\n",
      "         [0.9420, 0.6026, 0.2695],\n",
      "         [0.7227, 0.2461, 0.4528]],\n",
      "\n",
      "        [[0.3332, 0.8348, 0.4116],\n",
      "         [0.2967, 0.8598, 0.6275],\n",
      "         [0.8922, 0.1480, 0.5252]],\n",
      "\n",
      "        [[0.5945, 0.6847, 0.2671],\n",
      "         [0.2569, 0.2924, 0.9191],\n",
      "         [0.2924, 0.5975, 0.2905]],\n",
      "\n",
      "        [[0.4667, 0.0110, 0.1439],\n",
      "         [0.6238, 0.5757, 0.4657],\n",
      "         [0.8333, 0.5052, 0.3329]]])\n"
     ]
    }
   ],
   "source": [
    "from __future__ import print_function\n",
    "import torch\n",
    "x = torch.rand(5, 3, 3)\n",
    "print(x)"
   ]
  },
  {
   "cell_type": "code",
   "execution_count": 2,
   "metadata": {},
   "outputs": [
    {
     "data": {
      "text/plain": [
       "True"
      ]
     },
     "execution_count": 2,
     "metadata": {},
     "output_type": "execute_result"
    }
   ],
   "source": [
    "torch.cuda.is_available()"
   ]
  },
  {
   "cell_type": "code",
   "execution_count": null,
   "metadata": {},
   "outputs": [],
   "source": []
  }
 ],
 "metadata": {
  "kernelspec": {
   "display_name": "Python 3",
   "language": "python",
   "name": "python3"
  },
  "language_info": {
   "codemirror_mode": {
    "name": "ipython",
    "version": 3
   },
   "file_extension": ".py",
   "mimetype": "text/x-python",
   "name": "python",
   "nbconvert_exporter": "python",
   "pygments_lexer": "ipython3",
   "version": "3.7.5"
  }
 },
 "nbformat": 4,
 "nbformat_minor": 2
}
