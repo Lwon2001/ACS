{
 "cells": [
  {
   "cell_type": "code",
   "execution_count": 6,
   "metadata": {},
   "outputs": [
    {
     "name": "stdout",
     "output_type": "stream",
     "text": [
      "tensor([[[0.2627, 0.0643, 0.1870],\n",
      "         [0.1260, 0.2089, 0.0576],\n",
      "         [0.3565, 0.4800, 0.3439]],\n",
      "\n",
      "        [[0.8345, 0.5819, 0.3436],\n",
      "         [0.6843, 0.0415, 0.9031],\n",
      "         [0.1966, 0.9161, 0.5382]],\n",
      "\n",
      "        [[0.1066, 0.8925, 0.5359],\n",
      "         [0.8782, 0.4172, 0.2831],\n",
      "         [0.3245, 0.6269, 0.5842]],\n",
      "\n",
      "        [[0.0265, 0.8581, 0.0010],\n",
      "         [0.3951, 0.0636, 0.9685],\n",
      "         [0.6872, 0.8076, 0.8419]],\n",
      "\n",
      "        [[0.4049, 0.0206, 0.6477],\n",
      "         [0.6967, 0.6586, 0.4545],\n",
      "         [0.8307, 0.0161, 0.7861]]])\n"
     ]
    }
   ],
   "source": [
    "from __future__ import print_function\n",
    "import torch\n",
    "x = torch.rand(5, 3, 3)\n",
    "print(x)"
   ]
  },
  {
   "cell_type": "code",
   "execution_count": 7,
   "metadata": {},
   "outputs": [
    {
     "data": {
      "text/plain": [
       "False"
      ]
     },
     "execution_count": 7,
     "metadata": {},
     "output_type": "execute_result"
    }
   ],
   "source": [
    "torch.cuda.is_available()"
   ]
  }
 ],
 "metadata": {
  "kernelspec": {
   "display_name": "Python 3",
   "language": "python",
   "name": "python3"
  },
  "language_info": {
   "codemirror_mode": {
    "name": "ipython",
    "version": 3
   },
   "file_extension": ".py",
   "mimetype": "text/x-python",
   "name": "python",
   "nbconvert_exporter": "python",
   "pygments_lexer": "ipython3",
   "version": "3.7.5"
  }
 },
 "nbformat": 4,
 "nbformat_minor": 2
}
