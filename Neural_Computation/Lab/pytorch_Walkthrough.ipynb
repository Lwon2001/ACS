{
 "cells": [
  {
   "cell_type": "code",
   "execution_count": 1,
   "metadata": {},
   "outputs": [
    {
     "name": "stdout",
     "output_type": "stream",
     "text": [
      "tensor([[[0.9388, 0.6736, 0.1423],\n",
      "         [0.5647, 0.7433, 0.4455],\n",
      "         [0.6082, 0.9342, 0.6186]],\n",
      "\n",
      "        [[0.7100, 0.5923, 0.4920],\n",
      "         [0.7684, 0.2599, 0.5679],\n",
      "         [0.5905, 0.8643, 0.1472]],\n",
      "\n",
      "        [[0.0462, 0.4809, 0.3385],\n",
      "         [0.6385, 0.5424, 0.6270],\n",
      "         [0.3717, 0.7841, 0.5116]],\n",
      "\n",
      "        [[0.3887, 0.5647, 0.7147],\n",
      "         [0.4733, 0.5391, 0.2325],\n",
      "         [0.1350, 0.1030, 0.5362]],\n",
      "\n",
      "        [[0.5730, 0.1725, 0.3916],\n",
      "         [0.5627, 0.1443, 0.7354],\n",
      "         [0.1904, 0.0450, 0.1625]]])\n"
     ]
    }
   ],
   "source": [
    "from __future__ import print_function\n",
    "import torch\n",
    "x = torch.rand(5, 3, 3)\n",
    "print(x)"
   ]
  },
  {
   "cell_type": "code",
   "execution_count": 2,
   "metadata": {},
   "outputs": [
    {
     "data": {
      "text/plain": [
       "True"
      ]
     },
     "execution_count": 2,
     "metadata": {},
     "output_type": "execute_result"
    }
   ],
   "source": [
    "torch.cuda.is_available()"
   ]
  },
  {
   "cell_type": "code",
   "execution_count": null,
   "metadata": {},
   "outputs": [],
   "source": []
  }
 ],
 "metadata": {
  "kernelspec": {
   "display_name": "Python 3",
   "language": "python",
   "name": "python3"
  },
  "language_info": {
   "codemirror_mode": {
    "name": "ipython",
    "version": 3
   },
   "file_extension": ".py",
   "mimetype": "text/x-python",
   "name": "python",
   "nbconvert_exporter": "python",
   "pygments_lexer": "ipython3",
   "version": "3.7.5"
  }
 },
 "nbformat": 4,
 "nbformat_minor": 2
}
