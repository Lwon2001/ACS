{
 "cells": [
  {
   "cell_type": "markdown",
   "metadata": {},
   "source": [
    "# Neural Computation (Autumn 2019)\n",
    "# Lab 2: Advanced Python Libraries & Linear Regression\n",
    "\n",
    "In this exercise, you will learn the following:\n",
    "\n",
    "* Advanced libraries like Numpy and Matplotlib\n",
    "* Import a data file with NumPy\n",
    "* Produce scatter and line plots using Matplotlib\n",
    "* Define a linear model and a cost function\n",
    "* Fit a linear model using Ordinary Least Squares Method\n",
    "* Train a linear model using Gradient Descent Algorithm\n",
    "\n",
    "# Section 1: Numpy & Matplotlib\n",
    "## Numpy"
   ]
  },
  {
   "cell_type": "markdown",
   "metadata": {},
   "source": [
    "Numpy is the core library for scientific computing in Python. It provides a high-performance multidimensional array object, and tools for working with these arrays. If you are already familiar with MATLAB, you might find this [tutorial](http://wiki.scipy.org/NumPy_for_Matlab_Users) useful to get started with Numpy."
   ]
  },
  {
   "cell_type": "markdown",
   "metadata": {},
   "source": [
    "To use Numpy, we first need to import the `numpy` package. "
   ]
  },
  {
   "cell_type": "code",
   "execution_count": 1,
   "metadata": {
    "jupyter": {
     "outputs_hidden": true
    }
   },
   "outputs": [],
   "source": [
    "import numpy as np"
   ]
  },
  {
   "cell_type": "markdown",
   "metadata": {},
   "source": [
    "To call a function `X` from the NumPy module, you would normally have to write `NumPy.X()`. However, if you invoke NumPy functions many places in your code, this quickly becomes tedious. By adding `as np` after your `import` statement as shown above, you can instead write  `np.X()`, which is less verbose. "
   ]
  },
  {
   "cell_type": "markdown",
   "metadata": {},
   "source": [
    "### Arrays"
   ]
  },
  {
   "cell_type": "markdown",
   "metadata": {},
   "source": [
    "A numpy array is a grid of values, all of the same type, and is indexed by a tuple of nonnegative integers. The number of dimensions is the rank of the array; the shape of an array is a tuple of integers giving the size of the array along each dimension."
   ]
  },
  {
   "cell_type": "markdown",
   "metadata": {},
   "source": [
    "We can initialize numpy arrays from nested Python lists, and access elements using square brackets:"
   ]
  },
  {
   "cell_type": "code",
   "execution_count": 2,
   "metadata": {
    "jupyter": {
     "outputs_hidden": true
    }
   },
   "outputs": [
    {
     "name": "stdout",
     "output_type": "stream",
     "text": [
      "<class 'numpy.ndarray'> (3,) 1 2 3\n",
      "[5 2 3]\n"
     ]
    }
   ],
   "source": [
    "a = np.array([1, 2, 3])  # Create a rank 1 array\n",
    "print(type(a), a.shape, a[0], a[1], a[2])\n",
    "a[0] = 5                 # Change an element of the array\n",
    "print(a)                  "
   ]
  },
  {
   "cell_type": "code",
   "execution_count": 3,
   "metadata": {
    "jupyter": {
     "outputs_hidden": true
    }
   },
   "outputs": [
    {
     "name": "stdout",
     "output_type": "stream",
     "text": [
      "[[1 2 3]\n",
      " [4 5 6]]\n"
     ]
    }
   ],
   "source": [
    "b = np.array([[1,2,3],[4,5,6]])   # Create a rank 2 array\n",
    "print(b)"
   ]
  },
  {
   "cell_type": "code",
   "execution_count": 4,
   "metadata": {
    "jupyter": {
     "outputs_hidden": true
    }
   },
   "outputs": [
    {
     "name": "stdout",
     "output_type": "stream",
     "text": [
      "(2, 3)\n",
      "1 2 4\n"
     ]
    }
   ],
   "source": [
    "print(b.shape)                   \n",
    "print(b[0, 0], b[0, 1], b[1, 0])"
   ]
  },
  {
   "cell_type": "markdown",
   "metadata": {},
   "source": [
    "Numpy also provides many functions to create arrays:"
   ]
  },
  {
   "cell_type": "code",
   "execution_count": 5,
   "metadata": {
    "jupyter": {
     "outputs_hidden": true
    }
   },
   "outputs": [
    {
     "name": "stdout",
     "output_type": "stream",
     "text": [
      "[[0. 0.]\n",
      " [0. 0.]]\n"
     ]
    }
   ],
   "source": [
    "a = np.zeros((2,2))  # Create an array of all zeros\n",
    "print(a)"
   ]
  },
  {
   "cell_type": "code",
   "execution_count": 6,
   "metadata": {
    "jupyter": {
     "outputs_hidden": true
    }
   },
   "outputs": [
    {
     "name": "stdout",
     "output_type": "stream",
     "text": [
      "[[1. 1.]]\n"
     ]
    }
   ],
   "source": [
    "b = np.ones((1,2))   # Create an array of all ones\n",
    "print(b)"
   ]
  },
  {
   "cell_type": "code",
   "execution_count": 7,
   "metadata": {
    "jupyter": {
     "outputs_hidden": true
    }
   },
   "outputs": [
    {
     "name": "stdout",
     "output_type": "stream",
     "text": [
      "[[7 7]\n",
      " [7 7]]\n"
     ]
    }
   ],
   "source": [
    "c = np.full((2,2), 7) # Create a constant array\n",
    "print(c) "
   ]
  },
  {
   "cell_type": "code",
   "execution_count": 8,
   "metadata": {
    "jupyter": {
     "outputs_hidden": true
    }
   },
   "outputs": [
    {
     "name": "stdout",
     "output_type": "stream",
     "text": [
      "[[1. 0.]\n",
      " [0. 1.]]\n"
     ]
    }
   ],
   "source": [
    "d = np.eye(2)        # Create a 2x2 identity matrix\n",
    "print(d)"
   ]
  },
  {
   "cell_type": "code",
   "execution_count": 9,
   "metadata": {
    "jupyter": {
     "outputs_hidden": true
    }
   },
   "outputs": [
    {
     "name": "stdout",
     "output_type": "stream",
     "text": [
      "[[0.44793687 0.99963056]\n",
      " [0.38861624 0.94696395]]\n"
     ]
    }
   ],
   "source": [
    "e = np.random.random((2,2)) # Create an array filled with random values\n",
    "print(e)"
   ]
  },
  {
   "cell_type": "markdown",
   "metadata": {},
   "source": [
    "### Array indexing"
   ]
  },
  {
   "cell_type": "markdown",
   "metadata": {},
   "source": [
    "Numpy offers several ways to index into arrays."
   ]
  },
  {
   "cell_type": "markdown",
   "metadata": {},
   "source": [
    "Slicing: Similar to Python lists, numpy arrays can be sliced. Since arrays may be multidimensional, you must specify a slice for each dimension of the array:"
   ]
  },
  {
   "cell_type": "code",
   "execution_count": 10,
   "metadata": {
    "jupyter": {
     "outputs_hidden": true
    }
   },
   "outputs": [
    {
     "name": "stdout",
     "output_type": "stream",
     "text": [
      "[[2 3]\n",
      " [6 7]]\n"
     ]
    }
   ],
   "source": [
    "import numpy as np\n",
    "\n",
    "# Create the following rank 2 array with shape (3, 4)\n",
    "# [[ 1  2  3  4]\n",
    "#  [ 5  6  7  8]\n",
    "#  [ 9 10 11 12]]\n",
    "a = np.array([[1,2,3,4], [5,6,7,8], [9,10,11,12]])\n",
    "\n",
    "# Use slicing to pull out the subarray consisting of the first 2 rows\n",
    "# and columns 1 and 2; b is the following array of shape (2, 2):\n",
    "# [[2 3]\n",
    "#  [6 7]]\n",
    "b = a[:2, 1:3]\n",
    "print(b)"
   ]
  },
  {
   "cell_type": "markdown",
   "metadata": {},
   "source": [
    "A slice of an array is a view into the same data, so modifying it will modify the original array."
   ]
  },
  {
   "cell_type": "code",
   "execution_count": 11,
   "metadata": {
    "jupyter": {
     "outputs_hidden": true
    }
   },
   "outputs": [
    {
     "name": "stdout",
     "output_type": "stream",
     "text": [
      "2\n",
      "77\n"
     ]
    }
   ],
   "source": [
    "print(a[0, 1])  \n",
    "b[0, 0] = 77    # b[0, 0] is the same piece of data as a[0, 1]\n",
    "print(a[0, 1]) "
   ]
  },
  {
   "cell_type": "markdown",
   "metadata": {},
   "source": [
    "You can also mix integer indexing with slice indexing. However, doing so will yield an array of lower rank than the original array. Note that this is quite different from the way that MATLAB handles array slicing:"
   ]
  },
  {
   "cell_type": "code",
   "execution_count": 12,
   "metadata": {
    "jupyter": {
     "outputs_hidden": true
    }
   },
   "outputs": [
    {
     "name": "stdout",
     "output_type": "stream",
     "text": [
      "[[ 1  2  3  4]\n",
      " [ 5  6  7  8]\n",
      " [ 9 10 11 12]]\n"
     ]
    }
   ],
   "source": [
    "# Create the following rank 2 array with shape (3, 4)\n",
    "a = np.array([[1,2,3,4], [5,6,7,8], [9,10,11,12]])\n",
    "print(a)"
   ]
  },
  {
   "cell_type": "markdown",
   "metadata": {},
   "source": [
    "Two ways of accessing the data in the middle row of the array.\n",
    "Mixing integer indexing with slices yields an array of lower rank,\n",
    "while using only slices yields an array of the same rank as the\n",
    "original array:"
   ]
  },
  {
   "cell_type": "code",
   "execution_count": 13,
   "metadata": {
    "jupyter": {
     "outputs_hidden": true
    }
   },
   "outputs": [
    {
     "name": "stdout",
     "output_type": "stream",
     "text": [
      "[5 6 7 8] (4,)\n",
      "[[5 6 7 8]] (1, 4)\n",
      "[[5 6 7 8]] (1, 4)\n"
     ]
    }
   ],
   "source": [
    "row_r1 = a[1, :]    # Rank 1 view of the second row of a  \n",
    "row_r2 = a[1:2, :]  # Rank 2 view of the second row of a\n",
    "row_r3 = a[[1], :]  # Rank 2 view of the second row of a\n",
    "print(row_r1, row_r1.shape)\n",
    "print(row_r2, row_r2.shape)\n",
    "print(row_r3, row_r3.shape)"
   ]
  },
  {
   "cell_type": "code",
   "execution_count": 14,
   "metadata": {
    "jupyter": {
     "outputs_hidden": true
    }
   },
   "outputs": [
    {
     "name": "stdout",
     "output_type": "stream",
     "text": [
      "[ 2  6 10] (3,)\n",
      "[[ 2]\n",
      " [ 6]\n",
      " [10]] (3, 1)\n"
     ]
    }
   ],
   "source": [
    "# We can make the same distinction when accessing columns of an array:\n",
    "col_r1 = a[:, 1]\n",
    "col_r2 = a[:, 1:2]\n",
    "print(col_r1, col_r1.shape)\n",
    "print(col_r2, col_r2.shape)"
   ]
  },
  {
   "cell_type": "markdown",
   "metadata": {},
   "source": [
    "Integer array indexing: When you index into numpy arrays using slicing, the resulting array view will always be a subarray of the original array. In contrast, integer array indexing allows you to construct arbitrary arrays using the data from another array. Here is an example:"
   ]
  },
  {
   "cell_type": "code",
   "execution_count": 15,
   "metadata": {
    "jupyter": {
     "outputs_hidden": true
    }
   },
   "outputs": [
    {
     "name": "stdout",
     "output_type": "stream",
     "text": [
      "[1 4 5]\n",
      "[1 4 5]\n"
     ]
    }
   ],
   "source": [
    "a = np.array([[1,2], [3, 4], [5, 6]])\n",
    "\n",
    "# An example of integer array indexing.\n",
    "# The returned array will have shape (3,) and \n",
    "print(a[[0, 1, 2], [0, 1, 0]])\n",
    "\n",
    "# The above example of integer array indexing is equivalent to this:\n",
    "print(np.array([a[0, 0], a[1, 1], a[2, 0]]))"
   ]
  },
  {
   "cell_type": "code",
   "execution_count": 16,
   "metadata": {
    "jupyter": {
     "outputs_hidden": true
    }
   },
   "outputs": [
    {
     "name": "stdout",
     "output_type": "stream",
     "text": [
      "[2 2]\n",
      "[2 2]\n"
     ]
    }
   ],
   "source": [
    "# When using integer array indexing, you can reuse the same\n",
    "# element from the source array:\n",
    "print(a[[0, 0], [1, 1]])\n",
    "\n",
    "# Equivalent to the previous integer array indexing example\n",
    "print(np.array([a[0, 1], a[0, 1]]))"
   ]
  },
  {
   "cell_type": "markdown",
   "metadata": {},
   "source": [
    "One useful trick with integer array indexing is selecting or mutating one element from each row of a matrix:"
   ]
  },
  {
   "cell_type": "code",
   "execution_count": 17,
   "metadata": {
    "jupyter": {
     "outputs_hidden": true
    }
   },
   "outputs": [
    {
     "name": "stdout",
     "output_type": "stream",
     "text": [
      "[[ 1  2  3]\n",
      " [ 4  5  6]\n",
      " [ 7  8  9]\n",
      " [10 11 12]]\n"
     ]
    }
   ],
   "source": [
    "# Create a new array from which we will select elements\n",
    "a = np.array([[1,2,3], [4,5,6], [7,8,9], [10, 11, 12]])\n",
    "print(a)"
   ]
  },
  {
   "cell_type": "code",
   "execution_count": 18,
   "metadata": {
    "jupyter": {
     "outputs_hidden": true
    }
   },
   "outputs": [
    {
     "name": "stdout",
     "output_type": "stream",
     "text": [
      "[ 1  6  7 11]\n"
     ]
    }
   ],
   "source": [
    "# Create an array of indices\n",
    "b = np.array([0, 2, 0, 1])\n",
    "\n",
    "# Select one element from each row of a using the indices in b\n",
    "print(a[np.arange(4), b])  # Prints \"[ 1  6  7 11]\""
   ]
  },
  {
   "cell_type": "code",
   "execution_count": 19,
   "metadata": {
    "jupyter": {
     "outputs_hidden": true
    }
   },
   "outputs": [
    {
     "name": "stdout",
     "output_type": "stream",
     "text": [
      "[[11  2  3]\n",
      " [ 4  5 16]\n",
      " [17  8  9]\n",
      " [10 21 12]]\n"
     ]
    }
   ],
   "source": [
    "# Mutate one element from each row of a using the indices in b\n",
    "a[np.arange(4), b] += 10\n",
    "print(a)"
   ]
  },
  {
   "cell_type": "markdown",
   "metadata": {},
   "source": [
    "Boolean array indexing: Boolean array indexing lets you pick out arbitrary elements of an array. Frequently this type of indexing is used to select the elements of an array that satisfy some condition. Here is an example:"
   ]
  },
  {
   "cell_type": "code",
   "execution_count": 20,
   "metadata": {
    "jupyter": {
     "outputs_hidden": true
    }
   },
   "outputs": [
    {
     "name": "stdout",
     "output_type": "stream",
     "text": [
      "[[False False]\n",
      " [ True  True]\n",
      " [ True  True]]\n"
     ]
    }
   ],
   "source": [
    "import numpy as np\n",
    "\n",
    "a = np.array([[1,2], [3, 4], [5, 6]])\n",
    "\n",
    "bool_idx = (a > 2)  # Find the elements of a that are bigger than 2;\n",
    "                    # this returns a numpy array of Booleans of the same\n",
    "                    # shape as a, where each slot of bool_idx tells\n",
    "                    # whether that element of a is > 2.\n",
    "\n",
    "print(bool_idx)"
   ]
  },
  {
   "cell_type": "code",
   "execution_count": 21,
   "metadata": {
    "jupyter": {
     "outputs_hidden": true
    }
   },
   "outputs": [
    {
     "name": "stdout",
     "output_type": "stream",
     "text": [
      "[3 4 5 6]\n",
      "[3 4 5 6]\n"
     ]
    }
   ],
   "source": [
    "# We use boolean array indexing to construct a rank 1 array\n",
    "# consisting of the elements of a corresponding to the True values\n",
    "# of bool_idx\n",
    "print(a[bool_idx])\n",
    "\n",
    "# We can do all of the above in a single concise statement:\n",
    "print(a[a > 2])"
   ]
  },
  {
   "cell_type": "markdown",
   "metadata": {},
   "source": [
    "For brevity we have left out a lot of details about numpy array indexing; if you want to know more you should read the documentation."
   ]
  },
  {
   "cell_type": "markdown",
   "metadata": {},
   "source": [
    "### Array math"
   ]
  },
  {
   "cell_type": "markdown",
   "metadata": {},
   "source": [
    "Basic mathematical functions operate elementwise on arrays, and are available both as operator overloads and as functions in the numpy module:"
   ]
  },
  {
   "cell_type": "code",
   "execution_count": 22,
   "metadata": {
    "jupyter": {
     "outputs_hidden": true
    }
   },
   "outputs": [
    {
     "name": "stdout",
     "output_type": "stream",
     "text": [
      "[[ 6.  8.]\n",
      " [10. 12.]]\n",
      "[[ 6.  8.]\n",
      " [10. 12.]]\n"
     ]
    }
   ],
   "source": [
    "x = np.array([[1,2],[3,4]], dtype=np.float64)\n",
    "y = np.array([[5,6],[7,8]], dtype=np.float64)\n",
    "\n",
    "# Elementwise sum; both produce the array\n",
    "print(x + y)\n",
    "print(np.add(x, y))"
   ]
  },
  {
   "cell_type": "code",
   "execution_count": 23,
   "metadata": {
    "jupyter": {
     "outputs_hidden": true
    }
   },
   "outputs": [
    {
     "name": "stdout",
     "output_type": "stream",
     "text": [
      "[[-4. -4.]\n",
      " [-4. -4.]]\n",
      "[[-4. -4.]\n",
      " [-4. -4.]]\n"
     ]
    }
   ],
   "source": [
    "# Elementwise difference; both produce the array\n",
    "print(x - y)\n",
    "print(np.subtract(x, y))"
   ]
  },
  {
   "cell_type": "code",
   "execution_count": 24,
   "metadata": {
    "jupyter": {
     "outputs_hidden": true
    }
   },
   "outputs": [
    {
     "name": "stdout",
     "output_type": "stream",
     "text": [
      "[[ 5. 12.]\n",
      " [21. 32.]]\n",
      "[[ 5. 12.]\n",
      " [21. 32.]]\n"
     ]
    }
   ],
   "source": [
    "# Elementwise product; both produce the array\n",
    "print(x * y)\n",
    "print(np.multiply(x, y))"
   ]
  },
  {
   "cell_type": "code",
   "execution_count": 25,
   "metadata": {
    "jupyter": {
     "outputs_hidden": true
    }
   },
   "outputs": [
    {
     "name": "stdout",
     "output_type": "stream",
     "text": [
      "[[0.2        0.33333333]\n",
      " [0.42857143 0.5       ]]\n",
      "[[0.2        0.33333333]\n",
      " [0.42857143 0.5       ]]\n"
     ]
    }
   ],
   "source": [
    "# Elementwise division; both produce the array\n",
    "# [[ 0.2         0.33333333]\n",
    "#  [ 0.42857143  0.5       ]]\n",
    "print(x / y)\n",
    "print(np.divide(x, y))"
   ]
  },
  {
   "cell_type": "code",
   "execution_count": 26,
   "metadata": {
    "jupyter": {
     "outputs_hidden": true
    }
   },
   "outputs": [
    {
     "name": "stdout",
     "output_type": "stream",
     "text": [
      "[[1.         1.41421356]\n",
      " [1.73205081 2.        ]]\n"
     ]
    }
   ],
   "source": [
    "# Elementwise square root; produces the array\n",
    "# [[ 1.          1.41421356]\n",
    "#  [ 1.73205081  2.        ]]\n",
    "print(np.sqrt(x))"
   ]
  },
  {
   "cell_type": "markdown",
   "metadata": {},
   "source": [
    "Note that unlike MATLAB, `*` is elementwise multiplication, not matrix multiplication. We instead use the dot function to compute inner products of vectors, to multiply a vector by a matrix, and to multiply matrices. dot is available both as a function in the numpy module and as an instance method of array objects:"
   ]
  },
  {
   "cell_type": "code",
   "execution_count": 27,
   "metadata": {
    "jupyter": {
     "outputs_hidden": true
    }
   },
   "outputs": [
    {
     "name": "stdout",
     "output_type": "stream",
     "text": [
      "219\n",
      "219\n"
     ]
    }
   ],
   "source": [
    "x = np.array([[1,2],[3,4]])\n",
    "y = np.array([[5,6],[7,8]])\n",
    "\n",
    "v = np.array([9,10])\n",
    "w = np.array([11, 12])\n",
    "\n",
    "# Inner product of vectors; both produce 219\n",
    "print(v.dot(w))\n",
    "print(np.dot(v, w))"
   ]
  },
  {
   "cell_type": "code",
   "execution_count": 28,
   "metadata": {},
   "outputs": [
    {
     "data": {
      "text/plain": [
       "(2, 2)"
      ]
     },
     "execution_count": 28,
     "metadata": {},
     "output_type": "execute_result"
    }
   ],
   "source": [
    "x.shape"
   ]
  },
  {
   "cell_type": "code",
   "execution_count": 29,
   "metadata": {},
   "outputs": [
    {
     "data": {
      "text/plain": [
       "(2,)"
      ]
     },
     "execution_count": 29,
     "metadata": {},
     "output_type": "execute_result"
    }
   ],
   "source": [
    "v.shape"
   ]
  },
  {
   "cell_type": "code",
   "execution_count": 30,
   "metadata": {
    "jupyter": {
     "outputs_hidden": true
    }
   },
   "outputs": [
    {
     "name": "stdout",
     "output_type": "stream",
     "text": [
      "[29 67]\n",
      "[29 67]\n"
     ]
    }
   ],
   "source": [
    "# Matrix / vector product; both produce the rank 1 array [29 67]\n",
    "print(x.dot(v))\n",
    "print(np.dot(x, v))"
   ]
  },
  {
   "cell_type": "code",
   "execution_count": 31,
   "metadata": {},
   "outputs": [
    {
     "data": {
      "text/plain": [
       "(2,)"
      ]
     },
     "execution_count": 31,
     "metadata": {},
     "output_type": "execute_result"
    }
   ],
   "source": [
    "x.dot(v).shape"
   ]
  },
  {
   "cell_type": "code",
   "execution_count": 32,
   "metadata": {
    "jupyter": {
     "outputs_hidden": true
    }
   },
   "outputs": [
    {
     "name": "stdout",
     "output_type": "stream",
     "text": [
      "[[19 22]\n",
      " [43 50]]\n",
      "[[19 22]\n",
      " [43 50]]\n"
     ]
    }
   ],
   "source": [
    "# Matrix / matrix product; both produce the rank 2 array\n",
    "# [[19 22]\n",
    "#  [43 50]]\n",
    "print(x.dot(y))\n",
    "print(np.dot(x, y))"
   ]
  },
  {
   "cell_type": "code",
   "execution_count": 33,
   "metadata": {},
   "outputs": [
    {
     "data": {
      "text/plain": [
       "499128"
      ]
     },
     "execution_count": 33,
     "metadata": {},
     "output_type": "execute_result"
    }
   ],
   "source": [
    "a = np.arange(3*4*5*6).reshape((3,4,5,6))\n",
    "b = np.arange(3*4*5*6)[::-1].reshape((5,4,6,3))\n",
    "np.dot(a, b)[2,3,2,1,2,2]"
   ]
  },
  {
   "cell_type": "markdown",
   "metadata": {},
   "source": [
    "Numpy provides many useful functions for performing computations on arrays; one of the most useful is `sum`:"
   ]
  },
  {
   "cell_type": "code",
   "execution_count": 34,
   "metadata": {
    "jupyter": {
     "outputs_hidden": true
    }
   },
   "outputs": [
    {
     "name": "stdout",
     "output_type": "stream",
     "text": [
      "10\n",
      "[4 6]\n",
      "[3 7]\n"
     ]
    }
   ],
   "source": [
    "x = np.array([[1,2],[3,4]])\n",
    "\n",
    "print(np.sum(x))  # Compute sum of all elements; prints \"10\"\n",
    "print(np.sum(x, axis=0))  # Compute sum of each column; prints \"[4 6]\"\n",
    "print(np.sum(x, axis=1))  # Compute sum of each row; prints \"[3 7]\""
   ]
  },
  {
   "cell_type": "markdown",
   "metadata": {},
   "source": [
    "You can find the full list of mathematical functions provided by numpy in the [documentation](http://docs.scipy.org/doc/numpy/reference/routines.math.html).\n",
    "\n",
    "Apart from computing mathematical functions using arrays, we frequently need to reshape or otherwise manipulate data in arrays. The simplest example of this type of operation is transposing a matrix; to transpose a matrix, simply use the `T` attribute of an array object:"
   ]
  },
  {
   "cell_type": "code",
   "execution_count": 35,
   "metadata": {
    "jupyter": {
     "outputs_hidden": true
    }
   },
   "outputs": [
    {
     "name": "stdout",
     "output_type": "stream",
     "text": [
      "[[1 2]\n",
      " [3 4]]\n",
      "[[1 3]\n",
      " [2 4]]\n"
     ]
    }
   ],
   "source": [
    "print(x)\n",
    "print(x.T)"
   ]
  },
  {
   "cell_type": "code",
   "execution_count": 36,
   "metadata": {
    "jupyter": {
     "outputs_hidden": true
    }
   },
   "outputs": [
    {
     "name": "stdout",
     "output_type": "stream",
     "text": [
      "[[1 2 3]]\n",
      "[[1]\n",
      " [2]\n",
      " [3]]\n"
     ]
    }
   ],
   "source": [
    "v = np.array([[1,2,3]])\n",
    "print(v) \n",
    "print(v.T)"
   ]
  },
  {
   "cell_type": "markdown",
   "metadata": {},
   "source": [
    "## Matplotlib"
   ]
  },
  {
   "cell_type": "markdown",
   "metadata": {},
   "source": [
    "Matplotlib is a plotting library. In this section give a brief introduction to the `matplotlib.pyplot` module, which provides a plotting system similar to that of MATLAB."
   ]
  },
  {
   "cell_type": "code",
   "execution_count": 37,
   "metadata": {
    "jupyter": {
     "outputs_hidden": true
    }
   },
   "outputs": [],
   "source": [
    "import matplotlib.pyplot as plt"
   ]
  },
  {
   "cell_type": "markdown",
   "metadata": {},
   "source": [
    "By running this special iPython command, we will be displaying plots inline:"
   ]
  },
  {
   "cell_type": "code",
   "execution_count": 38,
   "metadata": {
    "jupyter": {
     "outputs_hidden": true
    }
   },
   "outputs": [],
   "source": [
    "%matplotlib inline"
   ]
  },
  {
   "cell_type": "markdown",
   "metadata": {},
   "source": [
    "### Plotting"
   ]
  },
  {
   "cell_type": "markdown",
   "metadata": {},
   "source": [
    "The most important function in `matplotlib` is plot, which allows you to plot 2D data. Here is a simple example:"
   ]
  },
  {
   "cell_type": "code",
   "execution_count": 39,
   "metadata": {
    "jupyter": {
     "outputs_hidden": true
    }
   },
   "outputs": [
    {
     "data": {
      "text/plain": [
       "[<matplotlib.lines.Line2D at 0x27a19900988>]"
      ]
     },
     "execution_count": 39,
     "metadata": {},
     "output_type": "execute_result"
    },
    {
     "data": {
      "image/png": "[encoded data removed]",
      "text/plain": [
       "<Figure size 432x288 with 1 Axes>"
      ]
     },
     "metadata": {
      "needs_background": "light"
     },
     "output_type": "display_data"
    }
   ],
   "source": [
    "# Compute the x and y coordinates for points on a sine curve\n",
    "x = np.arange(0, 3 * np.pi, 0.1)\n",
    "y = np.sin(x)\n",
    "\n",
    "# Plot the points using matplotlib\n",
    "plt.plot(x, y)"
   ]
  },
  {
   "cell_type": "markdown",
   "metadata": {},
   "source": [
    "With just a little bit of extra work we can easily plot multiple lines at once, and add a title, legend, and axis labels:"
   ]
  },
  {
   "cell_type": "code",
   "execution_count": 40,
   "metadata": {
    "jupyter": {
     "outputs_hidden": true
    }
   },
   "outputs": [
    {
     "data": {
      "text/plain": [
       "<matplotlib.legend.Legend at 0x27a1a078dc8>"
      ]
     },
     "execution_count": 40,
     "metadata": {},
     "output_type": "execute_result"
    },
    {
     "data": {
      "image/png": "[encoded data removed]",
      "text/plain": [
       "<Figure size 432x288 with 1 Axes>"
      ]
     },
     "metadata": {
      "needs_background": "light"
     },
     "output_type": "display_data"
    }
   ],
   "source": [
    "y_sin = np.sin(x)\n",
    "y_cos = np.cos(x)\n",
    "\n",
    "# Plot the points using matplotlib\n",
    "plt.plot(x, y_sin)\n",
    "plt.plot(x, y_cos)\n",
    "plt.xlabel('x axis label')\n",
    "plt.ylabel('y axis label')\n",
    "plt.title('Sine and Cosine')\n",
    "plt.legend(['Sine', 'Cosine'])"
   ]
  },
  {
   "cell_type": "markdown",
   "metadata": {},
   "source": [
    "### Subplots "
   ]
  },
  {
   "cell_type": "markdown",
   "metadata": {},
   "source": [
    "You can plot different things in the same figure using the subplot function. You have to add `plt.show`Here is an example."
   ]
  },
  {
   "cell_type": "code",
   "execution_count": 41,
   "metadata": {
    "jupyter": {
     "outputs_hidden": true
    }
   },
   "outputs": [
    {
     "data": {
      "image/png": "[encoded data removed]",
      "text/plain": [
       "<Figure size 432x288 with 2 Axes>"
      ]
     },
     "metadata": {
      "needs_background": "light"
     },
     "output_type": "display_data"
    }
   ],
   "source": [
    "# Compute the x and y coordinates for points on sine and cosine curves\n",
    "x = np.arange(0, 3 * np.pi, 0.1)\n",
    "y_sin = np.sin(x)\n",
    "y_cos = np.cos(x)\n",
    "\n",
    "# Set up a subplot grid that has height 2 and width 1,\n",
    "# and set the first such subplot as active.\n",
    "plt.subplot(2, 1, 1)\n",
    "\n",
    "# Make the first plot\n",
    "plt.plot(x, y_sin)\n",
    "plt.title('Sine')\n",
    "\n",
    "# Set the second subplot as active, and make the second plot.\n",
    "plt.subplot(2, 1, 2)\n",
    "plt.plot(x, y_cos)\n",
    "plt.title('Cosine')\n",
    "\n",
    "# Show the figure.\n",
    "plt.show()"
   ]
  },
  {
   "cell_type": "markdown",
   "metadata": {},
   "source": [
    "# Section 2: Linear Regression\n"
   ]
  },
  {
   "cell_type": "markdown",
   "metadata": {},
   "source": [
    "## Reading data from a CSV file\n",
    "\n",
    "We first read the cat data set from a local comma separated value (CSV) file, and store the body and heart weights in two arrays. "
   ]
  },
  {
   "cell_type": "markdown",
   "metadata": {},
   "source": [
    "We will use the [genfromtxt](https://docs.scipy.org/doc/numpy-1.13.0/reference/generated/numpy.genfromtxt.html) function in NumPy to read the data set from a CSV file located at some URL.\n",
    "\n",
    "    np.genfromtxt(url, delimiter=None, skip_header=0, usecols=None) \n",
    "\n",
    "This function takes several arguments, including: \n",
    "\n",
    "* `url`: a string that specifies a file name or an URL for the CSV file, \n",
    "* `delimiter`: a string used to separate value, \n",
    "* `skip_header`: an int indicates the number of lines to skip at the beginning of the file,  \n",
    "* `usecols`: a sequence indicating which columns to read, with 0 as first column. \n",
    "            \n",
    "We can read data from the file and store them into a variable named `cats` using the following line. You can see that `cats` is a NumPy array with two columns. The first column is the body weight, while the second column is the heart weight."
   ]
  },
  {
   "cell_type": "code",
   "execution_count": 42,
   "metadata": {
    "jupyter": {
     "outputs_hidden": true
    },
    "scrolled": true
   },
   "outputs": [
    {
     "data": {
      "text/plain": [
       "array([[ 2. ,  7. ],\n",
       "       [ 2. ,  7.4],\n",
       "       [ 2. ,  9.5],\n",
       "       [ 2.1,  7.2],\n",
       "       [ 2.1,  7.3],\n",
       "       [ 2.1,  7.6],\n",
       "       [ 2.1,  8.1],\n",
       "       [ 2.1,  8.2],\n",
       "       [ 2.1,  8.3],\n",
       "       [ 2.1,  8.5],\n",
       "       [ 2.1,  8.7],\n",
       "       [ 2.1,  9.8],\n",
       "       [ 2.2,  7.1],\n",
       "       [ 2.2,  8.7],\n",
       "       [ 2.2,  9.1],\n",
       "       [ 2.2,  9.7],\n",
       "       [ 2.2, 10.9],\n",
       "       [ 2.2, 11. ],\n",
       "       [ 2.3,  7.3],\n",
       "       [ 2.3,  7.9],\n",
       "       [ 2.3,  8.4],\n",
       "       [ 2.3,  9. ],\n",
       "       [ 2.3,  9. ],\n",
       "       [ 2.3,  9.5],\n",
       "       [ 2.3,  9.6],\n",
       "       [ 2.3,  9.7],\n",
       "       [ 2.3, 10.1],\n",
       "       [ 2.3, 10.1],\n",
       "       [ 2.3, 10.6],\n",
       "       [ 2.3, 11.2],\n",
       "       [ 2.4,  6.3],\n",
       "       [ 2.4,  8.7],\n",
       "       [ 2.4,  8.8],\n",
       "       [ 2.4, 10.2],\n",
       "       [ 2.5,  9. ],\n",
       "       [ 2.5, 10.9],\n",
       "       [ 2.6,  8.7],\n",
       "       [ 2.6, 10.1],\n",
       "       [ 2.6, 10.1],\n",
       "       [ 2.7,  8.5],\n",
       "       [ 2.7, 10.2],\n",
       "       [ 2.7, 10.8],\n",
       "       [ 2.9,  9.9],\n",
       "       [ 2.9, 10.1],\n",
       "       [ 2.9, 10.1],\n",
       "       [ 3. , 10.6],\n",
       "       [ 3. , 13. ],\n",
       "       [ 2. ,  6.5],\n",
       "       [ 2. ,  6.5],\n",
       "       [ 2.1, 10.1],\n",
       "       [ 2.2,  7.2],\n",
       "       [ 2.2,  7.6],\n",
       "       [ 2.2,  7.9],\n",
       "       [ 2.2,  8.5],\n",
       "       [ 2.2,  9.1],\n",
       "       [ 2.2,  9.6],\n",
       "       [ 2.2,  9.6],\n",
       "       [ 2.2, 10.7],\n",
       "       [ 2.3,  9.6],\n",
       "       [ 2.4,  7.3],\n",
       "       [ 2.4,  7.9],\n",
       "       [ 2.4,  7.9],\n",
       "       [ 2.4,  9.1],\n",
       "       [ 2.4,  9.3],\n",
       "       [ 2.5,  7.9],\n",
       "       [ 2.5,  8.6],\n",
       "       [ 2.5,  8.8],\n",
       "       [ 2.5,  8.8],\n",
       "       [ 2.5,  9.3],\n",
       "       [ 2.5, 11. ],\n",
       "       [ 2.5, 12.7],\n",
       "       [ 2.5, 12.7],\n",
       "       [ 2.6,  7.7],\n",
       "       [ 2.6,  8.3],\n",
       "       [ 2.6,  9.4],\n",
       "       [ 2.6,  9.4],\n",
       "       [ 2.6, 10.5],\n",
       "       [ 2.6, 11.5],\n",
       "       [ 2.7,  8. ],\n",
       "       [ 2.7,  9. ],\n",
       "       [ 2.7,  9.6],\n",
       "       [ 2.7,  9.6],\n",
       "       [ 2.7,  9.8],\n",
       "       [ 2.7, 10.4],\n",
       "       [ 2.7, 11.1],\n",
       "       [ 2.7, 12. ],\n",
       "       [ 2.7, 12.5],\n",
       "       [ 2.8,  9.1],\n",
       "       [ 2.8, 10. ],\n",
       "       [ 2.8, 10.2],\n",
       "       [ 2.8, 11.4],\n",
       "       [ 2.8, 12. ],\n",
       "       [ 2.8, 13.3],\n",
       "       [ 2.8, 13.5],\n",
       "       [ 2.9,  9.4],\n",
       "       [ 2.9, 10.1],\n",
       "       [ 2.9, 10.6],\n",
       "       [ 2.9, 11.3],\n",
       "       [ 2.9, 11.8],\n",
       "       [ 3. , 10. ],\n",
       "       [ 3. , 10.4],\n",
       "       [ 3. , 10.6],\n",
       "       [ 3. , 11.6],\n",
       "       [ 3. , 12.2],\n",
       "       [ 3. , 12.4],\n",
       "       [ 3. , 12.7],\n",
       "       [ 3. , 13.3],\n",
       "       [ 3. , 13.8],\n",
       "       [ 3.1,  9.9],\n",
       "       [ 3.1, 11.5],\n",
       "       [ 3.1, 12.1],\n",
       "       [ 3.1, 12.5],\n",
       "       [ 3.1, 13. ],\n",
       "       [ 3.1, 14.3],\n",
       "       [ 3.2, 11.6],\n",
       "       [ 3.2, 11.9],\n",
       "       [ 3.2, 12.3],\n",
       "       [ 3.2, 13. ],\n",
       "       [ 3.2, 13.5],\n",
       "       [ 3.2, 13.6],\n",
       "       [ 3.3, 11.5],\n",
       "       [ 3.3, 12. ],\n",
       "       [ 3.3, 14.1],\n",
       "       [ 3.3, 14.9],\n",
       "       [ 3.3, 15.4],\n",
       "       [ 3.4, 11.2],\n",
       "       [ 3.4, 12.2],\n",
       "       [ 3.4, 12.4],\n",
       "       [ 3.4, 12.8],\n",
       "       [ 3.4, 14.4],\n",
       "       [ 3.5, 11.7],\n",
       "       [ 3.5, 12.9],\n",
       "       [ 3.5, 15.6],\n",
       "       [ 3.5, 15.7],\n",
       "       [ 3.5, 17.2],\n",
       "       [ 3.6, 11.8],\n",
       "       [ 3.6, 13.3],\n",
       "       [ 3.6, 14.8],\n",
       "       [ 3.6, 15. ],\n",
       "       [ 3.7, 11. ],\n",
       "       [ 3.8, 14.8],\n",
       "       [ 3.8, 16.8],\n",
       "       [ 3.9, 14.4],\n",
       "       [ 3.9, 20.5]])"
      ]
     },
     "execution_count": 42,
     "metadata": {},
     "output_type": "execute_result"
    }
   ],
   "source": [
    "# Read the data from file\n",
    "url = \"http://www.cs.bham.ac.uk/~lehrepk/nc/cats.csv\"\n",
    "cats = np.genfromtxt(url, delimiter=\",\", skip_header=1, usecols=(1,2))\n",
    "\n",
    "# print out the content of cats\n",
    "cats"
   ]
  },
  {
   "cell_type": "markdown",
   "metadata": {},
   "source": [
    "Now we are going to use a variable named `body_weight` to store all body weight (the first column in the `cats` array). To do so, we call a function `T` (transpose) to convert two columns into two rows. Each row now can be accessed by specifying the row number inside a square bracket. The following line will extract all data from the first column of the cats array and store them into the variable body_weight. "
   ]
  },
  {
   "cell_type": "code",
   "execution_count": 43,
   "metadata": {
    "jupyter": {
     "outputs_hidden": true
    }
   },
   "outputs": [
    {
     "data": {
      "text/plain": [
       "array([2. , 2. , 2. , 2.1, 2.1, 2.1, 2.1, 2.1, 2.1, 2.1, 2.1, 2.1, 2.2,\n",
       "       2.2, 2.2, 2.2, 2.2, 2.2, 2.3, 2.3, 2.3, 2.3, 2.3, 2.3, 2.3, 2.3,\n",
       "       2.3, 2.3, 2.3, 2.3, 2.4, 2.4, 2.4, 2.4, 2.5, 2.5, 2.6, 2.6, 2.6,\n",
       "       2.7, 2.7, 2.7, 2.9, 2.9, 2.9, 3. , 3. , 2. , 2. , 2.1, 2.2, 2.2,\n",
       "       2.2, 2.2, 2.2, 2.2, 2.2, 2.2, 2.3, 2.4, 2.4, 2.4, 2.4, 2.4, 2.5,\n",
       "       2.5, 2.5, 2.5, 2.5, 2.5, 2.5, 2.5, 2.6, 2.6, 2.6, 2.6, 2.6, 2.6,\n",
       "       2.7, 2.7, 2.7, 2.7, 2.7, 2.7, 2.7, 2.7, 2.7, 2.8, 2.8, 2.8, 2.8,\n",
       "       2.8, 2.8, 2.8, 2.9, 2.9, 2.9, 2.9, 2.9, 3. , 3. , 3. , 3. , 3. ,\n",
       "       3. , 3. , 3. , 3. , 3.1, 3.1, 3.1, 3.1, 3.1, 3.1, 3.2, 3.2, 3.2,\n",
       "       3.2, 3.2, 3.2, 3.3, 3.3, 3.3, 3.3, 3.3, 3.4, 3.4, 3.4, 3.4, 3.4,\n",
       "       3.5, 3.5, 3.5, 3.5, 3.5, 3.6, 3.6, 3.6, 3.6, 3.7, 3.8, 3.8, 3.9,\n",
       "       3.9])"
      ]
     },
     "execution_count": 43,
     "metadata": {},
     "output_type": "execute_result"
    }
   ],
   "source": [
    "# extract body_weight data from cats variable\n",
    "body_weight = cats.T[0]\n",
    "body_weight"
   ]
  },
  {
   "cell_type": "markdown",
   "metadata": {},
   "source": [
    "You should now complete the next code block in order to copy the second column in an array `heart_weight`."
   ]
  },
  {
   "cell_type": "code",
   "execution_count": 44,
   "metadata": {
    "jupyter": {
     "outputs_hidden": true
    }
   },
   "outputs": [
    {
     "data": {
      "text/plain": [
       "array([ 7. ,  7.4,  9.5,  7.2,  7.3,  7.6,  8.1,  8.2,  8.3,  8.5,  8.7,\n",
       "        9.8,  7.1,  8.7,  9.1,  9.7, 10.9, 11. ,  7.3,  7.9,  8.4,  9. ,\n",
       "        9. ,  9.5,  9.6,  9.7, 10.1, 10.1, 10.6, 11.2,  6.3,  8.7,  8.8,\n",
       "       10.2,  9. , 10.9,  8.7, 10.1, 10.1,  8.5, 10.2, 10.8,  9.9, 10.1,\n",
       "       10.1, 10.6, 13. ,  6.5,  6.5, 10.1,  7.2,  7.6,  7.9,  8.5,  9.1,\n",
       "        9.6,  9.6, 10.7,  9.6,  7.3,  7.9,  7.9,  9.1,  9.3,  7.9,  8.6,\n",
       "        8.8,  8.8,  9.3, 11. , 12.7, 12.7,  7.7,  8.3,  9.4,  9.4, 10.5,\n",
       "       11.5,  8. ,  9. ,  9.6,  9.6,  9.8, 10.4, 11.1, 12. , 12.5,  9.1,\n",
       "       10. , 10.2, 11.4, 12. , 13.3, 13.5,  9.4, 10.1, 10.6, 11.3, 11.8,\n",
       "       10. , 10.4, 10.6, 11.6, 12.2, 12.4, 12.7, 13.3, 13.8,  9.9, 11.5,\n",
       "       12.1, 12.5, 13. , 14.3, 11.6, 11.9, 12.3, 13. , 13.5, 13.6, 11.5,\n",
       "       12. , 14.1, 14.9, 15.4, 11.2, 12.2, 12.4, 12.8, 14.4, 11.7, 12.9,\n",
       "       15.6, 15.7, 17.2, 11.8, 13.3, 14.8, 15. , 11. , 14.8, 16.8, 14.4,\n",
       "       20.5])"
      ]
     },
     "execution_count": 44,
     "metadata": {},
     "output_type": "execute_result"
    }
   ],
   "source": [
    "# Extract data from second column here\n",
    "heart_weight = cats.T[1]\n",
    "heart_weight"
   ]
  },
  {
   "cell_type": "markdown",
   "metadata": {},
   "source": [
    "## Visualising the data\n",
    "We will now visualise the relationship between body and heart weights of the cats using a scatter plot using the [`scatter`](https://matplotlib.org/devdocs/api/_as_gen/matplotlib.pyplot.scatter.html) function in the matplotlib.pylot module. This function can be called as follows:\n",
    "\n",
    "    plt.scatter( x , y )\n",
    "    \n",
    "The two arguments `x` and `y` are the input data. We can label the `x`- and `y`-axes as follows: \n",
    "\n",
    "    plt.xlabel(\"x_label_here\") \n",
    "    plt.ylabel(\"y_label_here\") \n",
    "    \n",
    "The function scatter has many additional arguments, as [described in the reference manual]([`scatter`](https://matplotlib.org/devdocs/api/_as_gen/matplotlib.pyplot.scatter.html). \n",
    "\n",
    "Now, you should make a scatter plot of the heart weight versus body weight. You should label the x- and y-axes by \"Body weight (kg)\" and \"Heart weight (gm)\". Hint: Remember to include `plt.show()` at the end; otherwise, the scatter plot is not shown."
   ]
  },
  {
   "cell_type": "code",
   "execution_count": 45,
   "metadata": {
    "jupyter": {
     "outputs_hidden": true
    }
   },
   "outputs": [
    {
     "data": {
      "image/png": "[encoded data removed]",
      "text/plain": [
       "<Figure size 432x288 with 1 Axes>"
      ]
     },
     "metadata": {
      "needs_background": "light"
     },
     "output_type": "display_data"
    }
   ],
   "source": [
    "# Make the scatter plot here.\n",
    "x = body_weight\n",
    "y = heart_weight\n",
    "\n",
    "plt.scatter(x, y)\n",
    "plt.xlabel(\"Body weight (kg)\")\n",
    "plt.ylabel(\"Heart weight (kg)\")\n",
    "plt.show()"
   ]
  },
  {
   "cell_type": "markdown",
   "metadata": {},
   "source": [
    "## Defining a Linear Model\n",
    "\n",
    "A linear regression model in one variable has the following form $f(x) = wx+b$, where $x$ is the input, $w$ is called the weight and $b$ is known as the bias. As discussed in the lecture, we simplify the model even more by assuming $b=0$. The model now becomes $f(x)=wx$. If you sketch this model on xy coordinate system, it is a straight line passing through the origin with slope $w$. (i.e. derivative). \n",
    "\n",
    "The purpose of generating such a model is to predict an output (cat heart weight) given an input (cat body weight). Given the model parameter $w$ and the new input $x$, the output predicted by our simple model is $wx$. We will define a function named `linearmodel(x,w)` which represents this model. The function takes two arguments, the model parameter $w$ and the input $x$, and it returns the predicted output $wx$. Please refer to last week's lab sheet for a brief introduction to function definition in Python.\n",
    "\n",
    "Now, you should define the function `linearmodel` as described above."
   ]
  },
  {
   "cell_type": "code",
   "execution_count": 46,
   "metadata": {
    "jupyter": {
     "outputs_hidden": true
    }
   },
   "outputs": [],
   "source": [
    "# Define the linearmodel function here.\n",
    "def linearmodel(x,w):\n",
    "    return x*w"
   ]
  },
  {
   "cell_type": "markdown",
   "metadata": {},
   "source": [
    "We will visualise the cat data set together with the linear regression model for a given weight parameter $w$. Let's consider the following block of codes.\n",
    "\n",
    "    w = 3.907111\n",
    "    x = np.arange(2.0, 4.0, 0.2)\n",
    "    plt.plot(x, linearmodel(x,w), 'r-')\n",
    "    plt.show()\n",
    "    \n",
    "The first line assigns a value of 3.907111 to the weight $w$. The function call `np.arange(x,y,z)` returns an array of evenly separated values, starting from x to y (excluding) with step size of z. For example, np.arange(3,7,2) yields an array consisting of 3 and 5 only. The `plt.plot()` function call is then invoked to plot the linear model for a given weight. Notice that the data set drawn on the y-axis in this case will be the set of output values received from calling the function `linearmodel(x,w)` once for each element in the array `x`. The argument `'r-'` specifies that we want to plot a solid red line.\n",
    "\n",
    "Write code to plot this simple linear model for the cats data set. You have to plot the cats data set first (use code from the previous exercise, and remove the `plt.show()` in the end), and then add the code to plot the linear model. Remember to add `plt.show()` in the end, otherwise the plot is not displayed."
   ]
  },
  {
   "cell_type": "code",
   "execution_count": 47,
   "metadata": {
    "jupyter": {
     "outputs_hidden": true
    }
   },
   "outputs": [
    {
     "data": {
      "image/png": "[encoded data removed]",
      "text/plain": [
       "<Figure size 432x288 with 1 Axes>"
      ]
     },
     "metadata": {
      "needs_background": "light"
     },
     "output_type": "display_data"
    }
   ],
   "source": [
    "# Add your previous code to plot a scatter here without plt.show() at the end.\n",
    "x = body_weight\n",
    "y = heart_weight\n",
    "\n",
    "plt.scatter(x, y)\n",
    "plt.xlabel(\"Body weight (kg)\")\n",
    "plt.ylabel(\"Heart weight (kg)\")\n",
    "\n",
    "# Plot the linear regression model f(x) = x*w here as solid red line (r-) in the interval [2,4).\n",
    "w = 3.907111\n",
    "x = np.arange(2.0, 4.0, 0.2)\n",
    "plt.plot(x, linearmodel(x,w), 'r-')\n",
    "plt.show()"
   ]
  },
  {
   "cell_type": "markdown",
   "metadata": {},
   "source": [
    "## Ordinary Least Square Solution\n",
    "As you can see from the lecture notes, we define a cost function as follows.\n",
    "\n",
    "$$J(w) = \\frac{1}{n}{\\sum_{i=1}^n}\\frac{1}{2}(y^{(i)}-wx^{(i)})^2$$\n",
    "\n",
    "By solving the equation $J'(w)=0$ for $w$, We obtain the ordinary least square solution\n",
    "\n",
    "$$w = \\frac{\\sum_{i=1}^n x^{(i)}y^{(i)}}{\\sum_{i=1}^n (x^{(i)})^2}$$\n",
    "\n",
    "Here in order to calculate the numerator, we have to calculate $n$ products $x^{(i)}y^{(i)}$ (for $i=1,2,...,n$), and then sum them up. We have to do the same number of steps for the denominator. \n",
    "\n",
    "Perhaps the most immediate way of computing these expressions in Python would be to use two for-loops. However, by realising that the numerator and denumerator are dot products between two vectors, we can take advantage of NumPy's efficient routines.\n",
    "The dot product between two vectors $x = (x^{(1)}, x^{(2)},\\ldots,x^{(n)})$ and $y=(y^{(1)}, y^{(2)},\\ldots,y^{(n)})$ is $x\\cdot y = \\sum_{i=1}^n x^{(i)}y^{(i)}$. The formula to calculate $w$ above can be now rewritten as \n",
    "\n",
    "$$w = \\frac{x\\cdot y}{x\\cdot x}.$$\n",
    "\n",
    "To compute the dot product between two vectors $x$ and $y$, we can invoke the NumPy function `np.dot(x,y)`. \n",
    "\n",
    "Implement a function `ols` which takes two arguments $x$ and $y$, and which returns the value of the weight parameter $w$ according to the formula above."
   ]
  },
  {
   "cell_type": "code",
   "execution_count": 48,
   "metadata": {
    "jupyter": {
     "outputs_hidden": true
    }
   },
   "outputs": [],
   "source": [
    "# define your ols function here\n",
    "def ols(x,y):\n",
    "    w = np.dot(x,y)/np.dot(x,x)\n",
    "    return w"
   ]
  },
  {
   "cell_type": "markdown",
   "metadata": {},
   "source": [
    "Now call the function `ols` with the arrays `body_weight` and `heart_weight` as arguments. What is the value of weight $w$ you obtain?"
   ]
  },
  {
   "cell_type": "code",
   "execution_count": 49,
   "metadata": {
    "jupyter": {
     "outputs_hidden": true
    }
   },
   "outputs": [
    {
     "data": {
      "text/plain": [
       "3.90711329727375"
      ]
     },
     "execution_count": 49,
     "metadata": {},
     "output_type": "execute_result"
    }
   ],
   "source": [
    "# call the ols function here\n",
    "ols(body_weight, heart_weight)"
   ]
  },
  {
   "cell_type": "markdown",
   "metadata": {},
   "source": [
    "## Defining a Cost Function\n",
    "\n",
    "The following two functions computes the cost function $J(w)$ and its derivative $J'(w)$ (or $\\nabla J(w)$), defined above using the data set. Here we make use of function `np.sum()` to perform the summation of two vectors. \n",
    "\n",
    "Note that in the notation of the cost function $J(w)$, we omit the input `X` (i.e., body_weight) and \n",
    "target `Y` (i.e., heart_weight), but we have to include them when defining the cost function in Python. "
   ]
  },
  {
   "cell_type": "code",
   "execution_count": 50,
   "metadata": {
    "jupyter": {
     "outputs_hidden": true
    }
   },
   "outputs": [],
   "source": [
    "X = body_weight\n",
    "Y = heart_weight\n",
    "\n",
    "# cost function\n",
    "def J(w, X, Y):\n",
    "    return 0.5*(np.sum((Y - linearmodel(X, w)))**2)\n",
    "\n",
    "# derivative of the cost function\n",
    "def J_d(w, X, Y):\n",
    "    return np.dot(X.T, (linearmodel(X, w)-Y))"
   ]
  },
  {
   "cell_type": "markdown",
   "metadata": {},
   "source": [
    "We assign some values to $w$, using a `np.arange(start, stop, step)` function call as follows:\n",
    "\n",
    "    w = np.arange(2.9,5.0,0.01)\n",
    "    \n",
    "The corresponding values of $J(w)$ can be computed using list comprehension as follows. \n",
    "\n",
    "    [J(i) for i in w] \n",
    "    \n",
    "In this statement, we call function $J(i)$ for each value $i$ in the list $w$. \n",
    "The result of this statement will be a list $[J(w_1), J(w_2),\\ldots,J(w_n)]$. If you do not know what list comprehension is, please refer to last week's lab sheet.\n",
    "   \n",
    "Can you plot the loss function for values of weight $w$ given above? Remember to label the x- and y-axis as \"w\" and \"J(w)\", respectively, and include plt.show() at the end. "
   ]
  },
  {
   "cell_type": "code",
   "execution_count": 51,
   "metadata": {
    "jupyter": {
     "outputs_hidden": true
    }
   },
   "outputs": [
    {
     "data": {
      "image/png": "[encoded data removed]",
      "text/plain": [
       "<Figure size 432x288 with 1 Axes>"
      ]
     },
     "metadata": {
      "needs_background": "light"
     },
     "output_type": "display_data"
    }
   ],
   "source": [
    "# plot the loss function here\n",
    "w = np.arange(2.9, 5.0, 0.01)\n",
    "\n",
    "J_w = [J(i, X, Y) for i in w]\n",
    "plt.plot(w, J_w, 'r-')\n",
    "plt.xlabel(\"w\")\n",
    "plt.ylabel(\"J(w)\")\n",
    "plt.show()"
   ]
  },
  {
   "cell_type": "markdown",
   "metadata": {},
   "source": [
    "By looking at the plot you have just drawn, can you roughly estimate for which value of $w$ the loss function has minimum value?"
   ]
  },
  {
   "cell_type": "markdown",
   "metadata": {},
   "source": [
    "## Gradient Descent Algorithm in One-Dimensional Space\n",
    "\n",
    "In this final section, we are going to use the gradient descend method to find  $w^{*} = \\text{arg min}_w J(w)$, that is, the value of parameter $w$ such that $J(w)$ reaches the (locally) minimum value. In gradient descent, we usually work with an *iterative update scheme* for the weight $w$: \n",
    "$$w^{(t+1)} \\leftarrow w^{(t)} + \\Delta w,$$ \n",
    "where $\\Delta w = -\\epsilon \\cdot \\nabla J(w^{(t)})$ for some (often constant) learning rate $\\epsilon$ and the gradient $\\nabla J$ evaluated at current parameter value $w^{(t)}$. Intuitively speaking, we update the parameters in each iteration in the *opposite* direction of the gradient. The update rule can be formally written as follows.\n",
    "\n",
    "$$w^{(t+1)} \\leftarrow w^{(t)} - \\epsilon\\cdot  \\nabla J(w^{(t)}).$$\n",
    "\n",
    "The following (partial) code first sets up a canvas to illustrate visually how gradient descent works on the loss function $J(w)$. Here we use a learning rate $\\epsilon = 0.0001$ and initial weight $w_0 = 2.5$. A for-loop will iteratively update the value of weight $w$ (see the body of the for-loop). After each update, the new value of weight $w$ will be plotted, and over time, it shows clearly how the weight is updated until coverging to the global optimum. \n",
    "\n",
    "Complete the code below so that the parameter $w$ is updated via gradient descent."
   ]
  },
  {
   "cell_type": "code",
   "execution_count": 54,
   "metadata": {
    "jupyter": {
     "outputs_hidden": true
    }
   },
   "outputs": [
    {
     "data": {
      "application/javascript": [
       "/* Put everything inside the global mpl namespace */\n",
       "window.mpl = {};\n",
       "\n",
       "\n",
       "mpl.get_websocket_type = function() {\n",
       "    if (typeof(WebSocket) !== 'undefined') {\n",
       "        return WebSocket;\n",
       "    } else if (typeof(MozWebSocket) !== 'undefined') {\n",
       "        return MozWebSocket;\n",
       "    } else {\n",
       "        alert('Your browser does not have WebSocket support. ' +\n",
       "              'Please try Chrome, Safari or Firefox ≥ 6. ' +\n",
       "              'Firefox 4 and 5 are also supported but you ' +\n",
       "              'have to enable WebSockets in about:config.');\n",
       "    };\n",
       "}\n",
       "\n",
       "mpl.figure = function(figure_id, websocket, ondownload, parent_element) {\n",
       "    this.id = figure_id;\n",
       "\n",
       "    this.ws = websocket;\n",
       "\n",
       "    this.supports_binary = (this.ws.binaryType != undefined);\n",
       "\n",
       "    if (!this.supports_binary) {\n",
       "        var warnings = document.getElementById(\"mpl-warnings\");\n",
       "        if (warnings) {\n",
       "            warnings.style.display = 'block';\n",
       "            warnings.textContent = (\n",
       "                \"This browser does not support binary websocket messages. \" +\n",
       "                    \"Performance may be slow.\");\n",
       "        }\n",
       "    }\n",
       "\n",
       "    this.imageObj = new Image();\n",
       "\n",
       "    this.context = undefined;\n",
       "    this.message = undefined;\n",
       "    this.canvas = undefined;\n",
       "    this.rubberband_canvas = undefined;\n",
       "    this.rubberband_context = undefined;\n",
       "    this.format_dropdown = undefined;\n",
       "\n",
       "    this.image_mode = 'full';\n",
       "\n",
       "    this.root = $('<div/>');\n",
       "    this._root_extra_style(this.root)\n",
       "    this.root.attr('style', 'display: inline-block');\n",
       "\n",
       "    $(parent_element).append(this.root);\n",
       "\n",
       "    this._init_header(this);\n",
       "    this._init_canvas(this);\n",
       "    this._init_toolbar(this);\n",
       "\n",
       "    var fig = this;\n",
       "\n",
       "    this.waiting = false;\n",
       "\n",
       "    this.ws.onopen =  function () {\n",
       "            fig.send_message(\"supports_binary\", {value: fig.supports_binary});\n",
       "            fig.send_message(\"send_image_mode\", {});\n",
       "            if (mpl.ratio != 1) {\n",
       "                fig.send_message(\"set_dpi_ratio\", {'dpi_ratio': mpl.ratio});\n",
       "            }\n",
       "            fig.send_message(\"refresh\", {});\n",
       "        }\n",
       "\n",
       "    this.imageObj.onload = function() {\n",
       "            if (fig.image_mode == 'full') {\n",
       "                // Full images could contain transparency (where diff images\n",
       "                // almost always do), so we need to clear the canvas so that\n",
       "                // there is no ghosting.\n",
       "                fig.context.clearRect(0, 0, fig.canvas.width, fig.canvas.height);\n",
       "            }\n",
       "            fig.context.drawImage(fig.imageObj, 0, 0);\n",
       "        };\n",
       "\n",
       "    this.imageObj.onunload = function() {\n",
       "        fig.ws.close();\n",
       "    }\n",
       "\n",
       "    this.ws.onmessage = this._make_on_message_function(this);\n",
       "\n",
       "    this.ondownload = ondownload;\n",
       "}\n",
       "\n",
       "mpl.figure.prototype._init_header = function() {\n",
       "    var titlebar = $(\n",
       "        '<div class=\"ui-dialog-titlebar ui-widget-header ui-corner-all ' +\n",
       "        'ui-helper-clearfix\"/>');\n",
       "    var titletext = $(\n",
       "        '<div class=\"ui-dialog-title\" style=\"width: 100%; ' +\n",
       "        'text-align: center; padding: 3px;\"/>');\n",
       "    titlebar.append(titletext)\n",
       "    this.root.append(titlebar);\n",
       "    this.header = titletext[0];\n",
       "}\n",
       "\n",
       "\n",
       "\n",
       "mpl.figure.prototype._canvas_extra_style = function(canvas_div) {\n",
       "\n",
       "}\n",
       "\n",
       "\n",
       "mpl.figure.prototype._root_extra_style = function(canvas_div) {\n",
       "\n",
       "}\n",
       "\n",
       "mpl.figure.prototype._init_canvas = function() {\n",
       "    var fig = this;\n",
       "\n",
       "    var canvas_div = $('<div/>');\n",
       "\n",
       "    canvas_div.attr('style', 'position: relative; clear: both; outline: 0');\n",
       "\n",
       "    function canvas_keyboard_event(event) {\n",
       "        return fig.key_event(event, event['data']);\n",
       "    }\n",
       "\n",
       "    canvas_div.keydown('key_press', canvas_keyboard_event);\n",
       "    canvas_div.keyup('key_release', canvas_keyboard_event);\n",
       "    this.canvas_div = canvas_div\n",
       "    this._canvas_extra_style(canvas_div)\n",
       "    this.root.append(canvas_div);\n",
       "\n",
       "    var canvas = $('<canvas/>');\n",
       "    canvas.addClass('mpl-canvas');\n",
       "    canvas.attr('style', \"left: 0; top: 0; z-index: 0; outline: 0\")\n",
       "\n",
       "    this.canvas = canvas[0];\n",
       "    this.context = canvas[0].getContext(\"2d\");\n",
       "\n",
       "    var backingStore = this.context.backingStorePixelRatio ||\n",
       "\tthis.context.webkitBackingStorePixelRatio ||\n",
       "\tthis.context.mozBackingStorePixelRatio ||\n",
       "\tthis.context.msBackingStorePixelRatio ||\n",
       "\tthis.context.oBackingStorePixelRatio ||\n",
       "\tthis.context.backingStorePixelRatio || 1;\n",
       "\n",
       "    mpl.ratio = (window.devicePixelRatio || 1) / backingStore;\n",
       "\n",
       "    var rubberband = $('<canvas/>');\n",
       "    rubberband.attr('style', \"position: absolute; left: 0; top: 0; z-index: 1;\")\n",
       "\n",
       "    var pass_mouse_events = true;\n",
       "\n",
       "    canvas_div.resizable({\n",
       "        start: function(event, ui) {\n",
       "            pass_mouse_events = false;\n",
       "        },\n",
       "        resize: function(event, ui) {\n",
       "            fig.request_resize(ui.size.width, ui.size.height);\n",
       "        },\n",
       "        stop: function(event, ui) {\n",
       "            pass_mouse_events = true;\n",
       "            fig.request_resize(ui.size.width, ui.size.height);\n",
       "        },\n",
       "    });\n",
       "\n",
       "    function mouse_event_fn(event) {\n",
       "        if (pass_mouse_events)\n",
       "            return fig.mouse_event(event, event['data']);\n",
       "    }\n",
       "\n",
       "    rubberband.mousedown('button_press', mouse_event_fn);\n",
       "    rubberband.mouseup('button_release', mouse_event_fn);\n",
       "    // Throttle sequential mouse events to 1 every 20ms.\n",
       "    rubberband.mousemove('motion_notify', mouse_event_fn);\n",
       "\n",
       "    rubberband.mouseenter('figure_enter', mouse_event_fn);\n",
       "    rubberband.mouseleave('figure_leave', mouse_event_fn);\n",
       "\n",
       "    canvas_div.on(\"wheel\", function (event) {\n",
       "        event = event.originalEvent;\n",
       "        event['data'] = 'scroll'\n",
       "        if (event.deltaY < 0) {\n",
       "            event.step = 1;\n",
       "        } else {\n",
       "            event.step = -1;\n",
       "        }\n",
       "        mouse_event_fn(event);\n",
       "    });\n",
       "\n",
       "    canvas_div.append(canvas);\n",
       "    canvas_div.append(rubberband);\n",
       "\n",
       "    this.rubberband = rubberband;\n",
       "    this.rubberband_canvas = rubberband[0];\n",
       "    this.rubberband_context = rubberband[0].getContext(\"2d\");\n",
       "    this.rubberband_context.strokeStyle = \"#000000\";\n",
       "\n",
       "    this._resize_canvas = function(width, height) {\n",
       "        // Keep the size of the canvas, canvas container, and rubber band\n",
       "        // canvas in synch.\n",
       "        canvas_div.css('width', width)\n",
       "        canvas_div.css('height', height)\n",
       "\n",
       "        canvas.attr('width', width * mpl.ratio);\n",
       "        canvas.attr('height', height * mpl.ratio);\n",
       "        canvas.attr('style', 'width: ' + width + 'px; height: ' + height + 'px;');\n",
       "\n",
       "        rubberband.attr('width', width);\n",
       "        rubberband.attr('height', height);\n",
       "    }\n",
       "\n",
       "    // Set the figure to an initial 600x600px, this will subsequently be updated\n",
       "    // upon first draw.\n",
       "    this._resize_canvas(600, 600);\n",
       "\n",
       "    // Disable right mouse context menu.\n",
       "    $(this.rubberband_canvas).bind(\"contextmenu\",function(e){\n",
       "        return false;\n",
       "    });\n",
       "\n",
       "    function set_focus () {\n",
       "        canvas.focus();\n",
       "        canvas_div.focus();\n",
       "    }\n",
       "\n",
       "    window.setTimeout(set_focus, 100);\n",
       "}\n",
       "\n",
       "mpl.figure.prototype._init_toolbar = function() {\n",
       "    var fig = this;\n",
       "\n",
       "    var nav_element = $('<div/>');\n",
       "    nav_element.attr('style', 'width: 100%');\n",
       "    this.root.append(nav_element);\n",
       "\n",
       "    // Define a callback function for later on.\n",
       "    function toolbar_event(event) {\n",
       "        return fig.toolbar_button_onclick(event['data']);\n",
       "    }\n",
       "    function toolbar_mouse_event(event) {\n",
       "        return fig.toolbar_button_onmouseover(event['data']);\n",
       "    }\n",
       "\n",
       "    for(var toolbar_ind in mpl.toolbar_items) {\n",
       "        var name = mpl.toolbar_items[toolbar_ind][0];\n",
       "        var tooltip = mpl.toolbar_items[toolbar_ind][1];\n",
       "        var image = mpl.toolbar_items[toolbar_ind][2];\n",
       "        var method_name = mpl.toolbar_items[toolbar_ind][3];\n",
       "\n",
       "        if (!name) {\n",
       "            // put a spacer in here.\n",
       "            continue;\n",
       "        }\n",
       "        var button = $('<button/>');\n",
       "        button.addClass('ui-button ui-widget ui-state-default ui-corner-all ' +\n",
       "                        'ui-button-icon-only');\n",
       "        button.attr('role', 'button');\n",
       "        button.attr('aria-disabled', 'false');\n",
       "        button.click(method_name, toolbar_event);\n",
       "        button.mouseover(tooltip, toolbar_mouse_event);\n",
       "\n",
       "        var icon_img = $('<span/>');\n",
       "        icon_img.addClass('ui-button-icon-primary ui-icon');\n",
       "        icon_img.addClass(image);\n",
       "        icon_img.addClass('ui-corner-all');\n",
       "\n",
       "        var tooltip_span = $('<span/>');\n",
       "        tooltip_span.addClass('ui-button-text');\n",
       "        tooltip_span.html(tooltip);\n",
       "\n",
       "        button.append(icon_img);\n",
       "        button.append(tooltip_span);\n",
       "\n",
       "        nav_element.append(button);\n",
       "    }\n",
       "\n",
       "    var fmt_picker_span = $('<span/>');\n",
       "\n",
       "    var fmt_picker = $('<select/>');\n",
       "    fmt_picker.addClass('mpl-toolbar-option ui-widget ui-widget-content');\n",
       "    fmt_picker_span.append(fmt_picker);\n",
       "    nav_element.append(fmt_picker_span);\n",
       "    this.format_dropdown = fmt_picker[0];\n",
       "\n",
       "    for (var ind in mpl.extensions) {\n",
       "        var fmt = mpl.extensions[ind];\n",
       "        var option = $(\n",
       "            '<option/>', {selected: fmt === mpl.default_extension}).html(fmt);\n",
       "        fmt_picker.append(option);\n",
       "    }\n",
       "\n",
       "    // Add hover states to the ui-buttons\n",
       "    $( \".ui-button\" ).hover(\n",
       "        function() { $(this).addClass(\"ui-state-hover\");},\n",
       "        function() { $(this).removeClass(\"ui-state-hover\");}\n",
       "    );\n",
       "\n",
       "    var status_bar = $('<span class=\"mpl-message\"/>');\n",
       "    nav_element.append(status_bar);\n",
       "    this.message = status_bar[0];\n",
       "}\n",
       "\n",
       "mpl.figure.prototype.request_resize = function(x_pixels, y_pixels) {\n",
       "    // Request matplotlib to resize the figure. Matplotlib will then trigger a resize in the client,\n",
       "    // which will in turn request a refresh of the image.\n",
       "    this.send_message('resize', {'width': x_pixels, 'height': y_pixels});\n",
       "}\n",
       "\n",
       "mpl.figure.prototype.send_message = function(type, properties) {\n",
       "    properties['type'] = type;\n",
       "    properties['figure_id'] = this.id;\n",
       "    this.ws.send(JSON.stringify(properties));\n",
       "}\n",
       "\n",
       "mpl.figure.prototype.send_draw_message = function() {\n",
       "    if (!this.waiting) {\n",
       "        this.waiting = true;\n",
       "        this.ws.send(JSON.stringify({type: \"draw\", figure_id: this.id}));\n",
       "    }\n",
       "}\n",
       "\n",
       "\n",
       "mpl.figure.prototype.handle_save = function(fig, msg) {\n",
       "    var format_dropdown = fig.format_dropdown;\n",
       "    var format = format_dropdown.options[format_dropdown.selectedIndex].value;\n",
       "    fig.ondownload(fig, format);\n",
       "}\n",
       "\n",
       "\n",
       "mpl.figure.prototype.handle_resize = function(fig, msg) {\n",
       "    var size = msg['size'];\n",
       "    if (size[0] != fig.canvas.width || size[1] != fig.canvas.height) {\n",
       "        fig._resize_canvas(size[0], size[1]);\n",
       "        fig.send_message(\"refresh\", {});\n",
       "    };\n",
       "}\n",
       "\n",
       "mpl.figure.prototype.handle_rubberband = function(fig, msg) {\n",
       "    var x0 = msg['x0'] / mpl.ratio;\n",
       "    var y0 = (fig.canvas.height - msg['y0']) / mpl.ratio;\n",
       "    var x1 = msg['x1'] / mpl.ratio;\n",
       "    var y1 = (fig.canvas.height - msg['y1']) / mpl.ratio;\n",
       "    x0 = Math.floor(x0) + 0.5;\n",
       "    y0 = Math.floor(y0) + 0.5;\n",
       "    x1 = Math.floor(x1) + 0.5;\n",
       "    y1 = Math.floor(y1) + 0.5;\n",
       "    var min_x = Math.min(x0, x1);\n",
       "    var min_y = Math.min(y0, y1);\n",
       "    var width = Math.abs(x1 - x0);\n",
       "    var height = Math.abs(y1 - y0);\n",
       "\n",
       "    fig.rubberband_context.clearRect(\n",
       "        0, 0, fig.canvas.width / mpl.ratio, fig.canvas.height / mpl.ratio);\n",
       "\n",
       "    fig.rubberband_context.strokeRect(min_x, min_y, width, height);\n",
       "}\n",
       "\n",
       "mpl.figure.prototype.handle_figure_label = function(fig, msg) {\n",
       "    // Updates the figure title.\n",
       "    fig.header.textContent = msg['label'];\n",
       "}\n",
       "\n",
       "mpl.figure.prototype.handle_cursor = function(fig, msg) {\n",
       "    var cursor = msg['cursor'];\n",
       "    switch(cursor)\n",
       "    {\n",
       "    case 0:\n",
       "        cursor = 'pointer';\n",
       "        break;\n",
       "    case 1:\n",
       "        cursor = 'default';\n",
       "        break;\n",
       "    case 2:\n",
       "        cursor = 'crosshair';\n",
       "        break;\n",
       "    case 3:\n",
       "        cursor = 'move';\n",
       "        break;\n",
       "    }\n",
       "    fig.rubberband_canvas.style.cursor = cursor;\n",
       "}\n",
       "\n",
       "mpl.figure.prototype.handle_message = function(fig, msg) {\n",
       "    fig.message.textContent = msg['message'];\n",
       "}\n",
       "\n",
       "mpl.figure.prototype.handle_draw = function(fig, msg) {\n",
       "    // Request the server to send over a new figure.\n",
       "    fig.send_draw_message();\n",
       "}\n",
       "\n",
       "mpl.figure.prototype.handle_image_mode = function(fig, msg) {\n",
       "    fig.image_mode = msg['mode'];\n",
       "}\n",
       "\n",
       "mpl.figure.prototype.updated_canvas_event = function() {\n",
       "    // Called whenever the canvas gets updated.\n",
       "    this.send_message(\"ack\", {});\n",
       "}\n",
       "\n",
       "// A function to construct a web socket function for onmessage handling.\n",
       "// Called in the figure constructor.\n",
       "mpl.figure.prototype._make_on_message_function = function(fig) {\n",
       "    return function socket_on_message(evt) {\n",
       "        if (evt.data instanceof Blob) {\n",
       "            /* FIXME: We get \"Resource interpreted as Image but\n",
       "             * transferred with MIME type text/plain:\" errors on\n",
       "             * Chrome.  But how to set the MIME type?  It doesn't seem\n",
       "             * to be part of the websocket stream */\n",
       "            evt.data.type = \"image/png\";\n",
       "\n",
       "            /* Free the memory for the previous frames */\n",
       "            if (fig.imageObj.src) {\n",
       "                (window.URL || window.webkitURL).revokeObjectURL(\n",
       "                    fig.imageObj.src);\n",
       "            }\n",
       "\n",
       "            fig.imageObj.src = (window.URL || window.webkitURL).createObjectURL(\n",
       "                evt.data);\n",
       "            fig.updated_canvas_event();\n",
       "            fig.waiting = false;\n",
       "            return;\n",
       "        }\n",
       "        else if (typeof evt.data === 'string' && evt.data.slice(0, 21) == \"data:image/png;base64\") {\n",
       "            fig.imageObj.src = evt.data;\n",
       "            fig.updated_canvas_event();\n",
       "            fig.waiting = false;\n",
       "            return;\n",
       "        }\n",
       "\n",
       "        var msg = JSON.parse(evt.data);\n",
       "        var msg_type = msg['type'];\n",
       "\n",
       "        // Call the  \"handle_{type}\" callback, which takes\n",
       "        // the figure and JSON message as its only arguments.\n",
       "        try {\n",
       "            var callback = fig[\"handle_\" + msg_type];\n",
       "        } catch (e) {\n",
       "            console.log(\"No handler for the '\" + msg_type + \"' message type: \", msg);\n",
       "            return;\n",
       "        }\n",
       "\n",
       "        if (callback) {\n",
       "            try {\n",
       "                // console.log(\"Handling '\" + msg_type + \"' message: \", msg);\n",
       "                callback(fig, msg);\n",
       "            } catch (e) {\n",
       "                console.log(\"Exception inside the 'handler_\" + msg_type + \"' callback:\", e, e.stack, msg);\n",
       "            }\n",
       "        }\n",
       "    };\n",
       "}\n",
       "\n",
       "// from http://stackoverflow.com/questions/1114465/getting-mouse-location-in-canvas\n",
       "mpl.findpos = function(e) {\n",
       "    //this section is from http://www.quirksmode.org/js/events_properties.html\n",
       "    var targ;\n",
       "    if (!e)\n",
       "        e = window.event;\n",
       "    if (e.target)\n",
       "        targ = e.target;\n",
       "    else if (e.srcElement)\n",
       "        targ = e.srcElement;\n",
       "    if (targ.nodeType == 3) // defeat Safari bug\n",
       "        targ = targ.parentNode;\n",
       "\n",
       "    // jQuery normalizes the pageX and pageY\n",
       "    // pageX,Y are the mouse positions relative to the document\n",
       "    // offset() returns the position of the element relative to the document\n",
       "    var x = e.pageX - $(targ).offset().left;\n",
       "    var y = e.pageY - $(targ).offset().top;\n",
       "\n",
       "    return {\"x\": x, \"y\": y};\n",
       "};\n",
       "\n",
       "/*\n",
       " * return a copy of an object with only non-object keys\n",
       " * we need this to avoid circular references\n",
       " * http://stackoverflow.com/a/24161582/3208463\n",
       " */\n",
       "function simpleKeys (original) {\n",
       "  return Object.keys(original).reduce(function (obj, key) {\n",
       "    if (typeof original[key] !== 'object')\n",
       "        obj[key] = original[key]\n",
       "    return obj;\n",
       "  }, {});\n",
       "}\n",
       "\n",
       "mpl.figure.prototype.mouse_event = function(event, name) {\n",
       "    var canvas_pos = mpl.findpos(event)\n",
       "\n",
       "    if (name === 'button_press')\n",
       "    {\n",
       "        this.canvas.focus();\n",
       "        this.canvas_div.focus();\n",
       "    }\n",
       "\n",
       "    var x = canvas_pos.x * mpl.ratio;\n",
       "    var y = canvas_pos.y * mpl.ratio;\n",
       "\n",
       "    this.send_message(name, {x: x, y: y, button: event.button,\n",
       "                             step: event.step,\n",
       "                             guiEvent: simpleKeys(event)});\n",
       "\n",
       "    /* This prevents the web browser from automatically changing to\n",
       "     * the text insertion cursor when the button is pressed.  We want\n",
       "     * to control all of the cursor setting manually through the\n",
       "     * 'cursor' event from matplotlib */\n",
       "    event.preventDefault();\n",
       "    return false;\n",
       "}\n",
       "\n",
       "mpl.figure.prototype._key_event_extra = function(event, name) {\n",
       "    // Handle any extra behaviour associated with a key event\n",
       "}\n",
       "\n",
       "mpl.figure.prototype.key_event = function(event, name) {\n",
       "\n",
       "    // Prevent repeat events\n",
       "    if (name == 'key_press')\n",
       "    {\n",
       "        if (event.which === this._key)\n",
       "            return;\n",
       "        else\n",
       "            this._key = event.which;\n",
       "    }\n",
       "    if (name == 'key_release')\n",
       "        this._key = null;\n",
       "\n",
       "    var value = '';\n",
       "    if (event.ctrlKey && event.which != 17)\n",
       "        value += \"ctrl+\";\n",
       "    if (event.altKey && event.which != 18)\n",
       "        value += \"alt+\";\n",
       "    if (event.shiftKey && event.which != 16)\n",
       "        value += \"shift+\";\n",
       "\n",
       "    value += 'k';\n",
       "    value += event.which.toString();\n",
       "\n",
       "    this._key_event_extra(event, name);\n",
       "\n",
       "    this.send_message(name, {key: value,\n",
       "                             guiEvent: simpleKeys(event)});\n",
       "    return false;\n",
       "}\n",
       "\n",
       "mpl.figure.prototype.toolbar_button_onclick = function(name) {\n",
       "    if (name == 'download') {\n",
       "        this.handle_save(this, null);\n",
       "    } else {\n",
       "        this.send_message(\"toolbar_button\", {name: name});\n",
       "    }\n",
       "};\n",
       "\n",
       "mpl.figure.prototype.toolbar_button_onmouseover = function(tooltip) {\n",
       "    this.message.textContent = tooltip;\n",
       "};\n",
       "mpl.toolbar_items = [[\"Home\", \"Reset original view\", \"fa fa-home icon-home\", \"home\"], [\"Back\", \"Back to previous view\", \"fa fa-arrow-left icon-arrow-left\", \"back\"], [\"Forward\", \"Forward to next view\", \"fa fa-arrow-right icon-arrow-right\", \"forward\"], [\"\", \"\", \"\", \"\"], [\"Pan\", \"Pan axes with left mouse, zoom with right\", \"fa fa-arrows icon-move\", \"pan\"], [\"Zoom\", \"Zoom to rectangle\", \"fa fa-square-o icon-check-empty\", \"zoom\"], [\"\", \"\", \"\", \"\"], [\"Download\", \"Download plot\", \"fa fa-floppy-o icon-save\", \"download\"]];\n",
       "\n",
       "mpl.extensions = [\"eps\", \"pdf\", \"png\", \"ps\", \"raw\", \"svg\"];\n",
       "\n",
       "mpl.default_extension = \"png\";var comm_websocket_adapter = function(comm) {\n",
       "    // Create a \"websocket\"-like object which calls the given IPython comm\n",
       "    // object with the appropriate methods. Currently this is a non binary\n",
       "    // socket, so there is still some room for performance tuning.\n",
       "    var ws = {};\n",
       "\n",
       "    ws.close = function() {\n",
       "        comm.close()\n",
       "    };\n",
       "    ws.send = function(m) {\n",
       "        //console.log('sending', m);\n",
       "        comm.send(m);\n",
       "    };\n",
       "    // Register the callback with on_msg.\n",
       "    comm.on_msg(function(msg) {\n",
       "        //console.log('receiving', msg['content']['data'], msg);\n",
       "        // Pass the mpl event to the overridden (by mpl) onmessage function.\n",
       "        ws.onmessage(msg['content']['data'])\n",
       "    });\n",
       "    return ws;\n",
       "}\n",
       "\n",
       "mpl.mpl_figure_comm = function(comm, msg) {\n",
       "    // This is the function which gets called when the mpl process\n",
       "    // starts-up an IPython Comm through the \"matplotlib\" channel.\n",
       "\n",
       "    var id = msg.content.data.id;\n",
       "    // Get hold of the div created by the display call when the Comm\n",
       "    // socket was opened in Python.\n",
       "    var element = $(\"#\" + id);\n",
       "    var ws_proxy = comm_websocket_adapter(comm)\n",
       "\n",
       "    function ondownload(figure, format) {\n",
       "        window.open(figure.imageObj.src);\n",
       "    }\n",
       "\n",
       "    var fig = new mpl.figure(id, ws_proxy,\n",
       "                           ondownload,\n",
       "                           element.get(0));\n",
       "\n",
       "    // Call onopen now - mpl needs it, as it is assuming we've passed it a real\n",
       "    // web socket which is closed, not our websocket->open comm proxy.\n",
       "    ws_proxy.onopen();\n",
       "\n",
       "    fig.parent_element = element.get(0);\n",
       "    fig.cell_info = mpl.find_output_cell(\"<div id='\" + id + \"'></div>\");\n",
       "    if (!fig.cell_info) {\n",
       "        console.error(\"Failed to find cell for figure\", id, fig);\n",
       "        return;\n",
       "    }\n",
       "\n",
       "    var output_index = fig.cell_info[2]\n",
       "    var cell = fig.cell_info[0];\n",
       "\n",
       "};\n",
       "\n",
       "mpl.figure.prototype.handle_close = function(fig, msg) {\n",
       "    var width = fig.canvas.width/mpl.ratio\n",
       "    fig.root.unbind('remove')\n",
       "\n",
       "    // Update the output cell to use the data from the current canvas.\n",
       "    fig.push_to_output();\n",
       "    var dataURL = fig.canvas.toDataURL();\n",
       "    // Re-enable the keyboard manager in IPython - without this line, in FF,\n",
       "    // the notebook keyboard shortcuts fail.\n",
       "    IPython.keyboard_manager.enable()\n",
       "    $(fig.parent_element).html('<img src=\"' + dataURL + '\" width=\"' + width + '\">');\n",
       "    fig.close_ws(fig, msg);\n",
       "}\n",
       "\n",
       "mpl.figure.prototype.close_ws = function(fig, msg){\n",
       "    fig.send_message('closing', msg);\n",
       "    // fig.ws.close()\n",
       "}\n",
       "\n",
       "mpl.figure.prototype.push_to_output = function(remove_interactive) {\n",
       "    // Turn the data on the canvas into data in the output cell.\n",
       "    var width = this.canvas.width/mpl.ratio\n",
       "    var dataURL = this.canvas.toDataURL();\n",
       "    this.cell_info[1]['text/html'] = '<img src=\"' + dataURL + '\" width=\"' + width + '\">';\n",
       "}\n",
       "\n",
       "mpl.figure.prototype.updated_canvas_event = function() {\n",
       "    // Tell IPython that the notebook contents must change.\n",
       "    IPython.notebook.set_dirty(true);\n",
       "    this.send_message(\"ack\", {});\n",
       "    var fig = this;\n",
       "    // Wait a second, then push the new image to the DOM so\n",
       "    // that it is saved nicely (might be nice to debounce this).\n",
       "    setTimeout(function () { fig.push_to_output() }, 1000);\n",
       "}\n",
       "\n",
       "mpl.figure.prototype._init_toolbar = function() {\n",
       "    var fig = this;\n",
       "\n",
       "    var nav_element = $('<div/>');\n",
       "    nav_element.attr('style', 'width: 100%');\n",
       "    this.root.append(nav_element);\n",
       "\n",
       "    // Define a callback function for later on.\n",
       "    function toolbar_event(event) {\n",
       "        return fig.toolbar_button_onclick(event['data']);\n",
       "    }\n",
       "    function toolbar_mouse_event(event) {\n",
       "        return fig.toolbar_button_onmouseover(event['data']);\n",
       "    }\n",
       "\n",
       "    for(var toolbar_ind in mpl.toolbar_items){\n",
       "        var name = mpl.toolbar_items[toolbar_ind][0];\n",
       "        var tooltip = mpl.toolbar_items[toolbar_ind][1];\n",
       "        var image = mpl.toolbar_items[toolbar_ind][2];\n",
       "        var method_name = mpl.toolbar_items[toolbar_ind][3];\n",
       "\n",
       "        if (!name) { continue; };\n",
       "\n",
       "        var button = $('<button class=\"btn btn-default\" href=\"#\" title=\"' + name + '\"><i class=\"fa ' + image + ' fa-lg\"></i></button>');\n",
       "        button.click(method_name, toolbar_event);\n",
       "        button.mouseover(tooltip, toolbar_mouse_event);\n",
       "        nav_element.append(button);\n",
       "    }\n",
       "\n",
       "    // Add the status bar.\n",
       "    var status_bar = $('<span class=\"mpl-message\" style=\"text-align:right; float: right;\"/>');\n",
       "    nav_element.append(status_bar);\n",
       "    this.message = status_bar[0];\n",
       "\n",
       "    // Add the close button to the window.\n",
       "    var buttongrp = $('<div class=\"btn-group inline pull-right\"></div>');\n",
       "    var button = $('<button class=\"btn btn-mini btn-primary\" href=\"#\" title=\"Stop Interaction\"><i class=\"fa fa-power-off icon-remove icon-large\"></i></button>');\n",
       "    button.click(function (evt) { fig.handle_close(fig, {}); } );\n",
       "    button.mouseover('Stop Interaction', toolbar_mouse_event);\n",
       "    buttongrp.append(button);\n",
       "    var titlebar = this.root.find($('.ui-dialog-titlebar'));\n",
       "    titlebar.prepend(buttongrp);\n",
       "}\n",
       "\n",
       "mpl.figure.prototype._root_extra_style = function(el){\n",
       "    var fig = this\n",
       "    el.on(\"remove\", function(){\n",
       "\tfig.close_ws(fig, {});\n",
       "    });\n",
       "}\n",
       "\n",
       "mpl.figure.prototype._canvas_extra_style = function(el){\n",
       "    // this is important to make the div 'focusable\n",
       "    el.attr('tabindex', 0)\n",
       "    // reach out to IPython and tell the keyboard manager to turn it's self\n",
       "    // off when our div gets focus\n",
       "\n",
       "    // location in version 3\n",
       "    if (IPython.notebook.keyboard_manager) {\n",
       "        IPython.notebook.keyboard_manager.register_events(el);\n",
       "    }\n",
       "    else {\n",
       "        // location in version 2\n",
       "        IPython.keyboard_manager.register_events(el);\n",
       "    }\n",
       "\n",
       "}\n",
       "\n",
       "mpl.figure.prototype._key_event_extra = function(event, name) {\n",
       "    var manager = IPython.notebook.keyboard_manager;\n",
       "    if (!manager)\n",
       "        manager = IPython.keyboard_manager;\n",
       "\n",
       "    // Check for shift+enter\n",
       "    if (event.shiftKey && event.which == 13) {\n",
       "        this.canvas_div.blur();\n",
       "        event.shiftKey = false;\n",
       "        // Send a \"J\" for go to next cell\n",
       "        event.which = 74;\n",
       "        event.keyCode = 74;\n",
       "        manager.command_mode();\n",
       "        manager.handle_keydown(event);\n",
       "    }\n",
       "}\n",
       "\n",
       "mpl.figure.prototype.handle_save = function(fig, msg) {\n",
       "    fig.ondownload(fig, null);\n",
       "}\n",
       "\n",
       "\n",
       "mpl.find_output_cell = function(html_output) {\n",
       "    // Return the cell and output element which can be found *uniquely* in the notebook.\n",
       "    // Note - this is a bit hacky, but it is done because the \"notebook_saving.Notebook\"\n",
       "    // IPython event is triggered only after the cells have been serialised, which for\n",
       "    // our purposes (turning an active figure into a static one), is too late.\n",
       "    var cells = IPython.notebook.get_cells();\n",
       "    var ncells = cells.length;\n",
       "    for (var i=0; i<ncells; i++) {\n",
       "        var cell = cells[i];\n",
       "        if (cell.cell_type === 'code'){\n",
       "            for (var j=0; j<cell.output_area.outputs.length; j++) {\n",
       "                var data = cell.output_area.outputs[j];\n",
       "                if (data.data) {\n",
       "                    // IPython >= 3 moved mimebundle to data attribute of output\n",
       "                    data = data.data;\n",
       "                }\n",
       "                if (data['text/html'] == html_output) {\n",
       "                    return [cell, data, j];\n",
       "                }\n",
       "            }\n",
       "        }\n",
       "    }\n",
       "}\n",
       "\n",
       "// Register the function which deals with the matplotlib target/channel.\n",
       "// The kernel may be null if the page has been refreshed.\n",
       "if (IPython.notebook.kernel != null) {\n",
       "    IPython.notebook.kernel.comm_manager.register_target('matplotlib', mpl.mpl_figure_comm);\n",
       "}\n"
      ],
      "text/plain": [
       "<IPython.core.display.Javascript object>"
      ]
     },
     "metadata": {},
     "output_type": "display_data"
    },
    {
     "data": {
      "text/html": [
       "<img src=\"data:image/png;base64,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\" width=\"432\">"
      ],
      "text/plain": [
       "<IPython.core.display.HTML object>"
      ]
     },
     "metadata": {},
     "output_type": "display_data"
    }
   ],
   "source": [
    "%matplotlib notebook\n",
    "\n",
    "import time\n",
    "\n",
    "# set up the canvas\n",
    "fig = plt.figure()\n",
    "ax = fig.add_subplot(111)\n",
    "plt.ion()\n",
    "fig.show()\n",
    "fig.canvas.draw()\n",
    "\n",
    "# limit range of values on x-axis\n",
    "x = np.arange(2,6, 0.1)\n",
    "\n",
    "# Learning rate\n",
    "epsilon = 0.0001\n",
    "\n",
    "# Initial weight\n",
    "w = 2.5\n",
    "\n",
    "# update values of w\n",
    "for i in range(1,100):   \n",
    "    w = w - epsilon * J_d(w,X,Y)\n",
    "    ax.clear()\n",
    "    ax.plot(x,[J(y, body_weight, heart_weight) for y in x])\n",
    "    ax.plot(w, J(w, body_weight, heart_weight),'o')\n",
    "    fig.canvas.draw()\n",
    "    time.sleep(1)"
   ]
  },
  {
   "cell_type": "code",
   "execution_count": null,
   "metadata": {},
   "outputs": [],
   "source": [
    "%matplotlib notebook\n",
    "\n",
    "import time\n",
    "\n",
    "# set up the canvas\n",
    "fig = plt.figure()\n",
    "ax = fig.add_subplot(111)\n",
    "plt.ion()\n",
    "fig.show()\n",
    "fig.canvas.draw()\n",
    "\n",
    "# limit range of values on x-axis\n",
    "x = np.arange(2,6, 0.1)\n",
    "\n",
    "# Learning rate\n",
    "epsilon = 0.0001\n",
    "\n",
    "# Initial weight\n",
    "w = 2.5\n",
    "\n",
    "# update values of w\n",
    "for i in range(1,100):   \n",
    "    w = w - epsilon * J_d(w,body_weight,heart_weight)\n",
    "    ax.clear()\n",
    "    ax.plot(x,[J(y,body_weight,heart_weight) for y in x])\n",
    "    ax.plot(w, J(w,body_weight,heart_weight),'o')\n",
    "    fig.canvas.draw()\n",
    "    time.sleep(1)\n",
    "w"
   ]
  },
  {
   "cell_type": "markdown",
   "metadata": {},
   "source": [
    "For what value of the weight parameter $w$ does the loss function reach its minimum value? \n",
    "\n",
    "How is this value different from the weight obtained by using the least-square method? "
   ]
  }
 ],
 "metadata": {
  "kernelspec": {
   "display_name": "Python 3",
   "language": "python",
   "name": "python3"
  },
  "language_info": {
   "codemirror_mode": {
    "name": "ipython",
    "version": 3
   },
   "file_extension": ".py",
   "mimetype": "text/x-python",
   "name": "python",
   "nbconvert_exporter": "python",
   "pygments_lexer": "ipython3",
   "version": "3.7.4"
  }
 },
 "nbformat": 4,
 "nbformat_minor": 4
}
