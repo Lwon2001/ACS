{
 "cells": [
  {
   "cell_type": "markdown",
   "metadata": {},
   "source": [
    "# Neural Computation (Autumn 2019)\n",
    "# Lab 2: Advanced Python Libraries & Linear Regression\n",
    "\n",
    "In this exercise, you will learn the following:\n",
    "\n",
    "* Advanced libraries like Numpy and Matplotlib\n",
    "* Import a data file with NumPy\n",
    "* Produce scatter and line plots using Matplotlib\n",
    "* Define a linear model and a cost function\n",
    "* Fit a linear model using Ordinary Least Squares Method\n",
    "* Train a linear model using Gradient Descent Algorithm\n",
    "\n",
    "# Section 1: Numpy & Matplotlib\n",
    "## Numpy"
   ]
  },
  {
   "cell_type": "markdown",
   "metadata": {},
   "source": [
    "Numpy is the core library for scientific computing in Python. It provides a high-performance multidimensional array object, and tools for working with these arrays. If you are already familiar with MATLAB, you might find this [tutorial](http://wiki.scipy.org/NumPy_for_Matlab_Users) useful to get started with Numpy."
   ]
  },
  {
   "cell_type": "markdown",
   "metadata": {},
   "source": [
    "To use Numpy, we first need to import the `numpy` package. "
   ]
  },
  {
   "cell_type": "code",
   "execution_count": 1,
   "metadata": {
    "jupyter": {
     "outputs_hidden": true
    }
   },
   "outputs": [],
   "source": [
    "import numpy as np"
   ]
  },
  {
   "cell_type": "markdown",
   "metadata": {},
   "source": [
    "To call a function `X` from the NumPy module, you would normally have to write `NumPy.X()`. However, if you invoke NumPy functions many places in your code, this quickly becomes tedious. By adding `as np` after your `import` statement as shown above, you can instead write  `np.X()`, which is less verbose. "
   ]
  },
  {
   "cell_type": "markdown",
   "metadata": {},
   "source": [
    "### Arrays"
   ]
  },
  {
   "cell_type": "markdown",
   "metadata": {},
   "source": [
    "A numpy array is a grid of values, all of the same type, and is indexed by a tuple of nonnegative integers. The number of dimensions is the rank of the array; the shape of an array is a tuple of integers giving the size of the array along each dimension."
   ]
  },
  {
   "cell_type": "markdown",
   "metadata": {},
   "source": [
    "We can initialize numpy arrays from nested Python lists, and access elements using square brackets:"
   ]
  },
  {
   "cell_type": "code",
   "execution_count": 2,
   "metadata": {
    "jupyter": {
     "outputs_hidden": true
    }
   },
   "outputs": [
    {
     "name": "stdout",
     "output_type": "stream",
     "text": [
      "<class 'numpy.ndarray'> (3,) 1 2 3\n",
      "[5 2 3]\n"
     ]
    }
   ],
   "source": [
    "a = np.array([1, 2, 3])  # Create a rank 1 array\n",
    "print(type(a), a.shape, a[0], a[1], a[2])\n",
    "a[0] = 5                 # Change an element of the array\n",
    "print(a)                  "
   ]
  },
  {
   "cell_type": "code",
   "execution_count": 3,
   "metadata": {
    "jupyter": {
     "outputs_hidden": true
    }
   },
   "outputs": [
    {
     "name": "stdout",
     "output_type": "stream",
     "text": [
      "[[1 2 3]\n",
      " [4 5 6]]\n"
     ]
    }
   ],
   "source": [
    "b = np.array([[1,2,3],[4,5,6]])   # Create a rank 2 array\n",
    "print(b)"
   ]
  },
  {
   "cell_type": "code",
   "execution_count": 4,
   "metadata": {
    "jupyter": {
     "outputs_hidden": true
    }
   },
   "outputs": [
    {
     "name": "stdout",
     "output_type": "stream",
     "text": [
      "(2, 3)\n",
      "1 2 4\n"
     ]
    }
   ],
   "source": [
    "print(b.shape)                   \n",
    "print(b[0, 0], b[0, 1], b[1, 0])"
   ]
  },
  {
   "cell_type": "markdown",
   "metadata": {},
   "source": [
    "Numpy also provides many functions to create arrays:"
   ]
  },
  {
   "cell_type": "code",
   "execution_count": 5,
   "metadata": {
    "jupyter": {
     "outputs_hidden": true
    }
   },
   "outputs": [
    {
     "name": "stdout",
     "output_type": "stream",
     "text": [
      "[[0. 0.]\n",
      " [0. 0.]]\n"
     ]
    }
   ],
   "source": [
    "a = np.zeros((2,2))  # Create an array of all zeros\n",
    "print(a)"
   ]
  },
  {
   "cell_type": "code",
   "execution_count": 6,
   "metadata": {
    "jupyter": {
     "outputs_hidden": true
    }
   },
   "outputs": [
    {
     "name": "stdout",
     "output_type": "stream",
     "text": [
      "[[1. 1.]]\n"
     ]
    }
   ],
   "source": [
    "b = np.ones((1,2))   # Create an array of all ones\n",
    "print(b)"
   ]
  },
  {
   "cell_type": "code",
   "execution_count": 7,
   "metadata": {
    "jupyter": {
     "outputs_hidden": true
    }
   },
   "outputs": [
    {
     "name": "stdout",
     "output_type": "stream",
     "text": [
      "[[7 7]\n",
      " [7 7]]\n"
     ]
    }
   ],
   "source": [
    "c = np.full((2,2), 7) # Create a constant array\n",
    "print(c) "
   ]
  },
  {
   "cell_type": "code",
   "execution_count": 8,
   "metadata": {
    "jupyter": {
     "outputs_hidden": true
    }
   },
   "outputs": [
    {
     "name": "stdout",
     "output_type": "stream",
     "text": [
      "[[1. 0.]\n",
      " [0. 1.]]\n"
     ]
    }
   ],
   "source": [
    "d = np.eye(2)        # Create a 2x2 identity matrix\n",
    "print(d)"
   ]
  },
  {
   "cell_type": "code",
   "execution_count": 9,
   "metadata": {
    "jupyter": {
     "outputs_hidden": true
    }
   },
   "outputs": [
    {
     "name": "stdout",
     "output_type": "stream",
     "text": [
      "[[0.15745018 0.96923097]\n",
      " [0.66997024 0.59386266]]\n"
     ]
    }
   ],
   "source": [
    "e = np.random.random((2,2)) # Create an array filled with random values\n",
    "print(e)"
   ]
  },
  {
   "cell_type": "markdown",
   "metadata": {},
   "source": [
    "### Array indexing"
   ]
  },
  {
   "cell_type": "markdown",
   "metadata": {},
   "source": [
    "Numpy offers several ways to index into arrays."
   ]
  },
  {
   "cell_type": "markdown",
   "metadata": {},
   "source": [
    "Slicing: Similar to Python lists, numpy arrays can be sliced. Since arrays may be multidimensional, you must specify a slice for each dimension of the array:"
   ]
  },
  {
   "cell_type": "code",
   "execution_count": 10,
   "metadata": {
    "jupyter": {
     "outputs_hidden": true
    }
   },
   "outputs": [
    {
     "name": "stdout",
     "output_type": "stream",
     "text": [
      "[[2 3]\n",
      " [6 7]]\n"
     ]
    }
   ],
   "source": [
    "import numpy as np\n",
    "\n",
    "# Create the following rank 2 array with shape (3, 4)\n",
    "# [[ 1  2  3  4]\n",
    "#  [ 5  6  7  8]\n",
    "#  [ 9 10 11 12]]\n",
    "a = np.array([[1,2,3,4], [5,6,7,8], [9,10,11,12]])\n",
    "\n",
    "# Use slicing to pull out the subarray consisting of the first 2 rows\n",
    "# and columns 1 and 2; b is the following array of shape (2, 2):\n",
    "# [[2 3]\n",
    "#  [6 7]]\n",
    "b = a[:2, 1:3]\n",
    "print(b)"
   ]
  },
  {
   "cell_type": "markdown",
   "metadata": {},
   "source": [
    "A slice of an array is a view into the same data, so modifying it will modify the original array."
   ]
  },
  {
   "cell_type": "code",
   "execution_count": 11,
   "metadata": {
    "jupyter": {
     "outputs_hidden": true
    }
   },
   "outputs": [
    {
     "name": "stdout",
     "output_type": "stream",
     "text": [
      "2\n",
      "77\n"
     ]
    }
   ],
   "source": [
    "print(a[0, 1])  \n",
    "b[0, 0] = 77    # b[0, 0] is the same piece of data as a[0, 1]\n",
    "print(a[0, 1]) "
   ]
  },
  {
   "cell_type": "markdown",
   "metadata": {},
   "source": [
    "You can also mix integer indexing with slice indexing. However, doing so will yield an array of lower rank than the original array. Note that this is quite different from the way that MATLAB handles array slicing:"
   ]
  },
  {
   "cell_type": "code",
   "execution_count": 12,
   "metadata": {
    "jupyter": {
     "outputs_hidden": true
    }
   },
   "outputs": [
    {
     "name": "stdout",
     "output_type": "stream",
     "text": [
      "[[ 1  2  3  4]\n",
      " [ 5  6  7  8]\n",
      " [ 9 10 11 12]]\n"
     ]
    }
   ],
   "source": [
    "# Create the following rank 2 array with shape (3, 4)\n",
    "a = np.array([[1,2,3,4], [5,6,7,8], [9,10,11,12]])\n",
    "print(a)"
   ]
  },
  {
   "cell_type": "markdown",
   "metadata": {},
   "source": [
    "Two ways of accessing the data in the middle row of the array.\n",
    "Mixing integer indexing with slices yields an array of lower rank,\n",
    "while using only slices yields an array of the same rank as the\n",
    "original array:"
   ]
  },
  {
   "cell_type": "code",
   "execution_count": 13,
   "metadata": {
    "jupyter": {
     "outputs_hidden": true
    }
   },
   "outputs": [
    {
     "name": "stdout",
     "output_type": "stream",
     "text": [
      "[5 6 7 8] (4,)\n",
      "[[5 6 7 8]] (1, 4)\n",
      "[[5 6 7 8]] (1, 4)\n"
     ]
    }
   ],
   "source": [
    "row_r1 = a[1, :]    # Rank 1 view of the second row of a  \n",
    "row_r2 = a[1:2, :]  # Rank 2 view of the second row of a\n",
    "row_r3 = a[[1], :]  # Rank 2 view of the second row of a\n",
    "print(row_r1, row_r1.shape)\n",
    "print(row_r2, row_r2.shape)\n",
    "print(row_r3, row_r3.shape)"
   ]
  },
  {
   "cell_type": "code",
   "execution_count": 14,
   "metadata": {
    "jupyter": {
     "outputs_hidden": true
    }
   },
   "outputs": [
    {
     "name": "stdout",
     "output_type": "stream",
     "text": [
      "[ 2  6 10] (3,)\n",
      "[[ 2]\n",
      " [ 6]\n",
      " [10]] (3, 1)\n"
     ]
    }
   ],
   "source": [
    "# We can make the same distinction when accessing columns of an array:\n",
    "col_r1 = a[:, 1]\n",
    "col_r2 = a[:, 1:2]\n",
    "print(col_r1, col_r1.shape)\n",
    "print(col_r2, col_r2.shape)"
   ]
  },
  {
   "cell_type": "markdown",
   "metadata": {},
   "source": [
    "Integer array indexing: When you index into numpy arrays using slicing, the resulting array view will always be a subarray of the original array. In contrast, integer array indexing allows you to construct arbitrary arrays using the data from another array. Here is an example:"
   ]
  },
  {
   "cell_type": "code",
   "execution_count": 15,
   "metadata": {
    "jupyter": {
     "outputs_hidden": true
    }
   },
   "outputs": [
    {
     "name": "stdout",
     "output_type": "stream",
     "text": [
      "[1 4 5]\n",
      "[1 4 5]\n"
     ]
    }
   ],
   "source": [
    "a = np.array([[1,2], [3, 4], [5, 6]])\n",
    "\n",
    "# An example of integer array indexing.\n",
    "# The returned array will have shape (3,) and \n",
    "print(a[[0, 1, 2], [0, 1, 0]])\n",
    "\n",
    "# The above example of integer array indexing is equivalent to this:\n",
    "print(np.array([a[0, 0], a[1, 1], a[2, 0]]))"
   ]
  },
  {
   "cell_type": "code",
   "execution_count": 16,
   "metadata": {
    "jupyter": {
     "outputs_hidden": true
    }
   },
   "outputs": [
    {
     "name": "stdout",
     "output_type": "stream",
     "text": [
      "[2 2]\n",
      "[2 2]\n"
     ]
    }
   ],
   "source": [
    "# When using integer array indexing, you can reuse the same\n",
    "# element from the source array:\n",
    "print(a[[0, 0], [1, 1]])\n",
    "\n",
    "# Equivalent to the previous integer array indexing example\n",
    "print(np.array([a[0, 1], a[0, 1]]))"
   ]
  },
  {
   "cell_type": "markdown",
   "metadata": {},
   "source": [
    "One useful trick with integer array indexing is selecting or mutating one element from each row of a matrix:"
   ]
  },
  {
   "cell_type": "code",
   "execution_count": 17,
   "metadata": {
    "jupyter": {
     "outputs_hidden": true
    }
   },
   "outputs": [
    {
     "name": "stdout",
     "output_type": "stream",
     "text": [
      "[[ 1  2  3]\n",
      " [ 4  5  6]\n",
      " [ 7  8  9]\n",
      " [10 11 12]]\n"
     ]
    }
   ],
   "source": [
    "# Create a new array from which we will select elements\n",
    "a = np.array([[1,2,3], [4,5,6], [7,8,9], [10, 11, 12]])\n",
    "print(a)"
   ]
  },
  {
   "cell_type": "code",
   "execution_count": 18,
   "metadata": {
    "jupyter": {
     "outputs_hidden": true
    }
   },
   "outputs": [
    {
     "name": "stdout",
     "output_type": "stream",
     "text": [
      "[ 1  6  7 11]\n"
     ]
    }
   ],
   "source": [
    "# Create an array of indices\n",
    "b = np.array([0, 2, 0, 1])\n",
    "\n",
    "# Select one element from each row of a using the indices in b\n",
    "print(a[np.arange(4), b])  # Prints \"[ 1  6  7 11]\""
   ]
  },
  {
   "cell_type": "code",
   "execution_count": 19,
   "metadata": {
    "jupyter": {
     "outputs_hidden": true
    }
   },
   "outputs": [
    {
     "name": "stdout",
     "output_type": "stream",
     "text": [
      "[[11  2  3]\n",
      " [ 4  5 16]\n",
      " [17  8  9]\n",
      " [10 21 12]]\n"
     ]
    }
   ],
   "source": [
    "# Mutate one element from each row of a using the indices in b\n",
    "a[np.arange(4), b] += 10\n",
    "print(a)"
   ]
  },
  {
   "cell_type": "markdown",
   "metadata": {},
   "source": [
    "Boolean array indexing: Boolean array indexing lets you pick out arbitrary elements of an array. Frequently this type of indexing is used to select the elements of an array that satisfy some condition. Here is an example:"
   ]
  },
  {
   "cell_type": "code",
   "execution_count": 20,
   "metadata": {
    "jupyter": {
     "outputs_hidden": true
    }
   },
   "outputs": [
    {
     "name": "stdout",
     "output_type": "stream",
     "text": [
      "[[False False]\n",
      " [ True  True]\n",
      " [ True  True]]\n"
     ]
    }
   ],
   "source": [
    "import numpy as np\n",
    "\n",
    "a = np.array([[1,2], [3, 4], [5, 6]])\n",
    "\n",
    "bool_idx = (a > 2)  # Find the elements of a that are bigger than 2;\n",
    "                    # this returns a numpy array of Booleans of the same\n",
    "                    # shape as a, where each slot of bool_idx tells\n",
    "                    # whether that element of a is > 2.\n",
    "\n",
    "print(bool_idx)"
   ]
  },
  {
   "cell_type": "code",
   "execution_count": 21,
   "metadata": {
    "jupyter": {
     "outputs_hidden": true
    }
   },
   "outputs": [
    {
     "name": "stdout",
     "output_type": "stream",
     "text": [
      "[3 4 5 6]\n",
      "[3 4 5 6]\n"
     ]
    }
   ],
   "source": [
    "# We use boolean array indexing to construct a rank 1 array\n",
    "# consisting of the elements of a corresponding to the True values\n",
    "# of bool_idx\n",
    "print(a[bool_idx])\n",
    "\n",
    "# We can do all of the above in a single concise statement:\n",
    "print(a[a > 2])"
   ]
  },
  {
   "cell_type": "markdown",
   "metadata": {},
   "source": [
    "For brevity we have left out a lot of details about numpy array indexing; if you want to know more you should read the documentation."
   ]
  },
  {
   "cell_type": "markdown",
   "metadata": {},
   "source": [
    "### Array math"
   ]
  },
  {
   "cell_type": "markdown",
   "metadata": {},
   "source": [
    "Basic mathematical functions operate elementwise on arrays, and are available both as operator overloads and as functions in the numpy module:"
   ]
  },
  {
   "cell_type": "code",
   "execution_count": 22,
   "metadata": {
    "jupyter": {
     "outputs_hidden": true
    }
   },
   "outputs": [
    {
     "name": "stdout",
     "output_type": "stream",
     "text": [
      "[[ 6.  8.]\n",
      " [10. 12.]]\n",
      "[[ 6.  8.]\n",
      " [10. 12.]]\n"
     ]
    }
   ],
   "source": [
    "x = np.array([[1,2],[3,4]], dtype=np.float64)\n",
    "y = np.array([[5,6],[7,8]], dtype=np.float64)\n",
    "\n",
    "# Elementwise sum; both produce the array\n",
    "print(x + y)\n",
    "print(np.add(x, y))"
   ]
  },
  {
   "cell_type": "code",
   "execution_count": 23,
   "metadata": {
    "jupyter": {
     "outputs_hidden": true
    }
   },
   "outputs": [
    {
     "name": "stdout",
     "output_type": "stream",
     "text": [
      "[[-4. -4.]\n",
      " [-4. -4.]]\n",
      "[[-4. -4.]\n",
      " [-4. -4.]]\n"
     ]
    }
   ],
   "source": [
    "# Elementwise difference; both produce the array\n",
    "print(x - y)\n",
    "print(np.subtract(x, y))"
   ]
  },
  {
   "cell_type": "code",
   "execution_count": 24,
   "metadata": {
    "jupyter": {
     "outputs_hidden": true
    }
   },
   "outputs": [
    {
     "name": "stdout",
     "output_type": "stream",
     "text": [
      "[[ 5. 12.]\n",
      " [21. 32.]]\n",
      "[[ 5. 12.]\n",
      " [21. 32.]]\n"
     ]
    }
   ],
   "source": [
    "# Elementwise product; both produce the array\n",
    "print(x * y)\n",
    "print(np.multiply(x, y))"
   ]
  },
  {
   "cell_type": "code",
   "execution_count": 25,
   "metadata": {
    "jupyter": {
     "outputs_hidden": true
    }
   },
   "outputs": [
    {
     "name": "stdout",
     "output_type": "stream",
     "text": [
      "[[0.2        0.33333333]\n",
      " [0.42857143 0.5       ]]\n",
      "[[0.2        0.33333333]\n",
      " [0.42857143 0.5       ]]\n"
     ]
    }
   ],
   "source": [
    "# Elementwise division; both produce the array\n",
    "# [[ 0.2         0.33333333]\n",
    "#  [ 0.42857143  0.5       ]]\n",
    "print(x / y)\n",
    "print(np.divide(x, y))"
   ]
  },
  {
   "cell_type": "code",
   "execution_count": 26,
   "metadata": {
    "jupyter": {
     "outputs_hidden": true
    }
   },
   "outputs": [
    {
     "name": "stdout",
     "output_type": "stream",
     "text": [
      "[[1.         1.41421356]\n",
      " [1.73205081 2.        ]]\n"
     ]
    }
   ],
   "source": [
    "# Elementwise square root; produces the array\n",
    "# [[ 1.          1.41421356]\n",
    "#  [ 1.73205081  2.        ]]\n",
    "print(np.sqrt(x))"
   ]
  },
  {
   "cell_type": "markdown",
   "metadata": {},
   "source": [
    "Note that unlike MATLAB, `*` is elementwise multiplication, not matrix multiplication. We instead use the dot function to compute inner products of vectors, to multiply a vector by a matrix, and to multiply matrices. dot is available both as a function in the numpy module and as an instance method of array objects:"
   ]
  },
  {
   "cell_type": "code",
   "execution_count": 27,
   "metadata": {
    "jupyter": {
     "outputs_hidden": true
    }
   },
   "outputs": [
    {
     "name": "stdout",
     "output_type": "stream",
     "text": [
      "219\n",
      "219\n"
     ]
    }
   ],
   "source": [
    "x = np.array([[1,2],[3,4]])\n",
    "y = np.array([[5,6],[7,8]])\n",
    "\n",
    "v = np.array([9,10])\n",
    "w = np.array([11, 12])\n",
    "\n",
    "# Inner product of vectors; both produce 219\n",
    "print(v.dot(w))\n",
    "print(np.dot(v, w))"
   ]
  },
  {
   "cell_type": "code",
   "execution_count": 28,
   "metadata": {
    "jupyter": {
     "outputs_hidden": true
    }
   },
   "outputs": [
    {
     "name": "stdout",
     "output_type": "stream",
     "text": [
      "[29 67]\n",
      "[29 67]\n"
     ]
    }
   ],
   "source": [
    "# Matrix / vector product; both produce the rank 1 array [29 67]\n",
    "print(x.dot(v))\n",
    "print(np.dot(x, v))"
   ]
  },
  {
   "cell_type": "code",
   "execution_count": 29,
   "metadata": {
    "jupyter": {
     "outputs_hidden": true
    }
   },
   "outputs": [
    {
     "name": "stdout",
     "output_type": "stream",
     "text": [
      "[[19 22]\n",
      " [43 50]]\n",
      "[[19 22]\n",
      " [43 50]]\n"
     ]
    }
   ],
   "source": [
    "# Matrix / matrix product; both produce the rank 2 array\n",
    "# [[19 22]\n",
    "#  [43 50]]\n",
    "print(x.dot(y))\n",
    "print(np.dot(x, y))"
   ]
  },
  {
   "cell_type": "markdown",
   "metadata": {},
   "source": [
    "Numpy provides many useful functions for performing computations on arrays; one of the most useful is `sum`:"
   ]
  },
  {
   "cell_type": "code",
   "execution_count": 30,
   "metadata": {
    "jupyter": {
     "outputs_hidden": true
    }
   },
   "outputs": [
    {
     "name": "stdout",
     "output_type": "stream",
     "text": [
      "10\n",
      "[4 6]\n",
      "[3 7]\n"
     ]
    }
   ],
   "source": [
    "x = np.array([[1,2],[3,4]])\n",
    "\n",
    "print(np.sum(x))  # Compute sum of all elements; prints \"10\"\n",
    "print(np.sum(x, axis=0))  # Compute sum of each column; prints \"[4 6]\"\n",
    "print(np.sum(x, axis=1))  # Compute sum of each row; prints \"[3 7]\""
   ]
  },
  {
   "cell_type": "markdown",
   "metadata": {},
   "source": [
    "You can find the full list of mathematical functions provided by numpy in the [documentation](http://docs.scipy.org/doc/numpy/reference/routines.math.html).\n",
    "\n",
    "Apart from computing mathematical functions using arrays, we frequently need to reshape or otherwise manipulate data in arrays. The simplest example of this type of operation is transposing a matrix; to transpose a matrix, simply use the `T` attribute of an array object:"
   ]
  },
  {
   "cell_type": "code",
   "execution_count": 31,
   "metadata": {
    "jupyter": {
     "outputs_hidden": true
    }
   },
   "outputs": [
    {
     "name": "stdout",
     "output_type": "stream",
     "text": [
      "[[1 2]\n",
      " [3 4]]\n",
      "[[1 3]\n",
      " [2 4]]\n"
     ]
    }
   ],
   "source": [
    "print(x)\n",
    "print(x.T)"
   ]
  },
  {
   "cell_type": "code",
   "execution_count": 32,
   "metadata": {
    "jupyter": {
     "outputs_hidden": true
    }
   },
   "outputs": [
    {
     "name": "stdout",
     "output_type": "stream",
     "text": [
      "[[1 2 3]]\n",
      "[[1]\n",
      " [2]\n",
      " [3]]\n"
     ]
    }
   ],
   "source": [
    "v = np.array([[1,2,3]])\n",
    "print(v) \n",
    "print(v.T)"
   ]
  },
  {
   "cell_type": "markdown",
   "metadata": {},
   "source": [
    "## Matplotlib"
   ]
  },
  {
   "cell_type": "markdown",
   "metadata": {},
   "source": [
    "Matplotlib is a plotting library. In this section give a brief introduction to the `matplotlib.pyplot` module, which provides a plotting system similar to that of MATLAB."
   ]
  },
  {
   "cell_type": "code",
   "execution_count": 33,
   "metadata": {
    "jupyter": {
     "outputs_hidden": true
    }
   },
   "outputs": [],
   "source": [
    "import matplotlib.pyplot as plt"
   ]
  },
  {
   "cell_type": "markdown",
   "metadata": {},
   "source": [
    "By running this special iPython command, we will be displaying plots inline:"
   ]
  },
  {
   "cell_type": "code",
   "execution_count": 34,
   "metadata": {
    "jupyter": {
     "outputs_hidden": true
    }
   },
   "outputs": [],
   "source": [
    "%matplotlib inline"
   ]
  },
  {
   "cell_type": "markdown",
   "metadata": {},
   "source": [
    "### Plotting"
   ]
  },
  {
   "cell_type": "markdown",
   "metadata": {},
   "source": [
    "The most important function in `matplotlib` is plot, which allows you to plot 2D data. Here is a simple example:"
   ]
  },
  {
   "cell_type": "code",
   "execution_count": 35,
   "metadata": {
    "jupyter": {
     "outputs_hidden": true
    }
   },
   "outputs": [
    {
     "data": {
      "text/plain": [
       "[<matplotlib.lines.Line2D at 0x7f2a7a1a35f8>]"
      ]
     },
     "execution_count": 35,
     "metadata": {},
     "output_type": "execute_result"
    },
    {
     "data": {
      "image/png": "[encoded data removed]",
      "text/plain": [
       "<Figure size 432x288 with 1 Axes>"
      ]
     },
     "metadata": {
      "needs_background": "light"
     },
     "output_type": "display_data"
    }
   ],
   "source": [
    "# Compute the x and y coordinates for points on a sine curve\n",
    "x = np.arange(0, 3 * np.pi, 0.1)\n",
    "y = np.sin(x)\n",
    "\n",
    "# Plot the points using matplotlib\n",
    "plt.plot(x, y)"
   ]
  },
  {
   "cell_type": "markdown",
   "metadata": {},
   "source": [
    "With just a little bit of extra work we can easily plot multiple lines at once, and add a title, legend, and axis labels:"
   ]
  },
  {
   "cell_type": "code",
   "execution_count": 36,
   "metadata": {
    "jupyter": {
     "outputs_hidden": true
    }
   },
   "outputs": [
    {
     "data": {
      "text/plain": [
       "<matplotlib.legend.Legend at 0x7f2a7a0cf7f0>"
      ]
     },
     "execution_count": 36,
     "metadata": {},
     "output_type": "execute_result"
    },
    {
     "data": {
      "image/png": "[encoded data removed]",
      "text/plain": [
       "<Figure size 432x288 with 1 Axes>"
      ]
     },
     "metadata": {
      "needs_background": "light"
     },
     "output_type": "display_data"
    }
   ],
   "source": [
    "y_sin = np.sin(x)\n",
    "y_cos = np.cos(x)\n",
    "\n",
    "# Plot the points using matplotlib\n",
    "plt.plot(x, y_sin)\n",
    "plt.plot(x, y_cos)\n",
    "plt.xlabel('x axis label')\n",
    "plt.ylabel('y axis label')\n",
    "plt.title('Sine and Cosine')\n",
    "plt.legend(['Sine', 'Cosine'])"
   ]
  },
  {
   "cell_type": "markdown",
   "metadata": {},
   "source": [
    "### Subplots "
   ]
  },
  {
   "cell_type": "markdown",
   "metadata": {},
   "source": [
    "You can plot different things in the same figure using the subplot function. You have to add `plt.show`Here is an example."
   ]
  },
  {
   "cell_type": "code",
   "execution_count": 37,
   "metadata": {
    "jupyter": {
     "outputs_hidden": true
    }
   },
   "outputs": [
    {
     "data": {
      "image/png": "[encoded data removed]",
      "text/plain": [
       "<Figure size 432x288 with 2 Axes>"
      ]
     },
     "metadata": {
      "needs_background": "light"
     },
     "output_type": "display_data"
    }
   ],
   "source": [
    "# Compute the x and y coordinates for points on sine and cosine curves\n",
    "x = np.arange(0, 3 * np.pi, 0.1)\n",
    "y_sin = np.sin(x)\n",
    "y_cos = np.cos(x)\n",
    "\n",
    "# Set up a subplot grid that has height 2 and width 1,\n",
    "# and set the first such subplot as active.\n",
    "plt.subplot(2, 1, 1)\n",
    "\n",
    "# Make the first plot\n",
    "plt.plot(x, y_sin)\n",
    "plt.title('Sine')\n",
    "\n",
    "# Set the second subplot as active, and make the second plot.\n",
    "plt.subplot(2, 1, 2)\n",
    "plt.plot(x, y_cos)\n",
    "plt.title('Cosine')\n",
    "\n",
    "# Show the figure.\n",
    "plt.show()"
   ]
  },
  {
   "cell_type": "markdown",
   "metadata": {},
   "source": [
    "# Section 2: Linear Regression\n"
   ]
  },
  {
   "cell_type": "markdown",
   "metadata": {},
   "source": [
    "## Reading data from a CSV file\n",
    "\n",
    "We first read the cat data set from a local comma separated value (CSV) file, and store the body and heart weights in two arrays. "
   ]
  },
  {
   "cell_type": "markdown",
   "metadata": {},
   "source": [
    "We will use the [genfromtxt](https://docs.scipy.org/doc/numpy-1.13.0/reference/generated/numpy.genfromtxt.html) function in NumPy to read the data set from a CSV file located at some URL.\n",
    "\n",
    "    np.genfromtxt(url, delimiter=None, skip_header=0, usecols=None) \n",
    "\n",
    "This function takes several arguments, including: \n",
    "\n",
    "* `url`: a string that specifies a file name or an URL for the CSV file, \n",
    "* `delimiter`: a string used to separate value, \n",
    "* `skip_header`: an int indicates the number of lines to skip at the beginning of the file,  \n",
    "* `usecols`: a sequence indicating which columns to read, with 0 as first column. \n",
    "            \n",
    "We can read data from the file and store them into a variable named `cats` using the following line. You can see that `cats` is a NumPy array with two columns. The first column is the body weight, while the second column is the heart weight."
   ]
  },
  {
   "cell_type": "code",
   "execution_count": 38,
   "metadata": {
    "jupyter": {
     "outputs_hidden": true
    }
   },
   "outputs": [
    {
     "data": {
      "text/plain": [
       "array([[ 2. ,  7. ],\n",
       "       [ 2. ,  7.4],\n",
       "       [ 2. ,  9.5],\n",
       "       [ 2.1,  7.2],\n",
       "       [ 2.1,  7.3],\n",
       "       [ 2.1,  7.6],\n",
       "       [ 2.1,  8.1],\n",
       "       [ 2.1,  8.2],\n",
       "       [ 2.1,  8.3],\n",
       "       [ 2.1,  8.5],\n",
       "       [ 2.1,  8.7],\n",
       "       [ 2.1,  9.8],\n",
       "       [ 2.2,  7.1],\n",
       "       [ 2.2,  8.7],\n",
       "       [ 2.2,  9.1],\n",
       "       [ 2.2,  9.7],\n",
       "       [ 2.2, 10.9],\n",
       "       [ 2.2, 11. ],\n",
       "       [ 2.3,  7.3],\n",
       "       [ 2.3,  7.9],\n",
       "       [ 2.3,  8.4],\n",
       "       [ 2.3,  9. ],\n",
       "       [ 2.3,  9. ],\n",
       "       [ 2.3,  9.5],\n",
       "       [ 2.3,  9.6],\n",
       "       [ 2.3,  9.7],\n",
       "       [ 2.3, 10.1],\n",
       "       [ 2.3, 10.1],\n",
       "       [ 2.3, 10.6],\n",
       "       [ 2.3, 11.2],\n",
       "       [ 2.4,  6.3],\n",
       "       [ 2.4,  8.7],\n",
       "       [ 2.4,  8.8],\n",
       "       [ 2.4, 10.2],\n",
       "       [ 2.5,  9. ],\n",
       "       [ 2.5, 10.9],\n",
       "       [ 2.6,  8.7],\n",
       "       [ 2.6, 10.1],\n",
       "       [ 2.6, 10.1],\n",
       "       [ 2.7,  8.5],\n",
       "       [ 2.7, 10.2],\n",
       "       [ 2.7, 10.8],\n",
       "       [ 2.9,  9.9],\n",
       "       [ 2.9, 10.1],\n",
       "       [ 2.9, 10.1],\n",
       "       [ 3. , 10.6],\n",
       "       [ 3. , 13. ],\n",
       "       [ 2. ,  6.5],\n",
       "       [ 2. ,  6.5],\n",
       "       [ 2.1, 10.1],\n",
       "       [ 2.2,  7.2],\n",
       "       [ 2.2,  7.6],\n",
       "       [ 2.2,  7.9],\n",
       "       [ 2.2,  8.5],\n",
       "       [ 2.2,  9.1],\n",
       "       [ 2.2,  9.6],\n",
       "       [ 2.2,  9.6],\n",
       "       [ 2.2, 10.7],\n",
       "       [ 2.3,  9.6],\n",
       "       [ 2.4,  7.3],\n",
       "       [ 2.4,  7.9],\n",
       "       [ 2.4,  7.9],\n",
       "       [ 2.4,  9.1],\n",
       "       [ 2.4,  9.3],\n",
       "       [ 2.5,  7.9],\n",
       "       [ 2.5,  8.6],\n",
       "       [ 2.5,  8.8],\n",
       "       [ 2.5,  8.8],\n",
       "       [ 2.5,  9.3],\n",
       "       [ 2.5, 11. ],\n",
       "       [ 2.5, 12.7],\n",
       "       [ 2.5, 12.7],\n",
       "       [ 2.6,  7.7],\n",
       "       [ 2.6,  8.3],\n",
       "       [ 2.6,  9.4],\n",
       "       [ 2.6,  9.4],\n",
       "       [ 2.6, 10.5],\n",
       "       [ 2.6, 11.5],\n",
       "       [ 2.7,  8. ],\n",
       "       [ 2.7,  9. ],\n",
       "       [ 2.7,  9.6],\n",
       "       [ 2.7,  9.6],\n",
       "       [ 2.7,  9.8],\n",
       "       [ 2.7, 10.4],\n",
       "       [ 2.7, 11.1],\n",
       "       [ 2.7, 12. ],\n",
       "       [ 2.7, 12.5],\n",
       "       [ 2.8,  9.1],\n",
       "       [ 2.8, 10. ],\n",
       "       [ 2.8, 10.2],\n",
       "       [ 2.8, 11.4],\n",
       "       [ 2.8, 12. ],\n",
       "       [ 2.8, 13.3],\n",
       "       [ 2.8, 13.5],\n",
       "       [ 2.9,  9.4],\n",
       "       [ 2.9, 10.1],\n",
       "       [ 2.9, 10.6],\n",
       "       [ 2.9, 11.3],\n",
       "       [ 2.9, 11.8],\n",
       "       [ 3. , 10. ],\n",
       "       [ 3. , 10.4],\n",
       "       [ 3. , 10.6],\n",
       "       [ 3. , 11.6],\n",
       "       [ 3. , 12.2],\n",
       "       [ 3. , 12.4],\n",
       "       [ 3. , 12.7],\n",
       "       [ 3. , 13.3],\n",
       "       [ 3. , 13.8],\n",
       "       [ 3.1,  9.9],\n",
       "       [ 3.1, 11.5],\n",
       "       [ 3.1, 12.1],\n",
       "       [ 3.1, 12.5],\n",
       "       [ 3.1, 13. ],\n",
       "       [ 3.1, 14.3],\n",
       "       [ 3.2, 11.6],\n",
       "       [ 3.2, 11.9],\n",
       "       [ 3.2, 12.3],\n",
       "       [ 3.2, 13. ],\n",
       "       [ 3.2, 13.5],\n",
       "       [ 3.2, 13.6],\n",
       "       [ 3.3, 11.5],\n",
       "       [ 3.3, 12. ],\n",
       "       [ 3.3, 14.1],\n",
       "       [ 3.3, 14.9],\n",
       "       [ 3.3, 15.4],\n",
       "       [ 3.4, 11.2],\n",
       "       [ 3.4, 12.2],\n",
       "       [ 3.4, 12.4],\n",
       "       [ 3.4, 12.8],\n",
       "       [ 3.4, 14.4],\n",
       "       [ 3.5, 11.7],\n",
       "       [ 3.5, 12.9],\n",
       "       [ 3.5, 15.6],\n",
       "       [ 3.5, 15.7],\n",
       "       [ 3.5, 17.2],\n",
       "       [ 3.6, 11.8],\n",
       "       [ 3.6, 13.3],\n",
       "       [ 3.6, 14.8],\n",
       "       [ 3.6, 15. ],\n",
       "       [ 3.7, 11. ],\n",
       "       [ 3.8, 14.8],\n",
       "       [ 3.8, 16.8],\n",
       "       [ 3.9, 14.4],\n",
       "       [ 3.9, 20.5]])"
      ]
     },
     "execution_count": 38,
     "metadata": {},
     "output_type": "execute_result"
    }
   ],
   "source": [
    "# Read the data from file\n",
    "url = \"http://www.cs.bham.ac.uk/~lehrepk/nc/cats.csv\"\n",
    "cats = np.genfromtxt(url, delimiter=\",\", skip_header=1, usecols=(1,2))\n",
    "\n",
    "# print out the content of cats\n",
    "cats"
   ]
  },
  {
   "cell_type": "markdown",
   "metadata": {},
   "source": [
    "Now we are going to use a variable named `body_weight` to store all body weight (the first column in the `cats` array). To do so, we call a function `T` (transpose) to convert two columns into two rows. Each row now can be accessed by specifying the row number inside a square bracket. The following line will extract all data from the first column of the cats array and store them into the variable body_weight. "
   ]
  },
  {
   "cell_type": "code",
   "execution_count": 39,
   "metadata": {
    "jupyter": {
     "outputs_hidden": true
    }
   },
   "outputs": [
    {
     "data": {
      "text/plain": [
       "array([2. , 2. , 2. , 2.1, 2.1, 2.1, 2.1, 2.1, 2.1, 2.1, 2.1, 2.1, 2.2,\n",
       "       2.2, 2.2, 2.2, 2.2, 2.2, 2.3, 2.3, 2.3, 2.3, 2.3, 2.3, 2.3, 2.3,\n",
       "       2.3, 2.3, 2.3, 2.3, 2.4, 2.4, 2.4, 2.4, 2.5, 2.5, 2.6, 2.6, 2.6,\n",
       "       2.7, 2.7, 2.7, 2.9, 2.9, 2.9, 3. , 3. , 2. , 2. , 2.1, 2.2, 2.2,\n",
       "       2.2, 2.2, 2.2, 2.2, 2.2, 2.2, 2.3, 2.4, 2.4, 2.4, 2.4, 2.4, 2.5,\n",
       "       2.5, 2.5, 2.5, 2.5, 2.5, 2.5, 2.5, 2.6, 2.6, 2.6, 2.6, 2.6, 2.6,\n",
       "       2.7, 2.7, 2.7, 2.7, 2.7, 2.7, 2.7, 2.7, 2.7, 2.8, 2.8, 2.8, 2.8,\n",
       "       2.8, 2.8, 2.8, 2.9, 2.9, 2.9, 2.9, 2.9, 3. , 3. , 3. , 3. , 3. ,\n",
       "       3. , 3. , 3. , 3. , 3.1, 3.1, 3.1, 3.1, 3.1, 3.1, 3.2, 3.2, 3.2,\n",
       "       3.2, 3.2, 3.2, 3.3, 3.3, 3.3, 3.3, 3.3, 3.4, 3.4, 3.4, 3.4, 3.4,\n",
       "       3.5, 3.5, 3.5, 3.5, 3.5, 3.6, 3.6, 3.6, 3.6, 3.7, 3.8, 3.8, 3.9,\n",
       "       3.9])"
      ]
     },
     "execution_count": 39,
     "metadata": {},
     "output_type": "execute_result"
    }
   ],
   "source": [
    "# extract body_weight data from cats variable\n",
    "body_weight = cats.T[0]\n",
    "body_weight"
   ]
  },
  {
   "cell_type": "markdown",
   "metadata": {},
   "source": [
    "You should now complete the next code block in order to copy the second column in an array `heart_weight`."
   ]
  },
  {
   "cell_type": "code",
   "execution_count": 40,
   "metadata": {
    "jupyter": {
     "outputs_hidden": true
    }
   },
   "outputs": [
    {
     "data": {
      "text/plain": [
       "array([ 7. ,  7.4,  9.5,  7.2,  7.3,  7.6,  8.1,  8.2,  8.3,  8.5,  8.7,\n",
       "        9.8,  7.1,  8.7,  9.1,  9.7, 10.9, 11. ,  7.3,  7.9,  8.4,  9. ,\n",
       "        9. ,  9.5,  9.6,  9.7, 10.1, 10.1, 10.6, 11.2,  6.3,  8.7,  8.8,\n",
       "       10.2,  9. , 10.9,  8.7, 10.1, 10.1,  8.5, 10.2, 10.8,  9.9, 10.1,\n",
       "       10.1, 10.6, 13. ,  6.5,  6.5, 10.1,  7.2,  7.6,  7.9,  8.5,  9.1,\n",
       "        9.6,  9.6, 10.7,  9.6,  7.3,  7.9,  7.9,  9.1,  9.3,  7.9,  8.6,\n",
       "        8.8,  8.8,  9.3, 11. , 12.7, 12.7,  7.7,  8.3,  9.4,  9.4, 10.5,\n",
       "       11.5,  8. ,  9. ,  9.6,  9.6,  9.8, 10.4, 11.1, 12. , 12.5,  9.1,\n",
       "       10. , 10.2, 11.4, 12. , 13.3, 13.5,  9.4, 10.1, 10.6, 11.3, 11.8,\n",
       "       10. , 10.4, 10.6, 11.6, 12.2, 12.4, 12.7, 13.3, 13.8,  9.9, 11.5,\n",
       "       12.1, 12.5, 13. , 14.3, 11.6, 11.9, 12.3, 13. , 13.5, 13.6, 11.5,\n",
       "       12. , 14.1, 14.9, 15.4, 11.2, 12.2, 12.4, 12.8, 14.4, 11.7, 12.9,\n",
       "       15.6, 15.7, 17.2, 11.8, 13.3, 14.8, 15. , 11. , 14.8, 16.8, 14.4,\n",
       "       20.5])"
      ]
     },
     "execution_count": 40,
     "metadata": {},
     "output_type": "execute_result"
    }
   ],
   "source": [
    "# Extract data from second column here\n",
    "heart_weight = cats.T[1]\n",
    "heart_weight"
   ]
  },
  {
   "cell_type": "markdown",
   "metadata": {},
   "source": [
    "## Visualising the data\n",
    "We will now visualise the relationship between body and heart weights of the cats using a scatter plot using the [`scatter`](https://matplotlib.org/devdocs/api/_as_gen/matplotlib.pyplot.scatter.html) function in the matplotlib.pylot module. This function can be called as follows:\n",
    "\n",
    "    plt.scatter( x , y )\n",
    "    \n",
    "The two arguments `x` and `y` are the input data. We can label the `x`- and `y`-axes as follows: \n",
    "\n",
    "    plt.xlabel(\"x_label_here\") \n",
    "    plt.ylabel(\"y_label_here\") \n",
    "    \n",
    "The function scatter has many additional arguments, as [described in the reference manual]([`scatter`](https://matplotlib.org/devdocs/api/_as_gen/matplotlib.pyplot.scatter.html). \n",
    "\n",
    "Now, you should make a scatter plot of the heart weight versus body weight. You should label the x- and y-axes by \"Body weight (kg)\" and \"Heart weight (gm)\". Hint: Remember to include `plt.show()` at the end; otherwise, the scatter plot is not shown."
   ]
  },
  {
   "cell_type": "code",
   "execution_count": 41,
   "metadata": {
    "jupyter": {
     "outputs_hidden": true
    }
   },
   "outputs": [
    {
     "data": {
      "image/png": "[encoded data removed]",
      "text/plain": [
       "<Figure size 432x288 with 1 Axes>"
      ]
     },
     "metadata": {
      "needs_background": "light"
     },
     "output_type": "display_data"
    }
   ],
   "source": [
    "# Make the scatter plot here.\n",
    "x = body_weight\n",
    "y = heart_weight\n",
    "\n",
    "plt.scatter(x, y)\n",
    "plt.xlabel(\"Body weight (kg)\")\n",
    "plt.ylabel(\"Heart weight (kg)\")\n",
    "plt.show()"
   ]
  },
  {
   "cell_type": "markdown",
   "metadata": {},
   "source": [
    "## Defining a Linear Model\n",
    "\n",
    "A linear regression model in one variable has the following form $f(x) = wx+b$, where $x$ is the input, $w$ is called the weight and $b$ is known as the bias. As discussed in the lecture, we simplify the model even more by assuming $b=0$. The model now becomes $f(x)=wx$. If you sketch this model on xy coordinate system, it is a straight line passing through the origin with slope $w$. (i.e. derivative). \n",
    "\n",
    "The purpose of generating such a model is to predict an output (cat heart weight) given an input (cat body weight). Given the model parameter $w$ and the new input $x$, the output predicted by our simple model is $wx$. We will define a function named `linearmodel(x,w)` which represents this model. The function takes two arguments, the model parameter $w$ and the input $x$, and it returns the predicted output $wx$. Please refer to last week's lab sheet for a brief introduction to function definition in Python.\n",
    "\n",
    "Now, you should define the function `linearmodel` as described above."
   ]
  },
  {
   "cell_type": "code",
   "execution_count": 42,
   "metadata": {
    "jupyter": {
     "outputs_hidden": true
    }
   },
   "outputs": [],
   "source": [
    "# Define the linearmodel function here.\n",
    "def linearmodel(x,w):\n",
    "    return x*w"
   ]
  },
  {
   "cell_type": "markdown",
   "metadata": {},
   "source": [
    "We will visualise the cat data set together with the linear regression model for a given weight parameter $w$. Let's consider the following block of codes.\n",
    "\n",
    "    w = 3.907111\n",
    "    x = np.arange(2.0, 4.0, 0.2)\n",
    "    plt.plot(x, linearmodel(x,w), 'r-')\n",
    "    plt.show()\n",
    "    \n",
    "The first line assigns a value of 3.907111 to the weight $w$. The function call `np.arange(x,y,z)` returns an array of evenly separated values, starting from x to y (excluding) with step size of z. For example, np.arange(3,7,2) yields an array consisting of 3 and 5 only. The `plt.plot()` function call is then invoked to plot the linear model for a given weight. Notice that the data set drawn on the y-axis in this case will be the set of output values received from calling the function `linearmodel(x,w)` once for each element in the array `x`. The argument `'r-'` specifies that we want to plot a solid red line.\n",
    "\n",
    "Write code to plot this simple linear model for the cats data set. You have to plot the cats data set first (use code from the previous exercise, and remove the `plt.show()` in the end), and then add the code to plot the linear model. Remember to add `plt.show()` in the end, otherwise the plot is not displayed."
   ]
  },
  {
   "cell_type": "code",
   "execution_count": 43,
   "metadata": {
    "jupyter": {
     "outputs_hidden": true
    }
   },
   "outputs": [
    {
     "data": {
      "image/png": "[encoded data removed]",
      "text/plain": [
       "<Figure size 432x288 with 1 Axes>"
      ]
     },
     "metadata": {
      "needs_background": "light"
     },
     "output_type": "display_data"
    }
   ],
   "source": [
    "# Add your previous code to plot a scatter here without plt.show() at the end.\n",
    "x = body_weight\n",
    "y = heart_weight\n",
    "\n",
    "plt.scatter(x, y)\n",
    "plt.xlabel(\"Body weight (kg)\")\n",
    "plt.ylabel(\"Heart weight (kg)\")\n",
    "\n",
    "# Plot the linear regression model f(x) = x*w here as solid red line (r-) in the interval [2,4).\n",
    "w = 3.907111\n",
    "x = np.arange(2.0, 4.0, 0.2)\n",
    "plt.plot(x, linearmodel(x,w), 'r-')\n",
    "plt.show()"
   ]
  },
  {
   "cell_type": "markdown",
   "metadata": {},
   "source": [
    "## Ordinary Least Square Solution\n",
    "As you can see from the lecture notes, we define a cost function as follows.\n",
    "\n",
    "$$J(w) = \\frac{1}{n}{\\sum_{i=1}^n}\\frac{1}{2}(y^{(i)}-wx^{(i)})^2$$\n",
    "\n",
    "By solving the equation $J'(w)=0$ for $w$, We obtain the ordinary least square solution\n",
    "\n",
    "$$w = \\frac{\\sum_{i=1}^n x^{(i)}y^{(i)}}{\\sum_{i=1}^n (x^{(i)})^2}$$\n",
    "\n",
    "Here in order to calculate the numerator, we have to calculate $n$ products $x^{(i)}y^{(i)}$ (for $i=1,2,...,n$), and then sum them up. We have to do the same number of steps for the denominator. \n",
    "\n",
    "Perhaps the most immediate way of computing these expressions in Python would be to use two for-loops. However, by realising that the numerator and denumerator are dot products between two vectors, we can take advantage of NumPy's efficient routines.\n",
    "The dot product between two vectors $x = (x^{(1)}, x^{(2)},\\ldots,x^{(n)})$ and $y=(y^{(1)}, y^{(2)},\\ldots,y^{(n)})$ is $x\\cdot y = \\sum_{i=1}^n x^{(i)}y^{(i)}$. The formula to calculate $w$ above can be now rewritten as \n",
    "\n",
    "$$w = \\frac{x\\cdot y}{x\\cdot x}.$$\n",
    "\n",
    "To compute the dot product between two vectors $x$ and $y$, we can invoke the NumPy function `np.dot(x,y)`. \n",
    "\n",
    "Implement a function `ols` which takes two arguments $x$ and $y$, and which returns the value of the weight parameter $w$ according to the formula above."
   ]
  },
  {
   "cell_type": "code",
   "execution_count": 44,
   "metadata": {
    "jupyter": {
     "outputs_hidden": true
    }
   },
   "outputs": [],
   "source": [
    "# define your ols function here\n",
    "def ols(x,y):\n",
    "    w = np.dot(x,y)/np.dot(x,x)\n",
    "    return w"
   ]
  },
  {
   "cell_type": "markdown",
   "metadata": {},
   "source": [
    "Now call the function `ols` with the arrays `body_weight` and `heart_weight` as arguments. What is the value of weight $w$ you obtain?"
   ]
  },
  {
   "cell_type": "code",
   "execution_count": 45,
   "metadata": {
    "jupyter": {
     "outputs_hidden": true
    }
   },
   "outputs": [
    {
     "data": {
      "text/plain": [
       "3.90711329727375"
      ]
     },
     "execution_count": 45,
     "metadata": {},
     "output_type": "execute_result"
    }
   ],
   "source": [
    "# call the ols function here\n",
    "ols(body_weight, heart_weight)"
   ]
  },
  {
   "cell_type": "markdown",
   "metadata": {},
   "source": [
    "## Defining a Cost Function\n",
    "\n",
    "The following two functions computes the cost function $J(w)$ and its derivative $J'(w)$ (or $\\nabla J(w)$), defined above using the data set. Here we make use of function `np.sum()` to perform the summation of two vectors. \n",
    "\n",
    "Note that in the notation of the cost function $J(w)$, we omit the input `X` (i.e., body_weight) and \n",
    "target `Y` (i.e., heart_weight), but we have to include them when defining the cost function in Python. "
   ]
  },
  {
   "cell_type": "code",
   "execution_count": 46,
   "metadata": {
    "jupyter": {
     "outputs_hidden": true
    }
   },
   "outputs": [],
   "source": [
    "X = body_weight\n",
    "Y = heart_weight\n",
    "\n",
    "# cost function\n",
    "def J(w, X, Y):\n",
    "    return 0.5*(np.sum((Y - linearmodel(X, w)))**2)\n",
    "\n",
    "# derivative of the cost function\n",
    "def J_d(w, X, Y):\n",
    "    return np.dot(X.T, (linearmodel(X, w)-Y))"
   ]
  },
  {
   "cell_type": "markdown",
   "metadata": {},
   "source": [
    "We assign some values to $w$, using a `np.arange(start, stop, step)` function call as follows:\n",
    "\n",
    "    w = np.arange(2.9,5.0,0.01)\n",
    "    \n",
    "The corresponding values of $J(w)$ can be computed using list comprehension as follows. \n",
    "\n",
    "    [J(i) for i in w] \n",
    "    \n",
    "In this statement, we call function $J(i)$ for each value $i$ in the list $w$. \n",
    "The result of this statement will be a list $[J(w_1), J(w_2),\\ldots,J(w_n)]$. If you do not know what list comprehension is, please refer to last week's lab sheet.\n",
    "   \n",
    "Can you plot the loss function for values of weight $w$ given above? Remember to label the x- and y-axis as \"w\" and \"J(w)\", respectively, and include plt.show() at the end. "
   ]
  },
  {
   "cell_type": "code",
   "execution_count": 47,
   "metadata": {
    "jupyter": {
     "outputs_hidden": true
    }
   },
   "outputs": [
    {
     "data": {
      "image/png": "[encoded data removed]",
      "text/plain": [
       "<Figure size 432x288 with 1 Axes>"
      ]
     },
     "metadata": {
      "needs_background": "light"
     },
     "output_type": "display_data"
    }
   ],
   "source": [
    "# plot the loss function here\n",
    "w = np.arange(2.9, 5.0, 0.01)\n",
    "\n",
    "J_w = [J(i, X, Y) for i in w]\n",
    "plt.plot(w, J_w, 'r-')\n",
    "plt.xlabel(\"w\")\n",
    "plt.ylabel(\"J(w)\")\n",
    "plt.show()"
   ]
  },
  {
   "cell_type": "markdown",
   "metadata": {},
   "source": [
    "By looking at the plot you have just drawn, can you roughly estimate for which value of $w$ the loss function has minimum value?"
   ]
  },
  {
   "cell_type": "markdown",
   "metadata": {},
   "source": [
    "## Gradient Descent Algorithm in One-Dimensional Space\n",
    "\n",
    "In this final section, we are going to use the gradient descend method to find  $w^{*} = \\text{arg min}_w J(w)$, that is, the value of parameter $w$ such that $J(w)$ reaches the (locally) minimum value. In gradient descent, we usually work with an *iterative update scheme* for the weight $w$: \n",
    "$$w^{(t+1)} \\leftarrow w^{(t)} + \\Delta w,$$ \n",
    "where $\\Delta w = -\\epsilon \\cdot \\nabla J(w^{(t)})$ for some (often constant) learning rate $\\epsilon$ and the gradient $\\nabla J$ evaluated at current parameter value $w^{(t)}$. Intuitively speaking, we update the parameters in each iteration in the *opposite* direction of the gradient. The update rule can be formally written as follows.\n",
    "\n",
    "$$w^{(t+1)} \\leftarrow w^{(t)} - \\epsilon\\cdot  \\nabla J(w^{(t)}).$$\n",
    "\n",
    "The following (partial) code first sets up a canvas to illustrate visually how gradient descent works on the loss function $J(w)$. Here we use a learning rate $\\epsilon = 0.0001$ and initial weight $w_0 = 2.5$. A for-loop will iteratively update the value of weight $w$ (see the body of the for-loop). After each update, the new value of weight $w$ will be plotted, and over time, it shows clearly how the weight is updated until coverging to the global optimum. \n",
    "\n",
    "Complete the code below so that the parameter $w$ is updated via gradient descent."
   ]
  },
  {
   "cell_type": "code",
   "execution_count": 52,
   "metadata": {
    "jupyter": {
     "outputs_hidden": true
    }
   },
   "outputs": [
    {
     "data": {
      "application/javascript": [
       "/* Put everything inside the global mpl namespace */\n",
       "window.mpl = {};\n",
       "\n",
       "\n",
       "mpl.get_websocket_type = function() {\n",
       "    if (typeof(WebSocket) !== 'undefined') {\n",
       "        return WebSocket;\n",
       "    } else if (typeof(MozWebSocket) !== 'undefined') {\n",
       "        return MozWebSocket;\n",
       "    } else {\n",
       "        alert('Your browser does not have WebSocket support. ' +\n",
       "              'Please try Chrome, Safari or Firefox ≥ 6. ' +\n",
       "              'Firefox 4 and 5 are also supported but you ' +\n",
       "              'have to enable WebSockets in about:config.');\n",
       "    };\n",
       "}\n",
       "\n",
       "mpl.figure = function(figure_id, websocket, ondownload, parent_element) {\n",
       "    this.id = figure_id;\n",
       "\n",
       "    this.ws = websocket;\n",
       "\n",
       "    this.supports_binary = (this.ws.binaryType != undefined);\n",
       "\n",
       "    if (!this.supports_binary) {\n",
       "        var warnings = document.getElementById(\"mpl-warnings\");\n",
       "        if (warnings) {\n",
       "            warnings.style.display = 'block';\n",
       "            warnings.textContent = (\n",
       "                \"This browser does not support binary websocket messages. \" +\n",
       "                    \"Performance may be slow.\");\n",
       "        }\n",
       "    }\n",
       "\n",
       "    this.imageObj = new Image();\n",
       "\n",
       "    this.context = undefined;\n",
       "    this.message = undefined;\n",
       "    this.canvas = undefined;\n",
       "    this.rubberband_canvas = undefined;\n",
       "    this.rubberband_context = undefined;\n",
       "    this.format_dropdown = undefined;\n",
       "\n",
       "    this.image_mode = 'full';\n",
       "\n",
       "    this.root = $('<div/>');\n",
       "    this._root_extra_style(this.root)\n",
       "    this.root.attr('style', 'display: inline-block');\n",
       "\n",
       "    $(parent_element).append(this.root);\n",
       "\n",
       "    this._init_header(this);\n",
       "    this._init_canvas(this);\n",
       "    this._init_toolbar(this);\n",
       "\n",
       "    var fig = this;\n",
       "\n",
       "    this.waiting = false;\n",
       "\n",
       "    this.ws.onopen =  function () {\n",
       "            fig.send_message(\"supports_binary\", {value: fig.supports_binary});\n",
       "            fig.send_message(\"send_image_mode\", {});\n",
       "            if (mpl.ratio != 1) {\n",
       "                fig.send_message(\"set_dpi_ratio\", {'dpi_ratio': mpl.ratio});\n",
       "            }\n",
       "            fig.send_message(\"refresh\", {});\n",
       "        }\n",
       "\n",
       "    this.imageObj.onload = function() {\n",
       "            if (fig.image_mode == 'full') {\n",
       "                // Full images could contain transparency (where diff images\n",
       "                // almost always do), so we need to clear the canvas so that\n",
       "                // there is no ghosting.\n",
       "                fig.context.clearRect(0, 0, fig.canvas.width, fig.canvas.height);\n",
       "            }\n",
       "            fig.context.drawImage(fig.imageObj, 0, 0);\n",
       "        };\n",
       "\n",
       "    this.imageObj.onunload = function() {\n",
       "        fig.ws.close();\n",
       "    }\n",
       "\n",
       "    this.ws.onmessage = this._make_on_message_function(this);\n",
       "\n",
       "    this.ondownload = ondownload;\n",
       "}\n",
       "\n",
       "mpl.figure.prototype._init_header = function() {\n",
       "    var titlebar = $(\n",
       "        '<div class=\"ui-dialog-titlebar ui-widget-header ui-corner-all ' +\n",
       "        'ui-helper-clearfix\"/>');\n",
       "    var titletext = $(\n",
       "        '<div class=\"ui-dialog-title\" style=\"width: 100%; ' +\n",
       "        'text-align: center; padding: 3px;\"/>');\n",
       "    titlebar.append(titletext)\n",
       "    this.root.append(titlebar);\n",
       "    this.header = titletext[0];\n",
       "}\n",
       "\n",
       "\n",
       "\n",
       "mpl.figure.prototype._canvas_extra_style = function(canvas_div) {\n",
       "\n",
       "}\n",
       "\n",
       "\n",
       "mpl.figure.prototype._root_extra_style = function(canvas_div) {\n",
       "\n",
       "}\n",
       "\n",
       "mpl.figure.prototype._init_canvas = function() {\n",
       "    var fig = this;\n",
       "\n",
       "    var canvas_div = $('<div/>');\n",
       "\n",
       "    canvas_div.attr('style', 'position: relative; clear: both; outline: 0');\n",
       "\n",
       "    function canvas_keyboard_event(event) {\n",
       "        return fig.key_event(event, event['data']);\n",
       "    }\n",
       "\n",
       "    canvas_div.keydown('key_press', canvas_keyboard_event);\n",
       "    canvas_div.keyup('key_release', canvas_keyboard_event);\n",
       "    this.canvas_div = canvas_div\n",
       "    this._canvas_extra_style(canvas_div)\n",
       "    this.root.append(canvas_div);\n",
       "\n",
       "    var canvas = $('<canvas/>');\n",
       "    canvas.addClass('mpl-canvas');\n",
       "    canvas.attr('style', \"left: 0; top: 0; z-index: 0; outline: 0\")\n",
       "\n",
       "    this.canvas = canvas[0];\n",
       "    this.context = canvas[0].getContext(\"2d\");\n",
       "\n",
       "    var backingStore = this.context.backingStorePixelRatio ||\n",
       "\tthis.context.webkitBackingStorePixelRatio ||\n",
       "\tthis.context.mozBackingStorePixelRatio ||\n",
       "\tthis.context.msBackingStorePixelRatio ||\n",
       "\tthis.context.oBackingStorePixelRatio ||\n",
       "\tthis.context.backingStorePixelRatio || 1;\n",
       "\n",
       "    mpl.ratio = (window.devicePixelRatio || 1) / backingStore;\n",
       "\n",
       "    var rubberband = $('<canvas/>');\n",
       "    rubberband.attr('style', \"position: absolute; left: 0; top: 0; z-index: 1;\")\n",
       "\n",
       "    var pass_mouse_events = true;\n",
       "\n",
       "    canvas_div.resizable({\n",
       "        start: function(event, ui) {\n",
       "            pass_mouse_events = false;\n",
       "        },\n",
       "        resize: function(event, ui) {\n",
       "            fig.request_resize(ui.size.width, ui.size.height);\n",
       "        },\n",
       "        stop: function(event, ui) {\n",
       "            pass_mouse_events = true;\n",
       "            fig.request_resize(ui.size.width, ui.size.height);\n",
       "        },\n",
       "    });\n",
       "\n",
       "    function mouse_event_fn(event) {\n",
       "        if (pass_mouse_events)\n",
       "            return fig.mouse_event(event, event['data']);\n",
       "    }\n",
       "\n",
       "    rubberband.mousedown('button_press', mouse_event_fn);\n",
       "    rubberband.mouseup('button_release', mouse_event_fn);\n",
       "    // Throttle sequential mouse events to 1 every 20ms.\n",
       "    rubberband.mousemove('motion_notify', mouse_event_fn);\n",
       "\n",
       "    rubberband.mouseenter('figure_enter', mouse_event_fn);\n",
       "    rubberband.mouseleave('figure_leave', mouse_event_fn);\n",
       "\n",
       "    canvas_div.on(\"wheel\", function (event) {\n",
       "        event = event.originalEvent;\n",
       "        event['data'] = 'scroll'\n",
       "        if (event.deltaY < 0) {\n",
       "            event.step = 1;\n",
       "        } else {\n",
       "            event.step = -1;\n",
       "        }\n",
       "        mouse_event_fn(event);\n",
       "    });\n",
       "\n",
       "    canvas_div.append(canvas);\n",
       "    canvas_div.append(rubberband);\n",
       "\n",
       "    this.rubberband = rubberband;\n",
       "    this.rubberband_canvas = rubberband[0];\n",
       "    this.rubberband_context = rubberband[0].getContext(\"2d\");\n",
       "    this.rubberband_context.strokeStyle = \"#000000\";\n",
       "\n",
       "    this._resize_canvas = function(width, height) {\n",
       "        // Keep the size of the canvas, canvas container, and rubber band\n",
       "        // canvas in synch.\n",
       "        canvas_div.css('width', width)\n",
       "        canvas_div.css('height', height)\n",
       "\n",
       "        canvas.attr('width', width * mpl.ratio);\n",
       "        canvas.attr('height', height * mpl.ratio);\n",
       "        canvas.attr('style', 'width: ' + width + 'px; height: ' + height + 'px;');\n",
       "\n",
       "        rubberband.attr('width', width);\n",
       "        rubberband.attr('height', height);\n",
       "    }\n",
       "\n",
       "    // Set the figure to an initial 600x600px, this will subsequently be updated\n",
       "    // upon first draw.\n",
       "    this._resize_canvas(600, 600);\n",
       "\n",
       "    // Disable right mouse context menu.\n",
       "    $(this.rubberband_canvas).bind(\"contextmenu\",function(e){\n",
       "        return false;\n",
       "    });\n",
       "\n",
       "    function set_focus () {\n",
       "        canvas.focus();\n",
       "        canvas_div.focus();\n",
       "    }\n",
       "\n",
       "    window.setTimeout(set_focus, 100);\n",
       "}\n",
       "\n",
       "mpl.figure.prototype._init_toolbar = function() {\n",
       "    var fig = this;\n",
       "\n",
       "    var nav_element = $('<div/>');\n",
       "    nav_element.attr('style', 'width: 100%');\n",
       "    this.root.append(nav_element);\n",
       "\n",
       "    // Define a callback function for later on.\n",
       "    function toolbar_event(event) {\n",
       "        return fig.toolbar_button_onclick(event['data']);\n",
       "    }\n",
       "    function toolbar_mouse_event(event) {\n",
       "        return fig.toolbar_button_onmouseover(event['data']);\n",
       "    }\n",
       "\n",
       "    for(var toolbar_ind in mpl.toolbar_items) {\n",
       "        var name = mpl.toolbar_items[toolbar_ind][0];\n",
       "        var tooltip = mpl.toolbar_items[toolbar_ind][1];\n",
       "        var image = mpl.toolbar_items[toolbar_ind][2];\n",
       "        var method_name = mpl.toolbar_items[toolbar_ind][3];\n",
       "\n",
       "        if (!name) {\n",
       "            // put a spacer in here.\n",
       "            continue;\n",
       "        }\n",
       "        var button = $('<button/>');\n",
       "        button.addClass('ui-button ui-widget ui-state-default ui-corner-all ' +\n",
       "                        'ui-button-icon-only');\n",
       "        button.attr('role', 'button');\n",
       "        button.attr('aria-disabled', 'false');\n",
       "        button.click(method_name, toolbar_event);\n",
       "        button.mouseover(tooltip, toolbar_mouse_event);\n",
       "\n",
       "        var icon_img = $('<span/>');\n",
       "        icon_img.addClass('ui-button-icon-primary ui-icon');\n",
       "        icon_img.addClass(image);\n",
       "        icon_img.addClass('ui-corner-all');\n",
       "\n",
       "        var tooltip_span = $('<span/>');\n",
       "        tooltip_span.addClass('ui-button-text');\n",
       "        tooltip_span.html(tooltip);\n",
       "\n",
       "        button.append(icon_img);\n",
       "        button.append(tooltip_span);\n",
       "\n",
       "        nav_element.append(button);\n",
       "    }\n",
       "\n",
       "    var fmt_picker_span = $('<span/>');\n",
       "\n",
       "    var fmt_picker = $('<select/>');\n",
       "    fmt_picker.addClass('mpl-toolbar-option ui-widget ui-widget-content');\n",
       "    fmt_picker_span.append(fmt_picker);\n",
       "    nav_element.append(fmt_picker_span);\n",
       "    this.format_dropdown = fmt_picker[0];\n",
       "\n",
       "    for (var ind in mpl.extensions) {\n",
       "        var fmt = mpl.extensions[ind];\n",
       "        var option = $(\n",
       "            '<option/>', {selected: fmt === mpl.default_extension}).html(fmt);\n",
       "        fmt_picker.append(option);\n",
       "    }\n",
       "\n",
       "    // Add hover states to the ui-buttons\n",
       "    $( \".ui-button\" ).hover(\n",
       "        function() { $(this).addClass(\"ui-state-hover\");},\n",
       "        function() { $(this).removeClass(\"ui-state-hover\");}\n",
       "    );\n",
       "\n",
       "    var status_bar = $('<span class=\"mpl-message\"/>');\n",
       "    nav_element.append(status_bar);\n",
       "    this.message = status_bar[0];\n",
       "}\n",
       "\n",
       "mpl.figure.prototype.request_resize = function(x_pixels, y_pixels) {\n",
       "    // Request matplotlib to resize the figure. Matplotlib will then trigger a resize in the client,\n",
       "    // which will in turn request a refresh of the image.\n",
       "    this.send_message('resize', {'width': x_pixels, 'height': y_pixels});\n",
       "}\n",
       "\n",
       "mpl.figure.prototype.send_message = function(type, properties) {\n",
       "    properties['type'] = type;\n",
       "    properties['figure_id'] = this.id;\n",
       "    this.ws.send(JSON.stringify(properties));\n",
       "}\n",
       "\n",
       "mpl.figure.prototype.send_draw_message = function() {\n",
       "    if (!this.waiting) {\n",
       "        this.waiting = true;\n",
       "        this.ws.send(JSON.stringify({type: \"draw\", figure_id: this.id}));\n",
       "    }\n",
       "}\n",
       "\n",
       "\n",
       "mpl.figure.prototype.handle_save = function(fig, msg) {\n",
       "    var format_dropdown = fig.format_dropdown;\n",
       "    var format = format_dropdown.options[format_dropdown.selectedIndex].value;\n",
       "    fig.ondownload(fig, format);\n",
       "}\n",
       "\n",
       "\n",
       "mpl.figure.prototype.handle_resize = function(fig, msg) {\n",
       "    var size = msg['size'];\n",
       "    if (size[0] != fig.canvas.width || size[1] != fig.canvas.height) {\n",
       "        fig._resize_canvas(size[0], size[1]);\n",
       "        fig.send_message(\"refresh\", {});\n",
       "    };\n",
       "}\n",
       "\n",
       "mpl.figure.prototype.handle_rubberband = function(fig, msg) {\n",
       "    var x0 = msg['x0'] / mpl.ratio;\n",
       "    var y0 = (fig.canvas.height - msg['y0']) / mpl.ratio;\n",
       "    var x1 = msg['x1'] / mpl.ratio;\n",
       "    var y1 = (fig.canvas.height - msg['y1']) / mpl.ratio;\n",
       "    x0 = Math.floor(x0) + 0.5;\n",
       "    y0 = Math.floor(y0) + 0.5;\n",
       "    x1 = Math.floor(x1) + 0.5;\n",
       "    y1 = Math.floor(y1) + 0.5;\n",
       "    var min_x = Math.min(x0, x1);\n",
       "    var min_y = Math.min(y0, y1);\n",
       "    var width = Math.abs(x1 - x0);\n",
       "    var height = Math.abs(y1 - y0);\n",
       "\n",
       "    fig.rubberband_context.clearRect(\n",
       "        0, 0, fig.canvas.width / mpl.ratio, fig.canvas.height / mpl.ratio);\n",
       "\n",
       "    fig.rubberband_context.strokeRect(min_x, min_y, width, height);\n",
       "}\n",
       "\n",
       "mpl.figure.prototype.handle_figure_label = function(fig, msg) {\n",
       "    // Updates the figure title.\n",
       "    fig.header.textContent = msg['label'];\n",
       "}\n",
       "\n",
       "mpl.figure.prototype.handle_cursor = function(fig, msg) {\n",
       "    var cursor = msg['cursor'];\n",
       "    switch(cursor)\n",
       "    {\n",
       "    case 0:\n",
       "        cursor = 'pointer';\n",
       "        break;\n",
       "    case 1:\n",
       "        cursor = 'default';\n",
       "        break;\n",
       "    case 2:\n",
       "        cursor = 'crosshair';\n",
       "        break;\n",
       "    case 3:\n",
       "        cursor = 'move';\n",
       "        break;\n",
       "    }\n",
       "    fig.rubberband_canvas.style.cursor = cursor;\n",
       "}\n",
       "\n",
       "mpl.figure.prototype.handle_message = function(fig, msg) {\n",
       "    fig.message.textContent = msg['message'];\n",
       "}\n",
       "\n",
       "mpl.figure.prototype.handle_draw = function(fig, msg) {\n",
       "    // Request the server to send over a new figure.\n",
       "    fig.send_draw_message();\n",
       "}\n",
       "\n",
       "mpl.figure.prototype.handle_image_mode = function(fig, msg) {\n",
       "    fig.image_mode = msg['mode'];\n",
       "}\n",
       "\n",
       "mpl.figure.prototype.updated_canvas_event = function() {\n",
       "    // Called whenever the canvas gets updated.\n",
       "    this.send_message(\"ack\", {});\n",
       "}\n",
       "\n",
       "// A function to construct a web socket function for onmessage handling.\n",
       "// Called in the figure constructor.\n",
       "mpl.figure.prototype._make_on_message_function = function(fig) {\n",
       "    return function socket_on_message(evt) {\n",
       "        if (evt.data instanceof Blob) {\n",
       "            /* FIXME: We get \"Resource interpreted as Image but\n",
       "             * transferred with MIME type text/plain:\" errors on\n",
       "             * Chrome.  But how to set the MIME type?  It doesn't seem\n",
       "             * to be part of the websocket stream */\n",
       "            evt.data.type = \"image/png\";\n",
       "\n",
       "            /* Free the memory for the previous frames */\n",
       "            if (fig.imageObj.src) {\n",
       "                (window.URL || window.webkitURL).revokeObjectURL(\n",
       "                    fig.imageObj.src);\n",
       "            }\n",
       "\n",
       "            fig.imageObj.src = (window.URL || window.webkitURL).createObjectURL(\n",
       "                evt.data);\n",
       "            fig.updated_canvas_event();\n",
       "            fig.waiting = false;\n",
       "            return;\n",
       "        }\n",
       "        else if (typeof evt.data === 'string' && evt.data.slice(0, 21) == \"data:image/png;base64\") {\n",
       "            fig.imageObj.src = evt.data;\n",
       "            fig.updated_canvas_event();\n",
       "            fig.waiting = false;\n",
       "            return;\n",
       "        }\n",
       "\n",
       "        var msg = JSON.parse(evt.data);\n",
       "        var msg_type = msg['type'];\n",
       "\n",
       "        // Call the  \"handle_{type}\" callback, which takes\n",
       "        // the figure and JSON message as its only arguments.\n",
       "        try {\n",
       "            var callback = fig[\"handle_\" + msg_type];\n",
       "        } catch (e) {\n",
       "            console.log(\"No handler for the '\" + msg_type + \"' message type: \", msg);\n",
       "            return;\n",
       "        }\n",
       "\n",
       "        if (callback) {\n",
       "            try {\n",
       "                // console.log(\"Handling '\" + msg_type + \"' message: \", msg);\n",
       "                callback(fig, msg);\n",
       "            } catch (e) {\n",
       "                console.log(\"Exception inside the 'handler_\" + msg_type + \"' callback:\", e, e.stack, msg);\n",
       "            }\n",
       "        }\n",
       "    };\n",
       "}\n",
       "\n",
       "// from http://stackoverflow.com/questions/1114465/getting-mouse-location-in-canvas\n",
       "mpl.findpos = function(e) {\n",
       "    //this section is from http://www.quirksmode.org/js/events_properties.html\n",
       "    var targ;\n",
       "    if (!e)\n",
       "        e = window.event;\n",
       "    if (e.target)\n",
       "        targ = e.target;\n",
       "    else if (e.srcElement)\n",
       "        targ = e.srcElement;\n",
       "    if (targ.nodeType == 3) // defeat Safari bug\n",
       "        targ = targ.parentNode;\n",
       "\n",
       "    // jQuery normalizes the pageX and pageY\n",
       "    // pageX,Y are the mouse positions relative to the document\n",
       "    // offset() returns the position of the element relative to the document\n",
       "    var x = e.pageX - $(targ).offset().left;\n",
       "    var y = e.pageY - $(targ).offset().top;\n",
       "\n",
       "    return {\"x\": x, \"y\": y};\n",
       "};\n",
       "\n",
       "/*\n",
       " * return a copy of an object with only non-object keys\n",
       " * we need this to avoid circular references\n",
       " * http://stackoverflow.com/a/24161582/3208463\n",
       " */\n",
       "function simpleKeys (original) {\n",
       "  return Object.keys(original).reduce(function (obj, key) {\n",
       "    if (typeof original[key] !== 'object')\n",
       "        obj[key] = original[key]\n",
       "    return obj;\n",
       "  }, {});\n",
       "}\n",
       "\n",
       "mpl.figure.prototype.mouse_event = function(event, name) {\n",
       "    var canvas_pos = mpl.findpos(event)\n",
       "\n",
       "    if (name === 'button_press')\n",
       "    {\n",
       "        this.canvas.focus();\n",
       "        this.canvas_div.focus();\n",
       "    }\n",
       "\n",
       "    var x = canvas_pos.x * mpl.ratio;\n",
       "    var y = canvas_pos.y * mpl.ratio;\n",
       "\n",
       "    this.send_message(name, {x: x, y: y, button: event.button,\n",
       "                             step: event.step,\n",
       "                             guiEvent: simpleKeys(event)});\n",
       "\n",
       "    /* This prevents the web browser from automatically changing to\n",
       "     * the text insertion cursor when the button is pressed.  We want\n",
       "     * to control all of the cursor setting manually through the\n",
       "     * 'cursor' event from matplotlib */\n",
       "    event.preventDefault();\n",
       "    return false;\n",
       "}\n",
       "\n",
       "mpl.figure.prototype._key_event_extra = function(event, name) {\n",
       "    // Handle any extra behaviour associated with a key event\n",
       "}\n",
       "\n",
       "mpl.figure.prototype.key_event = function(event, name) {\n",
       "\n",
       "    // Prevent repeat events\n",
       "    if (name == 'key_press')\n",
       "    {\n",
       "        if (event.which === this._key)\n",
       "            return;\n",
       "        else\n",
       "            this._key = event.which;\n",
       "    }\n",
       "    if (name == 'key_release')\n",
       "        this._key = null;\n",
       "\n",
       "    var value = '';\n",
       "    if (event.ctrlKey && event.which != 17)\n",
       "        value += \"ctrl+\";\n",
       "    if (event.altKey && event.which != 18)\n",
       "        value += \"alt+\";\n",
       "    if (event.shiftKey && event.which != 16)\n",
       "        value += \"shift+\";\n",
       "\n",
       "    value += 'k';\n",
       "    value += event.which.toString();\n",
       "\n",
       "    this._key_event_extra(event, name);\n",
       "\n",
       "    this.send_message(name, {key: value,\n",
       "                             guiEvent: simpleKeys(event)});\n",
       "    return false;\n",
       "}\n",
       "\n",
       "mpl.figure.prototype.toolbar_button_onclick = function(name) {\n",
       "    if (name == 'download') {\n",
       "        this.handle_save(this, null);\n",
       "    } else {\n",
       "        this.send_message(\"toolbar_button\", {name: name});\n",
       "    }\n",
       "};\n",
       "\n",
       "mpl.figure.prototype.toolbar_button_onmouseover = function(tooltip) {\n",
       "    this.message.textContent = tooltip;\n",
       "};\n",
       "mpl.toolbar_items = [[\"Home\", \"Reset original view\", \"fa fa-home icon-home\", \"home\"], [\"Back\", \"Back to previous view\", \"fa fa-arrow-left icon-arrow-left\", \"back\"], [\"Forward\", \"Forward to next view\", \"fa fa-arrow-right icon-arrow-right\", \"forward\"], [\"\", \"\", \"\", \"\"], [\"Pan\", \"Pan axes with left mouse, zoom with right\", \"fa fa-arrows icon-move\", \"pan\"], [\"Zoom\", \"Zoom to rectangle\", \"fa fa-square-o icon-check-empty\", \"zoom\"], [\"\", \"\", \"\", \"\"], [\"Download\", \"Download plot\", \"fa fa-floppy-o icon-save\", \"download\"]];\n",
       "\n",
       "mpl.extensions = [\"eps\", \"pdf\", \"png\", \"ps\", \"raw\", \"svg\"];\n",
       "\n",
       "mpl.default_extension = \"png\";var comm_websocket_adapter = function(comm) {\n",
       "    // Create a \"websocket\"-like object which calls the given IPython comm\n",
       "    // object with the appropriate methods. Currently this is a non binary\n",
       "    // socket, so there is still some room for performance tuning.\n",
       "    var ws = {};\n",
       "\n",
       "    ws.close = function() {\n",
       "        comm.close()\n",
       "    };\n",
       "    ws.send = function(m) {\n",
       "        //console.log('sending', m);\n",
       "        comm.send(m);\n",
       "    };\n",
       "    // Register the callback with on_msg.\n",
       "    comm.on_msg(function(msg) {\n",
       "        //console.log('receiving', msg['content']['data'], msg);\n",
       "        // Pass the mpl event to the overridden (by mpl) onmessage function.\n",
       "        ws.onmessage(msg['content']['data'])\n",
       "    });\n",
       "    return ws;\n",
       "}\n",
       "\n",
       "mpl.mpl_figure_comm = function(comm, msg) {\n",
       "    // This is the function which gets called when the mpl process\n",
       "    // starts-up an IPython Comm through the \"matplotlib\" channel.\n",
       "\n",
       "    var id = msg.content.data.id;\n",
       "    // Get hold of the div created by the display call when the Comm\n",
       "    // socket was opened in Python.\n",
       "    var element = $(\"#\" + id);\n",
       "    var ws_proxy = comm_websocket_adapter(comm)\n",
       "\n",
       "    function ondownload(figure, format) {\n",
       "        window.open(figure.imageObj.src);\n",
       "    }\n",
       "\n",
       "    var fig = new mpl.figure(id, ws_proxy,\n",
       "                           ondownload,\n",
       "                           element.get(0));\n",
       "\n",
       "    // Call onopen now - mpl needs it, as it is assuming we've passed it a real\n",
       "    // web socket which is closed, not our websocket->open comm proxy.\n",
       "    ws_proxy.onopen();\n",
       "\n",
       "    fig.parent_element = element.get(0);\n",
       "    fig.cell_info = mpl.find_output_cell(\"<div id='\" + id + \"'></div>\");\n",
       "    if (!fig.cell_info) {\n",
       "        console.error(\"Failed to find cell for figure\", id, fig);\n",
       "        return;\n",
       "    }\n",
       "\n",
       "    var output_index = fig.cell_info[2]\n",
       "    var cell = fig.cell_info[0];\n",
       "\n",
       "};\n",
       "\n",
       "mpl.figure.prototype.handle_close = function(fig, msg) {\n",
       "    var width = fig.canvas.width/mpl.ratio\n",
       "    fig.root.unbind('remove')\n",
       "\n",
       "    // Update the output cell to use the data from the current canvas.\n",
       "    fig.push_to_output();\n",
       "    var dataURL = fig.canvas.toDataURL();\n",
       "    // Re-enable the keyboard manager in IPython - without this line, in FF,\n",
       "    // the notebook keyboard shortcuts fail.\n",
       "    IPython.keyboard_manager.enable()\n",
       "    $(fig.parent_element).html('<img src=\"' + dataURL + '\" width=\"' + width + '\">');\n",
       "    fig.close_ws(fig, msg);\n",
       "}\n",
       "\n",
       "mpl.figure.prototype.close_ws = function(fig, msg){\n",
       "    fig.send_message('closing', msg);\n",
       "    // fig.ws.close()\n",
       "}\n",
       "\n",
       "mpl.figure.prototype.push_to_output = function(remove_interactive) {\n",
       "    // Turn the data on the canvas into data in the output cell.\n",
       "    var width = this.canvas.width/mpl.ratio\n",
       "    var dataURL = this.canvas.toDataURL();\n",
       "    this.cell_info[1]['text/html'] = '<img src=\"' + dataURL + '\" width=\"' + width + '\">';\n",
       "}\n",
       "\n",
       "mpl.figure.prototype.updated_canvas_event = function() {\n",
       "    // Tell IPython that the notebook contents must change.\n",
       "    IPython.notebook.set_dirty(true);\n",
       "    this.send_message(\"ack\", {});\n",
       "    var fig = this;\n",
       "    // Wait a second, then push the new image to the DOM so\n",
       "    // that it is saved nicely (might be nice to debounce this).\n",
       "    setTimeout(function () { fig.push_to_output() }, 1000);\n",
       "}\n",
       "\n",
       "mpl.figure.prototype._init_toolbar = function() {\n",
       "    var fig = this;\n",
       "\n",
       "    var nav_element = $('<div/>');\n",
       "    nav_element.attr('style', 'width: 100%');\n",
       "    this.root.append(nav_element);\n",
       "\n",
       "    // Define a callback function for later on.\n",
       "    function toolbar_event(event) {\n",
       "        return fig.toolbar_button_onclick(event['data']);\n",
       "    }\n",
       "    function toolbar_mouse_event(event) {\n",
       "        return fig.toolbar_button_onmouseover(event['data']);\n",
       "    }\n",
       "\n",
       "    for(var toolbar_ind in mpl.toolbar_items){\n",
       "        var name = mpl.toolbar_items[toolbar_ind][0];\n",
       "        var tooltip = mpl.toolbar_items[toolbar_ind][1];\n",
       "        var image = mpl.toolbar_items[toolbar_ind][2];\n",
       "        var method_name = mpl.toolbar_items[toolbar_ind][3];\n",
       "\n",
       "        if (!name) { continue; };\n",
       "\n",
       "        var button = $('<button class=\"btn btn-default\" href=\"#\" title=\"' + name + '\"><i class=\"fa ' + image + ' fa-lg\"></i></button>');\n",
       "        button.click(method_name, toolbar_event);\n",
       "        button.mouseover(tooltip, toolbar_mouse_event);\n",
       "        nav_element.append(button);\n",
       "    }\n",
       "\n",
       "    // Add the status bar.\n",
       "    var status_bar = $('<span class=\"mpl-message\" style=\"text-align:right; float: right;\"/>');\n",
       "    nav_element.append(status_bar);\n",
       "    this.message = status_bar[0];\n",
       "\n",
       "    // Add the close button to the window.\n",
       "    var buttongrp = $('<div class=\"btn-group inline pull-right\"></div>');\n",
       "    var button = $('<button class=\"btn btn-mini btn-primary\" href=\"#\" title=\"Stop Interaction\"><i class=\"fa fa-power-off icon-remove icon-large\"></i></button>');\n",
       "    button.click(function (evt) { fig.handle_close(fig, {}); } );\n",
       "    button.mouseover('Stop Interaction', toolbar_mouse_event);\n",
       "    buttongrp.append(button);\n",
       "    var titlebar = this.root.find($('.ui-dialog-titlebar'));\n",
       "    titlebar.prepend(buttongrp);\n",
       "}\n",
       "\n",
       "mpl.figure.prototype._root_extra_style = function(el){\n",
       "    var fig = this\n",
       "    el.on(\"remove\", function(){\n",
       "\tfig.close_ws(fig, {});\n",
       "    });\n",
       "}\n",
       "\n",
       "mpl.figure.prototype._canvas_extra_style = function(el){\n",
       "    // this is important to make the div 'focusable\n",
       "    el.attr('tabindex', 0)\n",
       "    // reach out to IPython and tell the keyboard manager to turn it's self\n",
       "    // off when our div gets focus\n",
       "\n",
       "    // location in version 3\n",
       "    if (IPython.notebook.keyboard_manager) {\n",
       "        IPython.notebook.keyboard_manager.register_events(el);\n",
       "    }\n",
       "    else {\n",
       "        // location in version 2\n",
       "        IPython.keyboard_manager.register_events(el);\n",
       "    }\n",
       "\n",
       "}\n",
       "\n",
       "mpl.figure.prototype._key_event_extra = function(event, name) {\n",
       "    var manager = IPython.notebook.keyboard_manager;\n",
       "    if (!manager)\n",
       "        manager = IPython.keyboard_manager;\n",
       "\n",
       "    // Check for shift+enter\n",
       "    if (event.shiftKey && event.which == 13) {\n",
       "        this.canvas_div.blur();\n",
       "        event.shiftKey = false;\n",
       "        // Send a \"J\" for go to next cell\n",
       "        event.which = 74;\n",
       "        event.keyCode = 74;\n",
       "        manager.command_mode();\n",
       "        manager.handle_keydown(event);\n",
       "    }\n",
       "}\n",
       "\n",
       "mpl.figure.prototype.handle_save = function(fig, msg) {\n",
       "    fig.ondownload(fig, null);\n",
       "}\n",
       "\n",
       "\n",
       "mpl.find_output_cell = function(html_output) {\n",
       "    // Return the cell and output element which can be found *uniquely* in the notebook.\n",
       "    // Note - this is a bit hacky, but it is done because the \"notebook_saving.Notebook\"\n",
       "    // IPython event is triggered only after the cells have been serialised, which for\n",
       "    // our purposes (turning an active figure into a static one), is too late.\n",
       "    var cells = IPython.notebook.get_cells();\n",
       "    var ncells = cells.length;\n",
       "    for (var i=0; i<ncells; i++) {\n",
       "        var cell = cells[i];\n",
       "        if (cell.cell_type === 'code'){\n",
       "            for (var j=0; j<cell.output_area.outputs.length; j++) {\n",
       "                var data = cell.output_area.outputs[j];\n",
       "                if (data.data) {\n",
       "                    // IPython >= 3 moved mimebundle to data attribute of output\n",
       "                    data = data.data;\n",
       "                }\n",
       "                if (data['text/html'] == html_output) {\n",
       "                    return [cell, data, j];\n",
       "                }\n",
       "            }\n",
       "        }\n",
       "    }\n",
       "}\n",
       "\n",
       "// Register the function which deals with the matplotlib target/channel.\n",
       "// The kernel may be null if the page has been refreshed.\n",
       "if (IPython.notebook.kernel != null) {\n",
       "    IPython.notebook.kernel.comm_manager.register_target('matplotlib', mpl.mpl_figure_comm);\n",
       "}\n"
      ],
      "text/plain": [
       "<IPython.core.display.Javascript object>"
      ]
     },
     "metadata": {},
     "output_type": "display_data"
    },
    {
     "data": {
      "text/html": [
       "<img src=\"data:image/png;base64,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\" width=\"432\">"
      ],
      "text/plain": [
       "<IPython.core.display.HTML object>"
      ]
     },
     "metadata": {},
     "output_type": "display_data"
    }
   ],
   "source": [
    "%matplotlib notebook\n",
    "\n",
    "import time\n",
    "\n",
    "# set up the canvas\n",
    "fig = plt.figure()\n",
    "ax = fig.add_subplot(111)\n",
    "plt.ion()\n",
    "fig.show()\n",
    "fig.canvas.draw()\n",
    "\n",
    "# limit range of values on x-axis\n",
    "x = np.arange(2,6, 0.1)\n",
    "\n",
    "# Learning rate\n",
    "epsilon = 0.0001\n",
    "\n",
    "# Initial weight\n",
    "w = 2.5\n",
    "\n",
    "# update values of w\n",
    "for i in range(1,100):   \n",
    "    \n",
    "    w = w - epsilon*J_d(w,X,Y)\n",
    "    ax.clear()\n",
    "    ax.plot(x,[J(y, body_weight, heart_weight) for y in x])\n",
    "    ax.plot(w, J(w, body_weight, heart_weight),'o')\n",
    "    fig.canvas.draw()\n",
    "    time.sleep(1)"
   ]
  },
  {
   "cell_type": "markdown",
   "metadata": {},
   "source": [
    "For what value of the weight parameter $w$ does the loss function reach its minimum value? \n",
    "\n",
    "How is this value different from the weight obtained by using the least-square method? "
   ]
  }
 ],
 "metadata": {
  "kernelspec": {
   "display_name": "Python 3",
   "language": "python",
   "name": "python3"
  },
  "language_info": {
   "codemirror_mode": {
    "name": "ipython",
    "version": 3
   },
   "file_extension": ".py",
   "mimetype": "text/x-python",
   "name": "python",
   "nbconvert_exporter": "python",
   "pygments_lexer": "ipython3",
   "version": "3.6.3"
  }
 },
 "nbformat": 4,
 "nbformat_minor": 4
}
