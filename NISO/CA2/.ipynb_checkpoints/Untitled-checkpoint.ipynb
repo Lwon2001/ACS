{
 "cells": [
  {
   "cell_type": "code",
   "execution_count": 2,
   "metadata": {},
   "outputs": [],
   "source": [
    "import numpy as np\n",
    "import re"
   ]
  },
  {
   "cell_type": "code",
   "execution_count": 3,
   "metadata": {},
   "outputs": [],
   "source": [
    "dbg = False\n",
    " \n",
    "term_regex = r'''(?mx)\n",
    "    \\s*(?:\n",
    "        (?P<brackl>\\()|\n",
    "        (?P<brackr>\\))|\n",
    "        (?P<num>\\-?\\d+\\.\\d+|\\-?\\d+)|\n",
    "        (?P<sq>\"[^\"]*\")|\n",
    "        (?P<s>[^(^)\\s]+)\n",
    "       )'''\n",
    " \n",
    "def parse_sexp(sexp):\n",
    "    stack = []\n",
    "    out = []\n",
    "    if dbg: print(\"%-6s %-14s %-44s %-s\" % tuple(\"term value out stack\".split()))\n",
    "    for termtypes in re.finditer(term_regex, sexp):\n",
    "        term, value = [(t,v) for t,v in termtypes.groupdict().items() if v][0]\n",
    "        if dbg: print(\"%-7s %-14s %-44r %-r\" % (term, value, out, stack))\n",
    "        if   term == 'brackl':\n",
    "            stack.append(out)\n",
    "            out = []\n",
    "        elif term == 'brackr':\n",
    "            assert stack, \"Trouble with nesting of brackets\"\n",
    "            tmpout, out = out, stack.pop(-1)\n",
    "            out.append(tmpout)\n",
    "        elif term == 'num':\n",
    "            v = float(value)\n",
    "            if v.is_integer(): v = int(v)\n",
    "            out.append(v)\n",
    "        elif term == 'sq':\n",
    "            out.append(value[1:-1])\n",
    "        elif term == 's':\n",
    "            out.append(value)\n",
    "        else:\n",
    "            raise NotImplementedError(\"Error: %r\" % (term, value))\n",
    "    assert not stack, \"Trouble with nesting of brackets\"\n",
    "    return out[0]"
   ]
  },
  {
   "cell_type": "code",
   "execution_count": 4,
   "metadata": {},
   "outputs": [],
   "source": [
    "def print_sexp(exp):\n",
    "    out = ''\n",
    "    if type(exp) == type([]):\n",
    "        out += '(' + ' '.join(print_sexp(x) for x in exp) + ')'\n",
    "    elif type(exp) == type('') and re.search(r'[\\s()]', exp):\n",
    "        out += '\"%s\"' % repr(exp)[1:-1].replace('\"', '\\\"')\n",
    "    else:\n",
    "        out += '%s' % exp\n",
    "    return out"
   ]
  },
  {
   "cell_type": "code",
   "execution_count": 5,
   "metadata": {},
   "outputs": [
    {
     "name": "stdout",
     "output_type": "stream",
     "text": [
      "Input S-expression: ' ( ( add (mul 1 3) (div 4 2))) '\n",
      "\n",
      "Parsed to Python: [['add', ['mul', 1, 3], ['div', 4, 2]]]\n",
      "\n",
      "Then back to: '((add (mul 1 3) (div 4 2)))'\n"
     ]
    }
   ],
   "source": [
    "if __name__ == '__main__':\n",
    "    sexp = ''' ( ( add (mul 1 3) (div 4 2))) ''' # (log 45) (ifleq 12 4 1 0))\n",
    " \n",
    "    print('Input S-expression: %r' % (sexp, ))\n",
    "    parsed = parse_sexp(sexp)\n",
    "    print(\"\\nParsed to Python:\", parsed)\n",
    " \n",
    "    print(\"\\nThen back to: '%s'\" % print_sexp(parsed))"
   ]
  },
  {
   "cell_type": "code",
   "execution_count": 6,
   "metadata": {},
   "outputs": [],
   "source": [
    "class TreeNode:\n",
    "    def __init__(self, x):\n",
    "        self.val = x\n",
    "        self.left = None\n",
    "        self.right = None\n",
    "\n",
    "maximum_depth = 0\n",
    "\n",
    "def maxDepth(self, root, cur_depth=0):\n",
    "    if root is None:\n",
    "        self.maximum_depth = max(self.maximum_depth, cur_depth)\n",
    "        return self.maximum_depth\n",
    "    self.maxDepth(root.left, cur_depth+1)\n",
    "    self.maxDepth(root.right, cur_depth+1)\n",
    "    return self.maximum_depth"
   ]
  },
  {
   "cell_type": "markdown",
   "metadata": {},
   "source": [
    "### Implement a simple s-expression tree for +-*/"
   ]
  },
  {
   "cell_type": "code",
   "execution_count": 7,
   "metadata": {},
   "outputs": [
    {
     "data": {
      "text/plain": [
       "[['add', ['mul', 1, 3], ['div', 4, 2]]]"
      ]
     },
     "execution_count": 7,
     "metadata": {},
     "output_type": "execute_result"
    }
   ],
   "source": [
    "parsed"
   ]
  },
  {
   "cell_type": "code",
   "execution_count": 8,
   "metadata": {},
   "outputs": [],
   "source": [
    "# 1. Make sexp tree with parsed array\n",
    "class TreeNode:\n",
    "    def __init__(self, x, is_num=True):\n",
    "        self.val = x\n",
    "        self.left = None\n",
    "        self.right = None\n",
    "        self.is_num = is_num"
   ]
  },
  {
   "cell_type": "code",
   "execution_count": 9,
   "metadata": {},
   "outputs": [],
   "source": [
    "root = TreeNode(parsed, is_num=False)"
   ]
  },
  {
   "cell_type": "code",
   "execution_count": 10,
   "metadata": {},
   "outputs": [],
   "source": [
    "def depth(parsed):\n",
    "    if isinstance(parsed, list):\n",
    "        return 1+ max(depth(nested) for nested in parsed)\n",
    "    else:\n",
    "        return 0"
   ]
  },
  {
   "cell_type": "code",
   "execution_count": 11,
   "metadata": {},
   "outputs": [
    {
     "ename": "IndexError",
     "evalue": "list index out of range",
     "output_type": "error",
     "traceback": [
      "\u001b[0;31m---------------------------------------------------------------------------\u001b[0m",
      "\u001b[0;31mIndexError\u001b[0m                                Traceback (most recent call last)",
      "\u001b[0;32m<ipython-input-11-1d9a7c5644a8>\u001b[0m in \u001b[0;36m<module>\u001b[0;34m\u001b[0m\n\u001b[1;32m      2\u001b[0m \u001b[0;32mfor\u001b[0m \u001b[0mi\u001b[0m \u001b[0;32min\u001b[0m \u001b[0mrange\u001b[0m\u001b[0;34m(\u001b[0m\u001b[0mdepth\u001b[0m\u001b[0;34m)\u001b[0m\u001b[0;34m:\u001b[0m\u001b[0;34m\u001b[0m\u001b[0;34m\u001b[0m\u001b[0m\n\u001b[1;32m      3\u001b[0m     \u001b[0mroot\u001b[0m\u001b[0;34m.\u001b[0m\u001b[0mval\u001b[0m \u001b[0;34m=\u001b[0m \u001b[0mparsed\u001b[0m\u001b[0;34m[\u001b[0m\u001b[0;36m0\u001b[0m\u001b[0;34m]\u001b[0m\u001b[0;34m\u001b[0m\u001b[0;34m\u001b[0m\u001b[0m\n\u001b[0;32m----> 4\u001b[0;31m     \u001b[0mroot\u001b[0m\u001b[0;34m.\u001b[0m\u001b[0mleft\u001b[0m \u001b[0;34m=\u001b[0m \u001b[0mparsed\u001b[0m\u001b[0;34m[\u001b[0m\u001b[0;36m1\u001b[0m\u001b[0;34m]\u001b[0m\u001b[0;34m\u001b[0m\u001b[0;34m\u001b[0m\u001b[0m\n\u001b[0m\u001b[1;32m      5\u001b[0m     \u001b[0mroot\u001b[0m\u001b[0;34m.\u001b[0m\u001b[0mright\u001b[0m \u001b[0;34m=\u001b[0m \u001b[0mparsed\u001b[0m\u001b[0;34m[\u001b[0m\u001b[0;36m2\u001b[0m\u001b[0;34m]\u001b[0m\u001b[0;34m\u001b[0m\u001b[0;34m\u001b[0m\u001b[0m\n\u001b[1;32m      6\u001b[0m \u001b[0;34m\u001b[0m\u001b[0m\n",
      "\u001b[0;31mIndexError\u001b[0m: list index out of range"
     ]
    }
   ],
   "source": [
    "depth = depth(parsed)\n",
    "for i in range(depth):\n",
    "    root.val = parsed[0]\n",
    "    root.left = parsed[1]\n",
    "    root.right = parsed[2]\n",
    "    "
   ]
  },
  {
   "cell_type": "code",
   "execution_count": 12,
   "metadata": {},
   "outputs": [
    {
     "name": "stdout",
     "output_type": "stream",
     "text": [
      "<generator object <genexpr> at 0x7f7756dc1f50>\n"
     ]
    }
   ],
   "source": [
    "print(i for i in parsed)"
   ]
  },
  {
   "cell_type": "code",
   "execution_count": null,
   "metadata": {},
   "outputs": [],
   "source": []
  }
 ],
 "metadata": {
  "kernelspec": {
   "display_name": "Python 3",
   "language": "python",
   "name": "python3"
  },
  "language_info": {
   "codemirror_mode": {
    "name": "ipython",
    "version": 3
   },
   "file_extension": ".py",
   "mimetype": "text/x-python",
   "name": "python",
   "nbconvert_exporter": "python",
   "pygments_lexer": "ipython3",
   "version": "3.7.5"
  },
  "latex_envs": {
   "LaTeX_envs_menu_present": true,
   "autoclose": false,
   "autocomplete": true,
   "bibliofile": "biblio.bib",
   "cite_by": "apalike",
   "current_citInitial": 1,
   "eqLabelWithNumbers": true,
   "eqNumInitial": 1,
   "hotkeys": {
    "equation": "Ctrl-E",
    "itemize": "Ctrl-I"
   },
   "labels_anchors": false,
   "latex_user_defs": false,
   "report_style_numbering": false,
   "user_envs_cfg": false
  },
  "varInspector": {
   "cols": {
    "lenName": 16,
    "lenType": 16,
    "lenVar": 40
   },
   "kernels_config": {
    "python": {
     "delete_cmd_postfix": "",
     "delete_cmd_prefix": "del ",
     "library": "var_list.py",
     "varRefreshCmd": "print(var_dic_list())"
    },
    "r": {
     "delete_cmd_postfix": ") ",
     "delete_cmd_prefix": "rm(",
     "library": "var_list.r",
     "varRefreshCmd": "cat(var_dic_list()) "
    }
   },
   "types_to_exclude": [
    "module",
    "function",
    "builtin_function_or_method",
    "instance",
    "_Feature"
   ],
   "window_display": false
  }
 },
 "nbformat": 4,
 "nbformat_minor": 4
}
