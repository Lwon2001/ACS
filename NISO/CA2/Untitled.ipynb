{
 "cells": [
  {
   "cell_type": "code",
   "execution_count": 1,
   "metadata": {},
   "outputs": [],
   "source": [
    "import numpy as np\n",
    "import re"
   ]
  },
  {
   "cell_type": "code",
   "execution_count": 2,
   "metadata": {},
   "outputs": [],
   "source": [
    "dbg = False\n",
    " \n",
    "term_regex = r'''(?mx)\n",
    "    \\s*(?:\n",
    "        (?P<brackl>\\()|\n",
    "        (?P<brackr>\\))|\n",
    "        (?P<num>\\-?\\d+\\.\\d+|\\-?\\d+)|\n",
    "        (?P<sq>\"[^\"]*\")|\n",
    "        (?P<s>[^(^)\\s]+)\n",
    "       )'''\n",
    " \n",
    "def parse_sexp(sexp):\n",
    "    stack = []\n",
    "    out = []\n",
    "    if dbg: print(\"%-6s %-14s %-44s %-s\" % tuple(\"term value out stack\".split()))\n",
    "    for termtypes in re.finditer(term_regex, sexp):\n",
    "        term, value = [(t,v) for t,v in termtypes.groupdict().items() if v][0]\n",
    "        if dbg: print(\"%-7s %-14s %-44r %-r\" % (term, value, out, stack))\n",
    "        if   term == 'brackl':\n",
    "            stack.append(out)\n",
    "            out = []\n",
    "        elif term == 'brackr':\n",
    "            assert stack, \"Trouble with nesting of brackets\"\n",
    "            tmpout, out = out, stack.pop(-1)\n",
    "            out.append(tmpout)\n",
    "        elif term == 'num':\n",
    "            v = float(value)\n",
    "            if v.is_integer(): v = int(v)\n",
    "            out.append(v)\n",
    "        elif term == 'sq':\n",
    "            out.append(value[1:-1])\n",
    "        elif term == 's':\n",
    "            out.append(value)\n",
    "        else:\n",
    "            raise NotImplementedError(\"Error: %r\" % (term, value))\n",
    "    assert not stack, \"Trouble with nesting of brackets\"\n",
    "    return out[0]"
   ]
  },
  {
   "cell_type": "code",
   "execution_count": 4,
   "metadata": {},
   "outputs": [],
   "source": [
    "# def eval(exp):\n",
    "#     if exp[0] = \n",
    "#         return np.add(exp[1], exp[2])\n",
    "\n",
    "#     def sub(exp):\n",
    "#         return np.subtract(exp[1], exp[2])\n",
    "\n",
    "#     def mul(exp):\n",
    "#         return np.multiply(exp[1], exp[2])\n",
    "\n",
    "#     def div(exp):\n",
    "#         if exp[2] != 0:\n",
    "#             return np.true_divide(exp[1], exp[2])\n",
    "#         else:\n",
    "#             return 0\n",
    "\n",
    "#     def pow(exp):\n",
    "#         return np.power(exp[1],exp[2])\n",
    "\n",
    "#     def sqrt(exp):\n",
    "#         return np.sqrt(exp[1])\n",
    "\n",
    "#     def log(exp):\n",
    "#         return np.log(exp[1])\n",
    "\n",
    "#     def exp(exp):\n",
    "#         return np.exp(exp[1])\n",
    "\n",
    "#     def max(exp):\n",
    "#         return max(exp[1], exp[2])\n",
    "\n",
    "#     def ifleq(exp):\n",
    "#         if exp[1] <= exp[2]:\n",
    "#             return exp[3]\n",
    "#         else:\n",
    "#             return exp[4]\n",
    "\n",
    "# # def data(exp):\n",
    "\n",
    "# # def diff(exp):\n",
    "\n",
    "# # def avg(exp):\n"
   ]
  },
  {
   "cell_type": "code",
   "execution_count": 5,
   "metadata": {},
   "outputs": [],
   "source": [
    "def print_sexp(exp):\n",
    "    out = ''\n",
    "    if type(exp) == type([]):\n",
    "        out += '(' + ' '.join(print_sexp(x) for x in exp) + ')'\n",
    "    elif type(exp) == type('') and re.search(r'[\\s()]', exp):\n",
    "        out += '\"%s\"' % repr(exp)[1:-1].replace('\"', '\\\"')\n",
    "    else:\n",
    "        out += '%s' % exp\n",
    "    return out"
   ]
  },
  {
   "cell_type": "code",
   "execution_count": 6,
   "metadata": {},
   "outputs": [
    {
     "name": "stdout",
     "output_type": "stream",
     "text": [
      "Input S-expression: ' ( ( add (mul 1 3) (exp 4)) (log 45) (ifleq 12 4 1 0))'\n",
      "\n",
      "Parsed to Python: [['add', ['mul', 1, 3], ['exp', 4]], ['log', 45], ['ifleq', 12, 4, 1, 0]]\n",
      "\n",
      "Then back to: '((add (mul 1 3) (exp 4)) (log 45) (ifleq 12 4 1 0))'\n"
     ]
    }
   ],
   "source": [
    "if __name__ == '__main__':\n",
    "    sexp = ''' ( ( add (mul 1 3) (exp 4)) (log 45) (ifleq 12 4 1 0))'''\n",
    " \n",
    "    print('Input S-expression: %r' % (sexp, ))\n",
    "    parsed = parse_sexp(sexp)\n",
    "    print(\"\\nParsed to Python:\", parsed)\n",
    " \n",
    "    print(\"\\nThen back to: '%s'\" % print_sexp(parsed))"
   ]
  },
  {
   "cell_type": "code",
   "execution_count": 7,
   "metadata": {},
   "outputs": [],
   "source": [
    "# input = (add (sub (2 4) 2))\n",
    "# exp = parse(input) -> ['add', ['sub', 2, 4], 2]\n",
    "# str = str(exp) -> 'add(sub(2,4),2)'\n",
    "# opr = eval(str) -> add(sub(2,4),2)"
   ]
  },
  {
   "cell_type": "code",
   "execution_count": 9,
   "metadata": {},
   "outputs": [
    {
     "data": {
      "text/plain": [
       "[4, 6]"
      ]
     },
     "execution_count": 9,
     "metadata": {},
     "output_type": "execute_result"
    }
   ],
   "source": [
    "list(map(lambda x: x+x, (2,3)))"
   ]
  },
  {
   "cell_type": "code",
   "execution_count": 10,
   "metadata": {},
   "outputs": [],
   "source": [
    "exp = ['add', ['sub', 2, 4], '2']"
   ]
  },
  {
   "cell_type": "code",
   "execution_count": 11,
   "metadata": {},
   "outputs": [
    {
     "data": {
      "text/plain": [
       "True"
      ]
     },
     "execution_count": 11,
     "metadata": {},
     "output_type": "execute_result"
    }
   ],
   "source": [
    "any(isinstance(i, list) for i in exp)"
   ]
  },
  {
   "cell_type": "code",
   "execution_count": 21,
   "metadata": {},
   "outputs": [
    {
     "data": {
      "text/plain": [
       "11"
      ]
     },
     "execution_count": 21,
     "metadata": {},
     "output_type": "execute_result"
    }
   ],
   "source": [
    "eee = ['np.add', 5, 6]\n",
    "b = eee[0]+'('+str(eee[1])+','+str(eee[2])+')'\n",
    "eval(b)"
   ]
  },
  {
   "cell_type": "code",
   "execution_count": 35,
   "metadata": {},
   "outputs": [],
   "source": [
    "def sub(a,b):\n",
    "    return a-b"
   ]
  },
  {
   "cell_type": "code",
   "execution_count": 37,
   "metadata": {},
   "outputs": [
    {
     "data": {
      "text/plain": [
       "0"
      ]
     },
     "execution_count": 37,
     "metadata": {},
     "output_type": "execute_result"
    }
   ],
   "source": [
    "exp = ['add', ['sub', 2, 4], '2']\n",
    "a = 'np.'+exp[0]+'('+exp[1][0]+ '('+str(exp[1][1])+','+str(exp[1][2])+')'+','+str(exp[2])+')'\n",
    "eval(a)"
   ]
  },
  {
   "cell_type": "code",
   "execution_count": 1,
   "metadata": {},
   "outputs": [],
   "source": [
    "class expressionTree:\n",
    "    def __init__(self):\n",
    "        self.left = None\n",
    "        self.right = None\n",
    "        self.value = None\n"
   ]
  },
  {
   "cell_type": "code",
   "execution_count": null,
   "metadata": {},
   "outputs": [],
   "source": [
    "root = Tree()\n",
    "root.value = '+'\n",
    "root.left = Tree()"
   ]
  }
 ],
 "metadata": {
  "kernelspec": {
   "display_name": "Python 3",
   "language": "python",
   "name": "python3"
  },
  "language_info": {
   "codemirror_mode": {
    "name": "ipython",
    "version": 3
   },
   "file_extension": ".py",
   "mimetype": "text/x-python",
   "name": "python",
   "nbconvert_exporter": "python",
   "pygments_lexer": "ipython3",
   "version": "3.7.5"
  },
  "latex_envs": {
   "LaTeX_envs_menu_present": true,
   "autoclose": false,
   "autocomplete": true,
   "bibliofile": "biblio.bib",
   "cite_by": "apalike",
   "current_citInitial": 1,
   "eqLabelWithNumbers": true,
   "eqNumInitial": 1,
   "hotkeys": {
    "equation": "Ctrl-E",
    "itemize": "Ctrl-I"
   },
   "labels_anchors": false,
   "latex_user_defs": false,
   "report_style_numbering": false,
   "user_envs_cfg": false
  },
  "varInspector": {
   "cols": {
    "lenName": 16,
    "lenType": 16,
    "lenVar": 40
   },
   "kernels_config": {
    "python": {
     "delete_cmd_postfix": "",
     "delete_cmd_prefix": "del ",
     "library": "var_list.py",
     "varRefreshCmd": "print(var_dic_list())"
    },
    "r": {
     "delete_cmd_postfix": ") ",
     "delete_cmd_prefix": "rm(",
     "library": "var_list.r",
     "varRefreshCmd": "cat(var_dic_list()) "
    }
   },
   "types_to_exclude": [
    "module",
    "function",
    "builtin_function_or_method",
    "instance",
    "_Feature"
   ],
   "window_display": false
  }
 },
 "nbformat": 4,
 "nbformat_minor": 4
}
