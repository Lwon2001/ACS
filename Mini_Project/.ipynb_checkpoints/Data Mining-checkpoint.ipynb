{
 "cells": [
  {
   "cell_type": "code",
   "execution_count": 2,
   "metadata": {},
   "outputs": [],
   "source": [
    "import numpy as np\n",
    "import pandas as pd\n",
    "import seaborn as sns\n",
    "import matplotlib.pyplot as plt\n",
    "from scipy import stats"
   ]
  },
  {
   "cell_type": "code",
   "execution_count": 3,
   "metadata": {},
   "outputs": [],
   "source": [
    "sns.set(color_codes=True)"
   ]
  },
  {
   "cell_type": "code",
   "execution_count": 12,
   "metadata": {},
   "outputs": [],
   "source": [
    "df = pd.read_csv('/home/kevinxu95/Desktop/sort.csv')"
   ]
  },
  {
   "cell_type": "code",
   "execution_count": 17,
   "metadata": {},
   "outputs": [],
   "source": [
    "df2 = df[['sortorderid', 'productcode', 'sortquantity']]"
   ]
  },
  {
   "cell_type": "code",
   "execution_count": 18,
   "metadata": {},
   "outputs": [
    {
     "data": {
      "text/html": [
       "<div>\n",
       "<style scoped>\n",
       "    .dataframe tbody tr th:only-of-type {\n",
       "        vertical-align: middle;\n",
       "    }\n",
       "\n",
       "    .dataframe tbody tr th {\n",
       "        vertical-align: top;\n",
       "    }\n",
       "\n",
       "    .dataframe thead th {\n",
       "        text-align: right;\n",
       "    }\n",
       "</style>\n",
       "<table border=\"1\" class=\"dataframe\">\n",
       "  <thead>\n",
       "    <tr style=\"text-align: right;\">\n",
       "      <th></th>\n",
       "      <th>sortorderid</th>\n",
       "      <th>productcode</th>\n",
       "      <th>sortquantity</th>\n",
       "    </tr>\n",
       "  </thead>\n",
       "  <tbody>\n",
       "    <tr>\n",
       "      <th>0</th>\n",
       "      <td>F02BD99A-9709-47AF-8BE6-3BFA756F4EB4</td>\n",
       "      <td>42013021</td>\n",
       "      <td>2</td>\n",
       "    </tr>\n",
       "    <tr>\n",
       "      <th>1</th>\n",
       "      <td>5A778265-F6FA-498C-8D9E-98E893973A38</td>\n",
       "      <td>33013114</td>\n",
       "      <td>4</td>\n",
       "    </tr>\n",
       "    <tr>\n",
       "      <th>2</th>\n",
       "      <td>4C1F6453-98F6-455C-A1AF-BDB78E06F560</td>\n",
       "      <td>33014407</td>\n",
       "      <td>1</td>\n",
       "    </tr>\n",
       "    <tr>\n",
       "      <th>3</th>\n",
       "      <td>ECD1594B-8ADD-4ACA-B067-4C645224AE89</td>\n",
       "      <td>52090738</td>\n",
       "      <td>1</td>\n",
       "    </tr>\n",
       "    <tr>\n",
       "      <th>4</th>\n",
       "      <td>CA9BBBBF-323E-474E-941E-A132C22BB5F5</td>\n",
       "      <td>33013138</td>\n",
       "      <td>5</td>\n",
       "    </tr>\n",
       "    <tr>\n",
       "      <th>...</th>\n",
       "      <td>...</td>\n",
       "      <td>...</td>\n",
       "      <td>...</td>\n",
       "    </tr>\n",
       "    <tr>\n",
       "      <th>5655778</th>\n",
       "      <td>984D835A-FD04-4F19-8942-90BFDF5B213C</td>\n",
       "      <td>33023777</td>\n",
       "      <td>1</td>\n",
       "    </tr>\n",
       "    <tr>\n",
       "      <th>5655779</th>\n",
       "      <td>D3CC2212-7108-4FA4-AA20-BA8E15D7FA89</td>\n",
       "      <td>35013457</td>\n",
       "      <td>1</td>\n",
       "    </tr>\n",
       "    <tr>\n",
       "      <th>5655780</th>\n",
       "      <td>A507441B-FECE-4DCE-A959-7C97097D5C48</td>\n",
       "      <td>35013436</td>\n",
       "      <td>1</td>\n",
       "    </tr>\n",
       "    <tr>\n",
       "      <th>5655781</th>\n",
       "      <td>F2FD897B-D3E0-46BD-A343-42CF086EC99D</td>\n",
       "      <td>31013102</td>\n",
       "      <td>1</td>\n",
       "    </tr>\n",
       "    <tr>\n",
       "      <th>5655782</th>\n",
       "      <td>E3BB55F7-68AC-4632-B6CE-9B6913526571</td>\n",
       "      <td>31013202</td>\n",
       "      <td>3</td>\n",
       "    </tr>\n",
       "  </tbody>\n",
       "</table>\n",
       "<p>5655783 rows × 3 columns</p>\n",
       "</div>"
      ],
      "text/plain": [
       "                                  sortorderid  productcode  sortquantity\n",
       "0        F02BD99A-9709-47AF-8BE6-3BFA756F4EB4     42013021             2\n",
       "1        5A778265-F6FA-498C-8D9E-98E893973A38     33013114             4\n",
       "2        4C1F6453-98F6-455C-A1AF-BDB78E06F560     33014407             1\n",
       "3        ECD1594B-8ADD-4ACA-B067-4C645224AE89     52090738             1\n",
       "4        CA9BBBBF-323E-474E-941E-A132C22BB5F5     33013138             5\n",
       "...                                       ...          ...           ...\n",
       "5655778  984D835A-FD04-4F19-8942-90BFDF5B213C     33023777             1\n",
       "5655779  D3CC2212-7108-4FA4-AA20-BA8E15D7FA89     35013457             1\n",
       "5655780  A507441B-FECE-4DCE-A959-7C97097D5C48     35013436             1\n",
       "5655781  F2FD897B-D3E0-46BD-A343-42CF086EC99D     31013102             1\n",
       "5655782  E3BB55F7-68AC-4632-B6CE-9B6913526571     31013202             3\n",
       "\n",
       "[5655783 rows x 3 columns]"
      ]
     },
     "execution_count": 18,
     "metadata": {},
     "output_type": "execute_result"
    }
   ],
   "source": [
    "df2"
   ]
  },
  {
   "cell_type": "code",
   "execution_count": null,
   "metadata": {},
   "outputs": [],
   "source": []
  }
 ],
 "metadata": {
  "kernelspec": {
   "display_name": "Python 3",
   "language": "python",
   "name": "python3"
  },
  "language_info": {
   "codemirror_mode": {
    "name": "ipython",
    "version": 3
   },
   "file_extension": ".py",
   "mimetype": "text/x-python",
   "name": "python",
   "nbconvert_exporter": "python",
   "pygments_lexer": "ipython3",
   "version": "3.6.9"
  }
 },
 "nbformat": 4,
 "nbformat_minor": 4
}
