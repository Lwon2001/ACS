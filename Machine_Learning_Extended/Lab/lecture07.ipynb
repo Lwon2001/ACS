{
 "cells": [
  {
   "cell_type": "markdown",
   "metadata": {},
   "source": [
    "# The Curse of Dimensionality"
   ]
  },
  {
   "cell_type": "code",
   "execution_count": 20,
   "metadata": {},
   "outputs": [
    {
     "name": "stdout",
     "output_type": "stream",
     "text": [
      "(10000, 784)\n",
      "(60000, 784)\n"
     ]
    }
   ],
   "source": [
    "import numpy as np\n",
    "import mnist\n",
    "from matplotlib import pyplot as plt\n",
    "import matplotlib as mpl\n",
    "from mpl_toolkits.mplot3d import Axes3D\n",
    "from itertools import product, combinations\n",
    "mpl.rcParams['figure.figsize'] = [2, 2] # inches\n",
    "mpl.rcParams['font.size'] = 8\n",
    "\n",
    "from scipy.stats import mode\n",
    "def knn(test_set, train_set, train_labels, k):\n",
    "    ### Returns the most common label in the training set of the k-nn for each element in the test set.\n",
    "    predictions = []\n",
    "    for i in test_set:\n",
    "        distances = [np.linalg.norm(i-j) for j in train_set]\n",
    "        indices = np.argsort(distances)[0:k]\n",
    "        predictions.append(mode(train_labels[indices])[0][0])\n",
    "    return predictions\n",
    "\n",
    "def knn_evaluate(predicted_labels, true_labels):\n",
    "    confusion_matrix = np.zeros([10,10])\n",
    "    for i, l in enumerate(true_labels):\n",
    "        confusion_matrix[l, predicted_labels[i]] += 1\n",
    "    for i,c in enumerate(confusion_matrix):\n",
    "        print(str(i) + ' & ' + ' & '.join(['{:3.0f}'.format(i) for i in c]) + '\\\\ \\hline')\n",
    "    plt.imshow(confusion_matrix,cmap='gray')\n",
    "    plt.tight_layout()\n",
    "    plt.xlabel('Prediction')\n",
    "    plt.ylabel('Target')\n",
    "    print(sum(confusion_matrix.diagonal())/sum(sum(confusion_matrix)))\n",
    "\n",
    "train_set = mnist.train_images()\n",
    "train_labels = mnist.train_labels()\n",
    "test_set = mnist.test_images()\n",
    "test_labels = mnist.test_labels()\n",
    "\n",
    "# Vectorise\n",
    "test_set = np.squeeze(np.array([np.reshape(i,(1,-1)) for i in test_set]))\n",
    "train_set = np.squeeze(np.array([np.reshape(i,(1,-1)) for i in train_set]))\n",
    "print(test_set.shape)\n",
    "print(train_set.shape)\n",
    "\n",
    "# Choose 1000 examples of each class\n",
    "train_index = []\n",
    "test_index = []\n",
    "for i in range(10):\n",
    "    train_index.append(np.where(train_labels==i)[0][0:1000])\n",
    "    test_index.append(np.where(test_labels==i)[0][0:100])\n",
    "train_index = [item for sublist in train_index for item in sublist]\n",
    "test_index = [item for sublist in test_index for item in sublist]"
   ]
  },
  {
   "cell_type": "markdown",
   "metadata": {},
   "source": [
    "Let's try something (literally) random. Create an array of 40 normalised random vectors in 784-dimensional space and project the data onto each of them, Then classify on the result."
   ]
  },
  {
   "cell_type": "code",
   "execution_count": 21,
   "metadata": {},
   "outputs": [
    {
     "name": "stdout",
     "output_type": "stream",
     "text": [
      "0 &  99 &   0 &   0 &   0 &   0 &   0 &   1 &   0 &   0 &   0\\ \\hline\n",
      "1 &   0 & 100 &   0 &   0 &   0 &   0 &   0 &   0 &   0 &   0\\ \\hline\n",
      "2 &   2 &   6 &  74 &   3 &   1 &   0 &   2 &   7 &   5 &   0\\ \\hline\n",
      "3 &   1 &   2 &   1 &  85 &   0 &   3 &   3 &   2 &   1 &   2\\ \\hline\n",
      "4 &   0 &   2 &   0 &   0 &  82 &   0 &   2 &   1 &   0 &  13\\ \\hline\n",
      "5 &   4 &   2 &   0 &   2 &   2 &  83 &   1 &   3 &   1 &   2\\ \\hline\n",
      "6 &   1 &   0 &   2 &   0 &   1 &   1 &  95 &   0 &   0 &   0\\ \\hline\n",
      "7 &   0 &   3 &   0 &   1 &   2 &   0 &   0 &  89 &   0 &   5\\ \\hline\n",
      "8 &   4 &   4 &   0 &   5 &   4 &   6 &   1 &   1 &  71 &   4\\ \\hline\n",
      "9 &   0 &   0 &   0 &   1 &   3 &   0 &   0 &   5 &   2 &  89\\ \\hline\n",
      "0.867\n"
     ]
    },
    {
     "data": {
      "image/png": "[encoded data removed]",
      "text/plain": [
       "<Figure size 144x144 with 1 Axes>"
      ]
     },
     "metadata": {},
     "output_type": "display_data"
    }
   ],
   "source": [
    "from sklearn.preprocessing import normalize\n",
    "R = normalize(np.random.randn(784,40), axis=0)\n",
    "p = knn(np.matmul(np.array(test_set[test_index]),R), np.matmul(np.array(train_set[train_index]),R), train_labels[train_index], 7)\n",
    "knn_evaluate(p, test_labels[test_index])\n",
    "plt.savefig('../figures/classification/knn-mnist-k=7-rp40-confusion.pdf')"
   ]
  },
  {
   "cell_type": "markdown",
   "metadata": {},
   "source": [
    "## Convergence of distances\n",
    "First, we demonstrate that distances between points converge in high dimension. We generate 1 million uniformly distributed randm"
   ]
  },
  {
   "cell_type": "code",
   "execution_count": 22,
   "metadata": {},
   "outputs": [],
   "source": [
    "dims = [5,10,20,50,100,200,500,1000]\n",
    "min_distance = []\n",
    "max_distance = []\n",
    "for d in dims:\n",
    "    points = 2*np.random.rand(1000000,d)-1\n",
    "    min_distance.append(np.min(np.sqrt(np.sum(points*points, axis=1))))\n",
    "    max_distance.append(np.max(np.sqrt(np.sum(points*points, axis=1))))"
   ]
  },
  {
   "cell_type": "code",
   "execution_count": 23,
   "metadata": {},
   "outputs": [
    {
     "data": {
      "image/png": "[encoded data removed]",
      "text/plain": [
       "<Figure size 144x144 with 1 Axes>"
      ]
     },
     "metadata": {},
     "output_type": "display_data"
    }
   ],
   "source": [
    "plt.figure()\n",
    "plt.plot(dims, (np.array(max_distance)-np.array(min_distance))/np.array(min_distance), 'b-')\n",
    "plt.xlabel('Dimensionality')\n",
    "plt.ylabel('Ratio ')\n",
    "plt.tight_layout()\n",
    "plt.savefig('../figures/classification/minmax_ratios.pdf')"
   ]
  },
  {
   "cell_type": "code",
   "execution_count": 24,
   "metadata": {},
   "outputs": [
    {
     "data": {
      "image/png": "[encoded data removed]",
      "text/plain": [
       "<Figure size 144x144 with 1 Axes>"
      ]
     },
     "metadata": {},
     "output_type": "display_data"
    }
   ],
   "source": [
    "plt.figure()\n",
    "plt.plot(dims, max_distance,'b-', dims,(min_distance), 'r-')\n",
    "plt.xlabel('Dimensionality')\n",
    "plt.ylabel('Distance')\n",
    "plt.tight_layout()\n",
    "plt.savefig('../figures/classification/minmaxdistances.pdf')"
   ]
  },
  {
   "cell_type": "markdown",
   "metadata": {},
   "source": [
    "## Hypercube volume\n",
    "The distance to the corner of a hypercube from its centre is $\\sqrt(d)$. This means that is high dimensions, the hypersphere does not get close to the corners of its enclosing hypercube."
   ]
  },
  {
   "cell_type": "code",
   "execution_count": 25,
   "metadata": {},
   "outputs": [
    {
     "data": {
      "image/png": "[encoded data removed]",
      "text/plain": [
       "<Figure size 144x144 with 1 Axes>"
      ]
     },
     "metadata": {},
     "output_type": "display_data"
    }
   ],
   "source": [
    "plt.figure()\n",
    "x = np.linspace(0,1000,1001)\n",
    "y = np.sqrt(x)\n",
    "plt.plot(x,y,'b-')\n",
    "plt.xlabel('Dimensionality')\n",
    "plt.ylabel('Distance to corner')\n",
    "plt.tight_layout()\n",
    "plt.savefig('../figures/classification/hypercube-corner.pdf')"
   ]
  },
  {
   "cell_type": "markdown",
   "metadata": {},
   "source": [
    "We can also calculate the proportion of volume of the hypercube occupied by the hypersphere. The cube has volume $(2r)^d$, whilst the volume of an $n$-dimensional sphere is $V_{n}(R)=\\int _{0}^{R}{\\frac {2\\pi ^{\\frac {n}{2}}}{\\Gamma \\left({\\frac {n}{2}}\\right)}}\\,r^{n-1}\\,dr={\\frac {2\\pi ^{\\frac {n}{2}}}{n\\Gamma \\left({\\frac {n}{2}}\\right)}}R^{n}={\\frac {\\pi ^{\\frac {n}{2}}}{\\Gamma \\left({\\frac {n}{2}}+1\\right)}}R^{n}$"
   ]
  },
  {
   "cell_type": "code",
   "execution_count": 26,
   "metadata": {},
   "outputs": [
    {
     "data": {
      "image/png": "[encoded data removed]",
      "text/plain": [
       "<Figure size 144x144 with 1 Axes>"
      ]
     },
     "metadata": {},
     "output_type": "display_data"
    }
   ],
   "source": [
    "from math import gamma\n",
    "d = np.linspace(1,20,20)\n",
    "y1 = np.power(2,d)\n",
    "y2 = np.array([np.power(np.pi,n/2)/gamma(1+n/2) for n in d])\n",
    "plt.figure()\n",
    "plt.plot(d,y2/y1,'b-')\n",
    "plt.xlabel('Dimensionality')\n",
    "plt.ylabel('Sphere/Cube volume ratio')\n",
    "plt.tight_layout()\n",
    "plt.savefig('../figures/classification/spheretocubevolume.pdf')"
   ]
  },
  {
   "cell_type": "code",
   "execution_count": 27,
   "metadata": {},
   "outputs": [
    {
     "data": {
      "image/png": "[encoded data removed]",
      "text/plain": [
       "<Figure size 144x144 with 1 Axes>"
      ]
     },
     "metadata": {},
     "output_type": "display_data"
    }
   ],
   "source": [
    "# This code has been adapted from that posted here:\n",
    "# https://stackoverflow.com/questions/11140163/python-matplotlib-plotting-a-3d-cube-a-sphere-and-a-vector\n",
    "fig = plt.figure()\n",
    "ax = fig.gca(projection='3d')\n",
    "ax.set_aspect(\"equal\")\n",
    "\n",
    "# draw cube\n",
    "r = [-1, 1]\n",
    "for s, e in combinations(np.array(list(product(r, r, r))), 2):\n",
    "    if np.sum(np.abs(s-e)) == r[1]-r[0]:\n",
    "        ax.plot3D(*zip(s, e), color=\"b\")\n",
    "\n",
    "# draw sphere\n",
    "u, v = np.mgrid[0:2*np.pi:20j, 0:np.pi:10j]\n",
    "x = np.cos(u)*np.sin(v)\n",
    "y = np.sin(u)*np.sin(v)\n",
    "z = np.cos(v)\n",
    "ax.plot_wireframe(x, y, z, color=\"r\")\n",
    "\n",
    "# draw a point\n",
    "# ax.scatter([0], [0], [0], color=\"g\", s=100)\n",
    "plt.axis('off')\n",
    "plt.tight_layout()\n",
    "plt.savefig('../figures/classification/cubesphere.pdf')"
   ]
  },
  {
   "cell_type": "markdown",
   "metadata": {},
   "source": [
    "## Random Projections\n",
    "First, let's investigate the orthogonality of random vectors"
   ]
  },
  {
   "cell_type": "code",
   "execution_count": 28,
   "metadata": {},
   "outputs": [
    {
     "data": {
      "image/png": "[encoded data removed]",
      "text/plain": [
       "<Figure size 144x144 with 1 Axes>"
      ]
     },
     "metadata": {},
     "output_type": "display_data"
    },
    {
     "data": {
      "image/png": "[encoded data removed]",
      "text/plain": [
       "<Figure size 144x144 with 1 Axes>"
      ]
     },
     "metadata": {},
     "output_type": "display_data"
    },
    {
     "data": {
      "image/png": "[encoded data removed]",
      "text/plain": [
       "<Figure size 144x144 with 1 Axes>"
      ]
     },
     "metadata": {},
     "output_type": "display_data"
    },
    {
     "data": {
      "image/png": "[encoded data removed]",
      "text/plain": [
       "<Figure size 144x144 with 1 Axes>"
      ]
     },
     "metadata": {},
     "output_type": "display_data"
    },
    {
     "data": {
      "image/png": "[encoded data removed]",
      "text/plain": [
       "<Figure size 144x144 with 1 Axes>"
      ]
     },
     "metadata": {},
     "output_type": "display_data"
    },
    {
     "data": {
      "image/png": "[encoded data removed]",
      "text/plain": [
       "<Figure size 144x144 with 1 Axes>"
      ]
     },
     "metadata": {},
     "output_type": "display_data"
    },
    {
     "data": {
      "image/png": "[encoded data removed]",
      "text/plain": [
       "<Figure size 144x144 with 1 Axes>"
      ]
     },
     "metadata": {},
     "output_type": "display_data"
    },
    {
     "data": {
      "image/png": "[encoded data removed]",
      "text/plain": [
       "<Figure size 144x144 with 1 Axes>"
      ]
     },
     "metadata": {},
     "output_type": "display_data"
    }
   ],
   "source": [
    "from sklearn.preprocessing import normalize\n",
    "d = [5,10,20,50,100,200,500,1000]\n",
    "for n in d:\n",
    "    # each row of R is normalised\n",
    "    R = normalize(np.random.randn(100000,n), axis=1)\n",
    "    plt.figure()\n",
    "    ax = plt.axes()\n",
    "    plt.hist(R[np.tril_indices_from(R)], bins=100, density=True)\n",
    "    plt.xlabel(r'$\\mathbf{r}_1\\cdot \\mathbf{r}_2$')\n",
    "    plt.ylabel(r'$P(\\mathbf{r}_1\\cdot \\mathbf{r}_2)$')\n",
    "    plt.title(r'd='+str(n))\n",
    "    ax.set_xlim(-1,1)\n",
    "    plt.tight_layout()\n",
    "    plt.savefig('../figures/classification/random-histogram-d'+str(n)+'.pdf')"
   ]
  },
  {
   "cell_type": "markdown",
   "metadata": {},
   "source": [
    "## Implications for MNIST\n",
    "First, let's compute the pairwise distance for MNIST and plot them "
   ]
  },
  {
   "cell_type": "code",
   "execution_count": 29,
   "metadata": {},
   "outputs": [],
   "source": [
    "import mnist\n",
    "train_set = mnist.train_images()\n",
    "train_labels = mnist.train_labels()\n",
    "test_set = mnist.test_images()\n",
    "test_labels = mnist.test_labels()\n",
    "# Vectorise\n",
    "test_set = np.squeeze(np.array([np.reshape(i,(1,-1)) for i in test_set]))\n",
    "train_set = np.squeeze(np.array([np.reshape(i,(1,-1)) for i in train_set]))\n",
    "# Compute distances from each element of test set to each element of training set\n",
    "distances = []\n",
    "for i in test_set[0:1000]:\n",
    "    distances.append([np.linalg.norm(i-j) for j in train_set[0:1000]])\n",
    "distances = np.squeeze(np.array(distances).reshape((1,-1)))"
   ]
  },
  {
   "cell_type": "code",
   "execution_count": 30,
   "metadata": {},
   "outputs": [
    {
     "data": {
      "image/png": "[encoded data removed]",
      "text/plain": [
       "<Figure size 144x144 with 1 Axes>"
      ]
     },
     "metadata": {},
     "output_type": "display_data"
    }
   ],
   "source": [
    "plt.figure()\n",
    "ax = plt.axes()\n",
    "plt.hist(distances, bins=100, density=True)\n",
    "plt.xlabel(r'$||\\mathbf{r}_1 - \\mathbf{r}_2||$')\n",
    "plt.ylabel(r'$P(||\\mathbf{r}_1 - \\mathbf{r}_2||)$')\n",
    "plt.tight_layout()\n",
    "plt.savefig('../figures/classification/mnist-distances.pdf')"
   ]
  },
  {
   "cell_type": "code",
   "execution_count": 31,
   "metadata": {},
   "outputs": [
    {
     "name": "stdout",
     "output_type": "stream",
     "text": [
      "2317.615555729267\n",
      "2310.4212819310656\n",
      "312.9277896507789\n"
     ]
    }
   ],
   "source": [
    "print(np.mean(distances))\n",
    "print(np.median(distances))\n",
    "print(np.std(distances))"
   ]
  },
  {
   "cell_type": "markdown",
   "metadata": {},
   "source": [
    "## Dimensionality reduction\n",
    "First, we demonstrate that there are redundant dimensions in the image data. We compute the map of the variance over the dataset"
   ]
  },
  {
   "cell_type": "code",
   "execution_count": 32,
   "metadata": {},
   "outputs": [
    {
     "data": {
      "text/plain": [
       "25637533"
      ]
     },
     "execution_count": 32,
     "metadata": {},
     "output_type": "execute_result"
    }
   ],
   "source": [
    "np.sum(train_set[0:1000])"
   ]
  },
  {
   "cell_type": "code",
   "execution_count": 33,
   "metadata": {},
   "outputs": [],
   "source": [
    "image_cube = mnist.train_images()[0:1000]\n",
    "std_image = np.std(image_cube, axis=0)\n",
    "mean_image = np.mean(image_cube, axis=0)"
   ]
  },
  {
   "cell_type": "code",
   "execution_count": 34,
   "metadata": {},
   "outputs": [
    {
     "name": "stdout",
     "output_type": "stream",
     "text": [
      "175\n",
      "0.22321428571428573\n"
     ]
    },
    {
     "data": {
      "image/png": "[encoded data removed]",
      "text/plain": [
       "<Figure size 144x144 with 1 Axes>"
      ]
     },
     "metadata": {},
     "output_type": "display_data"
    },
    {
     "data": {
      "image/png": "[encoded data removed]",
      "text/plain": [
       "<Figure size 144x144 with 1 Axes>"
      ]
     },
     "metadata": {},
     "output_type": "display_data"
    },
    {
     "data": {
      "image/png": "[encoded data removed]",
      "text/plain": [
       "<Figure size 144x144 with 1 Axes>"
      ]
     },
     "metadata": {},
     "output_type": "display_data"
    }
   ],
   "source": [
    "# Display mean and stdev images\n",
    "plt.figure()\n",
    "plt.imshow(std_image, cmap='gray')\n",
    "plt.axis('off')\n",
    "plt.tight_layout()\n",
    "plt.title('Standard Deviation')\n",
    "plt.savefig('mnist-std.pdf')\n",
    "plt.figure()\n",
    "plt.imshow(mean_image, cmap='gray')\n",
    "plt.axis('off')\n",
    "plt.tight_layout()\n",
    "plt.title('Mean')\n",
    "plt.savefig('mnist-mean.pdf')\n",
    "# Image of zero variance pixels\n",
    "plt.figure()\n",
    "plt.imshow(std_image!=0, cmap='gray')\n",
    "plt.axis('off')\n",
    "plt.tight_layout()\n",
    "plt.title('Non-varying pixels')\n",
    "plt.savefig('mnist-non-varying.pdf')\n",
    "# Proportion of non-varying pixels\n",
    "print(np.sum(std_image==0))\n",
    "print(np.sum(std_image==0)/784)"
   ]
  },
  {
   "cell_type": "code",
   "execution_count": 35,
   "metadata": {},
   "outputs": [],
   "source": [
    "# Reverse sort the variance\n",
    "image_std = np.sort(np.squeeze(std_image.reshape((1,-1))))[::-1]\n",
    "cum_std = np.cumsum(image_std)"
   ]
  },
  {
   "cell_type": "code",
   "execution_count": 36,
   "metadata": {},
   "outputs": [
    {
     "data": {
      "image/png": "[encoded data removed]",
      "text/plain": [
       "<Figure size 144x144 with 1 Axes>"
      ]
     },
     "metadata": {},
     "output_type": "display_data"
    }
   ],
   "source": [
    "plt.figure()\n",
    "plt.plot(cum_std/max(cum_std),'b-')\n",
    "plt.xlabel('Dimension')\n",
    "plt.ylabel('Cumulative Variance')\n",
    "plt.tight_layout()\n",
    "plt.savefig('../figures/classification/mnist-cumstd.pdf')"
   ]
  },
  {
   "cell_type": "markdown",
   "metadata": {},
   "source": [
    "Repeat the histogram calculations after random projection"
   ]
  },
  {
   "cell_type": "code",
   "execution_count": 37,
   "metadata": {},
   "outputs": [],
   "source": [
    "R = normalize(np.random.randn(40,784), axis=1)\n",
    "rtest = np.matmul(R,test_set[0:1000].T).T\n",
    "rtrain = np.matmul(R, train_set[0:1000].T).T\n",
    "distances = []\n",
    "for i in rtest[0:1000]:\n",
    "    distances.append([np.linalg.norm(i-j) for j in rtrain[0:1000]])\n",
    "distances = np.squeeze(np.array(distances).reshape((1,-1)))"
   ]
  },
  {
   "cell_type": "code",
   "execution_count": 38,
   "metadata": {},
   "outputs": [
    {
     "data": {
      "image/png": "[encoded data removed]",
      "text/plain": [
       "<Figure size 144x144 with 1 Axes>"
      ]
     },
     "metadata": {},
     "output_type": "display_data"
    }
   ],
   "source": [
    "plt.figure()\n",
    "ax = plt.axes()\n",
    "plt.hist(distances, bins=100, density=True)\n",
    "plt.xlabel(r'$||\\mathbf{r}_1 - \\mathbf{r}_2||$')\n",
    "plt.ylabel(r'$P(||\\mathbf{r}_1 - \\mathbf{r}_2||)$')\n",
    "plt.tight_layout()\n",
    "plt.savefig('../figures/classification/rp-mnist-distances.pdf')"
   ]
  },
  {
   "cell_type": "code",
   "execution_count": 39,
   "metadata": {},
   "outputs": [
    {
     "name": "stdout",
     "output_type": "stream",
     "text": [
      "577.7797810533585\n",
      "574.3475964203149\n",
      "103.41256468547662\n"
     ]
    }
   ],
   "source": [
    "print(np.mean(distances))\n",
    "print(np.median(distances))\n",
    "print(np.std(distances))"
   ]
  },
  {
   "cell_type": "code",
   "execution_count": null,
   "metadata": {},
   "outputs": [],
   "source": []
  }
 ],
 "metadata": {
  "kernelspec": {
   "display_name": "Python 3",
   "language": "python",
   "name": "python3"
  },
  "language_info": {
   "codemirror_mode": {
    "name": "ipython",
    "version": 3
   },
   "file_extension": ".py",
   "mimetype": "text/x-python",
   "name": "python",
   "nbconvert_exporter": "python",
   "pygments_lexer": "ipython3",
   "version": "3.6.5"
  }
 },
 "nbformat": 4,
 "nbformat_minor": 2
}
