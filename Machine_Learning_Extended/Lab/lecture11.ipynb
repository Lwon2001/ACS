{
  "nbformat": 4,
  "nbformat_minor": 0,
  "metadata": {
    "colab": {
      "name": "lecture11.ipynb",
      "provenance": [],
      "collapsed_sections": []
    },
    "kernelspec": {
      "display_name": "Python 3",
      "language": "python",
      "name": "python3"
    }
  },
  "cells": [
    {
      "cell_type": "markdown",
      "metadata": {
        "id": "zp1a7Ms2ncI1",
        "colab_type": "text"
      },
      "source": [
        "# LR and MNIST"
      ]
    },
    {
      "cell_type": "markdown",
      "metadata": {
        "id": "Lb5yJSfYncI8",
        "colab_type": "text"
      },
      "source": [
        "In this notebook we will do use multiclass logistic regression to classify MNIST. If you are using your own installation of Jupyter you will need the mnist package which can be installed through anaconda using\n",
        "\n",
        "conda install -c conda-forge mnist\n",
        "\n",
        "I must point out that no efforts have been made to optimise this code for either efficiency or elegance, and some of you will no doubt be able to find ways in which it could be improved.\n",
        "\n",
        "**CAUTION** these notebooks are great, but you must be careful when running the cells out of order, especially if you are using mutable variables"
      ]
    },
    {
      "cell_type": "code",
      "metadata": {
        "id": "WFeL8bZmncJB",
        "colab_type": "code",
        "colab": {}
      },
      "source": [
        "!pip install -q mnist # this line instructs colab to install mnist\n",
        "import matplotlib.pyplot as plt\n",
        "import mnist\n",
        "import numpy as np\n",
        "from numpy.linalg import inv, det\n"
      ],
      "execution_count": 0,
      "outputs": []
    },
    {
      "cell_type": "markdown",
      "metadata": {
        "id": "ZicM3g7juYRA",
        "colab_type": "text"
      },
      "source": [
        "First, some manipulations. We need to linearise the training data so that we can treat each image as a vector."
      ]
    },
    {
      "cell_type": "code",
      "metadata": {
        "id": "hBmV7t_suXaz",
        "colab_type": "code",
        "outputId": "8c7daafd-c02e-4284-9905-705eeb6dd414",
        "colab": {
          "base_uri": "https://localhost:8080/",
          "height": 87
        }
      },
      "source": [
        "# Get the training and test data\n",
        "train_set = mnist.train_images()\n",
        "train_labels = mnist.train_labels()\n",
        "test_set = mnist.test_images()\n",
        "test_labels = mnist.test_labels()\n",
        "print(test_set.shape)\n",
        "print(train_set.shape)\n",
        "\n",
        "# Reshape the arrays\n",
        "test_set = np.squeeze(np.array([np.reshape(i,(1,-1)) for i in test_set]))\n",
        "train_set = np.squeeze(np.array([np.reshape(i,(1,-1)) for i in train_set]))\n",
        "print(test_set.shape)\n",
        "print(train_set.shape)"
      ],
      "execution_count": 0,
      "outputs": [
        {
          "output_type": "stream",
          "text": [
            "(10000, 28, 28)\n",
            "(60000, 28, 28)\n",
            "(10000, 784)\n",
            "(60000, 784)\n"
          ],
          "name": "stdout"
        }
      ]
    },
    {
      "cell_type": "markdown",
      "metadata": {
        "id": "H_uVRThq8ffK",
        "colab_type": "text"
      },
      "source": [
        "## Preprocessing of the data\n",
        "\n",
        "One problem with the MNIST data is that there are, as we have previously seen, many non-varying pixels around the edge of the images. In LR we do not need to compute the covariance matrix but they risk confounding the classifier so we will remove them.\n"
      ]
    },
    {
      "cell_type": "code",
      "metadata": {
        "id": "3J4ndk0y8sxW",
        "colab_type": "code",
        "colab": {}
      },
      "source": [
        "# Get the sum of each variable into a single vector\n",
        "S = np.sum(train_set,axis=0).squeeze()\n",
        "\n",
        "# Define an index of the non-varying and varying pixels\n",
        "nonvary = S==0\n",
        "vary = np.array(S!=0).squeeze()\n",
        "\n",
        "# Choose only the varying pixels in the data\n",
        "train_set = 1.*train_set[:,vary]\n",
        "test_set = 1.*test_set[:,vary]"
      ],
      "execution_count": 0,
      "outputs": []
    },
    {
      "cell_type": "markdown",
      "metadata": {
        "id": "6bkY8J1On18l",
        "colab_type": "text"
      },
      "source": [
        "## Training the model\n",
        "\n",
        "Training in scikit-learn is easy. The `lbgfs` solver is chosen for efficiency - it is faster than IRLS. Here is the model interface:\n",
        "\n",
        "`class sklearn.linear_model.LogisticRegression(penalty=’l2’, dual=False, tol=0.0001, C=1.0, fit_intercept=True, intercept_scaling=1, class_weight=None, random_state=None, solver=’warn’, max_iter=100, multi_class=’warn’, verbose=0, warm_start=False, n_jobs=None, l1_ratio=None)`\n",
        "\n",
        "Note that the default is to have the model regularised with an $L_2$ penalty and inverse regularisation parameter $C=1.0$."
      ]
    },
    {
      "cell_type": "code",
      "metadata": {
        "id": "_dudRJk1lAZc",
        "colab_type": "code",
        "colab": {}
      },
      "source": [
        "from sklearn.linear_model import LogisticRegression\n",
        "LR = LogisticRegression(random_state=0, solver='lbfgs',multi_class='multinomial')\n",
        "model = LR.fit(train_set, train_labels)"
      ],
      "execution_count": 0,
      "outputs": []
    },
    {
      "cell_type": "markdown",
      "metadata": {
        "id": "LEJiGNFlo31E",
        "colab_type": "text"
      },
      "source": [
        "## Testing\n",
        "\n",
        "Now run the predictions on both training and test data."
      ]
    },
    {
      "cell_type": "code",
      "metadata": {
        "id": "akb7RJfRxcZp",
        "colab_type": "code",
        "colab": {}
      },
      "source": [
        "predict_train = model.predict(train_set)\n",
        "predict_test = model.predict(test_set)"
      ],
      "execution_count": 0,
      "outputs": []
    },
    {
      "cell_type": "markdown",
      "metadata": {
        "id": "rCKXFzq4pIrE",
        "colab_type": "text"
      },
      "source": [
        "## Evaluating\n",
        "\n",
        "We compute some evaluation metrics on the outcome (ie the confusion matrix)"
      ]
    },
    {
      "cell_type": "code",
      "metadata": {
        "id": "UnjTI7EtNrPj",
        "colab_type": "code",
        "colab": {}
      },
      "source": [
        "def evaluate(predicted_labels, true_labels):\n",
        "    # Create an empty confusion matrix\n",
        "    confusion_matrix = np.zeros([10,10])\n",
        "    \n",
        "    # For each item in the test set, add it's prediction into the confusion matrix\n",
        "    for i, l in enumerate(true_labels):\n",
        "        confusion_matrix[l, predicted_labels[i]] += 1\n",
        "    \n",
        "    # Normalise each row\n",
        "    for i, row in enumerate(confusion_matrix):\n",
        "        confusion_matrix[i] /= sum(confusion_matrix[i])\n",
        "        \n",
        "    # Print the matrix (formatted for copying into a latex document)\n",
        "    for i,c in enumerate(confusion_matrix):\n",
        "        print(str(i) + ' & ' + ' & '.join(['{:3.2f}'.format(i) for i in c]) + '\\\\\\\\ \\hline')\n",
        "    \n",
        "    # Plot the matrix\n",
        "    plt.imshow(confusion_matrix,cmap='gray')\n",
        "    plt.tight_layout()\n",
        "    plt.grid('off')\n",
        "    plt.xlabel('Prediction')\n",
        "    plt.ylabel('Target')\n",
        "    \n",
        "    # Compute and print the overall accuracy\n",
        "    print(sum(confusion_matrix.diagonal())/sum(sum(confusion_matrix)))"
      ],
      "execution_count": 0,
      "outputs": []
    },
    {
      "cell_type": "code",
      "metadata": {
        "id": "IrzExTaZOOAf",
        "colab_type": "code",
        "outputId": "1d5fce0d-f28f-458e-a93b-7242dfda01d2",
        "colab": {
          "base_uri": "https://localhost:8080/",
          "height": 615
        }
      },
      "source": [
        "evaluate(predict_train, train_labels)"
      ],
      "execution_count": 0,
      "outputs": [
        {
          "output_type": "stream",
          "text": [
            "0 & 0.97 & 0.00 & 0.00 & 0.00 & 0.00 & 0.01 & 0.01 & 0.00 & 0.01 & 0.00\\\\ \\hline\n",
            "1 & 0.00 & 0.98 & 0.00 & 0.00 & 0.00 & 0.00 & 0.00 & 0.00 & 0.01 & 0.00\\\\ \\hline\n",
            "2 & 0.00 & 0.01 & 0.91 & 0.01 & 0.01 & 0.00 & 0.01 & 0.01 & 0.02 & 0.00\\\\ \\hline\n",
            "3 & 0.00 & 0.00 & 0.02 & 0.91 & 0.00 & 0.03 & 0.00 & 0.01 & 0.02 & 0.01\\\\ \\hline\n",
            "4 & 0.00 & 0.00 & 0.00 & 0.00 & 0.94 & 0.00 & 0.01 & 0.00 & 0.01 & 0.03\\\\ \\hline\n",
            "5 & 0.01 & 0.00 & 0.01 & 0.03 & 0.01 & 0.88 & 0.02 & 0.00 & 0.03 & 0.01\\\\ \\hline\n",
            "6 & 0.01 & 0.00 & 0.01 & 0.00 & 0.01 & 0.01 & 0.97 & 0.00 & 0.00 & 0.00\\\\ \\hline\n",
            "7 & 0.00 & 0.00 & 0.01 & 0.00 & 0.01 & 0.00 & 0.00 & 0.94 & 0.00 & 0.03\\\\ \\hline\n",
            "8 & 0.00 & 0.02 & 0.01 & 0.02 & 0.00 & 0.02 & 0.01 & 0.00 & 0.90 & 0.01\\\\ \\hline\n",
            "9 & 0.00 & 0.00 & 0.00 & 0.01 & 0.02 & 0.01 & 0.00 & 0.02 & 0.01 & 0.92\\\\ \\hline\n",
            "0.9329392320294236\n"
          ],
          "name": "stdout"
        },
        {
          "output_type": "display_data",
          "data": {
            "image/png": "[encoded data removed]",
            "text/plain": [
              "<matplotlib.figure.Figure at 0x7f3235faa390>"
            ]
          },
          "metadata": {
            "tags": []
          }
        }
      ]
    },
    {
      "cell_type": "code",
      "metadata": {
        "id": "DUL5NGkSfm_6",
        "colab_type": "code",
        "outputId": "33c965f9-952f-4dcd-bc62-53512e9a5e18",
        "colab": {
          "base_uri": "https://localhost:8080/",
          "height": 615
        }
      },
      "source": [
        "evaluate(predict_test, test_labels)"
      ],
      "execution_count": 0,
      "outputs": [
        {
          "output_type": "stream",
          "text": [
            "0 & 0.98 & 0.00 & 0.00 & 0.00 & 0.00 & 0.00 & 0.00 & 0.00 & 0.00 & 0.00\\\\ \\hline\n",
            "1 & 0.00 & 0.98 & 0.00 & 0.00 & 0.00 & 0.00 & 0.00 & 0.00 & 0.01 & 0.00\\\\ \\hline\n",
            "2 & 0.00 & 0.01 & 0.90 & 0.01 & 0.01 & 0.00 & 0.01 & 0.01 & 0.04 & 0.00\\\\ \\hline\n",
            "3 & 0.00 & 0.00 & 0.02 & 0.91 & 0.00 & 0.03 & 0.00 & 0.01 & 0.02 & 0.01\\\\ \\hline\n",
            "4 & 0.00 & 0.00 & 0.01 & 0.00 & 0.93 & 0.00 & 0.01 & 0.01 & 0.01 & 0.03\\\\ \\hline\n",
            "5 & 0.01 & 0.00 & 0.00 & 0.04 & 0.01 & 0.87 & 0.01 & 0.01 & 0.04 & 0.01\\\\ \\hline\n",
            "6 & 0.01 & 0.00 & 0.01 & 0.00 & 0.01 & 0.02 & 0.95 & 0.00 & 0.00 & 0.00\\\\ \\hline\n",
            "7 & 0.00 & 0.01 & 0.02 & 0.00 & 0.01 & 0.00 & 0.00 & 0.93 & 0.00 & 0.03\\\\ \\hline\n",
            "8 & 0.01 & 0.01 & 0.01 & 0.02 & 0.01 & 0.03 & 0.01 & 0.01 & 0.89 & 0.01\\\\ \\hline\n",
            "9 & 0.01 & 0.01 & 0.00 & 0.01 & 0.02 & 0.01 & 0.00 & 0.02 & 0.01 & 0.91\\\\ \\hline\n",
            "0.9244207693413399\n"
          ],
          "name": "stdout"
        },
        {
          "output_type": "display_data",
          "data": {
            "image/png": "[encoded data removed]",
            "text/plain": [
              "<matplotlib.figure.Figure at 0x7f3233703f28>"
            ]
          },
          "metadata": {
            "tags": []
          }
        }
      ]
    }
  ]
}