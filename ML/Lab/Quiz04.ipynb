{
 "cells": [
  {
   "cell_type": "code",
   "execution_count": 12,
   "metadata": {},
   "outputs": [],
   "source": [
    "import numpy as np"
   ]
  },
  {
   "cell_type": "markdown",
   "metadata": {},
   "source": [
    "### Q1"
   ]
  },
  {
   "cell_type": "code",
   "execution_count": 1,
   "metadata": {},
   "outputs": [
    {
     "name": "stderr",
     "output_type": "stream",
     "text": [
      "C:\\Users\\just4\\Miniconda3\\envs\\ml\\lib\\importlib\\_bootstrap.py:219: RuntimeWarning: numpy.ufunc size changed, may indicate binary incompatibility. Expected 192 from C header, got 216 from PyObject\n",
      "  return f(*args, **kwds)\n"
     ]
    }
   ],
   "source": [
    "from sklearn import tree"
   ]
  },
  {
   "cell_type": "code",
   "execution_count": 24,
   "metadata": {},
   "outputs": [],
   "source": [
    "train_set = np.array([[0,0,0],[0,0,1],[0,1,0],[1,0,1],[1,1,0],[1,1,1]])\n",
    "train_label = np.array([0,0,0,1,0,1])"
   ]
  },
  {
   "cell_type": "code",
   "execution_count": 27,
   "metadata": {},
   "outputs": [],
   "source": [
    "DT = tree.DecisionTreeClassifier(criterion='entropy')\n",
    "model = DT.fit(train_set, train_label)"
   ]
  },
  {
   "cell_type": "code",
   "execution_count": 29,
   "metadata": {},
   "outputs": [
    {
     "data": {
      "text/plain": [
       "array([0, 0])"
      ]
     },
     "execution_count": 29,
     "metadata": {},
     "output_type": "execute_result"
    }
   ],
   "source": [
    "model.predict([[0,1,1], [1,0,0]])"
   ]
  },
  {
   "cell_type": "markdown",
   "metadata": {},
   "source": [
    "### Q2"
   ]
  },
  {
   "cell_type": "code",
   "execution_count": 36,
   "metadata": {},
   "outputs": [],
   "source": [
    "import pandas as pd"
   ]
  },
  {
   "cell_type": "code",
   "execution_count": 43,
   "metadata": {},
   "outputs": [
    {
     "data": {
      "text/html": [
       "<div>\n",
       "<style scoped>\n",
       "    .dataframe tbody tr th:only-of-type {\n",
       "        vertical-align: middle;\n",
       "    }\n",
       "\n",
       "    .dataframe tbody tr th {\n",
       "        vertical-align: top;\n",
       "    }\n",
       "\n",
       "    .dataframe thead th {\n",
       "        text-align: right;\n",
       "    }\n",
       "</style>\n",
       "<table border=\"1\" class=\"dataframe\">\n",
       "  <thead>\n",
       "    <tr style=\"text-align: right;\">\n",
       "      <th></th>\n",
       "      <th>-6.600440533056271875e+00</th>\n",
       "      <th>7.538687788376366994e-01</th>\n",
       "      <th>-2.468157769410755376e-01</th>\n",
       "      <th>6.878833252597749137e-02</th>\n",
       "      <th>3.225767379972037663e-01</th>\n",
       "    </tr>\n",
       "  </thead>\n",
       "  <tbody>\n",
       "    <tr>\n",
       "      <th>0</th>\n",
       "      <td>-3.654231</td>\n",
       "      <td>0.325552</td>\n",
       "      <td>-0.269918</td>\n",
       "      <td>-0.876327</td>\n",
       "      <td>-1.425211</td>\n",
       "    </tr>\n",
       "    <tr>\n",
       "      <th>1</th>\n",
       "      <td>-0.647433</td>\n",
       "      <td>-5.374509</td>\n",
       "      <td>0.444086</td>\n",
       "      <td>0.864371</td>\n",
       "      <td>5.073218</td>\n",
       "    </tr>\n",
       "    <tr>\n",
       "      <th>2</th>\n",
       "      <td>0.250021</td>\n",
       "      <td>3.428828</td>\n",
       "      <td>-0.403042</td>\n",
       "      <td>-4.269514</td>\n",
       "      <td>-0.469498</td>\n",
       "    </tr>\n",
       "    <tr>\n",
       "      <th>3</th>\n",
       "      <td>5.401426</td>\n",
       "      <td>-0.217909</td>\n",
       "      <td>0.606282</td>\n",
       "      <td>0.864640</td>\n",
       "      <td>-3.294026</td>\n",
       "    </tr>\n",
       "    <tr>\n",
       "      <th>4</th>\n",
       "      <td>0.649667</td>\n",
       "      <td>5.842321</td>\n",
       "      <td>0.642524</td>\n",
       "      <td>-4.894259</td>\n",
       "      <td>0.701021</td>\n",
       "    </tr>\n",
       "    <tr>\n",
       "      <th>...</th>\n",
       "      <td>...</td>\n",
       "      <td>...</td>\n",
       "      <td>...</td>\n",
       "      <td>...</td>\n",
       "      <td>...</td>\n",
       "    </tr>\n",
       "    <tr>\n",
       "      <th>9994</th>\n",
       "      <td>-0.267487</td>\n",
       "      <td>-5.707709</td>\n",
       "      <td>1.520693</td>\n",
       "      <td>0.317077</td>\n",
       "      <td>5.903460</td>\n",
       "    </tr>\n",
       "    <tr>\n",
       "      <th>9995</th>\n",
       "      <td>0.137246</td>\n",
       "      <td>5.698536</td>\n",
       "      <td>0.756645</td>\n",
       "      <td>-5.568357</td>\n",
       "      <td>1.546414</td>\n",
       "    </tr>\n",
       "    <tr>\n",
       "      <th>9996</th>\n",
       "      <td>0.495448</td>\n",
       "      <td>-6.344917</td>\n",
       "      <td>-0.844630</td>\n",
       "      <td>-0.451231</td>\n",
       "      <td>5.497714</td>\n",
       "    </tr>\n",
       "    <tr>\n",
       "      <th>9997</th>\n",
       "      <td>-4.004405</td>\n",
       "      <td>0.157959</td>\n",
       "      <td>0.834499</td>\n",
       "      <td>-0.943384</td>\n",
       "      <td>-0.067830</td>\n",
       "    </tr>\n",
       "    <tr>\n",
       "      <th>9998</th>\n",
       "      <td>-4.425379</td>\n",
       "      <td>0.786903</td>\n",
       "      <td>0.273073</td>\n",
       "      <td>1.310924</td>\n",
       "      <td>-0.068100</td>\n",
       "    </tr>\n",
       "  </tbody>\n",
       "</table>\n",
       "<p>9999 rows × 5 columns</p>\n",
       "</div>"
      ],
      "text/plain": [
       "      -6.600440533056271875e+00  7.538687788376366994e-01  \\\n",
       "0                     -3.654231                  0.325552   \n",
       "1                     -0.647433                 -5.374509   \n",
       "2                      0.250021                  3.428828   \n",
       "3                      5.401426                 -0.217909   \n",
       "4                      0.649667                  5.842321   \n",
       "...                         ...                       ...   \n",
       "9994                  -0.267487                 -5.707709   \n",
       "9995                   0.137246                  5.698536   \n",
       "9996                   0.495448                 -6.344917   \n",
       "9997                  -4.004405                  0.157959   \n",
       "9998                  -4.425379                  0.786903   \n",
       "\n",
       "      -2.468157769410755376e-01  6.878833252597749137e-02  \\\n",
       "0                     -0.269918                 -0.876327   \n",
       "1                      0.444086                  0.864371   \n",
       "2                     -0.403042                 -4.269514   \n",
       "3                      0.606282                  0.864640   \n",
       "4                      0.642524                 -4.894259   \n",
       "...                         ...                       ...   \n",
       "9994                   1.520693                  0.317077   \n",
       "9995                   0.756645                 -5.568357   \n",
       "9996                  -0.844630                 -0.451231   \n",
       "9997                   0.834499                 -0.943384   \n",
       "9998                   0.273073                  1.310924   \n",
       "\n",
       "      3.225767379972037663e-01  \n",
       "0                    -1.425211  \n",
       "1                     5.073218  \n",
       "2                    -0.469498  \n",
       "3                    -3.294026  \n",
       "4                     0.701021  \n",
       "...                        ...  \n",
       "9994                  5.903460  \n",
       "9995                  1.546414  \n",
       "9996                  5.497714  \n",
       "9997                 -0.067830  \n",
       "9998                 -0.068100  \n",
       "\n",
       "[9999 rows x 5 columns]"
      ]
     },
     "execution_count": 43,
     "metadata": {},
     "output_type": "execute_result"
    }
   ],
   "source": [
    "test_data = pd.read_csv('C:/Users/just4/OneDrive/ACS/Machine_Learning/Lab/assignment4-q3.csv')\n",
    "test_data"
   ]
  },
  {
   "cell_type": "code",
   "execution_count": 59,
   "metadata": {},
   "outputs": [],
   "source": [
    "from sklearn.cluster import KMeans\n",
    "km = KMeans(5).fit(test_data)"
   ]
  },
  {
   "cell_type": "code",
   "execution_count": 62,
   "metadata": {},
   "outputs": [
    {
     "data": {
      "text/plain": [
       "(array([0, 1, 2, 3, 4]), array([2000, 2006, 2000, 1999, 1994], dtype=int64))"
      ]
     },
     "execution_count": 62,
     "metadata": {},
     "output_type": "execute_result"
    }
   ],
   "source": [
    "np.unique(km.labels_, return_counts=True)"
   ]
  },
  {
   "cell_type": "code",
   "execution_count": 63,
   "metadata": {},
   "outputs": [
    {
     "data": {
      "text/plain": [
       "array([[ 5.02923153e+00,  3.20977961e-02, -3.55040211e-03,\n",
       "        -3.27914208e-02, -4.96644978e+00],\n",
       "       [-8.47841228e-03, -5.00203202e+00,  3.15907356e-02,\n",
       "        -4.20789150e-03,  5.02588324e+00],\n",
       "       [-2.72900657e-03,  5.01611084e+00, -1.44366549e-02,\n",
       "        -5.00974530e+00,  9.64629268e-03],\n",
       "       [-4.97948980e+00,  3.27573747e-02, -1.96358816e-02,\n",
       "         8.72354183e-03,  6.57970524e-03],\n",
       "       [-9.29328718e-03, -4.97572105e+00, -1.28653231e-02,\n",
       "        -5.01817301e+00,  5.00746739e+00]])"
      ]
     },
     "execution_count": 63,
     "metadata": {},
     "output_type": "execute_result"
    }
   ],
   "source": [
    "km.cluster_centers_"
   ]
  },
  {
   "cell_type": "code",
   "execution_count": null,
   "metadata": {},
   "outputs": [],
   "source": [
    "0,-5,0,-5,5"
   ]
  }
 ],
 "metadata": {
  "kernelspec": {
   "display_name": "Python 3",
   "language": "python",
   "name": "python3"
  },
  "language_info": {
   "codemirror_mode": {
    "name": "ipython",
    "version": 3
   },
   "file_extension": ".py",
   "mimetype": "text/x-python",
   "name": "python",
   "nbconvert_exporter": "python",
   "pygments_lexer": "ipython3",
   "version": "3.7.5"
  }
 },
 "nbformat": 4,
 "nbformat_minor": 2
}
