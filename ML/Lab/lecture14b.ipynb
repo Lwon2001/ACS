{
 "cells": [
  {
   "cell_type": "markdown",
   "metadata": {
    "colab_type": "text",
    "id": "zp1a7Ms2ncI1"
   },
   "source": [
    "#  Hierarchical Clustering and MNIST"
   ]
  },
  {
   "cell_type": "markdown",
   "metadata": {
    "colab_type": "text",
    "id": "Lb5yJSfYncI8"
   },
   "source": [
    "In this notebook we will do use multiclass logistic regression to classify MNIST. If you are using your own installation of Jupyter you will need the mnist package which can be installed through anaconda using\n",
    "\n",
    "conda install -c conda-forge mnist\n",
    "\n",
    "I must point out that no efforts have been made to optimise this code for either efficiency or elegance, and some of you will no doubt be able to find ways in which it could be improved.\n",
    "\n",
    "**CAUTION** these notebooks are great, but you must be careful when running the cells out of order, especially if you are using mutable variables"
   ]
  },
  {
   "cell_type": "code",
   "execution_count": 5,
   "metadata": {
    "colab": {},
    "colab_type": "code",
    "id": "WFeL8bZmncJB"
   },
   "outputs": [],
   "source": [
    "import matplotlib.pyplot as plt\n",
    "import mnist\n",
    "import numpy as np\n",
    "from numpy.linalg import inv, det"
   ]
  },
  {
   "cell_type": "markdown",
   "metadata": {
    "colab_type": "text",
    "id": "ZicM3g7juYRA"
   },
   "source": [
    "First, some manipulations. We need to linearise the training data so that we can treat each image as a vector."
   ]
  },
  {
   "cell_type": "code",
   "execution_count": 6,
   "metadata": {
    "colab": {
     "base_uri": "https://localhost:8080/",
     "height": 92
    },
    "colab_type": "code",
    "executionInfo": {
     "elapsed": 4490,
     "status": "ok",
     "timestamp": 1574933831269,
     "user": {
      "displayName": "Iain Styles",
      "photoUrl": "",
      "userId": "03897944434599438748"
     },
     "user_tz": 0
    },
    "id": "hBmV7t_suXaz",
    "outputId": "ea911fe0-4525-430d-d08d-71f61e7dd7bd"
   },
   "outputs": [
    {
     "name": "stdout",
     "output_type": "stream",
     "text": [
      "(10000, 28, 28)\n",
      "(60000, 28, 28)\n",
      "(10000, 784)\n",
      "(60000, 784)\n"
     ]
    }
   ],
   "source": [
    "# Get the training and test data\n",
    "train_set = mnist.train_images()\n",
    "train_labels = mnist.train_labels()\n",
    "test_set = mnist.test_images()\n",
    "test_labels = mnist.test_labels()\n",
    "print(test_set.shape)\n",
    "print(train_set.shape)\n",
    "\n",
    "# Reshape the arrays\n",
    "test_set = np.squeeze(np.array([np.reshape(i,(1,-1)) for i in test_set]))\n",
    "train_set = np.squeeze(np.array([np.reshape(i,(1,-1)) for i in train_set]))\n",
    "print(test_set.shape)\n",
    "print(train_set.shape)"
   ]
  },
  {
   "cell_type": "markdown",
   "metadata": {
    "colab_type": "text",
    "id": "H_uVRThq8ffK"
   },
   "source": [
    "## Preprocessing of the data\n",
    "\n",
    "One problem with the MNIST data is that there are, as we have previously seen, many non-varying pixels around the edge of the images. In LR we do not need to compute the covariance matrix but they risk confounding the classifier so we will remove them.\n"
   ]
  },
  {
   "cell_type": "code",
   "execution_count": 7,
   "metadata": {
    "colab": {},
    "colab_type": "code",
    "id": "3J4ndk0y8sxW"
   },
   "outputs": [],
   "source": [
    "# Get the sum of each variable into a single vector\n",
    "S = np.sum(train_set,axis=0).squeeze()\n",
    "\n",
    "# Define an index of the non-varying and varying pixels\n",
    "nonvary = S==0\n",
    "vary = np.array(S!=0).squeeze()\n",
    "\n",
    "# Choose only the varying pixels in the data\n",
    "train_set = train_set[:,vary]\n",
    "test_set = test_set[:,vary]"
   ]
  },
  {
   "cell_type": "markdown",
   "metadata": {
    "colab_type": "text",
    "id": "ACJQp0m4T_is"
   },
   "source": [
    "We're going to roll our own implementation of the algorithm because it's instructive to see how this method is implemented recursively."
   ]
  },
  {
   "cell_type": "code",
   "execution_count": 8,
   "metadata": {
    "colab": {},
    "colab_type": "code",
    "id": "CsXf17DpC23L"
   },
   "outputs": [],
   "source": [
    "from scipy.spatial.distance import euclidean\n",
    "from collections import Iterable\n",
    "def agghier(x, dfun=euclidean, linktype='average'):\n",
    "    '''\n",
    "    Args:\n",
    "    x: numpy.ndarray: data points, one point per row\n",
    "    dfun: function for distance calculation\n",
    "    linktype: 'single', 'average', 'complete'\n",
    "\n",
    "    Returns:\n",
    "    ClusterCentroids: numpy.ndarray: N rows, one centroid per row\n",
    "    Labels: numpy.ndarray: label of closest centroid for each datapoint.\n",
    "    '''\n",
    "\n",
    "    # Flatten lists of lists, needed to enable linkage to be computed\n",
    "    def flatten(x):\n",
    "        if isinstance(x, Iterable):\n",
    "            return [a for i in x[0:2] for a in flatten(i)]\n",
    "        else:\n",
    "            return [x]\n",
    "\n",
    "    # The linker, compute distances between clusters by flattening them and using the appropriate metric\n",
    "    def linker(c1,c2,x,metric,linkage):\n",
    "        # First flatten the clusters\n",
    "        c1flat = flatten(c1)\n",
    "        c2flat = flatten(c2)\n",
    "        # Get the data corresponding to the two clusters\n",
    "        x1 = x[c1flat,:]\n",
    "        x2 = x[c2flat,:]\n",
    "        # Compute all pairwise distances\n",
    "        d = np.zeros([len(x1),len(x2)])\n",
    "        for i1,p1 in enumerate(x1):\n",
    "            for i2,p2 in enumerate(x2):\n",
    "                d[i1,i2] = metric(p1,p2)\n",
    "        return linkage(d)\n",
    "\n",
    "    # Recursive hierarchical clustering\n",
    "    def docluster(x, clusters, distances, linker):\n",
    "        # The base case is the final merge of the two sides of the tree\n",
    "        if len(clusters) == 2:\n",
    "            clusters.append(linker(clusters[0],clusters[1],x))\n",
    "            return clusters\n",
    "        # Otherwise we evaluate the current position and proceed recursively\n",
    "        else:\n",
    "            # Find the shortest distance in the current set of clusters\n",
    "            d = np.zeros([len(clusters), len(clusters)])\n",
    "            for i,c1 in enumerate(clusters):\n",
    "                for j,c2 in enumerate(clusters):\n",
    "                    d[i,j] = linker(c1,c2,x)\n",
    "            # The diagonal will be zero - fill it with the max value\n",
    "            np.fill_diagonal(d, np.max(d))\n",
    "            # Find the minimum in the distance matrix\n",
    "            dminindex = np.unravel_index(d.argmin(), d.shape)\n",
    "            # Form the new cluster\n",
    "            newcluster = [clusters[dminindex[0]], clusters[dminindex[1]], np.min(d)]\n",
    "            # remove the old and add the new\n",
    "            removed = [ clusters[i] for i in dminindex]\n",
    "            [clusters.remove(i) for i in removed]\n",
    "            clusters.append(newcluster)\n",
    "            return  docluster(x, clusters, distances, linker)\n",
    "\n",
    "    # The three common linkage approaches correspond to min, mean, max\n",
    "    linkstrat = {'single':np.min, 'average':np.mean, 'complete':np.max}\n",
    "    if linktype in linkstrat.keys():\n",
    "        linkfunc = linkstrat[linktype]\n",
    "    else:\n",
    "        raise Exception('Linkage must be single, average or complete')\n",
    "    # Call the clustering with the partial application of the linker function to pick up the right parameters\n",
    "    return docluster(x, [i for i in range(0, x.shape[0])], [], partial(linker, metric=dfun, linkage=linkfunc))\n"
   ]
  },
  {
   "cell_type": "code",
   "execution_count": 4,
   "metadata": {
    "colab": {},
    "colab_type": "code",
    "id": "E9mGPTB1DFUA"
   },
   "outputs": [],
   "source": [
    "from functools import partial\n",
    "from matplotlib.lines import Line2D\n",
    "\n",
    "def dendrogram(clusters,leaf_labels):\n",
    "    ''' Dendrogram function\n",
    "    clusters: output from agghier\n",
    "    returns figure id\n",
    "    '''\n",
    "    # Function to selectively flatter a hierarchical list. Note the indices on x, which strip the cluster distances out of the list and just returns the members\n",
    "    def flatten(x):\n",
    "        if isinstance(x, Iterable):\n",
    "            return [a for i in x[0:2] for a in flatten(i)]\n",
    "        else:\n",
    "            return [x]\n",
    "\n",
    "    # This function does the actual plotting by recursion\n",
    "    def plotdendrogram(clusters, leafnodes, showlabels):\n",
    "        if type(clusters) is not list:\n",
    "            # We're at one of the leaf nodes\n",
    "            coords = [ 0.5 + float(leafnodes.index(clusters)) / (len(leafnodes)-2) , 0 ]\n",
    "            plt.gca().text(coords[0],coords[1],leaf_labels[clusters],horizontalalignment='center',verticalalignment='top',)\n",
    "            return coords \n",
    "        else:\n",
    "            # Recurse into first cluster\n",
    "            c0 = plotdendrogram(clusters[0], leafnodes, showlabels)# recurse on one cluster\n",
    "            # Recurse into second cluster\n",
    "            c1 = plotdendrogram(clusters[1], leafnodes, showlabels)# recurse on one cluster\n",
    "            # Compute new coordinate\n",
    "            coords = [ (c0[0]+c1[0])/2 , clusters[2] ]\n",
    "            plt.plot([c0[0],c0[0],c1[0],c1[0]],[c0[1],coords[1],coords[1],c1[1]],'b-',linewidth=2.0)\n",
    "            #plt.plot([c0[0],coords[0],c1[0]],[c0[1],coords[1],c1[1]],'b-',linewidth=2.0)\n",
    "            (plt.gca().text(coords[0],coords[1],round(clusters[2],4),horizontalalignment='right',verticalalignment='bottom',)) if showlabels else ()\n",
    "            return coords\n",
    "\n",
    "    # Set up the figure\n",
    "    f = plt.figure(facecolor='white', figsize=[16,6])\n",
    "    a = plt.axes(frameon=False) # Remove the frame\n",
    "    a.axes.get_yaxis().tick_left() # Remove right hand ticks\n",
    "    a.axes.get_xaxis().set_visible(False) # hide the x-axis\n",
    "    # Do the actual plotting\n",
    "    coords = plotdendrogram(clusters, flatten(clusters), showlabels=False)\n",
    "    # Draw the x axis line\n",
    "    # Note that this must be done after plotting, to get the correct\n",
    "    # view interval\n",
    "    xmin, xmax = a.axes.get_xaxis().get_view_interval()\n",
    "    ymin, ymax = a.axes.get_yaxis().get_view_interval()\n",
    "    #a.add_artist(Line2D((xmin, xmin), (ymin, ymax), color='black', linewidth=2))\n",
    "    return None"
   ]
  },
  {
   "cell_type": "code",
   "execution_count": 14,
   "metadata": {
    "colab": {
     "base_uri": "https://localhost:8080/",
     "height": 357
    },
    "colab_type": "code",
    "executionInfo": {
     "elapsed": 31440,
     "status": "ok",
     "timestamp": 1574933858244,
     "user": {
      "displayName": "Iain Styles",
      "photoUrl": "",
      "userId": "03897944434599438748"
     },
     "user_tz": 0
    },
    "id": "mVRm7gWEDQqU",
    "outputId": "befec7fa-a21e-4d60-f2d6-0ff7d35159dd"
   },
   "outputs": [
    {
     "data": {
      "image/png": "[encoded data removed]",
      "text/plain": [
       "<Figure size 1152x432 with 1 Axes>"
      ]
     },
     "metadata": {
      "tags": []
     },
     "output_type": "display_data"
    }
   ],
   "source": [
    "clusters = agghier(test_set[0:100], linktype='single')\n",
    "dendrogram(clusters,test_labels[0:100])"
   ]
  },
  {
   "cell_type": "code",
   "execution_count": 15,
   "metadata": {
    "colab": {
     "base_uri": "https://localhost:8080/",
     "height": 357
    },
    "colab_type": "code",
    "executionInfo": {
     "elapsed": 59977,
     "status": "ok",
     "timestamp": 1574933886792,
     "user": {
      "displayName": "Iain Styles",
      "photoUrl": "",
      "userId": "03897944434599438748"
     },
     "user_tz": 0
    },
    "id": "oG8TpbeKj6Fy",
    "outputId": "4c59b356-d26a-4509-acd7-57753064694e"
   },
   "outputs": [
    {
     "data": {
      "image/png": "[encoded data removed]",
      "text/plain": [
       "<Figure size 1152x432 with 1 Axes>"
      ]
     },
     "metadata": {
      "tags": []
     },
     "output_type": "display_data"
    }
   ],
   "source": [
    "clusters = agghier(test_set[0:100], linktype='average')\n",
    "dendrogram(clusters,test_labels[0:100])"
   ]
  },
  {
   "cell_type": "code",
   "execution_count": 16,
   "metadata": {
    "colab": {
     "base_uri": "https://localhost:8080/",
     "height": 357
    },
    "colab_type": "code",
    "executionInfo": {
     "elapsed": 9,
     "status": "ok",
     "timestamp": 1574933990216,
     "user": {
      "displayName": "Iain Styles",
      "photoUrl": "",
      "userId": "03897944434599438748"
     },
     "user_tz": 0
    },
    "id": "SOLmK6dIj7Hk",
    "outputId": "2af3dd6a-b10e-450a-9f44-63232bd03bd5"
   },
   "outputs": [
    {
     "data": {
      "image/png": "[encoded data removed]",
      "text/plain": [
       "<Figure size 1152x432 with 1 Axes>"
      ]
     },
     "metadata": {
      "tags": []
     },
     "output_type": "display_data"
    }
   ],
   "source": [
    "clusters = agghier(test_set[0:100], linktype='complete')\n",
    "dendrogram(clusters,test_labels[0:100])"
   ]
  }
 ],
 "metadata": {
  "colab": {
   "collapsed_sections": [],
   "name": "lecture-14b.ipynb",
   "provenance": [
    {
     "file_id": "1vacPSG5JSi_Rm3g67UPbjvE5qLqsGIjm",
     "timestamp": 1543424297657
    },
    {
     "file_id": "1PYoWIo3CkdXarkZNK380v52l0ZDzyMH9",
     "timestamp": 1542963463353
    }
   ]
  },
  "kernelspec": {
   "display_name": "Python 3",
   "language": "python",
   "name": "python3"
  },
  "language_info": {
   "codemirror_mode": {
    "name": "ipython",
    "version": 3
   },
   "file_extension": ".py",
   "mimetype": "text/x-python",
   "name": "python",
   "nbconvert_exporter": "python",
   "pygments_lexer": "ipython3",
   "version": "3.7.5"
  }
 },
 "nbformat": 4,
 "nbformat_minor": 1
}
