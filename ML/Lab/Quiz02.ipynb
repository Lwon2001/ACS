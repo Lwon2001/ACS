{
 "cells": [
  {
   "cell_type": "code",
   "execution_count": 1,
   "metadata": {},
   "outputs": [],
   "source": [
    "import numpy as np"
   ]
  },
  {
   "cell_type": "code",
   "execution_count": 6,
   "metadata": {},
   "outputs": [],
   "source": [
    "import sklearn"
   ]
  },
  {
   "cell_type": "code",
   "execution_count": 7,
   "metadata": {},
   "outputs": [],
   "source": [
    "import pandas as pd"
   ]
  },
  {
   "cell_type": "code",
   "execution_count": 85,
   "metadata": {
    "scrolled": true
   },
   "outputs": [
    {
     "data": {
      "text/html": [
       "<div>\n",
       "<style scoped>\n",
       "    .dataframe tbody tr th:only-of-type {\n",
       "        vertical-align: middle;\n",
       "    }\n",
       "\n",
       "    .dataframe tbody tr th {\n",
       "        vertical-align: top;\n",
       "    }\n",
       "\n",
       "    .dataframe thead th {\n",
       "        text-align: right;\n",
       "    }\n",
       "</style>\n",
       "<table border=\"1\" class=\"dataframe\">\n",
       "  <thead>\n",
       "    <tr style=\"text-align: right;\">\n",
       "      <th></th>\n",
       "      <th>x1</th>\n",
       "      <th>x2</th>\n",
       "      <th>class</th>\n",
       "    </tr>\n",
       "  </thead>\n",
       "  <tbody>\n",
       "    <tr>\n",
       "      <th>0</th>\n",
       "      <td>-0.625</td>\n",
       "      <td>-0.638</td>\n",
       "      <td>A</td>\n",
       "    </tr>\n",
       "    <tr>\n",
       "      <th>1</th>\n",
       "      <td>0.502</td>\n",
       "      <td>-0.038</td>\n",
       "      <td>B</td>\n",
       "    </tr>\n",
       "    <tr>\n",
       "      <th>2</th>\n",
       "      <td>0.291</td>\n",
       "      <td>-0.198</td>\n",
       "      <td>B</td>\n",
       "    </tr>\n",
       "    <tr>\n",
       "      <th>3</th>\n",
       "      <td>-0.068</td>\n",
       "      <td>-0.829</td>\n",
       "      <td>A</td>\n",
       "    </tr>\n",
       "    <tr>\n",
       "      <th>4</th>\n",
       "      <td>-0.679</td>\n",
       "      <td>0.391</td>\n",
       "      <td>A</td>\n",
       "    </tr>\n",
       "    <tr>\n",
       "      <th>5</th>\n",
       "      <td>0.122</td>\n",
       "      <td>0.120</td>\n",
       "      <td>B</td>\n",
       "    </tr>\n",
       "    <tr>\n",
       "      <th>6</th>\n",
       "      <td>-0.855</td>\n",
       "      <td>0.387</td>\n",
       "      <td>A</td>\n",
       "    </tr>\n",
       "    <tr>\n",
       "      <th>7</th>\n",
       "      <td>0.506</td>\n",
       "      <td>0.241</td>\n",
       "      <td>B</td>\n",
       "    </tr>\n",
       "    <tr>\n",
       "      <th>8</th>\n",
       "      <td>-0.723</td>\n",
       "      <td>-1.433</td>\n",
       "      <td>A</td>\n",
       "    </tr>\n",
       "    <tr>\n",
       "      <th>9</th>\n",
       "      <td>-0.322</td>\n",
       "      <td>0.132</td>\n",
       "      <td>B</td>\n",
       "    </tr>\n",
       "    <tr>\n",
       "      <th>10</th>\n",
       "      <td>-0.586</td>\n",
       "      <td>-1.026</td>\n",
       "      <td>A</td>\n",
       "    </tr>\n",
       "    <tr>\n",
       "      <th>11</th>\n",
       "      <td>0.027</td>\n",
       "      <td>0.317</td>\n",
       "      <td>B</td>\n",
       "    </tr>\n",
       "    <tr>\n",
       "      <th>12</th>\n",
       "      <td>-0.579</td>\n",
       "      <td>-0.709</td>\n",
       "      <td>A</td>\n",
       "    </tr>\n",
       "    <tr>\n",
       "      <th>13</th>\n",
       "      <td>-0.386</td>\n",
       "      <td>0.311</td>\n",
       "      <td>B</td>\n",
       "    </tr>\n",
       "    <tr>\n",
       "      <th>14</th>\n",
       "      <td>-0.211</td>\n",
       "      <td>0.201</td>\n",
       "      <td>B</td>\n",
       "    </tr>\n",
       "    <tr>\n",
       "      <th>15</th>\n",
       "      <td>-0.143</td>\n",
       "      <td>0.750</td>\n",
       "      <td>B</td>\n",
       "    </tr>\n",
       "    <tr>\n",
       "      <th>16</th>\n",
       "      <td>-0.398</td>\n",
       "      <td>-1.184</td>\n",
       "      <td>A</td>\n",
       "    </tr>\n",
       "    <tr>\n",
       "      <th>17</th>\n",
       "      <td>0.663</td>\n",
       "      <td>-0.425</td>\n",
       "      <td>B</td>\n",
       "    </tr>\n",
       "    <tr>\n",
       "      <th>18</th>\n",
       "      <td>-0.007</td>\n",
       "      <td>-0.646</td>\n",
       "      <td>A</td>\n",
       "    </tr>\n",
       "    <tr>\n",
       "      <th>19</th>\n",
       "      <td>-0.541</td>\n",
       "      <td>-0.793</td>\n",
       "      <td>A</td>\n",
       "    </tr>\n",
       "    <tr>\n",
       "      <th>20</th>\n",
       "      <td>-0.726</td>\n",
       "      <td>0.135</td>\n",
       "      <td>A</td>\n",
       "    </tr>\n",
       "    <tr>\n",
       "      <th>21</th>\n",
       "      <td>-0.079</td>\n",
       "      <td>0.508</td>\n",
       "      <td>B</td>\n",
       "    </tr>\n",
       "    <tr>\n",
       "      <th>22</th>\n",
       "      <td>0.100</td>\n",
       "      <td>-0.467</td>\n",
       "      <td>A</td>\n",
       "    </tr>\n",
       "    <tr>\n",
       "      <th>23</th>\n",
       "      <td>0.186</td>\n",
       "      <td>-0.064</td>\n",
       "      <td>B</td>\n",
       "    </tr>\n",
       "    <tr>\n",
       "      <th>24</th>\n",
       "      <td>-1.055</td>\n",
       "      <td>-0.274</td>\n",
       "      <td>A</td>\n",
       "    </tr>\n",
       "    <tr>\n",
       "      <th>25</th>\n",
       "      <td>-0.538</td>\n",
       "      <td>-0.507</td>\n",
       "      <td>A</td>\n",
       "    </tr>\n",
       "    <tr>\n",
       "      <th>26</th>\n",
       "      <td>0.138</td>\n",
       "      <td>-0.661</td>\n",
       "      <td>A</td>\n",
       "    </tr>\n",
       "    <tr>\n",
       "      <th>27</th>\n",
       "      <td>0.329</td>\n",
       "      <td>0.656</td>\n",
       "      <td>B</td>\n",
       "    </tr>\n",
       "    <tr>\n",
       "      <th>28</th>\n",
       "      <td>-0.421</td>\n",
       "      <td>-0.106</td>\n",
       "      <td>A</td>\n",
       "    </tr>\n",
       "    <tr>\n",
       "      <th>29</th>\n",
       "      <td>-0.809</td>\n",
       "      <td>-0.154</td>\n",
       "      <td>A</td>\n",
       "    </tr>\n",
       "    <tr>\n",
       "      <th>30</th>\n",
       "      <td>-0.217</td>\n",
       "      <td>-0.036</td>\n",
       "      <td>A</td>\n",
       "    </tr>\n",
       "    <tr>\n",
       "      <th>31</th>\n",
       "      <td>0.300</td>\n",
       "      <td>0.549</td>\n",
       "      <td>B</td>\n",
       "    </tr>\n",
       "    <tr>\n",
       "      <th>32</th>\n",
       "      <td>-1.283</td>\n",
       "      <td>-0.745</td>\n",
       "      <td>A</td>\n",
       "    </tr>\n",
       "    <tr>\n",
       "      <th>33</th>\n",
       "      <td>0.413</td>\n",
       "      <td>0.289</td>\n",
       "      <td>B</td>\n",
       "    </tr>\n",
       "    <tr>\n",
       "      <th>34</th>\n",
       "      <td>-0.935</td>\n",
       "      <td>0.399</td>\n",
       "      <td>A</td>\n",
       "    </tr>\n",
       "    <tr>\n",
       "      <th>35</th>\n",
       "      <td>-0.435</td>\n",
       "      <td>0.826</td>\n",
       "      <td>A</td>\n",
       "    </tr>\n",
       "    <tr>\n",
       "      <th>36</th>\n",
       "      <td>0.288</td>\n",
       "      <td>-0.205</td>\n",
       "      <td>B</td>\n",
       "    </tr>\n",
       "    <tr>\n",
       "      <th>37</th>\n",
       "      <td>-0.043</td>\n",
       "      <td>0.323</td>\n",
       "      <td>B</td>\n",
       "    </tr>\n",
       "    <tr>\n",
       "      <th>38</th>\n",
       "      <td>0.715</td>\n",
       "      <td>-0.818</td>\n",
       "      <td>A</td>\n",
       "    </tr>\n",
       "    <tr>\n",
       "      <th>39</th>\n",
       "      <td>0.497</td>\n",
       "      <td>0.423</td>\n",
       "      <td>B</td>\n",
       "    </tr>\n",
       "    <tr>\n",
       "      <th>40</th>\n",
       "      <td>1.123</td>\n",
       "      <td>-0.934</td>\n",
       "      <td>A</td>\n",
       "    </tr>\n",
       "    <tr>\n",
       "      <th>41</th>\n",
       "      <td>0.512</td>\n",
       "      <td>-0.602</td>\n",
       "      <td>A</td>\n",
       "    </tr>\n",
       "    <tr>\n",
       "      <th>42</th>\n",
       "      <td>1.432</td>\n",
       "      <td>-1.045</td>\n",
       "      <td>A</td>\n",
       "    </tr>\n",
       "    <tr>\n",
       "      <th>43</th>\n",
       "      <td>0.784</td>\n",
       "      <td>-1.234</td>\n",
       "      <td>A</td>\n",
       "    </tr>\n",
       "    <tr>\n",
       "      <th>44</th>\n",
       "      <td>1.032</td>\n",
       "      <td>-0.550</td>\n",
       "      <td>A</td>\n",
       "    </tr>\n",
       "    <tr>\n",
       "      <th>45</th>\n",
       "      <td>0.021</td>\n",
       "      <td>-1.132</td>\n",
       "      <td>A</td>\n",
       "    </tr>\n",
       "    <tr>\n",
       "      <th>46</th>\n",
       "      <td>0.225</td>\n",
       "      <td>-1.401</td>\n",
       "      <td>A</td>\n",
       "    </tr>\n",
       "    <tr>\n",
       "      <th>47</th>\n",
       "      <td>0.487</td>\n",
       "      <td>-1.049</td>\n",
       "      <td>A</td>\n",
       "    </tr>\n",
       "    <tr>\n",
       "      <th>48</th>\n",
       "      <td>1.180</td>\n",
       "      <td>-1.221</td>\n",
       "      <td>A</td>\n",
       "    </tr>\n",
       "    <tr>\n",
       "      <th>49</th>\n",
       "      <td>0.301</td>\n",
       "      <td>-0.889</td>\n",
       "      <td>A</td>\n",
       "    </tr>\n",
       "  </tbody>\n",
       "</table>\n",
       "</div>"
      ],
      "text/plain": [
       "       x1     x2 class\n",
       "0  -0.625 -0.638     A\n",
       "1   0.502 -0.038     B\n",
       "2   0.291 -0.198     B\n",
       "3  -0.068 -0.829     A\n",
       "4  -0.679  0.391     A\n",
       "5   0.122  0.120     B\n",
       "6  -0.855  0.387     A\n",
       "7   0.506  0.241     B\n",
       "8  -0.723 -1.433     A\n",
       "9  -0.322  0.132     B\n",
       "10 -0.586 -1.026     A\n",
       "11  0.027  0.317     B\n",
       "12 -0.579 -0.709     A\n",
       "13 -0.386  0.311     B\n",
       "14 -0.211  0.201     B\n",
       "15 -0.143  0.750     B\n",
       "16 -0.398 -1.184     A\n",
       "17  0.663 -0.425     B\n",
       "18 -0.007 -0.646     A\n",
       "19 -0.541 -0.793     A\n",
       "20 -0.726  0.135     A\n",
       "21 -0.079  0.508     B\n",
       "22  0.100 -0.467     A\n",
       "23  0.186 -0.064     B\n",
       "24 -1.055 -0.274     A\n",
       "25 -0.538 -0.507     A\n",
       "26  0.138 -0.661     A\n",
       "27  0.329  0.656     B\n",
       "28 -0.421 -0.106     A\n",
       "29 -0.809 -0.154     A\n",
       "30 -0.217 -0.036     A\n",
       "31  0.300  0.549     B\n",
       "32 -1.283 -0.745     A\n",
       "33  0.413  0.289     B\n",
       "34 -0.935  0.399     A\n",
       "35 -0.435  0.826     A\n",
       "36  0.288 -0.205     B\n",
       "37 -0.043  0.323     B\n",
       "38  0.715 -0.818     A\n",
       "39  0.497  0.423     B\n",
       "40  1.123 -0.934     A\n",
       "41  0.512 -0.602     A\n",
       "42  1.432 -1.045     A\n",
       "43  0.784 -1.234     A\n",
       "44  1.032 -0.550     A\n",
       "45  0.021 -1.132     A\n",
       "46  0.225 -1.401     A\n",
       "47  0.487 -1.049     A\n",
       "48  1.180 -1.221     A\n",
       "49  0.301 -0.889     A"
      ]
     },
     "execution_count": 85,
     "metadata": {},
     "output_type": "execute_result"
    }
   ],
   "source": [
    "traindata = pd.read_csv('/home/students/zxx992/ACS/Machine_Learning_Extended/Lab/traindata.csv')\n",
    "traindata"
   ]
  },
  {
   "cell_type": "code",
   "execution_count": 151,
   "metadata": {},
   "outputs": [],
   "source": [
    "X = traindata[['x1','x2']]\n",
    "y = traindata['class']\n"
   ]
  },
  {
   "cell_type": "code",
   "execution_count": 200,
   "metadata": {},
   "outputs": [
    {
     "data": {
      "text/plain": [
       "18"
      ]
     },
     "execution_count": 200,
     "metadata": {},
     "output_type": "execute_result"
    }
   ],
   "source": [
    "X_A = traindata[traindata['class'] == 'A']\n",
    "X_A = list(X_A.to_numpy())\n",
    "X_B = traindata[traindata['class'] == 'B']\n",
    "X_B = list(X_B.to_numpy())\n",
    "len(X_B)"
   ]
  },
  {
   "cell_type": "code",
   "execution_count": 137,
   "metadata": {},
   "outputs": [],
   "source": [
    "classes = ['A','B']"
   ]
  },
  {
   "cell_type": "code",
   "execution_count": 161,
   "metadata": {
    "scrolled": false
   },
   "outputs": [
    {
     "data": {
      "text/plain": [
       "array([[-1.323,  0.891],\n",
       "       [ 0.501,  1.037],\n",
       "       [-0.147, -0.406],\n",
       "       [ 0.976,  0.381],\n",
       "       [-0.029, -0.149],\n",
       "       [-1.471, -1.487],\n",
       "       [ 0.631,  1.48 ],\n",
       "       [ 1.061, -1.126],\n",
       "       [-1.476, -0.068],\n",
       "       [ 1.348,  1.341]])"
      ]
     },
     "execution_count": 161,
     "metadata": {},
     "output_type": "execute_result"
    }
   ],
   "source": [
    "testdata = np.loadtxt('/home/students/zxx992/ACS/Machine_Learning_Extended/Lab/testdata.csv',delimiter=',',skiprows = 1)\n",
    "testdata"
   ]
  },
  {
   "cell_type": "code",
   "execution_count": 212,
   "metadata": {
    "scrolled": true
   },
   "outputs": [
    {
     "name": "stdout",
     "output_type": "stream",
     "text": [
      "A\n",
      "B\n",
      "A\n",
      "B\n",
      "A\n",
      "A\n",
      "B\n",
      "A\n",
      "A\n",
      "B\n"
     ]
    }
   ],
   "source": [
    "pred = testdata[:]\n",
    "list(pred)\n",
    "for i in pred:\n",
    "    for j in X_A:\n",
    "        dist_A = 0\n",
    "        dist_A += ((i[0]-j[0])**2+(i[1]-j[1])**2)**0.5\n",
    "        \n",
    "    for k in X_B:\n",
    "        dist_B = 0\n",
    "        dist_B += ((i[0]-k[0])**2+(i[1]-k[1])**2)**0.5\n",
    "        \n",
    "    D_A = dist_A/32\n",
    "    D_B = dist_B/18\n",
    "    if D_A <= D_B:\n",
    "        print('A')\n",
    "    else:\n",
    "        print('B')"
   ]
  },
  {
   "cell_type": "code",
   "execution_count": 208,
   "metadata": {},
   "outputs": [],
   "source": [
    "# Right answer:\n",
    "# B\n",
    "# B\n",
    "# B\n",
    "# B\n",
    "# B\n",
    "# A\n",
    "# B\n",
    "# A\n",
    "# A\n",
    "# B"
   ]
  },
  {
   "cell_type": "code",
   "execution_count": 174,
   "metadata": {},
   "outputs": [
    {
     "data": {
      "text/plain": [
       "10"
      ]
     },
     "execution_count": 174,
     "metadata": {},
     "output_type": "execute_result"
    }
   ],
   "source": [
    "len(list(pred))"
   ]
  },
  {
   "cell_type": "code",
   "execution_count": 189,
   "metadata": {},
   "outputs": [],
   "source": [
    "from sklearn.neighbors import KNeighborsClassifier"
   ]
  },
  {
   "cell_type": "code",
   "execution_count": 190,
   "metadata": {},
   "outputs": [],
   "source": [
    "neigh = KNeighborsClassifier(weights='distance')"
   ]
  },
  {
   "cell_type": "code",
   "execution_count": 191,
   "metadata": {},
   "outputs": [
    {
     "data": {
      "text/plain": [
       "KNeighborsClassifier(algorithm='auto', leaf_size=30, metric='minkowski',\n",
       "                     metric_params=None, n_jobs=None, n_neighbors=5, p=2,\n",
       "                     weights='distance')"
      ]
     },
     "execution_count": 191,
     "metadata": {},
     "output_type": "execute_result"
    }
   ],
   "source": [
    "neigh.fit(X,y)"
   ]
  },
  {
   "cell_type": "code",
   "execution_count": 192,
   "metadata": {},
   "outputs": [
    {
     "data": {
      "text/plain": [
       "array(['A', 'B', 'A', 'B', 'B', 'A', 'B', 'A', 'A', 'B'], dtype=object)"
      ]
     },
     "execution_count": 192,
     "metadata": {},
     "output_type": "execute_result"
    }
   ],
   "source": [
    "Z = neigh.predict(testdata)\n",
    "Z"
   ]
  },
  {
   "cell_type": "code",
   "execution_count": 184,
   "metadata": {},
   "outputs": [
    {
     "data": {
      "text/plain": [
       "array([[-1.323,  0.891],\n",
       "       [ 0.501,  1.037],\n",
       "       [-0.147, -0.406],\n",
       "       [ 0.976,  0.381],\n",
       "       [-0.029, -0.149],\n",
       "       [-1.471, -1.487],\n",
       "       [ 0.631,  1.48 ],\n",
       "       [ 1.061, -1.126],\n",
       "       [-1.476, -0.068],\n",
       "       [ 1.348,  1.341]])"
      ]
     },
     "execution_count": 184,
     "metadata": {},
     "output_type": "execute_result"
    }
   ],
   "source": [
    "pred"
   ]
  },
  {
   "cell_type": "code",
   "execution_count": null,
   "metadata": {},
   "outputs": [],
   "source": []
  }
 ],
 "metadata": {
  "kernelspec": {
   "display_name": "Python 3",
   "language": "python",
   "name": "python3"
  },
  "language_info": {
   "codemirror_mode": {
    "name": "ipython",
    "version": 3
   },
   "file_extension": ".py",
   "mimetype": "text/x-python",
   "name": "python",
   "nbconvert_exporter": "python",
   "pygments_lexer": "ipython3",
   "version": "3.6.3"
  }
 },
 "nbformat": 4,
 "nbformat_minor": 2
}
