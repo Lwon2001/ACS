{
 "cells": [
  {
   "cell_type": "markdown",
   "metadata": {
    "colab_type": "text",
    "id": "zp1a7Ms2ncI1"
   },
   "source": [
    "# Gaussian Mixture Models"
   ]
  },
  {
   "cell_type": "markdown",
   "metadata": {
    "colab_type": "text",
    "id": "Lb5yJSfYncI8"
   },
   "source": [
    "In this notebook we will investigate Gaussian Mixture Models\n",
    "\n",
    "I must point out that no efforts have been made to optimise this code for either efficiency or elegance, and some of you will no doubt be able to find ways in which it could be improved.\n",
    "\n",
    "**CAUTION** these notebooks are great, but you must be careful when running the cells out of order, especially if you are using mutable variables"
   ]
  },
  {
   "cell_type": "code",
   "execution_count": 1,
   "metadata": {
    "colab": {},
    "colab_type": "code",
    "id": "WFeL8bZmncJB"
   },
   "outputs": [],
   "source": [
    "#!pip install -q mnist # this line instructs colab to install mnist\n",
    "import matplotlib.pyplot as plt\n",
    "import mnist\n",
    "import numpy as np\n",
    "#from scipy.stats import norm\n",
    "from numpy.random import normal\n",
    "np.random.seed(123)"
   ]
  },
  {
   "cell_type": "markdown",
   "metadata": {
    "colab_type": "text",
    "id": "CgKePATKMa4G"
   },
   "source": [
    "Define the parameters of the data generating clusters"
   ]
  },
  {
   "cell_type": "code",
   "execution_count": 2,
   "metadata": {
    "colab": {
     "base_uri": "https://localhost:8080/",
     "height": 300
    },
    "colab_type": "code",
    "executionInfo": {
     "elapsed": 7978,
     "status": "ok",
     "timestamp": 1574933712444,
     "user": {
      "displayName": "Iain Styles",
      "photoUrl": "",
      "userId": "03897944434599438748"
     },
     "user_tz": 0
    },
    "id": "9inEW_eRMfmY",
    "outputId": "51c1407c-8aa6-4973-fea8-c281dd8ae5b4"
   },
   "outputs": [
    {
     "ename": "NameError",
     "evalue": "name 'norm' is not defined",
     "output_type": "error",
     "traceback": [
      "\u001b[0;31m---------------------------------------------------------------------------\u001b[0m",
      "\u001b[0;31mNameError\u001b[0m                                 Traceback (most recent call last)",
      "\u001b[0;32m<ipython-input-2-8eb7fcef35ed>\u001b[0m in \u001b[0;36m<module>\u001b[0;34m\u001b[0m\n\u001b[1;32m     28\u001b[0m \u001b[0;31m# Plot everything\u001b[0m\u001b[0;34m\u001b[0m\u001b[0;34m\u001b[0m\u001b[0m\n\u001b[1;32m     29\u001b[0m \u001b[0mx\u001b[0m \u001b[0;34m=\u001b[0m \u001b[0mnp\u001b[0m\u001b[0;34m.\u001b[0m\u001b[0mlinspace\u001b[0m\u001b[0;34m(\u001b[0m\u001b[0;34m-\u001b[0m\u001b[0;36m5\u001b[0m\u001b[0;34m,\u001b[0m\u001b[0;36m5\u001b[0m\u001b[0;34m,\u001b[0m\u001b[0;36m500\u001b[0m\u001b[0;34m)\u001b[0m\u001b[0;34m\u001b[0m\u001b[0m\n\u001b[0;32m---> 30\u001b[0;31m \u001b[0mp1\u001b[0m \u001b[0;34m=\u001b[0m \u001b[0mA0\u001b[0m\u001b[0;34m*\u001b[0m\u001b[0mnorm\u001b[0m\u001b[0;34m.\u001b[0m\u001b[0mpdf\u001b[0m\u001b[0;34m(\u001b[0m\u001b[0mx\u001b[0m\u001b[0;34m,\u001b[0m\u001b[0mloc\u001b[0m\u001b[0;34m=\u001b[0m\u001b[0;34m[\u001b[0m\u001b[0mmean0\u001b[0m\u001b[0;34m]\u001b[0m\u001b[0;34m,\u001b[0m\u001b[0mscale\u001b[0m\u001b[0;34m=\u001b[0m\u001b[0mstd0\u001b[0m\u001b[0;34m)\u001b[0m\u001b[0;34m\u001b[0m\u001b[0m\n\u001b[0m\u001b[1;32m     31\u001b[0m \u001b[0mp2\u001b[0m \u001b[0;34m=\u001b[0m \u001b[0mA1\u001b[0m\u001b[0;34m*\u001b[0m\u001b[0mnorm\u001b[0m\u001b[0;34m.\u001b[0m\u001b[0mpdf\u001b[0m\u001b[0;34m(\u001b[0m\u001b[0mx\u001b[0m\u001b[0;34m,\u001b[0m\u001b[0mloc\u001b[0m\u001b[0;34m=\u001b[0m\u001b[0;34m[\u001b[0m\u001b[0mmean1\u001b[0m\u001b[0;34m]\u001b[0m\u001b[0;34m,\u001b[0m\u001b[0mscale\u001b[0m\u001b[0;34m=\u001b[0m\u001b[0mstd1\u001b[0m\u001b[0;34m)\u001b[0m\u001b[0;34m\u001b[0m\u001b[0m\n\u001b[1;32m     32\u001b[0m \u001b[0mp3\u001b[0m \u001b[0;34m=\u001b[0m \u001b[0mA2\u001b[0m\u001b[0;34m*\u001b[0m\u001b[0mnorm\u001b[0m\u001b[0;34m.\u001b[0m\u001b[0mpdf\u001b[0m\u001b[0;34m(\u001b[0m\u001b[0mx\u001b[0m\u001b[0;34m,\u001b[0m\u001b[0mloc\u001b[0m\u001b[0;34m=\u001b[0m\u001b[0;34m[\u001b[0m\u001b[0mmean2\u001b[0m\u001b[0;34m]\u001b[0m\u001b[0;34m,\u001b[0m\u001b[0mscale\u001b[0m\u001b[0;34m=\u001b[0m\u001b[0mstd2\u001b[0m\u001b[0;34m)\u001b[0m\u001b[0;34m\u001b[0m\u001b[0m\n",
      "\u001b[0;31mNameError\u001b[0m: name 'norm' is not defined"
     ]
    }
   ],
   "source": [
    "# Means\n",
    "mean0 = -2\n",
    "mean1 = 1\n",
    "mean2 = 4\n",
    "# Standard deviations\n",
    "std0 = 1.7\n",
    "std1 = 1.9\n",
    "std2 = 1.8\n",
    "# Mixing coefficients\n",
    "A0 = 0.3\n",
    "A1 = 0.4\n",
    "A2 = 0.3\n",
    "# Each tuple is (A, mu, sigma)\n",
    "#components = [(0.3,-2,1),(0.4,1,0.7),(0.3,4,0.8)]\n",
    "\n",
    "# number of points to sample\n",
    "N = 10000\n",
    "\n",
    "# Generate the data\n",
    "#x = [normal(i[1], i[2], int(i[0*N])) for i in components]\n",
    "x1 = normal(mean0, std0, int(A0*N))\n",
    "x2 = normal(mean1, std1, int(A1*N))\n",
    "x3 = normal(mean2, std2, int(A2*N))\n",
    "\n",
    "# Combine the samples\n",
    "sample = np.concatenate([x1,x2,x3])\n",
    "\n",
    "# Plot everything\n",
    "x = np.linspace(-5,5,500)\n",
    "p1 = A0*norm.pdf(x,loc=[mean0],scale=std0)\n",
    "p2 = A1*norm.pdf(x,loc=[mean1],scale=std1)\n",
    "p3 = A2*norm.pdf(x,loc=[mean2],scale=std2)\n",
    "p = p1+p2+p3\n",
    "plt.plot(x,p,'k-')\n",
    "plt.plot(x,p1,'b--')\n",
    "plt.plot(x,p2,'r--')\n",
    "plt.plot(x,p3,'g--')\n",
    "plt.plot(sample,0*sample,'r.')\n",
    "plt.xlabel('x')\n",
    "plt.ylabel('p(x)')"
   ]
  },
  {
   "cell_type": "markdown",
   "metadata": {
    "colab_type": "text",
    "id": "kEFG-uVCNKUm"
   },
   "source": [
    "Now we learn the GMM"
   ]
  },
  {
   "cell_type": "code",
   "execution_count": 1,
   "metadata": {
    "colab": {
     "base_uri": "https://localhost:8080/",
     "height": 185
    },
    "colab_type": "code",
    "executionInfo": {
     "elapsed": 9208,
     "status": "ok",
     "timestamp": 1574933713680,
     "user": {
      "displayName": "Iain Styles",
      "photoUrl": "",
      "userId": "03897944434599438748"
     },
     "user_tz": 0
    },
    "id": "LXY2HkBDNJE5",
    "outputId": "a4574f79-9654-439b-c872-9531be538772"
   },
   "outputs": [
    {
     "ename": "ModuleNotFoundError",
     "evalue": "No module named 'sklearn'",
     "output_type": "error",
     "traceback": [
      "\u001b[0;31m---------------------------------------------------------------------------\u001b[0m",
      "\u001b[0;31mModuleNotFoundError\u001b[0m                       Traceback (most recent call last)",
      "\u001b[0;32m<ipython-input-1-a4e7e0a85c0f>\u001b[0m in \u001b[0;36m<module>\u001b[0;34m\u001b[0m\n\u001b[0;32m----> 1\u001b[0;31m \u001b[0;32mfrom\u001b[0m \u001b[0msklearn\u001b[0m\u001b[0;34m.\u001b[0m\u001b[0mmixture\u001b[0m \u001b[0;32mimport\u001b[0m \u001b[0mGaussianMixture\u001b[0m\u001b[0;34m\u001b[0m\u001b[0m\n\u001b[0m\u001b[1;32m      2\u001b[0m \u001b[0mGM\u001b[0m \u001b[0;34m=\u001b[0m \u001b[0mGaussianMixture\u001b[0m\u001b[0;34m(\u001b[0m\u001b[0mn_components\u001b[0m\u001b[0;34m=\u001b[0m\u001b[0;36m3\u001b[0m\u001b[0;34m)\u001b[0m\u001b[0;34m.\u001b[0m\u001b[0mfit\u001b[0m\u001b[0;34m(\u001b[0m\u001b[0msample\u001b[0m\u001b[0;34m.\u001b[0m\u001b[0mreshape\u001b[0m\u001b[0;34m(\u001b[0m\u001b[0;34m-\u001b[0m\u001b[0;36m1\u001b[0m\u001b[0;34m,\u001b[0m\u001b[0;36m1\u001b[0m\u001b[0;34m)\u001b[0m\u001b[0;34m)\u001b[0m\u001b[0;34m\u001b[0m\u001b[0m\n\u001b[1;32m      3\u001b[0m \u001b[0mprint\u001b[0m\u001b[0;34m(\u001b[0m\u001b[0mGM\u001b[0m\u001b[0;34m.\u001b[0m\u001b[0mmeans_\u001b[0m\u001b[0;34m)\u001b[0m\u001b[0;34m\u001b[0m\u001b[0m\n\u001b[1;32m      4\u001b[0m \u001b[0mprint\u001b[0m\u001b[0;34m(\u001b[0m\u001b[0mnp\u001b[0m\u001b[0;34m.\u001b[0m\u001b[0msqrt\u001b[0m\u001b[0;34m(\u001b[0m\u001b[0mGM\u001b[0m\u001b[0;34m.\u001b[0m\u001b[0mcovariances_\u001b[0m\u001b[0;34m)\u001b[0m\u001b[0;34m)\u001b[0m\u001b[0;34m\u001b[0m\u001b[0m\n\u001b[1;32m      5\u001b[0m \u001b[0mprint\u001b[0m\u001b[0;34m(\u001b[0m\u001b[0mGM\u001b[0m\u001b[0;34m.\u001b[0m\u001b[0mweights_\u001b[0m\u001b[0;34m)\u001b[0m\u001b[0;34m\u001b[0m\u001b[0m\n",
      "\u001b[0;31mModuleNotFoundError\u001b[0m: No module named 'sklearn'"
     ]
    }
   ],
   "source": [
    "from sklearn.mixture import GaussianMixture\n",
    "GM = GaussianMixture(n_components=3).fit(sample.reshape(-1,1))\n",
    "print(GM.means_)\n",
    "print(np.sqrt(GM.covariances_))\n",
    "print(GM.weights_)"
   ]
  },
  {
   "cell_type": "markdown",
   "metadata": {
    "colab_type": "text",
    "id": "Bm08Z2TONUbZ"
   },
   "source": [
    "Plot the result"
   ]
  },
  {
   "cell_type": "code",
   "execution_count": 4,
   "metadata": {
    "colab": {
     "base_uri": "https://localhost:8080/",
     "height": 297
    },
    "colab_type": "code",
    "executionInfo": {
     "elapsed": 9780,
     "status": "ok",
     "timestamp": 1574933714258,
     "user": {
      "displayName": "Iain Styles",
      "photoUrl": "",
      "userId": "03897944434599438748"
     },
     "user_tz": 0
    },
    "id": "Gnk2srhINTxn",
    "outputId": "3369d24b-b025-42a0-c80d-5cb5d5acc855"
   },
   "outputs": [
    {
     "data": {
      "image/png": "[encoded data removed]",
      "text/plain": [
       "<Figure size 432x288 with 1 Axes>"
      ]
     },
     "metadata": {
      "tags": []
     },
     "output_type": "display_data"
    }
   ],
   "source": [
    "gmpdf1 = GM.weights_[0]*norm.pdf(x,loc=GM.means_[0],scale=np.power(GM.covariances_[0][0][0],0.5))\n",
    "gmpdf2 = GM.weights_[1]*norm.pdf(x,loc=GM.means_[1],scale=np.power(GM.covariances_[1][0][0],0.5))\n",
    "gmpdf3 = GM.weights_[2]*norm.pdf(x,loc=GM.means_[2],scale=np.power(GM.covariances_[2][0][0],0.5))\n",
    "gmpdf = gmpdf1+gmpdf2+gmpdf3\n",
    "plt.plot(x,gmpdf,'k-')\n",
    "plt.plot(x,p,'b-')\n",
    "plt.plot(sample,0*sample,'r.')\n",
    "plt.xlabel('x')\n",
    "plt.ylabel('p(x)')\n",
    "plt.tight_layout()\n",
    "plt.savefig('gmm-example-data-fit.pdf')"
   ]
  },
  {
   "cell_type": "markdown",
   "metadata": {
    "colab_type": "text",
    "id": "DrbNgHZdNjdK"
   },
   "source": [
    "Plot the responsibilities"
   ]
  },
  {
   "cell_type": "code",
   "execution_count": 5,
   "metadata": {
    "colab": {
     "base_uri": "https://localhost:8080/",
     "height": 298
    },
    "colab_type": "code",
    "executionInfo": {
     "elapsed": 9776,
     "status": "ok",
     "timestamp": 1574933714260,
     "user": {
      "displayName": "Iain Styles",
      "photoUrl": "",
      "userId": "03897944434599438748"
     },
     "user_tz": 0
    },
    "id": "dLHbNQFjNogS",
    "outputId": "0f3f8e46-ba4a-4bf0-afae-86657d8b6fac"
   },
   "outputs": [
    {
     "data": {
      "text/plain": [
       "Text(0, 0.5, 'r(x)')"
      ]
     },
     "execution_count": 5,
     "metadata": {
      "tags": []
     },
     "output_type": "execute_result"
    },
    {
     "data": {
      "image/png": "[encoded data removed]",
      "text/plain": [
       "<Figure size 432x288 with 1 Axes>"
      ]
     },
     "metadata": {
      "tags": []
     },
     "output_type": "display_data"
    }
   ],
   "source": [
    "probs = GM.predict_proba(x.reshape(-1,1))\n",
    "plt.plot(x,probs[:,0],'b-')\n",
    "plt.plot(x,probs[:,1],'r-')\n",
    "plt.plot(x,probs[:,2],'g-')\n",
    "plt.xlabel('x')\n",
    "plt.ylabel('r(x)')"
   ]
  }
 ],
 "metadata": {
  "colab": {
   "collapsed_sections": [],
   "name": "lecture-14c.ipynb",
   "provenance": [
    {
     "file_id": "1PYoWIo3CkdXarkZNK380v52l0ZDzyMH9",
     "timestamp": 1542963463353
    }
   ]
  },
  "kernelspec": {
   "display_name": "Python 3",
   "language": "python",
   "name": "python3"
  },
  "language_info": {
   "codemirror_mode": {
    "name": "ipython",
    "version": 3
   },
   "file_extension": ".py",
   "mimetype": "text/x-python",
   "name": "python",
   "nbconvert_exporter": "python",
   "pygments_lexer": "ipython3",
   "version": "3.7.5"
  }
 },
 "nbformat": 4,
 "nbformat_minor": 1
}
