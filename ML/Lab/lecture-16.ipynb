{
 "cells": [
  {
   "cell_type": "markdown",
   "metadata": {},
   "source": [
    "# $k$-nearest neighbours and dimensionality reduction"
   ]
  },
  {
   "cell_type": "markdown",
   "metadata": {},
   "source": [
    "Load the MNIST Dataset"
   ]
  },
  {
   "cell_type": "code",
   "execution_count": 1,
   "metadata": {},
   "outputs": [
    {
     "name": "stdout",
     "output_type": "stream",
     "text": [
      "(60000, 28, 28)\n",
      "(60000,)\n",
      "(10000, 784)\n",
      "(60000, 784)\n"
     ]
    }
   ],
   "source": [
    "import matplotlib.pyplot as plt\n",
    "import mnist\n",
    "import numpy as np\n",
    "train_set = mnist.train_images()\n",
    "train_labels = mnist.train_labels()\n",
    "print(train_set.shape)\n",
    "print(train_labels.shape)\n",
    "test_set = mnist.test_images()\n",
    "test_labels = mnist.test_labels()\n",
    "\n",
    "test_set = 1.0*np.squeeze(np.array([np.reshape(i,(1,-1)) for i in test_set]))\n",
    "train_set = 1.0*np.squeeze(np.array([np.reshape(i,(1,-1)) for i in train_set]))\n",
    "print(test_set.shape)\n",
    "print(train_set.shape)"
   ]
  },
  {
   "cell_type": "markdown",
   "metadata": {},
   "source": [
    "Choose 100 examples of each class from the test set, and 1000 from the training set."
   ]
  },
  {
   "cell_type": "code",
   "execution_count": 72,
   "metadata": {},
   "outputs": [
    {
     "name": "stdout",
     "output_type": "stream",
     "text": [
      "(1000, 784)\n",
      "(10000, 784)\n"
     ]
    }
   ],
   "source": [
    "train_index = []\n",
    "test_index = []\n",
    "for i in range(10):\n",
    "    train_index.append(np.where(train_labels==i)[0][0:1000])\n",
    "    test_index.append(np.where(test_labels==i)[0][0:100])\n",
    "train_index = [item for sublist in train_index for item in sublist]\n",
    "test_index = [item for sublist in test_index for item in sublist]\n",
    "\n",
    "train_data = train_set[train_index]\n",
    "train_class = train_labels[train_index]\n",
    "test_data = test_set[test_index]\n",
    "test_class = test_labels[test_index]\n",
    "print(test_data.shape)\n",
    "print(train_data.shape)"
   ]
  },
  {
   "cell_type": "markdown",
   "metadata": {},
   "source": [
    "## Nearest neighbour classification\n",
    "\n",
    "We will use $k=5$ here. Note that this means the training accuracy is not perfect (it is for $k=1$)."
   ]
  },
  {
   "cell_type": "code",
   "execution_count": 73,
   "metadata": {},
   "outputs": [
    {
     "data": {
      "text/plain": [
       "KNeighborsClassifier(algorithm='auto', leaf_size=30, metric='minkowski',\n",
       "                     metric_params=None, n_jobs=None, n_neighbors=5, p=2,\n",
       "                     weights='uniform')"
      ]
     },
     "execution_count": 73,
     "metadata": {},
     "output_type": "execute_result"
    }
   ],
   "source": [
    "from sklearn.neighbors import KNeighborsClassifier\n",
    "knn = KNeighborsClassifier(n_neighbors=5)\n",
    "knn.fit(train_data, train_class)"
   ]
  },
  {
   "cell_type": "markdown",
   "metadata": {},
   "source": [
    "Check the training accuracy"
   ]
  },
  {
   "cell_type": "code",
   "execution_count": 74,
   "metadata": {},
   "outputs": [
    {
     "name": "stdout",
     "output_type": "stream",
     "text": [
      "Training score: 0.968\n",
      "Test score: 0.917\n"
     ]
    }
   ],
   "source": [
    "train_score = knn.score(train_data, train_class)\n",
    "test_score = knn.score(test_data, test_class)\n",
    "print('Training score: {:5.3f}'.format(train_score))\n",
    "print('Test score: {:5.3f}'.format(test_score))"
   ]
  },
  {
   "cell_type": "markdown",
   "metadata": {},
   "source": [
    "This gives us a baseline to compare against.\n",
    "\n",
    "Now we reduce the dimension of the problem using a random projection. We repeat multiple times, for different numbers of projections and for each one we record:\n",
    "\n",
    "* Training score\n",
    "* Test score\n",
    "* Inference time on test set"
   ]
  },
  {
   "cell_type": "code",
   "execution_count": 91,
   "metadata": {},
   "outputs": [
    {
     "data": {
      "text/plain": [
       "<Figure size 432x288 with 0 Axes>"
      ]
     },
     "execution_count": 91,
     "metadata": {},
     "output_type": "execute_result"
    },
    {
     "data": {
      "image/png": "[encoded data removed]",
      "text/plain": [
       "<Figure size 432x288 with 1 Axes>"
      ]
     },
     "metadata": {
      "needs_background": "light"
     },
     "output_type": "display_data"
    },
    {
     "data": {
      "text/plain": [
       "<Figure size 432x288 with 0 Axes>"
      ]
     },
     "metadata": {},
     "output_type": "display_data"
    }
   ],
   "source": [
    "from sklearn.preprocessing import normalize\n",
    "import time\n",
    "nprojections = [1,2,3,10, 40,70,100,150,200,300,400,500,600,700,784]\n",
    "testscores = []\n",
    "trainscores = []\n",
    "testtime = []\n",
    "for n in nprojections:\n",
    "    R = np.random.randn(784,n)\n",
    "    R = normalize(R, axis=0)\n",
    "    rtrain = np.matmul(train_data, R)\n",
    "    rtest = np.matmul(test_data, R)\n",
    "    knn.fit(rtrain, train_class)\n",
    "    trainscores.append(knn.score(rtrain, train_class))\n",
    "    start = time.time()\n",
    "    testscores.append(knn.score(rtest, test_class))\n",
    "    end = time.time()\n",
    "    testtime.append(end - start)\n",
    "\n",
    "plt.figure()\n",
    "plt.plot(nprojections, testtime/max(np.array(testtime)), 'kx-')\n",
    "plt.plot(nprojections, trainscores, 'bx-' )\n",
    "plt.plot(nprojections, testscores, 'rx-' )\n",
    "plt.xlabel('Number of projections')\n",
    "plt.ylabel('Accuracy | Normalised prediction Time')\n",
    "plt.figure()\n",
    "plt.savefig('../figures/classification/knn-random-performance.pnf')\n"
   ]
  },
  {
   "cell_type": "code",
   "execution_count": null,
   "metadata": {},
   "outputs": [],
   "source": []
  }
 ],
 "metadata": {
  "kernelspec": {
   "display_name": "Python 3",
   "language": "python",
   "name": "python3"
  },
  "language_info": {
   "codemirror_mode": {
    "name": "ipython",
    "version": 3
   },
   "file_extension": ".py",
   "mimetype": "text/x-python",
   "name": "python",
   "nbconvert_exporter": "python",
   "pygments_lexer": "ipython3",
   "version": "3.6.5"
  }
 },
 "nbformat": 4,
 "nbformat_minor": 2
}
